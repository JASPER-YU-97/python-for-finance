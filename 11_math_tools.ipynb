{
 "cells": [
  {
   "cell_type": "markdown",
   "metadata": {},
   "source": [
    "<img src=\"http://hilpisch.com/tpq_logo.png\" alt=\"The Python Quants\" width=\"35%\" align=\"right\" border=\"0\"><br>"
   ]
  },
  {
   "cell_type": "markdown",
   "metadata": {},
   "source": [
    "# Python for Finance (2nd ed.)\n",
    "\n",
    "**Mastering Data-Driven Finance**\n",
    "\n",
    "&copy; Dr. Yves J. Hilpisch | The Python Quants GmbH\n",
    "\n",
    "<img src=\"http://hilpisch.com/images/py4fi_2nd_shadow.png\" width=\"300px\" align=\"left\">"
   ]
  },
  {
   "cell_type": "markdown",
   "metadata": {},
   "source": [
    "# Mathematical Tools"
   ]
  },
  {
   "cell_type": "markdown",
   "metadata": {},
   "source": [
    "## Approximation近似"
   ]
  },
  {
   "cell_type": "code",
   "execution_count": 1,
   "metadata": {},
   "outputs": [],
   "source": [
    "import numpy as np\n",
    "from pylab import plt, mpl"
   ]
  },
  {
   "cell_type": "code",
   "execution_count": 2,
   "metadata": {},
   "outputs": [],
   "source": [
    "plt.style.use('seaborn')\n",
    "mpl.rcParams['font.family'] = 'serif'\n",
    "%matplotlib inline"
   ]
  },
  {
   "cell_type": "code",
   "execution_count": 3,
   "metadata": {
    "uuid": "2326c3ad-f244-4f48-8b68-851bd2347d57"
   },
   "outputs": [],
   "source": [
    "def f(x):\n",
    "    return np.sin(x) + 0.5 * x"
   ]
  },
  {
   "cell_type": "code",
   "execution_count": 4,
   "metadata": {},
   "outputs": [],
   "source": [
    "def create_plot(x, y, styles, labels, axlabels):\n",
    "    plt.figure(figsize=(10, 6))\n",
    "    for i in range(len(x)):\n",
    "        plt.plot(x[i], y[i], styles[i], label=labels[i])\n",
    "        plt.xlabel(axlabels[0])\n",
    "        plt.ylabel(axlabels[1])\n",
    "    plt.legend(loc=0)"
   ]
  },
  {
   "cell_type": "markdown",
   "metadata": {},
   "source": [
    "axlabel是设置轴的标签，通过x/ylabel这个函数表示出来。"
   ]
  },
  {
   "cell_type": "code",
   "execution_count": 5,
   "metadata": {
    "uuid": "c09f73d2-c2a5-4c6d-a2f1-08a191378417"
   },
   "outputs": [],
   "source": [
    "x = np.linspace(-2 * np.pi, 2 * np.pi, 50)  "
   ]
  },
  {
   "cell_type": "markdown",
   "metadata": {},
   "source": [
    "从-2π到2π中间取出50个数"
   ]
  },
  {
   "cell_type": "code",
   "execution_count": 6,
   "metadata": {
    "scrolled": true,
    "uuid": "96d2bd1b-8883-486d-920d-b610aeb076a8"
   },
   "outputs": [
    {
     "data": {
      "image/png": "[encoded data removed]",
      "text/plain": [
       "<Figure size 720x432 with 1 Axes>"
      ]
     },
     "metadata": {
      "needs_background": "light"
     },
     "output_type": "display_data"
    }
   ],
   "source": [
    "create_plot([x], [f(x)], ['b'], ['f(x)'], ['x', 'f(x)'])\n",
    "# plt.savefig('../../images/ch11/math_01.png');"
   ]
  },
  {
   "cell_type": "markdown",
   "metadata": {},
   "source": [
    "图像是奇函数，对原点做对称。"
   ]
  },
  {
   "cell_type": "markdown",
   "metadata": {},
   "source": [
    "因为是使用切片的方式，所以输入的参数不管是一个还是多个，都需要用list的方式表示。"
   ]
  },
  {
   "cell_type": "markdown",
   "metadata": {},
   "source": [
    "### Regression"
   ]
  },
  {
   "cell_type": "markdown",
   "metadata": {},
   "source": [
    "#### Monomials as Basis Functions"
   ]
  },
  {
   "cell_type": "code",
   "execution_count": 7,
   "metadata": {},
   "outputs": [],
   "source": [
    "res = np.polyfit(x, f(x), deg=1, full = True)  "
   ]
  },
  {
   "cell_type": "code",
   "execution_count": 8,
   "metadata": {
    "scrolled": false
   },
   "outputs": [
    {
     "data": {
      "text/plain": [
       "(array([ 4.28841952e-01, -1.33457859e-16]),\n",
       " array([21.03238686]),\n",
       " 2,\n",
       " array([1., 1.]),\n",
       " 1.1102230246251565e-14)"
      ]
     },
     "execution_count": 8,
     "metadata": {},
     "output_type": "execute_result"
    }
   ],
   "source": [
    "res  "
   ]
  },
  {
   "cell_type": "markdown",
   "metadata": {},
   "source": [
    "full = True是说返回出来参数，默认为False。"
   ]
  },
  {
   "cell_type": "markdown",
   "metadata": {},
   "source": [
    "#### 第一行(array([ 4.28841952e-01, -1.33457859e-16])是估计出来的参数P，前面的是degree一次项上的参数，后面的-1.33457859e-16是0次项(degree为0/截距)，排列是按degree几次由高到低。"
   ]
  },
  {
   "cell_type": "markdown",
   "metadata": {},
   "source": [
    "#### 第二行21.03238686是R^2，残差的平方和，可以看出拟合程度的好坏。"
   ]
  },
  {
   "cell_type": "markdown",
   "metadata": {},
   "source": [
    "#### 第三行2代表x对应的秩是2，是full_ranked，可以使用这个方法拟合函数。"
   ]
  },
  {
   "cell_type": "markdown",
   "metadata": {},
   "source": [
    "#### singular values 奇异值，就是相当于从矩阵里面分离出来的，奇異值決定了形變，大小決定在形變中的重要性。"
   ]
  },
  {
   "cell_type": "code",
   "execution_count": 9,
   "metadata": {
    "uuid": "ace90420-7219-4227-8210-bf107f556726"
   },
   "outputs": [],
   "source": [
    "ry = np.polyval(res[0], x)  "
   ]
  },
  {
   "cell_type": "code",
   "execution_count": 10,
   "metadata": {},
   "outputs": [
    {
     "data": {
      "text/plain": [
       "21.032386859343315"
      ]
     },
     "execution_count": 10,
     "metadata": {},
     "output_type": "execute_result"
    }
   ],
   "source": [
    "np.sum((f(x) - ry)**2)"
   ]
  },
  {
   "cell_type": "markdown",
   "metadata": {},
   "source": [
    "#### 和第二行的值一致，是拟合出的函数和真实Y值之间的差值的平方和。ry = np.polyval(res[0], x) ；polyfit通过多项式的拟合获得了拟合后的各个degree上面的参数，res[0]：res的第0行是[ 4.28841952e-01, -1.33457859e-16]是多项式的参数。先Fit再用计算多项式的函数polyval算出具体的x对应的Y值。f(x)是函数本身对应的Y值，ry是拟合后得出的Y值。"
   ]
  },
  {
   "cell_type": "code",
   "execution_count": 11,
   "metadata": {},
   "outputs": [
    {
     "data": {
      "text/plain": [
       "0.4206477371868663"
      ]
     },
     "execution_count": 11,
     "metadata": {},
     "output_type": "execute_result"
    }
   ],
   "source": [
    "np.mean((f(x) - ry)**2)"
   ]
  },
  {
   "cell_type": "markdown",
   "metadata": {},
   "source": [
    "相比单纯的R2，R2的平均数更加具备可比性"
   ]
  },
  {
   "cell_type": "code",
   "execution_count": 12,
   "metadata": {
    "scrolled": false,
    "uuid": "c0667d3e-a48a-413d-b250-5e0d3b58275e"
   },
   "outputs": [
    {
     "data": {
      "image/png": "[encoded data removed]",
      "text/plain": [
       "<Figure size 720x432 with 1 Axes>"
      ]
     },
     "metadata": {
      "needs_background": "light"
     },
     "output_type": "display_data"
    }
   ],
   "source": [
    "create_plot([x, x], [f(x), ry], ['b', 'r.'],\n",
    "            ['f(x)', 'regression'], ['x', 'f(x)'])\n",
    "# plt.savefig('../../images/ch11/math_02.png');"
   ]
  },
  {
   "cell_type": "markdown",
   "metadata": {},
   "source": [
    "存在同时画出多个图像，只要通过list[]把需要的参数按顺序一一对应0放进去。"
   ]
  },
  {
   "cell_type": "code",
   "execution_count": 13,
   "metadata": {
    "uuid": "096bb07a-55f7-45de-8734-2a76d8749d53"
   },
   "outputs": [],
   "source": [
    "reg = np.polyfit(x, f(x), deg=5)\n",
    "ry = np.polyval(reg, x)"
   ]
  },
  {
   "cell_type": "code",
   "execution_count": 14,
   "metadata": {},
   "outputs": [
    {
     "data": {
      "text/plain": [
       "array([ 1.37920761e-03,  8.94178154e-19, -6.82525072e-02,  1.24251146e-17,\n",
       "        1.11425209e+00, -4.48416218e-17])"
      ]
     },
     "execution_count": 14,
     "metadata": {},
     "output_type": "execute_result"
    }
   ],
   "source": [
    "reg"
   ]
  },
  {
   "cell_type": "markdown",
   "metadata": {},
   "source": [
    "#### 默认的是full = False，只会输出各个degree上的参数。从最高的degree到最低的(0),从5次项上的参数到0次项(截距)上的参数。4次项8.94178154e-19,2次项1.24251146e-17和0次项-4.48416218e-17上面的参数非常接近于0，所以函数更加接近于奇函数(-19就是0.1的19次方)。"
   ]
  },
  {
   "cell_type": "code",
   "execution_count": 15,
   "metadata": {},
   "outputs": [
    {
     "data": {
      "text/plain": [
       "0.053882515523087406"
      ]
     },
     "execution_count": 15,
     "metadata": {},
     "output_type": "execute_result"
    }
   ],
   "source": [
    "np.mean((f(x) - ry)**2)"
   ]
  },
  {
   "cell_type": "markdown",
   "metadata": {},
   "source": [
    "#### 相比直线的一次多项式算出的R2的mean要小的多：0.4206477371868663  > 0.053882515523087406"
   ]
  },
  {
   "cell_type": "markdown",
   "metadata": {},
   "source": [
    "#### 理论上，提高解释参数的数量（由1次到多次多项式）会带来R2mean的下降，和拟合程度的提高，也可能不变，不变的情况下，新加入的项就失去了作用，没有解释能力，但是新加解释参数会增加电脑的运算量，所以，根据剃刀理论，如無必要，勿增實體，会对函数进行降次/维。"
   ]
  },
  {
   "cell_type": "code",
   "execution_count": 16,
   "metadata": {
    "scrolled": true,
    "uuid": "5e17309e-e8e2-4df9-b841-0f57d983b89e"
   },
   "outputs": [
    {
     "data": {
      "image/png": "[encoded data removed]",
      "text/plain": [
       "<Figure size 720x432 with 1 Axes>"
      ]
     },
     "metadata": {
      "needs_background": "light"
     },
     "output_type": "display_data"
    }
   ],
   "source": [
    "create_plot([x, x], [f(x), ry], ['b', 'r.'],\n",
    "            ['f(x)', 'regression'], ['x', 'f(x)'])\n",
    "# plt.savefig('../../images/ch11/math_03.png');"
   ]
  },
  {
   "cell_type": "markdown",
   "metadata": {},
   "source": [
    "维度增加，可能会使拟合更加贴近原函数，单单1次多项式是直线，在拟合曲线上效果不好。"
   ]
  },
  {
   "cell_type": "code",
   "execution_count": 17,
   "metadata": {
    "uuid": "67b14a21-e8f2-4dd4-a43b-0d232f2b4055"
   },
   "outputs": [],
   "source": [
    "reg = np.polyfit(x, f(x), 7)\n",
    "ry = np.polyval(reg, x)"
   ]
  },
  {
   "cell_type": "code",
   "execution_count": 18,
   "metadata": {
    "scrolled": true
   },
   "outputs": [
    {
     "data": {
      "text/plain": [
       "array([-5.47508597e-05,  6.29207435e-19,  4.99394999e-03, -3.27841038e-17,\n",
       "       -1.35368487e-01,  3.68516585e-16,  1.41870278e+00, -6.07977093e-16])"
      ]
     },
     "execution_count": 18,
     "metadata": {},
     "output_type": "execute_result"
    }
   ],
   "source": [
    "reg"
   ]
  },
  {
   "cell_type": "markdown",
   "metadata": {},
   "source": [
    "#### 7次多项式拟合后6，4，2，0次项的参数也接近于0，说明拟合后的函数还是接近于奇函数。"
   ]
  },
  {
   "cell_type": "code",
   "execution_count": 19,
   "metadata": {
    "uuid": "e600b6be-4cf2-4212-807a-7f397f081e98"
   },
   "outputs": [
    {
     "data": {
      "text/plain": [
       "False"
      ]
     },
     "execution_count": 19,
     "metadata": {},
     "output_type": "execute_result"
    }
   ],
   "source": [
    "np.allclose(f(x), ry)  "
   ]
  },
  {
   "cell_type": "code",
   "execution_count": 20,
   "metadata": {
    "scrolled": true,
    "uuid": "bc6918fe-f520-483c-94eb-41dd89abfa70"
   },
   "outputs": [
    {
     "data": {
      "text/plain": [
       "0.0017769134759517463"
      ]
     },
     "execution_count": 20,
     "metadata": {},
     "output_type": "execute_result"
    }
   ],
   "source": [
    "np.mean((f(x) - ry) ** 2)  "
   ]
  },
  {
   "cell_type": "markdown",
   "metadata": {},
   "source": [
    "#### np.allclose是验证两组数是不是一致，返回为False，尽管R2mean已经很接近于0了，但是还是存在residual残差。"
   ]
  },
  {
   "cell_type": "markdown",
   "metadata": {},
   "source": [
    "#### 尽管函数已经很逼近，但是受限于函数本身的结构必须是多项式的形式(x的整数次方)，可能不一定适用于所有数据的拟合。(不具有普适性)"
   ]
  },
  {
   "cell_type": "code",
   "execution_count": 21,
   "metadata": {
    "uuid": "053752b7-7eb3-4d93-acdf-69874ceada12"
   },
   "outputs": [
    {
     "data": {
      "image/png": "[encoded data removed]",
      "text/plain": [
       "<Figure size 720x432 with 1 Axes>"
      ]
     },
     "metadata": {
      "needs_background": "light"
     },
     "output_type": "display_data"
    }
   ],
   "source": [
    "create_plot([x, x], [f(x), ry], ['b', 'r.'],\n",
    "            ['f(x)', 'regression'], ['x', 'f(x)'])\n",
    "# plt.savefig('../../images/ch11/math_04.png');"
   ]
  },
  {
   "cell_type": "markdown",
   "metadata": {},
   "source": [
    "#### Individual Basis Functions(更加通用的方法)"
   ]
  },
  {
   "cell_type": "markdown",
   "metadata": {},
   "source": [
    "### 相当于是形成一个50 * 4的矩阵，50是有50个数，而4是设定好有4个解释参数，多项式的拟合中，每一列解释参数乘以的是固定的从最高次项式到0次项(截距)：X^n + x^(n - 1)...,实际上电脑远算上是先开出这个矩阵的转置矩阵：4 * 50(就是把矩阵横着写，再把它转置出来。矩阵的列上的数字就是dataX经过不同的预设操作后的结果，拟合所要求的就是给这个4 * 50 上面的4行数赋予的参数。使纵向上看，各项x的式子在加总后的结果趋向于y值。"
   ]
  },
  {
   "cell_type": "code",
   "execution_count": 22,
   "metadata": {
    "uuid": "b4f05890-56e0-4f29-9d61-bd9948ad8af0"
   },
   "outputs": [],
   "source": [
    "matrix = np.zeros((3 + 1, len(x)))  \n",
    "matrix[3, :] = x ** 3  \n",
    "matrix[2, :] = x ** 2  \n",
    "matrix[1, :] = x  \n",
    "matrix[0, :] = 1  "
   ]
  },
  {
   "cell_type": "code",
   "execution_count": 23,
   "metadata": {
    "scrolled": true
   },
   "outputs": [
    {
     "data": {
      "text/plain": [
       "array([[   1.  ,   -6.28,   39.48, -248.05],\n",
       "       [   1.  ,   -6.03,   36.32, -218.9 ],\n",
       "       [   1.  ,   -5.77,   33.3 , -192.13],\n",
       "       [   1.  ,   -5.51,   30.4 , -167.63],\n",
       "       [   1.  ,   -5.26,   27.64, -145.31]])"
      ]
     },
     "execution_count": 23,
     "metadata": {},
     "output_type": "execute_result"
    }
   ],
   "source": [
    "matrix.T.round(2)[:5]"
   ]
  },
  {
   "cell_type": "code",
   "execution_count": 24,
   "metadata": {
    "uuid": "c8963eee-4bc8-4ef2-a172-d4b64fd065a3"
   },
   "outputs": [],
   "source": [
    "reg = np.linalg.lstsq(matrix.T, f(x), rcond=None)[0]  "
   ]
  },
  {
   "cell_type": "code",
   "execution_count": 25,
   "metadata": {
    "scrolled": true,
    "uuid": "efd077d1-9c8a-4961-be95-400f83cd679e"
   },
   "outputs": [
    {
     "data": {
      "text/plain": [
       "array([ 0.    ,  0.5628, -0.    , -0.0054])"
      ]
     },
     "execution_count": 25,
     "metadata": {},
     "output_type": "execute_result"
    }
   ],
   "source": [
    "reg.round(4)  "
   ]
  },
  {
   "cell_type": "markdown",
   "metadata": {},
   "source": [
    "#### 矩阵转置：matrix.T，np.linalg.lstsq(matrix.T, f(x))拟合的函数：(需要给出参数的基于dataX操作后的矩阵，实际的dataY值:拟合所希望达成的最佳结果)，[0]代表只取第一行(各个项的参数)"
   ]
  },
  {
   "cell_type": "markdown",
   "metadata": {},
   "source": [
    "#### 因为matrix[0, :] = 1 ，所以[ 0.    ,  0.5628, -0.    , -0.0054]这个元素为4的array里面的第一个参数是赋予0次项(截距的)，同时matrix[3, :] = x ** 3，所以array里面的第4个参数 -0.0054是赋予3次项。这个拟合出来的参数没有固定的排列，完全是与前面设定的操作后的矩阵相关。从参数上也可以看出函数是奇函数：偶数次项上为0，而奇数次项上往往有比较明显的参数。"
   ]
  },
  {
   "cell_type": "markdown",
   "metadata": {},
   "source": [
    "看结果，两种拟合方式的结果基本上是相同的，用np.linalg.lstsq和polyfit的方式。"
   ]
  },
  {
   "cell_type": "code",
   "execution_count": 26,
   "metadata": {
    "uuid": "efb7b252-d0f8-4263-b2be-4d9588ab06a7"
   },
   "outputs": [],
   "source": [
    "ry = np.dot(reg, matrix)  "
   ]
  },
  {
   "cell_type": "code",
   "execution_count": 27,
   "metadata": {
    "scrolled": false,
    "uuid": "1b1953fe-83a2-436b-8cd4-69c5abf6d2e1"
   },
   "outputs": [
    {
     "data": {
      "image/png": "[encoded data removed]",
      "text/plain": [
       "<Figure size 720x432 with 1 Axes>"
      ]
     },
     "metadata": {
      "needs_background": "light"
     },
     "output_type": "display_data"
    }
   ],
   "source": [
    "create_plot([x, x], [f(x), ry], ['b', 'r.'],\n",
    "            ['f(x)', 'regression'], ['x', 'f(x)'])\n",
    "# plt.savefig('../../images/ch11/math_05.png');"
   ]
  },
  {
   "cell_type": "code",
   "execution_count": 28,
   "metadata": {
    "scrolled": true
   },
   "outputs": [
    {
     "data": {
      "text/plain": [
       "(4,)"
      ]
     },
     "execution_count": 28,
     "metadata": {},
     "output_type": "execute_result"
    }
   ],
   "source": [
    "reg.shape"
   ]
  },
  {
   "cell_type": "code",
   "execution_count": 29,
   "metadata": {},
   "outputs": [
    {
     "data": {
      "text/plain": [
       "(4, 50)"
      ]
     },
     "execution_count": 29,
     "metadata": {},
     "output_type": "execute_result"
    }
   ],
   "source": [
    "matrix.shape"
   ]
  },
  {
   "cell_type": "code",
   "execution_count": 30,
   "metadata": {},
   "outputs": [
    {
     "data": {
      "text/plain": [
       "(50,)"
      ]
     },
     "execution_count": 30,
     "metadata": {},
     "output_type": "execute_result"
    }
   ],
   "source": [
    "ry.shape"
   ]
  },
  {
   "cell_type": "markdown",
   "metadata": {},
   "source": [
    "#### np.dot有多种功能，针对矩阵乘以向量的情况，需要(reg向量/array, matrix矩阵)的形式。而对于特定为多项式设计的polyfit和polyval，前面的是拟合，而后面是依据拟合出来的参数对x值进行计算得出拟合后的y值。"
   ]
  },
  {
   "cell_type": "markdown",
   "metadata": {},
   "source": [
    "#### dot的写法是依据向量的行数是1，而matrix可以拆解出50个4 * 1 的情况，等于说前面的array需要与50个4 * 1的向量相乘，结果是50 * 1的矩阵，实际上就是50个拟合出来的y值。"
   ]
  },
  {
   "cell_type": "code",
   "execution_count": 31,
   "metadata": {},
   "outputs": [],
   "source": [
    "matrix[3, :] = np.sin(x)  "
   ]
  },
  {
   "cell_type": "markdown",
   "metadata": {},
   "source": [
    "由于numpy的向量化运算，所以可以用matrix[3, :] = np.sin(x)来替换出第4行不同的一个数组。"
   ]
  },
  {
   "cell_type": "code",
   "execution_count": 32,
   "metadata": {},
   "outputs": [],
   "source": [
    "reg = np.linalg.lstsq(matrix.T, f(x), rcond=None)[0]"
   ]
  },
  {
   "cell_type": "code",
   "execution_count": 33,
   "metadata": {
    "scrolled": false,
    "uuid": "86f9a92c-600d-4515-b34d-20c9f35a86b0"
   },
   "outputs": [
    {
     "data": {
      "text/plain": [
       "array([0. , 0.5, 0. , 1. ])"
      ]
     },
     "execution_count": 33,
     "metadata": {},
     "output_type": "execute_result"
    }
   ],
   "source": [
    "reg.round(4)  "
   ]
  },
  {
   "cell_type": "code",
   "execution_count": 34,
   "metadata": {
    "uuid": "ac77ef01-8abe-4b99-8f92-8325a396ff2c"
   },
   "outputs": [],
   "source": [
    "ry = np.dot(reg, matrix)"
   ]
  },
  {
   "cell_type": "code",
   "execution_count": 35,
   "metadata": {
    "scrolled": true
   },
   "outputs": [
    {
     "data": {
      "text/plain": [
       "array([-3.14159265, -2.7597098 , -2.39441856, -2.06122529, -1.7735368 ,\n",
       "       -1.54178344, -1.37273681, -1.26906684, -1.22916717, -1.24726021,\n",
       "       -1.31377504, -1.41597345, -1.53878317, -1.66578375, -1.78028059,\n",
       "       -1.86639698, -1.91011256, -1.90018046, -1.82886288, -1.69243728,\n",
       "       -1.49143985, -1.23063043, -0.91868121, -0.56760941, -0.1919913 ,\n",
       "        0.1919913 ,  0.56760941,  0.91868121,  1.23063043,  1.49143985,\n",
       "        1.69243728,  1.82886288,  1.90018046,  1.91011256,  1.86639698,\n",
       "        1.78028059,  1.66578375,  1.53878317,  1.41597345,  1.31377504,\n",
       "        1.24726021,  1.22916717,  1.26906684,  1.37273681,  1.54178344,\n",
       "        1.7735368 ,  2.06122529,  2.39441856,  2.7597098 ,  3.14159265])"
      ]
     },
     "execution_count": 35,
     "metadata": {},
     "output_type": "execute_result"
    }
   ],
   "source": [
    "ry"
   ]
  },
  {
   "cell_type": "markdown",
   "metadata": {},
   "source": [
    "### 原函数的表达是sinx + 0.5 * x，而拟合出来的函数式也是这个，最后带入拟合式计算出来的y也与原本的x对应的y完全一致。"
   ]
  },
  {
   "cell_type": "code",
   "execution_count": 36,
   "metadata": {
    "scrolled": false,
    "uuid": "02481bd5-c737-46bc-9b90-5554fcad8745"
   },
   "outputs": [
    {
     "data": {
      "text/plain": [
       "True"
      ]
     },
     "execution_count": 36,
     "metadata": {},
     "output_type": "execute_result"
    }
   ],
   "source": [
    "np.allclose(f(x), ry)  "
   ]
  },
  {
   "cell_type": "code",
   "execution_count": 37,
   "metadata": {
    "scrolled": false,
    "uuid": "6bf80137-3a52-483b-a557-b092bbf23b36"
   },
   "outputs": [
    {
     "data": {
      "text/plain": [
       "2.425901357950162e-31"
      ]
     },
     "execution_count": 37,
     "metadata": {},
     "output_type": "execute_result"
    }
   ],
   "source": [
    "np.mean((f(x) - ry) ** 2)  "
   ]
  },
  {
   "cell_type": "markdown",
   "metadata": {},
   "source": [
    "R2mean极小，图形上看完全一致。"
   ]
  },
  {
   "cell_type": "code",
   "execution_count": 38,
   "metadata": {
    "uuid": "58d9db31-5885-4fba-8ae7-2e962a0963ca"
   },
   "outputs": [
    {
     "data": {
      "image/png": "[encoded data removed]",
      "text/plain": [
       "<Figure size 720x432 with 1 Axes>"
      ]
     },
     "metadata": {
      "needs_background": "light"
     },
     "output_type": "display_data"
    }
   ],
   "source": [
    "create_plot([x, x], [f(x), ry], ['b', 'r.'],\n",
    "            ['f(x)', 'regression'], ['x', 'f(x)'])\n",
    "# plt.savefig('../../images/ch11/math_06.png');"
   ]
  },
  {
   "cell_type": "markdown",
   "metadata": {},
   "source": [
    "#### Noisy Data"
   ]
  },
  {
   "cell_type": "code",
   "execution_count": 42,
   "metadata": {
    "uuid": "75d3a6a6-a940-4a49-b35d-29f21880ab95"
   },
   "outputs": [],
   "source": [
    "xn = np.linspace(-2 * np.pi, 2 * np.pi, 50)  \n",
    "xn = xn + 0.15 * np.random.standard_normal(len(xn))  \n",
    "yn = f(xn) + 0.25 * np.random.standard_normal(len(xn))  "
   ]
  },
  {
   "cell_type": "markdown",
   "metadata": {},
   "source": [
    "#### 对x进行一些操作，使得xn和x存在一定的误差，yn和y也存在一定的误差。因为在收集data的过程中会存在和实际上的x和y不同的情况，这个误差会导致最后拟合出来的残差可能比真实数据拟合出来结果的误差更大。"
   ]
  },
  {
   "cell_type": "code",
   "execution_count": 43,
   "metadata": {
    "uuid": "f6f9c05f-1f96-48ee-aaca-f4d80c3d3ac5"
   },
   "outputs": [],
   "source": [
    "reg = np.polyfit(xn, yn, 7)\n",
    "ry = np.polyval(reg, xn)"
   ]
  },
  {
   "cell_type": "code",
   "execution_count": 45,
   "metadata": {
    "scrolled": true
   },
   "outputs": [
    {
     "data": {
      "text/plain": [
       "0.015270777076706403"
      ]
     },
     "execution_count": 45,
     "metadata": {},
     "output_type": "execute_result"
    }
   ],
   "source": [
    "np.mean((f(xn) - ry) ** 2)"
   ]
  },
  {
   "cell_type": "code",
   "execution_count": 46,
   "metadata": {},
   "outputs": [
    {
     "data": {
      "text/plain": [
       "0.027198336630140898"
      ]
     },
     "execution_count": 46,
     "metadata": {},
     "output_type": "execute_result"
    }
   ],
   "source": [
    "np.mean((f(x) - ry) ** 2)"
   ]
  },
  {
   "cell_type": "code",
   "execution_count": 49,
   "metadata": {},
   "outputs": [],
   "source": [
    "reg_1 = np.polyfit(x, f(x), 7)\n",
    "ry_1 = np.polyval(reg, x)"
   ]
  },
  {
   "cell_type": "code",
   "execution_count": 50,
   "metadata": {},
   "outputs": [
    {
     "data": {
      "text/plain": [
       "0.012688956551257022"
      ]
     },
     "execution_count": 50,
     "metadata": {},
     "output_type": "execute_result"
    }
   ],
   "source": [
    "np.mean((f(x) - ry_1) ** 2)"
   ]
  },
  {
   "cell_type": "markdown",
   "metadata": {},
   "source": [
    "#### 0.015270777076706403, 0.027198336630140898和0.012688956551257022三个结果完全不同，第一个是有误差的拟合结果和有误差的y之间的R2mean，第二个是第一个是有误差的拟合结果和无误差的y之间的，最后一个是无误差的的拟合结果和无误差的y直接的。现实实践中是无法看到无误差的x和f(x)的，所以最好的情况就是第一种，用有误差的x和y拟合(一一对应)，同时缩小误差，使其更加贴近真实的x和y值。"
   ]
  },
  {
   "cell_type": "code",
   "execution_count": 44,
   "metadata": {
    "scrolled": true,
    "uuid": "9a475222-3bfd-4300-951b-94e60792c6da"
   },
   "outputs": [
    {
     "data": {
      "image/png": "[encoded data removed]",
      "text/plain": [
       "<Figure size 720x432 with 1 Axes>"
      ]
     },
     "metadata": {
      "needs_background": "light"
     },
     "output_type": "display_data"
    }
   ],
   "source": [
    "create_plot([x, x], [f(x), ry], ['b', 'r.'],\n",
    "            ['f(x)', 'regression'], ['x', 'f(x)'])\n",
    "# plt.savefig('../../images/ch11/math_07.png');"
   ]
  },
  {
   "cell_type": "code",
   "execution_count": 52,
   "metadata": {
    "scrolled": true
   },
   "outputs": [
    {
     "data": {
      "image/png": "[encoded data removed]",
      "text/plain": [
       "<Figure size 720x432 with 1 Axes>"
      ]
     },
     "metadata": {
      "needs_background": "light"
     },
     "output_type": "display_data"
    }
   ],
   "source": [
    "create_plot([x, xn], [f(x), ry], ['b.', 'r.'],\n",
    "            ['f(x)', 'regression'], ['x', 'f(x)'])"
   ]
  },
  {
   "cell_type": "markdown",
   "metadata": {},
   "source": [
    "#### 真实的情况和用有误差的xn和yn拟合出来的曲线可能差距也不大，这是实际中最常见的情况，所以可以近似的认为这个函数的拟合也是成功的。"
   ]
  },
  {
   "cell_type": "markdown",
   "metadata": {},
   "source": [
    "#### Unsorted Data"
   ]
  },
  {
   "cell_type": "markdown",
   "metadata": {},
   "source": [
    "#### data的顺序是完全不会对最后拟合的结果产生影响，因为按照原理最后是算每一行的sum从而得出每一行对应的参数，所以哪一个值先丢进来对结果无影响。"
   ]
  },
  {
   "cell_type": "code",
   "execution_count": 55,
   "metadata": {
    "uuid": "8ea85cdb-47f2-4967-b684-7894d9964e76"
   },
   "outputs": [],
   "source": [
    "xu = np.random.rand(50) * 4 * np.pi - 2 * np.pi  \n",
    "yu = f(xu)"
   ]
  },
  {
   "cell_type": "markdown",
   "metadata": {},
   "source": [
    "#### 随机从-2π到2π之间取数：np.random.rand(50) * 4 * np.pi代表前面的数是0到4π之间的数，再 - 2 * np.pi得出的数是-2π到2π，而linespace的结果是按顺序从-2π到2π之间均匀的取出50个之间距离相等的数。这一步就是对比无顺序和有顺序的取数对拟合的影响。"
   ]
  },
  {
   "cell_type": "code",
   "execution_count": 56,
   "metadata": {
    "uuid": "0034edf5-1cef-4eea-be44-c69103fe6eb2"
   },
   "outputs": [
    {
     "name": "stdout",
     "output_type": "stream",
     "text": [
      "[-0.58  1.95 -5.29  1.86  4.13  0.5   4.42 -4.75  6.11 -5.74]\n",
      "[-0.84  1.9  -1.81  1.89  1.23  0.73  1.25 -1.37  2.88 -2.36]\n"
     ]
    }
   ],
   "source": [
    "print(xu[:10].round(2))  \n",
    "print(yu[:10].round(2))  "
   ]
  },
  {
   "cell_type": "code",
   "execution_count": 57,
   "metadata": {
    "uuid": "d7f5f003-1cb8-4432-a8d6-cb4bef1a101a"
   },
   "outputs": [],
   "source": [
    "reg = np.polyfit(xu, yu, 5)\n",
    "ry = np.polyval(reg, xu)"
   ]
  },
  {
   "cell_type": "code",
   "execution_count": 58,
   "metadata": {
    "scrolled": false,
    "uuid": "40177962-0363-479c-bdbd-451a4c043060"
   },
   "outputs": [
    {
     "data": {
      "image/png": "[encoded data removed]",
      "text/plain": [
       "<Figure size 720x432 with 1 Axes>"
      ]
     },
     "metadata": {
      "needs_background": "light"
     },
     "output_type": "display_data"
    }
   ],
   "source": [
    "create_plot([xu, xu], [yu, ry], ['b.', 'ro'],\n",
    "            ['f(x)', 'regression'], ['x', 'f(x)'])\n",
    "# plt.savefig('../../images/ch11/math_08.png');"
   ]
  },
  {
   "cell_type": "markdown",
   "metadata": {},
   "source": [
    "结果上看是完全没有影响。"
   ]
  },
  {
   "cell_type": "markdown",
   "metadata": {},
   "source": [
    "#### Multiple Dimensions多维"
   ]
  },
  {
   "cell_type": "code",
   "execution_count": 65,
   "metadata": {
    "uuid": "82b95a7b-9e3e-4dc8-b313-1af775b06b8b"
   },
   "outputs": [],
   "source": [
    "def fm(p):\n",
    "    x, y = p\n",
    "    return np.sin(x) + 0.25 * x + np.sqrt(y) + 0.05 * y ** 2"
   ]
  },
  {
   "cell_type": "markdown",
   "metadata": {},
   "source": [
    "sinx + 0.25 * x + y ^ 0.5 + 0.05 * y ^ 2"
   ]
  },
  {
   "cell_type": "code",
   "execution_count": 66,
   "metadata": {},
   "outputs": [],
   "source": [
    "x = np.linspace(0, 10, 20)\n",
    "y = np.linspace(0, 10, 20)\n",
    "X, Y = np.meshgrid(x, y)  "
   ]
  },
  {
   "cell_type": "code",
   "execution_count": 67,
   "metadata": {},
   "outputs": [
    {
     "data": {
      "text/plain": [
       "array([[ 0.        ,  0.52631579,  1.05263158,  1.57894737,  2.10526316,\n",
       "         2.63157895,  3.15789474,  3.68421053,  4.21052632,  4.73684211,\n",
       "         5.26315789,  5.78947368,  6.31578947,  6.84210526,  7.36842105,\n",
       "         7.89473684,  8.42105263,  8.94736842,  9.47368421, 10.        ],\n",
       "       [ 0.        ,  0.52631579,  1.05263158,  1.57894737,  2.10526316,\n",
       "         2.63157895,  3.15789474,  3.68421053,  4.21052632,  4.73684211,\n",
       "         5.26315789,  5.78947368,  6.31578947,  6.84210526,  7.36842105,\n",
       "         7.89473684,  8.42105263,  8.94736842,  9.47368421, 10.        ],\n",
       "       [ 0.        ,  0.52631579,  1.05263158,  1.57894737,  2.10526316,\n",
       "         2.63157895,  3.15789474,  3.68421053,  4.21052632,  4.73684211,\n",
       "         5.26315789,  5.78947368,  6.31578947,  6.84210526,  7.36842105,\n",
       "         7.89473684,  8.42105263,  8.94736842,  9.47368421, 10.        ],\n",
       "       [ 0.        ,  0.52631579,  1.05263158,  1.57894737,  2.10526316,\n",
       "         2.63157895,  3.15789474,  3.68421053,  4.21052632,  4.73684211,\n",
       "         5.26315789,  5.78947368,  6.31578947,  6.84210526,  7.36842105,\n",
       "         7.89473684,  8.42105263,  8.94736842,  9.47368421, 10.        ],\n",
       "       [ 0.        ,  0.52631579,  1.05263158,  1.57894737,  2.10526316,\n",
       "         2.63157895,  3.15789474,  3.68421053,  4.21052632,  4.73684211,\n",
       "         5.26315789,  5.78947368,  6.31578947,  6.84210526,  7.36842105,\n",
       "         7.89473684,  8.42105263,  8.94736842,  9.47368421, 10.        ],\n",
       "       [ 0.        ,  0.52631579,  1.05263158,  1.57894737,  2.10526316,\n",
       "         2.63157895,  3.15789474,  3.68421053,  4.21052632,  4.73684211,\n",
       "         5.26315789,  5.78947368,  6.31578947,  6.84210526,  7.36842105,\n",
       "         7.89473684,  8.42105263,  8.94736842,  9.47368421, 10.        ],\n",
       "       [ 0.        ,  0.52631579,  1.05263158,  1.57894737,  2.10526316,\n",
       "         2.63157895,  3.15789474,  3.68421053,  4.21052632,  4.73684211,\n",
       "         5.26315789,  5.78947368,  6.31578947,  6.84210526,  7.36842105,\n",
       "         7.89473684,  8.42105263,  8.94736842,  9.47368421, 10.        ],\n",
       "       [ 0.        ,  0.52631579,  1.05263158,  1.57894737,  2.10526316,\n",
       "         2.63157895,  3.15789474,  3.68421053,  4.21052632,  4.73684211,\n",
       "         5.26315789,  5.78947368,  6.31578947,  6.84210526,  7.36842105,\n",
       "         7.89473684,  8.42105263,  8.94736842,  9.47368421, 10.        ],\n",
       "       [ 0.        ,  0.52631579,  1.05263158,  1.57894737,  2.10526316,\n",
       "         2.63157895,  3.15789474,  3.68421053,  4.21052632,  4.73684211,\n",
       "         5.26315789,  5.78947368,  6.31578947,  6.84210526,  7.36842105,\n",
       "         7.89473684,  8.42105263,  8.94736842,  9.47368421, 10.        ],\n",
       "       [ 0.        ,  0.52631579,  1.05263158,  1.57894737,  2.10526316,\n",
       "         2.63157895,  3.15789474,  3.68421053,  4.21052632,  4.73684211,\n",
       "         5.26315789,  5.78947368,  6.31578947,  6.84210526,  7.36842105,\n",
       "         7.89473684,  8.42105263,  8.94736842,  9.47368421, 10.        ],\n",
       "       [ 0.        ,  0.52631579,  1.05263158,  1.57894737,  2.10526316,\n",
       "         2.63157895,  3.15789474,  3.68421053,  4.21052632,  4.73684211,\n",
       "         5.26315789,  5.78947368,  6.31578947,  6.84210526,  7.36842105,\n",
       "         7.89473684,  8.42105263,  8.94736842,  9.47368421, 10.        ],\n",
       "       [ 0.        ,  0.52631579,  1.05263158,  1.57894737,  2.10526316,\n",
       "         2.63157895,  3.15789474,  3.68421053,  4.21052632,  4.73684211,\n",
       "         5.26315789,  5.78947368,  6.31578947,  6.84210526,  7.36842105,\n",
       "         7.89473684,  8.42105263,  8.94736842,  9.47368421, 10.        ],\n",
       "       [ 0.        ,  0.52631579,  1.05263158,  1.57894737,  2.10526316,\n",
       "         2.63157895,  3.15789474,  3.68421053,  4.21052632,  4.73684211,\n",
       "         5.26315789,  5.78947368,  6.31578947,  6.84210526,  7.36842105,\n",
       "         7.89473684,  8.42105263,  8.94736842,  9.47368421, 10.        ],\n",
       "       [ 0.        ,  0.52631579,  1.05263158,  1.57894737,  2.10526316,\n",
       "         2.63157895,  3.15789474,  3.68421053,  4.21052632,  4.73684211,\n",
       "         5.26315789,  5.78947368,  6.31578947,  6.84210526,  7.36842105,\n",
       "         7.89473684,  8.42105263,  8.94736842,  9.47368421, 10.        ],\n",
       "       [ 0.        ,  0.52631579,  1.05263158,  1.57894737,  2.10526316,\n",
       "         2.63157895,  3.15789474,  3.68421053,  4.21052632,  4.73684211,\n",
       "         5.26315789,  5.78947368,  6.31578947,  6.84210526,  7.36842105,\n",
       "         7.89473684,  8.42105263,  8.94736842,  9.47368421, 10.        ],\n",
       "       [ 0.        ,  0.52631579,  1.05263158,  1.57894737,  2.10526316,\n",
       "         2.63157895,  3.15789474,  3.68421053,  4.21052632,  4.73684211,\n",
       "         5.26315789,  5.78947368,  6.31578947,  6.84210526,  7.36842105,\n",
       "         7.89473684,  8.42105263,  8.94736842,  9.47368421, 10.        ],\n",
       "       [ 0.        ,  0.52631579,  1.05263158,  1.57894737,  2.10526316,\n",
       "         2.63157895,  3.15789474,  3.68421053,  4.21052632,  4.73684211,\n",
       "         5.26315789,  5.78947368,  6.31578947,  6.84210526,  7.36842105,\n",
       "         7.89473684,  8.42105263,  8.94736842,  9.47368421, 10.        ],\n",
       "       [ 0.        ,  0.52631579,  1.05263158,  1.57894737,  2.10526316,\n",
       "         2.63157895,  3.15789474,  3.68421053,  4.21052632,  4.73684211,\n",
       "         5.26315789,  5.78947368,  6.31578947,  6.84210526,  7.36842105,\n",
       "         7.89473684,  8.42105263,  8.94736842,  9.47368421, 10.        ],\n",
       "       [ 0.        ,  0.52631579,  1.05263158,  1.57894737,  2.10526316,\n",
       "         2.63157895,  3.15789474,  3.68421053,  4.21052632,  4.73684211,\n",
       "         5.26315789,  5.78947368,  6.31578947,  6.84210526,  7.36842105,\n",
       "         7.89473684,  8.42105263,  8.94736842,  9.47368421, 10.        ],\n",
       "       [ 0.        ,  0.52631579,  1.05263158,  1.57894737,  2.10526316,\n",
       "         2.63157895,  3.15789474,  3.68421053,  4.21052632,  4.73684211,\n",
       "         5.26315789,  5.78947368,  6.31578947,  6.84210526,  7.36842105,\n",
       "         7.89473684,  8.42105263,  8.94736842,  9.47368421, 10.        ]])"
      ]
     },
     "execution_count": 67,
     "metadata": {},
     "output_type": "execute_result"
    }
   ],
   "source": [
    "X"
   ]
  },
  {
   "cell_type": "code",
   "execution_count": 68,
   "metadata": {
    "uuid": "b03b67ac-f7df-41d1-9dab-1e074e8738fa"
   },
   "outputs": [],
   "source": [
    "Z = fm((X, Y))\n",
    "x = X.flatten()  \n",
    "y = Y.flatten()  "
   ]
  },
  {
   "cell_type": "markdown",
   "metadata": {},
   "source": [
    "#### 将组合成对应关系的点矩阵X, Y带入fm((X, Y))函数，然后用.flatten()将X, Y摊平成array，做函数的情况下这两步是通用的，先meshgrid让x值和y值产生对应关系，再用flatten()将array摊开。\n",
    "#### (因为对应后的形式是array([[ 0.        ,  0.52631579,...]])这种形式，需要把[[拿掉)。"
   ]
  },
  {
   "cell_type": "code",
   "execution_count": 69,
   "metadata": {
    "uuid": "52a91ef7-33c4-4de1-b69b-ea4d740aa252"
   },
   "outputs": [],
   "source": [
    "from mpl_toolkits.mplot3d import Axes3D  "
   ]
  },
  {
   "cell_type": "markdown",
   "metadata": {},
   "source": [
    "画3D图需要引入Axes3D包：from mpl_toolkits.mplot3d import Axes3D  "
   ]
  },
  {
   "cell_type": "code",
   "execution_count": 70,
   "metadata": {
    "uuid": "52a91ef7-33c4-4de1-b69b-ea4d740aa252"
   },
   "outputs": [
    {
     "name": "stderr",
     "output_type": "stream",
     "text": [
      "D:\\ProgramData\\Anaconda3\\envs\\t2.3\\lib\\site-packages\\ipykernel_launcher.py:2: MatplotlibDeprecationWarning: Calling gca() with keyword arguments was deprecated in Matplotlib 3.4. Starting two minor releases later, gca() will take no keyword arguments. The gca() function should only be used to get the current axes, or if no axes exist, create new axes with default keyword arguments. To create a new axes with non-default arguments, use plt.axes() or plt.subplot().\n",
      "  \n"
     ]
    },
    {
     "data": {
      "text/plain": [
       "<matplotlib.colorbar.Colorbar at 0x1db08e08828>"
      ]
     },
     "execution_count": 70,
     "metadata": {},
     "output_type": "execute_result"
    },
    {
     "data": {
      "image/png": "[encoded data removed]",
      "text/plain": [
       "<Figure size 720x432 with 2 Axes>"
      ]
     },
     "metadata": {
      "needs_background": "light"
     },
     "output_type": "display_data"
    }
   ],
   "source": [
    "fig = plt.figure(figsize=(10, 6))\n",
    "ax = fig.gca(projection='3d')\n",
    "surf = ax.plot_surface(X, Y, Z, rstride=2, cstride=2,\n",
    "                       cmap='coolwarm', linewidth=0.5,\n",
    "                       antialiased=True)\n",
    "ax.set_xlabel('x')\n",
    "ax.set_ylabel('y')\n",
    "ax.set_zlabel('f(x, y)')\n",
    "fig.colorbar(surf, shrink=0.5, aspect=5)\n",
    "# plt.savefig('../../images/ch11/math_09.png');"
   ]
  },
  {
   "cell_type": "code",
   "execution_count": 71,
   "metadata": {
    "uuid": "5918f2cf-3ead-4b80-980e-4a375ee159db"
   },
   "outputs": [],
   "source": [
    "matrix = np.zeros((len(x), 6 + 1))\n",
    "matrix[:, 6] = np.sqrt(y)  \n",
    "matrix[:, 5] = np.sin(x)  \n",
    "matrix[:, 4] = y ** 2\n",
    "matrix[:, 3] = x ** 2\n",
    "matrix[:, 2] = y\n",
    "matrix[:, 1] = x\n",
    "matrix[:, 0] = 1"
   ]
  },
  {
   "cell_type": "markdown",
   "metadata": {},
   "source": [
    "### 因为这种方法的灵活性，可以设置多个不同的解释变数，然后形成矩阵400 * 7，看拟合后的解释参数，明显影响结果的可以留下，解释参数趋近于0的可以删掉，最终得出函数的拟合式。"
   ]
  },
  {
   "cell_type": "code",
   "execution_count": 73,
   "metadata": {
    "uuid": "b9eb74bd-9280-4d8b-ae7d-8853911389cb"
   },
   "outputs": [],
   "source": [
    "reg = np.linalg.lstsq(matrix, fm((x, y)), rcond=None)[0]"
   ]
  },
  {
   "cell_type": "code",
   "execution_count": 74,
   "metadata": {},
   "outputs": [],
   "source": [
    "RZ = np.dot(matrix, reg).reshape((20, 20))  "
   ]
  },
  {
   "cell_type": "markdown",
   "metadata": {},
   "source": [
    "dot：矩阵相乘"
   ]
  },
  {
   "cell_type": "code",
   "execution_count": 76,
   "metadata": {
    "scrolled": false
   },
   "outputs": [
    {
     "data": {
      "text/plain": [
       "array([-0.  ,  0.25,  0.  , -0.  ,  0.05,  1.  ,  1.  ])"
      ]
     },
     "execution_count": 76,
     "metadata": {},
     "output_type": "execute_result"
    }
   ],
   "source": [
    "reg.round(4)"
   ]
  },
  {
   "cell_type": "markdown",
   "metadata": {},
   "source": [
    "从矩阵的第0行对应的解释参数到第7行的解释参数"
   ]
  },
  {
   "cell_type": "code",
   "execution_count": 77,
   "metadata": {
    "scrolled": true,
    "uuid": "096451ce-173a-43b5-b81f-9dac26df2702"
   },
   "outputs": [
    {
     "name": "stderr",
     "output_type": "stream",
     "text": [
      "D:\\ProgramData\\Anaconda3\\envs\\t2.3\\lib\\site-packages\\ipykernel_launcher.py:2: MatplotlibDeprecationWarning: Calling gca() with keyword arguments was deprecated in Matplotlib 3.4. Starting two minor releases later, gca() will take no keyword arguments. The gca() function should only be used to get the current axes, or if no axes exist, create new axes with default keyword arguments. To create a new axes with non-default arguments, use plt.axes() or plt.subplot().\n",
      "  \n",
      "D:\\ProgramData\\Anaconda3\\envs\\t2.3\\lib\\site-packages\\ipykernel_launcher.py:12: MatplotlibDeprecationWarning: Starting from Matplotlib 3.6, colorbar() will steal space from the mappable's axes, rather than from the current axes, to place the colorbar.  To silence this warning, explicitly pass the 'ax' argument to colorbar().\n",
      "  if sys.path[0] == '':\n"
     ]
    },
    {
     "data": {
      "text/plain": [
       "<matplotlib.colorbar.Colorbar at 0x1db08dcca90>"
      ]
     },
     "execution_count": 77,
     "metadata": {},
     "output_type": "execute_result"
    },
    {
     "data": {
      "image/png": "[encoded data removed]",
      "text/plain": [
       "<Figure size 720x432 with 2 Axes>"
      ]
     },
     "metadata": {
      "needs_background": "light"
     },
     "output_type": "display_data"
    }
   ],
   "source": [
    "fig = plt.figure(figsize=(10, 6))\n",
    "ax = fig.gca(projection='3d')\n",
    "surf1 = ax.plot_surface(X, Y, Z, rstride=2, cstride=2,\n",
    "            cmap=mpl.cm.coolwarm, linewidth=0.5,\n",
    "            antialiased=True)  \n",
    "surf2 = ax.plot_wireframe(X, Y, RZ, rstride=2, cstride=2,\n",
    "                          label='regression')  \n",
    "ax.set_xlabel('x')\n",
    "ax.set_ylabel('y')\n",
    "ax.set_zlabel('f(x, y)')\n",
    "ax.legend()\n",
    "fig.colorbar(surf, shrink=0.5, aspect=5)\n",
    "# plt.savefig('../../images/ch11/math_10.png');"
   ]
  },
  {
   "cell_type": "markdown",
   "metadata": {},
   "source": [
    "和结果完美契合，两个平面完全重合。"
   ]
  },
  {
   "cell_type": "markdown",
   "metadata": {},
   "source": [
    "### Interpolation内插：前提：将数据从小排到大"
   ]
  },
  {
   "cell_type": "markdown",
   "metadata": {},
   "source": [
    "### 和regression不同，Interpolation是要确保每一个点都要在拟合出来的函数曲线上，方法通常是采用cubic spline三次样条插值，方法就是把两个点之间的一段看作一个需要拟合的曲线。"
   ]
  },
  {
   "cell_type": "markdown",
   "metadata": {},
   "source": [
    "### 后面的函数是对于前面函数累加再加上一个3次多项式函数，使函数图像调整，满足对新的点形成一段曲线的要求，第一个点到第二个点的多项式表达式是f(x), 到了第3个点，多项式就变成f(x) + g(x),到第4个点就是f(x) + g(x) + z(x),一直加下去。y样式上有点像将一个个多项式串起来，所以是spline样条/链条"
   ]
  },
  {
   "cell_type": "markdown",
   "metadata": {},
   "source": [
    "### 为了能够平滑的将两点相连，需要保证点两边的函数从两边逼近点。所以前面一个点和后面一个点到中间这个点会有两个不同的3次函数式，而这两个函数式取无限趋向于中间这一点的x值时(极限，微积分)，两函数的y值相等且等于中间的那个点的y值，并且两个函数的1阶和2阶导函数值相等。"
   ]
  },
  {
   "cell_type": "markdown",
   "metadata": {},
   "source": [
    "### 例：要求从第1个点到第3个点的多项式: 满足条件1，f(x)的一阶和二阶导函数与f(x) + g(x)的一阶和二阶导函数在第2点的值是相等的:平滑 - > 这个点是二阶可导(两个二阶导函数的值相同)，非极值(图像上看不是尖角) - > 这个点是一阶可导（两个一阶导函数的值相同）; 同时点连续，没有出现断层:两个函数在逼近中间的第2点的y值是一致的 -> 左边的积分值等于右边。"
   ]
  },
  {
   "cell_type": "markdown",
   "metadata": {},
   "source": [
    "### 之后将每一段的3次函数式加起来，形成类似于泰勒展开的表达式，计算量大，每一段都是一次拟合，对于每一段函数都需要拟合出4个解释参数。"
   ]
  },
  {
   "cell_type": "markdown",
   "metadata": {},
   "source": [
    "### 为什么使用cubic spline的方法，用3次函数来拟合是因为要想拟合出的曲线是平滑的需要对每一点对应的前后两个函数做微分，一阶导函数看升降，二阶导函数看升降的快慢，要平滑连接需要保证在逼近这一点时，两个函数的一阶和二阶导函数值相等。由于参数多，计算量大，所以遍历所有二次导函数不为常数的函数式，最简洁的结构就是3次函数。"
   ]
  },
  {
   "cell_type": "code",
   "execution_count": 81,
   "metadata": {
    "uuid": "5e345542-f425-4630-9eae-0a446927ad73"
   },
   "outputs": [],
   "source": [
    "import scipy.interpolate as spi  "
   ]
  },
  {
   "cell_type": "code",
   "execution_count": 82,
   "metadata": {
    "uuid": "20200433-3e90-4bb6-be5a-8e6a1360989e"
   },
   "outputs": [],
   "source": [
    "x = np.linspace(-2 * np.pi, 2 * np.pi, 25)"
   ]
  },
  {
   "cell_type": "code",
   "execution_count": 83,
   "metadata": {
    "uuid": "6e3caa90-2a2a-4429-8536-ab25091a5640"
   },
   "outputs": [],
   "source": [
    "def f(x):\n",
    "    return np.sin(x) + 0.5 * x"
   ]
  },
  {
   "cell_type": "code",
   "execution_count": 84,
   "metadata": {
    "uuid": "afdb9c45-1b12-4358-ba3e-a1bc3c4d32db"
   },
   "outputs": [],
   "source": [
    "ipo = spi.splrep(x, f(x), k=1)  "
   ]
  },
  {
   "cell_type": "code",
   "execution_count": 85,
   "metadata": {
    "uuid": "7217594a-3398-4dfd-9d16-f90ee0f24bd9"
   },
   "outputs": [],
   "source": [
    "iy = spi.splev(x, ipo)  "
   ]
  },
  {
   "cell_type": "code",
   "execution_count": 88,
   "metadata": {},
   "outputs": [
    {
     "data": {
      "text/plain": [
       "array([-6.28318531, -5.75958653, -5.23598776, -4.71238898, -4.1887902 ,\n",
       "       -3.66519143, -3.14159265, -2.61799388, -2.0943951 , -1.57079633,\n",
       "       -1.04719755, -0.52359878,  0.        ,  0.52359878,  1.04719755,\n",
       "        1.57079633,  2.0943951 ,  2.61799388,  3.14159265,  3.66519143,\n",
       "        4.1887902 ,  4.71238898,  5.23598776,  5.75958653,  6.28318531])"
      ]
     },
     "execution_count": 88,
     "metadata": {},
     "output_type": "execute_result"
    }
   ],
   "source": [
    "x"
   ]
  },
  {
   "cell_type": "code",
   "execution_count": 87,
   "metadata": {
    "scrolled": false
   },
   "outputs": [
    {
     "data": {
      "text/plain": [
       "(array([-6.28318531, -6.28318531, -5.75958653, -5.23598776, -4.71238898,\n",
       "        -4.1887902 , -3.66519143, -3.14159265, -2.61799388, -2.0943951 ,\n",
       "        -1.57079633, -1.04719755, -0.52359878,  0.        ,  0.52359878,\n",
       "         1.04719755,  1.57079633,  2.0943951 ,  2.61799388,  3.14159265,\n",
       "         3.66519143,  4.1887902 ,  4.71238898,  5.23598776,  5.75958653,\n",
       "         6.28318531,  6.28318531]),\n",
       " array([-3.14159265, -2.37979327, -1.75196847, -1.35619449, -1.2283697 ,\n",
       "        -1.33259571, -1.57079633, -1.80899694, -1.91322295, -1.78539816,\n",
       "        -1.38962418, -0.76179939,  0.        ,  0.76179939,  1.38962418,\n",
       "         1.78539816,  1.91322295,  1.80899694,  1.57079633,  1.33259571,\n",
       "         1.2283697 ,  1.35619449,  1.75196847,  2.37979327,  3.14159265,\n",
       "         0.        ,  0.        ]),\n",
       " 1)"
      ]
     },
     "execution_count": 87,
     "metadata": {},
     "output_type": "execute_result"
    }
   ],
   "source": [
    "ipo"
   ]
  },
  {
   "cell_type": "markdown",
   "metadata": {},
   "source": [
    "### spi.splrep(x, f(x),k = 1一次方程:预设degree为3，k的值从1到5)，这个函数的作用就是拟合出每一段函数用的参数"
   ]
  },
  {
   "cell_type": "markdown",
   "metadata": {},
   "source": [
    "### IPO是两个array和一个数：代表degree的个数，第一个array里面是27个x值，第一个和最后一个重复了一次，第二个array里面是按照一维的形式估计出来的两个点之间的参数:y = kx里面的k，如果两个数的大小完全一致，增加的kx里面的k就会取0。"
   ]
  },
  {
   "cell_type": "markdown",
   "metadata": {},
   "source": [
    "### k=1代表degree为1，是用一次线性的方式估计函数的。"
   ]
  },
  {
   "cell_type": "markdown",
   "metadata": {},
   "source": [
    "spi.splev(x, ipo) 将x和参数式放入,输出y值的结果"
   ]
  },
  {
   "cell_type": "code",
   "execution_count": 94,
   "metadata": {
    "scrolled": true
   },
   "outputs": [
    {
     "data": {
      "text/plain": [
       "array([-3.14159265, -2.37979327, -1.75196847, -1.35619449, -1.2283697 ,\n",
       "       -1.33259571, -1.57079633, -1.80899694, -1.91322295, -1.78539816,\n",
       "       -1.38962418, -0.76179939,  0.        ,  0.76179939,  1.38962418,\n",
       "        1.78539816,  1.91322295,  1.80899694,  1.57079633,  1.33259571,\n",
       "        1.2283697 ,  1.35619449,  1.75196847,  2.37979327,  3.14159265])"
      ]
     },
     "execution_count": 94,
     "metadata": {},
     "output_type": "execute_result"
    }
   ],
   "source": [
    "iy"
   ]
  },
  {
   "cell_type": "code",
   "execution_count": 95,
   "metadata": {
    "scrolled": true,
    "uuid": "b9cacc73-786b-4c6b-ad5f-e4d22729c17e"
   },
   "outputs": [
    {
     "data": {
      "text/plain": [
       "True"
      ]
     },
     "execution_count": 95,
     "metadata": {},
     "output_type": "execute_result"
    }
   ],
   "source": [
    "np.allclose(f(x), iy)  "
   ]
  },
  {
   "cell_type": "markdown",
   "metadata": {},
   "source": [
    "完全一致，因为interplotion拟合的基础就是点在线上，两点之间尽量平滑过度。"
   ]
  },
  {
   "cell_type": "code",
   "execution_count": 96,
   "metadata": {
    "scrolled": true,
    "uuid": "89d96d0e-dabd-490f-acad-15bba904b546"
   },
   "outputs": [
    {
     "data": {
      "image/png": "[encoded data removed]",
      "text/plain": [
       "<Figure size 720x432 with 1 Axes>"
      ]
     },
     "metadata": {
      "needs_background": "light"
     },
     "output_type": "display_data"
    }
   ],
   "source": [
    "create_plot([x, x], [f(x), iy], ['b', 'ro'],\n",
    "            ['f(x)', 'interpolation'], ['x', 'f(x)'])\n",
    "# plt.savefig('../../images/ch11/math_11.png');"
   ]
  },
  {
   "cell_type": "markdown",
   "metadata": {},
   "source": [
    "红色点在蓝色线上，确实做到了interplotion的作用，但是是整体的图，无法看清具体每一段(两点之间)的拟合情况"
   ]
  },
  {
   "cell_type": "code",
   "execution_count": 92,
   "metadata": {
    "uuid": "3daf1f42-54d8-4150-aab6-5188d1c23bdb"
   },
   "outputs": [],
   "source": [
    "xd = np.linspace(1.0, 3.0, 50)  \n",
    "iyd = spi.splev(xd, ipo)"
   ]
  },
  {
   "cell_type": "code",
   "execution_count": 93,
   "metadata": {
    "scrolled": false,
    "uuid": "7ba1134b-ac71-4c3a-a0fc-b644c59effc6"
   },
   "outputs": [
    {
     "data": {
      "image/png": "[encoded data removed]",
      "text/plain": [
       "<Figure size 720x432 with 1 Axes>"
      ]
     },
     "metadata": {
      "needs_background": "light"
     },
     "output_type": "display_data"
    }
   ],
   "source": [
    "create_plot([xd, xd], [f(xd), iyd], ['b', 'ro'],\n",
    "            ['f(x)', 'interpolation'], ['x', 'f(x)'])\n",
    "# plt.savefig('../../images/ch11/math_12.png');"
   ]
  },
  {
   "cell_type": "markdown",
   "metadata": {},
   "source": [
    " 更小的视角下能够看到实际上拟合线是分段的，每一段转折点都是原来的25个点，linspace(1.0, 3.0, 50)在1到3中间取50个点，带入函数。微积分的思想，对于任何的函数曲线，只要不断细分每个段的大小，在极小的区间里面，两个点之间的连线就会无限趋近于斜线。"
   ]
  },
  {
   "cell_type": "code",
   "execution_count": 99,
   "metadata": {
    "uuid": "c3d9f85f-671f-4353-beab-fad9db9f8aa4"
   },
   "outputs": [],
   "source": [
    "ipo = spi.splrep(x, f(x), k=3)  \n",
    "iyd = spi.splev(xd, ipo)  "
   ]
  },
  {
   "cell_type": "code",
   "execution_count": 100,
   "metadata": {
    "scrolled": true,
    "uuid": "8c67b514-160e-40e3-8f69-da81d7579b2d"
   },
   "outputs": [
    {
     "data": {
      "text/plain": [
       "False"
      ]
     },
     "execution_count": 100,
     "metadata": {},
     "output_type": "execute_result"
    }
   ],
   "source": [
    "np.allclose(f(xd), iyd)  "
   ]
  },
  {
   "cell_type": "markdown",
   "metadata": {},
   "source": [
    "用xd来拟合原来的函数就无法做到完全重叠，因为从上图可以看出在1到3这个区间里面，作为确定函数的原来25个点中有大概5个点，构成了4段斜线，但用xd拟合出来的有50个节点，更加切合原函数，但是与之前拟合的函数存在，也不可能是原来的25个点。从np.mean((f(xd) - iyd) ** 2) 看出，与之前拟合的函数的差异还是不大的"
   ]
  },
  {
   "cell_type": "code",
   "execution_count": 56,
   "metadata": {
    "uuid": "ecc6c2fb-faa4-4149-b71e-05ac5cddeb79"
   },
   "outputs": [
    {
     "data": {
      "text/plain": [
       "1.1349319851436892e-08"
      ]
     },
     "execution_count": 56,
     "metadata": {},
     "output_type": "execute_result"
    }
   ],
   "source": [
    "np.mean((f(xd) - iyd) ** 2)  "
   ]
  },
  {
   "cell_type": "code",
   "execution_count": 57,
   "metadata": {
    "scrolled": true,
    "uuid": "0c3e96f1-8732-4ce6-a6ed-bbaae732d950"
   },
   "outputs": [
    {
     "data": {
      "image/png": "[encoded data removed]",
      "text/plain": [
       "<Figure size 720x432 with 1 Axes>"
      ]
     },
     "metadata": {
      "needs_background": "light"
     },
     "output_type": "display_data"
    }
   ],
   "source": [
    "create_plot([xd, xd], [f(xd), iyd], ['b', 'ro'],\n",
    "            ['f(x)', 'interpolation'], ['x', 'f(x)'])\n",
    "# plt.savefig('../../images/ch11/math_13.png');"
   ]
  },
  {
   "cell_type": "markdown",
   "metadata": {},
   "source": [
    "### 应用，金融中很多假设会设定在极小的区间里面两个因素的变化是线性的，比如：在极小区间内利率和现值呈线性变化"
   ]
  },
  {
   "cell_type": "markdown",
   "metadata": {},
   "source": [
    "## Convex Optimization凸优化:找到凸函数的极大值或者极小值:最优解 ."
   ]
  },
  {
   "cell_type": "markdown",
   "metadata": {},
   "source": [
    "## 存在极值点的曲线函数，比如说x^2就是一个凸函数，一阶导函数在极值点处为0，同时极值点两边一阶导函数的值异号：一正一负(一边是增函数，一边是减函数)；x。两变量的情况是f(x, y) = x^2 + y^2, 就是在x,y,z空间里面，固定任意一轴，剩下的两轴组成的平面就是一个凸函数曲线，存在极大值。确定二元凸函数需要对函数做一阶和二阶偏导数，需要验证存在两个偏导数都为0的点存在。因为是偏导数所以对x和y都有不同的微分值，从而可以构成一个矩阵。"
   ]
  },
  {
   "cell_type": "markdown",
   "metadata": {},
   "source": [
    "### [fxx, fxy]:fxx先对x做偏导数(y就被当做常数)，然后再对x做偏导(前面偏导后);fyx\n",
    "### [fyx, fyy]"
   ]
  },
  {
   "cell_type": "markdown",
   "metadata": {},
   "source": [
    "### 凸优化的作用是，对于衍生品定价模型来说，可以通过市场上的价格数据来拟合出模型(市场上的价格往往是流动性大的金融衍生品)，或者是优化已经存在的模型，核心就是做到使模型能够更加贴合市场，反应市场上的价格变动。在模型建立之后，在投入实际使用之前，必须通凸优化来校准一下。因为大多数都是理论的结果，和实际相比有较大的差距，而通过凸优化，模型能够部分反映市场的变动，使模型具有一定的实用价值。"
   ]
  },
  {
   "cell_type": "markdown",
   "metadata": {},
   "source": [
    "### 除此之外，凸优化还在优化效用函数上有应用，因为边际递减的效应，所以单位因素的影响就是一个从低到高再从高到低的过程，符合凸函数的定义。"
   ]
  },
  {
   "cell_type": "code",
   "execution_count": 103,
   "metadata": {
    "uuid": "a09a918e-760c-4e9c-95b8-fe3b568dacdb"
   },
   "outputs": [],
   "source": [
    "def fm(p):\n",
    "    x, y = p\n",
    "    return (np.sin(x) + 0.05 * x ** 2\n",
    "          + np.sin(y) + 0.05 * y ** 2)"
   ]
  },
  {
   "cell_type": "markdown",
   "metadata": {},
   "source": [
    "### sinx +0.05 * x ^2 + siny + 0.05 * y^2"
   ]
  },
  {
   "cell_type": "code",
   "execution_count": 104,
   "metadata": {
    "uuid": "1f4a147b-d9d2-42d5-8553-dd95d75d8251"
   },
   "outputs": [],
   "source": [
    "x = np.linspace(-10, 10, 50)\n",
    "y = np.linspace(-10, 10, 50)\n",
    "X, Y = np.meshgrid(x, y)\n",
    "Z = fm((X, Y))"
   ]
  },
  {
   "cell_type": "markdown",
   "metadata": {},
   "source": [
    "meshgrid将x和y编织起来，然后放入之前定义好的fm(p)去算z值。"
   ]
  },
  {
   "cell_type": "code",
   "execution_count": 105,
   "metadata": {
    "scrolled": false,
    "uuid": "b3a1d3b7-25eb-4ac8-81ed-ad740fd1a297"
   },
   "outputs": [
    {
     "name": "stderr",
     "output_type": "stream",
     "text": [
      "D:\\ProgramData\\Anaconda3\\envs\\t2.3\\lib\\site-packages\\ipykernel_launcher.py:2: MatplotlibDeprecationWarning: Calling gca() with keyword arguments was deprecated in Matplotlib 3.4. Starting two minor releases later, gca() will take no keyword arguments. The gca() function should only be used to get the current axes, or if no axes exist, create new axes with default keyword arguments. To create a new axes with non-default arguments, use plt.axes() or plt.subplot().\n",
      "  \n"
     ]
    },
    {
     "data": {
      "text/plain": [
       "<matplotlib.colorbar.Colorbar at 0x1db20a0e828>"
      ]
     },
     "execution_count": 105,
     "metadata": {},
     "output_type": "execute_result"
    },
    {
     "data": {
      "image/png": "[encoded data removed]",
      "text/plain": [
       "<Figure size 720x432 with 2 Axes>"
      ]
     },
     "metadata": {
      "needs_background": "light"
     },
     "output_type": "display_data"
    }
   ],
   "source": [
    "fig = plt.figure(figsize=(10, 6))\n",
    "ax = fig.gca(projection='3d')\n",
    "surf = ax.plot_surface(X, Y, Z, rstride=2, cstride=2, cmap='coolwarm', linewidth=0.5, antialiased=True)\n",
    "ax.set_xlabel('x')\n",
    "ax.set_ylabel('y')\n",
    "ax.set_zlabel('f(x, y)')\n",
    "fig.colorbar(surf, shrink=0.5, aspect=5)\n",
    "# plt.savefig('../../images/ch11/math_14.png');"
   ]
  },
  {
   "cell_type": "markdown",
   "metadata": {},
   "source": [
    "### 从图里面可以看到函数确实是凸函数，同时也存在极小值，但是明确的知道局部极小值(local minimum)，但是不能清楚的知道全局的最小值。"
   ]
  },
  {
   "cell_type": "markdown",
   "metadata": {},
   "source": [
    "### Global Optimization全局优化"
   ]
  },
  {
   "cell_type": "code",
   "execution_count": 108,
   "metadata": {
    "uuid": "72b2e44d-2127-412e-9046-2b0c7c5bf7c6"
   },
   "outputs": [],
   "source": [
    "import scipy.optimize as sco  "
   ]
  },
  {
   "cell_type": "code",
   "execution_count": 109,
   "metadata": {
    "uuid": "e6c829bb-f358-430d-9e8c-781e9d15c9e6"
   },
   "outputs": [],
   "source": [
    "def fo(p):\n",
    "    x, y = p\n",
    "    z = np.sin(x) + 0.05 * x ** 2 + np.sin(y) + 0.05 * y ** 2\n",
    "    if output == True:\n",
    "        print('%8.4f | %8.4f | %8.4f' % (x, y, z))  \n",
    "    return z"
   ]
  },
  {
   "cell_type": "code",
   "execution_count": 110,
   "metadata": {
    "scrolled": false,
    "uuid": "d1f54d32-6cb5-4cd2-8a95-ea3b92c87266"
   },
   "outputs": [
    {
     "name": "stdout",
     "output_type": "stream",
     "text": [
      "-10.0000 | -10.0000 |  11.0880\n",
      "-10.0000 |  -5.0000 |   7.7529\n",
      "-10.0000 |   0.0000 |   5.5440\n",
      "-10.0000 |   5.0000 |   5.8351\n",
      "-10.0000 |  10.0000 |  10.0000\n",
      " -5.0000 | -10.0000 |   7.7529\n",
      " -5.0000 |  -5.0000 |   4.4178\n",
      " -5.0000 |   0.0000 |   2.2089\n",
      " -5.0000 |   5.0000 |   2.5000\n",
      " -5.0000 |  10.0000 |   6.6649\n",
      "  0.0000 | -10.0000 |   5.5440\n",
      "  0.0000 |  -5.0000 |   2.2089\n",
      "  0.0000 |   0.0000 |   0.0000\n",
      "  0.0000 |   5.0000 |   0.2911\n",
      "  0.0000 |  10.0000 |   4.4560\n",
      "  5.0000 | -10.0000 |   5.8351\n",
      "  5.0000 |  -5.0000 |   2.5000\n",
      "  5.0000 |   0.0000 |   0.2911\n",
      "  5.0000 |   5.0000 |   0.5822\n",
      "  5.0000 |  10.0000 |   4.7471\n",
      " 10.0000 | -10.0000 |  10.0000\n",
      " 10.0000 |  -5.0000 |   6.6649\n",
      " 10.0000 |   0.0000 |   4.4560\n",
      " 10.0000 |   5.0000 |   4.7471\n",
      " 10.0000 |  10.0000 |   8.9120\n"
     ]
    },
    {
     "data": {
      "text/plain": [
       "array([0., 0.])"
      ]
     },
     "execution_count": 110,
     "metadata": {},
     "output_type": "execute_result"
    }
   ],
   "source": [
    "output = True\n",
    "sco.brute(fo, ((-10, 10.1, 5), (-10, 10.1, 5)), finish=None)  "
   ]
  },
  {
   "cell_type": "markdown",
   "metadata": {},
   "source": [
    "### sco.brute返回的结果是array([0., 0.])，就是两个自变量在极值处取的值。output = True，所以print出所有的函数在找极值点的过程中计算过的x,y,z。"
   ]
  },
  {
   "cell_type": "markdown",
   "metadata": {},
   "source": [
    "### 定义一个函数，然后包括计算z值的公式，还有一个if判定语句，将函数放入brute中，暴力检索出在区域上极值点的具体x和y，带入公式计算出z值，如果在运行函数前给output赋予的值为True，就打印出计算过的所有x,y,z以(x|y|z)的形式。如果为false就仅仅计算brute函数，所以如果不想了解运算过程可以赋值false。\n",
    "### ((-10, 10.1, 5), (-10, 10.1, 5))前面是x值，后面是y值，括起来满足fo(p)的表达形式，x和y都是-10到10的五个数，10.1是说将10包括在内。\n",
    "### finish是在计算多个data的极小值时，可以选择将上一个data的极小值作为下一个data暴力检索的初始值，免去手动初始化的麻烦。默认为None。\n",
    "### brute是一种暴力检索的方式，撒出去无数点，然后去找当中的全域的极小值。"
   ]
  },
  {
   "cell_type": "code",
   "execution_count": 128,
   "metadata": {},
   "outputs": [],
   "source": [
    "output = False\n",
    "opt1 = sco.brute(fo, ((-10, 10.1, 0.1), (-10, 10.1, 0.1)), finish=None)"
   ]
  },
  {
   "cell_type": "code",
   "execution_count": 129,
   "metadata": {
    "scrolled": true,
    "uuid": "dc42167b-4e8f-462c-8aad-a94afdf0a8bc"
   },
   "outputs": [
    {
     "data": {
      "text/plain": [
       "array([-1.4, -1.4])"
      ]
     },
     "execution_count": 129,
     "metadata": {},
     "output_type": "execute_result"
    }
   ],
   "source": [
    "opt1"
   ]
  },
  {
   "cell_type": "markdown",
   "metadata": {},
   "source": [
    "#### 用来暴力检索的数字更加稠密了，从5个点到200多个点，更加精确了，输出的值也符合前面5个点求出的结果，确实是距离(0,0)点最近，靠近z轴。"
   ]
  },
  {
   "cell_type": "code",
   "execution_count": 115,
   "metadata": {
    "scrolled": false,
    "uuid": "ec2669cd-36a5-4b79-a90c-761a39b12044"
   },
   "outputs": [
    {
     "data": {
      "text/plain": [
       "-1.7748994599769203"
      ]
     },
     "execution_count": 115,
     "metadata": {},
     "output_type": "execute_result"
    }
   ],
   "source": [
    "fm(opt1)"
   ]
  },
  {
   "cell_type": "markdown",
   "metadata": {},
   "source": [
    "#### 带入函数算出z值"
   ]
  },
  {
   "cell_type": "markdown",
   "metadata": {},
   "source": [
    "### Local Optimization局部优化"
   ]
  },
  {
   "cell_type": "markdown",
   "metadata": {},
   "source": [
    "## 前面全局优化的方法比较暴力，同时也比较浪费时间(电脑运算)，尤其是在放入的点比较多和密集的情况下。所以全局优化一般只会出一个大致的位置，具体结果的比较和筛选，需要进行局部优化。"
   ]
  },
  {
   "cell_type": "code",
   "execution_count": 116,
   "metadata": {
    "scrolled": true
   },
   "outputs": [
    {
     "name": "stdout",
     "output_type": "stream",
     "text": [
      " -1.4000 |  -1.4000 |  -1.7749\n",
      " -1.4700 |  -1.4000 |  -1.7743\n",
      " -1.4000 |  -1.4700 |  -1.7743\n",
      " -1.3300 |  -1.4700 |  -1.7696\n",
      " -1.4350 |  -1.4175 |  -1.7756\n",
      " -1.4350 |  -1.3475 |  -1.7722\n",
      " -1.4088 |  -1.4394 |  -1.7755\n",
      " -1.4438 |  -1.4569 |  -1.7751\n",
      " -1.4328 |  -1.4427 |  -1.7756\n",
      " -1.4591 |  -1.4208 |  -1.7752\n",
      " -1.4213 |  -1.4347 |  -1.7757\n",
      " -1.4235 |  -1.4096 |  -1.7755\n",
      " -1.4305 |  -1.4344 |  -1.7757\n",
      " -1.4168 |  -1.4516 |  -1.7753\n",
      " -1.4305 |  -1.4260 |  -1.7757\n",
      " -1.4396 |  -1.4257 |  -1.7756\n",
      " -1.4259 |  -1.4325 |  -1.7757\n",
      " -1.4259 |  -1.4241 |  -1.7757\n",
      " -1.4304 |  -1.4177 |  -1.7757\n",
      " -1.4270 |  -1.4288 |  -1.7757\n",
      "Warning: Maximum number of function evaluations has been exceeded.\n"
     ]
    }
   ],
   "source": [
    "output = True\n",
    "opt2 = sco.fmin(fo, opt1, xtol=0.001, ftol=0.001,\n",
    "                maxiter=15, maxfun=20)  "
   ]
  },
  {
   "cell_type": "code",
   "execution_count": 120,
   "metadata": {},
   "outputs": [],
   "source": [
    "sco.fmin?"
   ]
  },
  {
   "cell_type": "markdown",
   "metadata": {},
   "source": [
    "### sco.fmin需要全局优化的结果opt1，xtol=0.001和ftol=0.001是容忍值，前者对x和y进行规定，相当于是x和y取值的变化最少也要是0.001(并不是取值一定要是小数点后3位，变化也可以是0.0015)；后者是递归里面如果下一个算出的z值和当前的z值差距小于0.0001就停止继续检索。maxiter=15指函数最多迭代15次，maxfun=20计算最多20个值就停下。通常一次迭代是检验出两个数，所以看参数，局部搜索应该会在20个数的地方停止。\n",
    "### 看数值是从x,y均为-1.4开始往下(小)计算，一直到第20个数停止计算，目前看出现了几个局部极值-1.7757"
   ]
  },
  {
   "cell_type": "code",
   "execution_count": 122,
   "metadata": {
    "scrolled": false
   },
   "outputs": [
    {
     "name": "stdout",
     "output_type": "stream",
     "text": [
      " -1.4000 |  -1.4000 |  -1.7749\n",
      " -1.4700 |  -1.4000 |  -1.7743\n",
      " -1.4000 |  -1.4700 |  -1.7743\n",
      " -1.3300 |  -1.4700 |  -1.7696\n",
      " -1.4350 |  -1.4175 |  -1.7756\n",
      " -1.4350 |  -1.3475 |  -1.7722\n",
      " -1.4088 |  -1.4394 |  -1.7755\n",
      " -1.4438 |  -1.4569 |  -1.7751\n",
      " -1.4328 |  -1.4427 |  -1.7756\n",
      " -1.4591 |  -1.4208 |  -1.7752\n",
      " -1.4213 |  -1.4347 |  -1.7757\n",
      " -1.4235 |  -1.4096 |  -1.7755\n",
      " -1.4305 |  -1.4344 |  -1.7757\n",
      " -1.4168 |  -1.4516 |  -1.7753\n",
      " -1.4305 |  -1.4260 |  -1.7757\n",
      " -1.4396 |  -1.4257 |  -1.7756\n",
      " -1.4259 |  -1.4325 |  -1.7757\n",
      " -1.4259 |  -1.4241 |  -1.7757\n",
      " -1.4304 |  -1.4177 |  -1.7757\n",
      " -1.4270 |  -1.4288 |  -1.7757\n",
      " -1.4316 |  -1.4307 |  -1.7757\n",
      " -1.4273 |  -1.4258 |  -1.7757\n",
      " -1.4239 |  -1.4285 |  -1.7757\n",
      " -1.4288 |  -1.4266 |  -1.7757\n",
      " -1.4285 |  -1.4297 |  -1.7757\n",
      " -1.4276 |  -1.4267 |  -1.7757\n",
      " -1.4258 |  -1.4289 |  -1.7757\n",
      " -1.4281 |  -1.4272 |  -1.7757\n",
      " -1.4286 |  -1.4252 |  -1.7757\n",
      " -1.4274 |  -1.4279 |  -1.7757\n",
      " -1.4279 |  -1.4283 |  -1.7757\n",
      " -1.4277 |  -1.4271 |  -1.7757\n",
      "Optimization terminated successfully.\n",
      "         Current function value: -1.775726\n",
      "         Iterations: 16\n",
      "         Function evaluations: 32\n"
     ]
    }
   ],
   "source": [
    "output = True\n",
    "opt3 = sco.fmin(fo, opt1, xtol=0.001)"
   ]
  },
  {
   "cell_type": "markdown",
   "metadata": {},
   "source": [
    "### 去掉对具体次数的限制，在仅仅规定容忍度为0.001的前提下，得出的最好结果是-1.775726，经过16次迭代，找出来32个数。"
   ]
  },
  {
   "cell_type": "code",
   "execution_count": 123,
   "metadata": {
    "uuid": "e451a278-e2ae-4d86-b357-f230468052a4"
   },
   "outputs": [
    {
     "data": {
      "text/plain": [
       "array([-1.42743423, -1.42786531])"
      ]
     },
     "execution_count": 123,
     "metadata": {},
     "output_type": "execute_result"
    }
   ],
   "source": [
    "opt2"
   ]
  },
  {
   "cell_type": "code",
   "execution_count": 125,
   "metadata": {
    "scrolled": true
   },
   "outputs": [
    {
     "data": {
      "text/plain": [
       "array([-1.42743423, -1.42786531])"
      ]
     },
     "execution_count": 125,
     "metadata": {},
     "output_type": "execute_result"
    }
   ],
   "source": [
    "opt3"
   ]
  },
  {
   "cell_type": "code",
   "execution_count": 126,
   "metadata": {
    "scrolled": true,
    "uuid": "0352d556-6ea7-47a6-9c76-e4a56c0efed7"
   },
   "outputs": [
    {
     "data": {
      "text/plain": [
       "-1.7757255920546628"
      ]
     },
     "execution_count": 126,
     "metadata": {},
     "output_type": "execute_result"
    }
   ],
   "source": [
    "fm(opt2)"
   ]
  },
  {
   "cell_type": "code",
   "execution_count": 130,
   "metadata": {
    "scrolled": true,
    "uuid": "ff9beaf9-73d7-4157-85cb-24783abae775"
   },
   "outputs": [
    {
     "name": "stdout",
     "output_type": "stream",
     "text": [
      "Optimization terminated successfully.\n",
      "         Current function value: 0.015826\n",
      "         Iterations: 46\n",
      "         Function evaluations: 86\n"
     ]
    }
   ],
   "source": [
    "output = False\n",
    "opt4 = sco.fmin(fo, (2.0, 2.0), maxiter=250)"
   ]
  },
  {
   "cell_type": "code",
   "execution_count": 131,
   "metadata": {
    "scrolled": true
   },
   "outputs": [
    {
     "name": "stdout",
     "output_type": "stream",
     "text": [
      "2.2185948536513633 0.0158257532746805\n"
     ]
    }
   ],
   "source": [
    "print(fm((2.0, 2.0)),fm(opt4))"
   ]
  },
  {
   "cell_type": "markdown",
   "metadata": {},
   "source": [
    "#### 还是有在取极值，只不过取到的位置是一个相对的局部极小值。"
   ]
  },
  {
   "cell_type": "markdown",
   "metadata": {},
   "source": [
    "### 如果没有全域极值作为基础，随意取一个较大的区间做local optimization，就很容易掉到区域极值点，得到的不是我们期望的在全域层面看的全局极值点的精确位置。"
   ]
  },
  {
   "cell_type": "markdown",
   "metadata": {},
   "source": [
    "### Constrained Optimization"
   ]
  },
  {
   "cell_type": "markdown",
   "metadata": {},
   "source": [
    "### 受限制的优化，很常见，因为金融问题的本质就是资源的有限性，所以需要求出在一定限制条件下的相对最优:极值。"
   ]
  },
  {
   "cell_type": "code",
   "execution_count": 132,
   "metadata": {
    "uuid": "703a8ac0-1c74-4851-9fd3-7ac404ee3446"
   },
   "outputs": [],
   "source": [
    "import math"
   ]
  },
  {
   "cell_type": "markdown",
   "metadata": {
    "uuid": "703a8ac0-1c74-4851-9fd3-7ac404ee3446"
   },
   "source": [
    "def Eu(p):  \n",
    "    s, b = p\n",
    "    return -(0.5 * math.sqrt(s * 15 + b * 5) +\n",
    "             0.5 * math.sqrt(s * 5 + b * 12))"
   ]
  },
  {
   "cell_type": "markdown",
   "metadata": {},
   "source": [
    "### 研究的是两期的价值模型，加上-，变成研究极小值。市场上有两个出项(两种可能性)，设定两种可能性是一致的，所以设置为0.5。math.sqrt(s * 15 + b * 5)和math.sqrt(s * 5 + b * 12)代表两个带根号的效用函数，s和b是两种衍生品的数量，而15，5代表s的价值可能会是15或者是5，同时b的价值可能会是5或者12，两种可能出现的机率是一致的0.5，第一种可能的效用是(s * 15 + b * 5)^0.5就是根号下当前价值下的所有价值，第二种可能的效用是(s * 5 + b * 12)^0.5。"
   ]
  },
  {
   "cell_type": "code",
   "execution_count": 134,
   "metadata": {
    "uuid": "703a8ac0-1c74-4851-9fd3-7ac404ee3446"
   },
   "outputs": [],
   "source": [
    "cons = ({'type': 'ineq',\n",
    "         'fun': lambda p: 100 - p[0] * 10 - p[1] * 10})  "
   ]
  },
  {
   "cell_type": "markdown",
   "metadata": {},
   "source": [
    "### 限制函数是当前价值下的s和b加总价值不超过100，s和b的当前价值都是10.从图形上看有点像有一条限制函数线在线之下的阴影区域里面找价值模型函数的最优解。'type': 'ineq'需要写出来是不等式"
   ]
  },
  {
   "cell_type": "code",
   "execution_count": 137,
   "metadata": {
    "uuid": "703a8ac0-1c74-4851-9fd3-7ac404ee3446"
   },
   "outputs": [],
   "source": [
    "bnds = ((0, 1000), (0, 1000))  "
   ]
  },
  {
   "cell_type": "markdown",
   "metadata": {},
   "source": [
    "### x和y的定义域"
   ]
  },
  {
   "cell_type": "code",
   "execution_count": 136,
   "metadata": {
    "uuid": "8f989832-637a-4188-b096-26ceeabd77ea"
   },
   "outputs": [],
   "source": [
    "result = sco.minimize(Eu, [5, 5], method='SLSQP',\n",
    "                       bounds=bnds, constraints=cons)  "
   ]
  },
  {
   "cell_type": "code",
   "execution_count": 76,
   "metadata": {
    "scrolled": true,
    "uuid": "67c11995-124c-4f9d-8edf-1364b412e754"
   },
   "outputs": [
    {
     "data": {
      "text/plain": [
       "     fun: -9.700883611487832\n",
       "     jac: array([-0.48508096, -0.48489535])\n",
       " message: 'Optimization terminated successfully.'\n",
       "    nfev: 21\n",
       "     nit: 5\n",
       "    njev: 5\n",
       "  status: 0\n",
       " success: True\n",
       "       x: array([8.02547122, 1.97452878])"
      ]
     },
     "execution_count": 76,
     "metadata": {},
     "output_type": "execute_result"
    }
   ],
   "source": [
    "result"
   ]
  },
  {
   "cell_type": "markdown",
   "metadata": {},
   "source": [
    "###  x: array([8.02547122, 1.97452878])极值点的坐标(x,y);--fun: -9.700883611487832就是z值:极小值，因为取了负号，所以实际上最大的效用值，最优点的值为9.700883611487832;--jac: array([-0.48508096, -0.48489535])梯度：一阶偏导函数值：都还没有到0，说明实际上还是没有到不受限下的极值点，但是收到限制，只能取到相对的最大值。nfev: 21目标函数计算的次数，nit: 5迭代的次数，njev: 5梯度(一阶导函数)计算了几次。status: 0和message: 'Optimization terminated successfully.'意思是算完了，找到最优的解。"
   ]
  },
  {
   "cell_type": "code",
   "execution_count": 138,
   "metadata": {
    "uuid": "53899a89-8532-4f22-a17f-54d106412867"
   },
   "outputs": [
    {
     "data": {
      "text/plain": [
       "array([8.02547122, 1.97452878])"
      ]
     },
     "execution_count": 138,
     "metadata": {},
     "output_type": "execute_result"
    }
   ],
   "source": [
    "result['x']  "
   ]
  },
  {
   "cell_type": "markdown",
   "metadata": {},
   "source": [
    "#### s和b的最优解值相似是因为s的价值是【15，5】，而b的价值是【5，12】，如果b是【5， 15】得出的两点的个数就会一致，因为两个事件的发生机率是一样的0.5，"
   ]
  },
  {
   "cell_type": "code",
   "execution_count": 139,
   "metadata": {
    "scrolled": true,
    "uuid": "b8548809-fe3a-4fa4-9496-8d3b6a177973"
   },
   "outputs": [
    {
     "data": {
      "text/plain": [
       "9.700883611487832"
      ]
     },
     "execution_count": 139,
     "metadata": {},
     "output_type": "execute_result"
    }
   ],
   "source": [
    "-result['fun']  "
   ]
  },
  {
   "cell_type": "code",
   "execution_count": 79,
   "metadata": {
    "scrolled": true,
    "uuid": "7453e87b-a70d-47b9-8a12-c5c0f01e4b86"
   },
   "outputs": [
    {
     "data": {
      "text/plain": [
       "99.99999999999999"
      ]
     },
     "execution_count": 79,
     "metadata": {},
     "output_type": "execute_result"
    }
   ],
   "source": [
    "np.dot(result['x'], [10, 10])  "
   ]
  },
  {
   "cell_type": "markdown",
   "metadata": {},
   "source": [
    "### 99.99999999999999是当前价值乘以配比的s和b的数量得出的结果，可以看出还是在100范围内，几乎是完全利用了100元的预算，无限接近于100."
   ]
  },
  {
   "cell_type": "markdown",
   "metadata": {},
   "source": [
    "## Integration积分"
   ]
  },
  {
   "cell_type": "markdown",
   "metadata": {},
   "source": [
    "### 现金流量折现，需要算在一定期间的现金流量，现金流量的计算涉及到出现不同回报的概率，基本上是价值乘上权重累加获得的期望值就是这一时期的现金流量，期望值需要通过积分的方式来算出来。"
   ]
  },
  {
   "cell_type": "code",
   "execution_count": 140,
   "metadata": {
    "uuid": "6a38567d-4a2d-464f-8de3-7687e1d2916d"
   },
   "outputs": [],
   "source": [
    "import scipy.integrate as sci"
   ]
  },
  {
   "cell_type": "code",
   "execution_count": 141,
   "metadata": {
    "uuid": "0954e5b6-9874-4bad-a2fb-28273a015e4a"
   },
   "outputs": [],
   "source": [
    "def f(x):\n",
    "    return np.sin(x) + 0.5 * x"
   ]
  },
  {
   "cell_type": "code",
   "execution_count": 142,
   "metadata": {
    "uuid": "afb6151f-5743-4950-980e-18047e066ebc"
   },
   "outputs": [],
   "source": [
    "x = np.linspace(0, 10)\n",
    "y = f(x)\n",
    "a = 0.5  \n",
    "b = 9.5  \n",
    "Ix = np.linspace(a, b)  \n",
    "Iy = f(Ix)  #  <4>"
   ]
  },
  {
   "cell_type": "markdown",
   "metadata": {},
   "source": [
    "#### 从0.5到9.5的区间，画阴影。"
   ]
  },
  {
   "cell_type": "code",
   "execution_count": 147,
   "metadata": {
    "uuid": "ad78923f-e4c1-4381-9a24-33b4f1ea3c56"
   },
   "outputs": [],
   "source": [
    "from matplotlib.patches import Polygon"
   ]
  },
  {
   "cell_type": "code",
   "execution_count": 148,
   "metadata": {
    "uuid": "ad78923f-e4c1-4381-9a24-33b4f1ea3c56"
   },
   "outputs": [
    {
     "data": {
      "image/png": "[encoded data removed]",
      "text/plain": [
       "<Figure size 720x432 with 1 Axes>"
      ]
     },
     "metadata": {
      "needs_background": "light"
     },
     "output_type": "display_data"
    }
   ],
   "source": [
    "fig, ax = plt.subplots(figsize=(10, 6))\n",
    "plt.plot(x, y, 'b', linewidth=2)\n",
    "plt.ylim(bottom=0)\n",
    "Ix = np.linspace(a, b)\n",
    "Iy = f(Ix)\n",
    "verts = [(a, 0)] + list(zip(Ix, Iy)) + [(b, 0)]\n",
    "poly = Polygon(verts, facecolor='0.7', edgecolor='0.5')\n",
    "ax.add_patch(poly)\n",
    "plt.text(0.75 * (a + b), 1.5, r\"$\\int_a^b f(x)dx$\",\n",
    "         horizontalalignment='center', fontsize=20)\n",
    "plt.figtext(0.9, 0.075, '$x$')\n",
    "plt.figtext(0.075, 0.9, '$f(x)$')\n",
    "ax.set_xticks((a, b))\n",
    "ax.set_xticklabels(('$a$', '$b$'))\n",
    "ax.set_yticks([f(a), f(b)]);\n",
    "# plt.savefig('../../images/ch11/math_15.png');"
   ]
  },
  {
   "cell_type": "markdown",
   "metadata": {},
   "source": [
    "### Numerical Integration积分的数值"
   ]
  },
  {
   "cell_type": "code",
   "execution_count": 150,
   "metadata": {
    "scrolled": false
   },
   "outputs": [
    {
     "data": {
      "text/plain": [
       "(24.366995967084602, None)"
      ]
     },
     "execution_count": 150,
     "metadata": {},
     "output_type": "execute_result"
    }
   ],
   "source": [
    "sci.fixed_quad(f, a, b)"
   ]
  },
  {
   "cell_type": "markdown",
   "metadata": {},
   "source": [
    "### 返回两个值，前面的是定积分的结果，后面的是是否成功"
   ]
  },
  {
   "cell_type": "code",
   "execution_count": 151,
   "metadata": {
    "scrolled": true,
    "uuid": "6d3aa9c8-58c0-46a3-a89f-ca471a1f83e4"
   },
   "outputs": [
    {
     "data": {
      "text/plain": [
       "24.366995967084602"
      ]
     },
     "execution_count": 151,
     "metadata": {},
     "output_type": "execute_result"
    }
   ],
   "source": [
    "sci.fixed_quad(f, a, b)[0]"
   ]
  },
  {
   "cell_type": "code",
   "execution_count": 152,
   "metadata": {
    "uuid": "0ddebba6-5357-4ce9-b829-d752132d12df"
   },
   "outputs": [
    {
     "data": {
      "text/plain": [
       "24.374754718086752"
      ]
     },
     "execution_count": 152,
     "metadata": {},
     "output_type": "execute_result"
    }
   ],
   "source": [
    "sci.quad(f, a, b)[0]"
   ]
  },
  {
   "cell_type": "code",
   "execution_count": 153,
   "metadata": {
    "uuid": "3b1779d6-c831-449d-964f-e2cc869847e7"
   },
   "outputs": [
    {
     "data": {
      "text/plain": [
       "24.374754718086713"
      ]
     },
     "execution_count": 153,
     "metadata": {},
     "output_type": "execute_result"
    }
   ],
   "source": [
    "sci.romberg(f, a, b)"
   ]
  },
  {
   "cell_type": "markdown",
   "metadata": {},
   "source": [
    "### fixed_quad是fixed_guass quadrature固定高斯数值积分，quad是自适应数值积分(adaptive quadrature), romberg是龙贝格数值积分法。里面(f, a, b)：(公式，上限，下限)"
   ]
  },
  {
   "cell_type": "code",
   "execution_count": 154,
   "metadata": {
    "uuid": "5499809d-f2b1-4cc9-8808-511f4e82c5ed"
   },
   "outputs": [],
   "source": [
    "xi = np.linspace(0.5, 9.5, 25)"
   ]
  },
  {
   "cell_type": "code",
   "execution_count": 89,
   "metadata": {
    "scrolled": true,
    "uuid": "aec239bc-cdd9-4477-b47c-4d0136ed686d"
   },
   "outputs": [
    {
     "data": {
      "text/plain": [
       "24.352733271544516"
      ]
     },
     "execution_count": 89,
     "metadata": {},
     "output_type": "execute_result"
    }
   ],
   "source": [
    "sci.trapz(f(xi), xi)"
   ]
  },
  {
   "cell_type": "code",
   "execution_count": 90,
   "metadata": {
    "scrolled": false,
    "uuid": "ce33e420-5143-4d54-b23f-0040f54723fc"
   },
   "outputs": [
    {
     "data": {
      "text/plain": [
       "24.37496418455075"
      ]
     },
     "execution_count": 90,
     "metadata": {},
     "output_type": "execute_result"
    }
   ],
   "source": [
    "sci.simps(f(xi), xi)"
   ]
  },
  {
   "cell_type": "markdown",
   "metadata": {},
   "source": [
    "### trapz是高中学的梯形法，将函数阴影面积(求积分)无限细分，获得的一个类似于梯形的长条，将细分出的长条面积相加就是积分值；trapz需要自己划分出bar的区间：(0.5, 9.5, 25)0.5到9.5中取24份，还需要f(xi)将划分出来的xi带入函数获得yi的数组。simps辛普森法，类似于trapz，需要(f(xi)和xi，结果相比trapz更加精确，但是不适合崎岖的曲线(波动大的)。"
   ]
  },
  {
   "cell_type": "markdown",
   "metadata": {},
   "source": [
    "### Integration by Simulation用模拟的方式获得定积分"
   ]
  },
  {
   "cell_type": "markdown",
   "metadata": {},
   "source": [
    "### 思路就是通过暴力撒点的方式，拟合曲线，然后算出曲线在a和b之间的平均高度，然后用平均高度乘以ab之间的距离---- --> |b - a|, 相当于是裁切法，将边界为曲面的类梯形图像裁剪成矩形，再用矩形面积公式(长乘宽)算出裁切后的阴影部分面积，就是定积分的值。"
   ]
  },
  {
   "cell_type": "code",
   "execution_count": 157,
   "metadata": {
    "scrolled": false,
    "uuid": "bb840eb2-0e13-40eb-aea7-0f106dcf9f41"
   },
   "outputs": [
    {
     "name": "stdout",
     "output_type": "stream",
     "text": [
      "24.096579664652538\n",
      "24.231563927727315\n",
      "24.44534490838323\n",
      "24.413148024538735\n",
      "24.447205826075255\n",
      "24.36506017333693\n",
      "24.483970196412503\n",
      "24.466385176264833\n",
      "24.478584900134578\n",
      "24.447757407062348\n",
      "24.44161203430743\n",
      "24.40660480689896\n",
      "24.398622404793706\n",
      "24.409997326989135\n",
      "24.35610127142854\n",
      "24.342149341337457\n",
      "24.341860553827797\n",
      "24.336194831748426\n",
      "24.332971257013302\n"
     ]
    }
   ],
   "source": [
    "for i in range(1, 20):\n",
    "    np.random.seed(1000)\n",
    "    x = np.random.random(i * 1000) * (b - a) + a  \n",
    "    print(np.mean(f(x)) * (b - a))"
   ]
  },
  {
   "cell_type": "code",
   "execution_count": 156,
   "metadata": {},
   "outputs": [
    {
     "name": "stdout",
     "output_type": "stream",
     "text": [
      "24.374686530971566\n"
     ]
    }
   ],
   "source": [
    "x = np.linspace(a, b, 1000)\n",
    "print(np.mean(f(x)) * (b - a))"
   ]
  },
  {
   "cell_type": "markdown",
   "metadata": {},
   "source": [
    "### 生成出19组，每一组里面点的个数是i * 10；np.random.random提供0到1中间的随机数，乘上(b - a):上限和下限之间的距离，再加起始点a，确定出a到b之间的i * 10个随机数；np.mean(f(x)) * (b - a)矩形面积公式算出积分值。\n",
    "### x = np.linspace(a, b, 1000)另外一种取数方法，原理和Integration by Simulation一样，这个抽出来的数是递增的数列。"
   ]
  },
  {
   "cell_type": "markdown",
   "metadata": {},
   "source": [
    "## Symbolic Computation符号运算"
   ]
  },
  {
   "cell_type": "markdown",
   "metadata": {},
   "source": [
    "### Basics"
   ]
  },
  {
   "cell_type": "code",
   "execution_count": 160,
   "metadata": {
    "uuid": "f01d358d-8094-426c-8e69-657218d8c319"
   },
   "outputs": [],
   "source": [
    "import sympy as sy"
   ]
  },
  {
   "cell_type": "code",
   "execution_count": 161,
   "metadata": {
    "uuid": "2cb7d5d8-ae45-4001-863e-714df216a656"
   },
   "outputs": [],
   "source": [
    "x = sy.Symbol('x')  \n",
    "y = sy.Symbol('y')  "
   ]
  },
  {
   "cell_type": "code",
   "execution_count": 162,
   "metadata": {
    "uuid": "7bf55a76-f348-4820-af94-a83ed233d9a2"
   },
   "outputs": [
    {
     "data": {
      "text/plain": [
       "sympy.core.symbol.Symbol"
      ]
     },
     "execution_count": 162,
     "metadata": {},
     "output_type": "execute_result"
    }
   ],
   "source": [
    "type(x)"
   ]
  },
  {
   "cell_type": "markdown",
   "metadata": {},
   "source": [
    "### sy.Symbol是符号化"
   ]
  },
  {
   "cell_type": "code",
   "execution_count": 163,
   "metadata": {
    "uuid": "a8f0388b-1df6-4389-877c-af5d9f141708"
   },
   "outputs": [
    {
     "data": {
      "text/latex": [
       "$\\displaystyle \\sqrt{x}$"
      ],
      "text/plain": [
       "sqrt(x)"
      ]
     },
     "execution_count": 163,
     "metadata": {},
     "output_type": "execute_result"
    }
   ],
   "source": [
    "sy.sqrt(x)  "
   ]
  },
  {
   "cell_type": "code",
   "execution_count": 164,
   "metadata": {
    "scrolled": true
   },
   "outputs": [
    {
     "ename": "NameError",
     "evalue": "name 'sqrt' is not defined",
     "output_type": "error",
     "traceback": [
      "\u001b[1;31m---------------------------------------------------------------------------\u001b[0m",
      "\u001b[1;31mNameError\u001b[0m                                 Traceback (most recent call last)",
      "\u001b[1;32m<ipython-input-164-7b708af6a2ce>\u001b[0m in \u001b[0;36m<module>\u001b[1;34m\u001b[0m\n\u001b[1;32m----> 1\u001b[1;33m \u001b[0msqrt\u001b[0m\u001b[1;33m(\u001b[0m\u001b[0mx\u001b[0m\u001b[1;33m)\u001b[0m\u001b[1;33m\u001b[0m\u001b[1;33m\u001b[0m\u001b[0m\n\u001b[0m",
      "\u001b[1;31mNameError\u001b[0m: name 'sqrt' is not defined"
     ]
    }
   ],
   "source": [
    "sqrt(x)"
   ]
  },
  {
   "cell_type": "markdown",
   "metadata": {},
   "source": [
    "#### sy.sqrt可以，直接sqrt会报错。"
   ]
  },
  {
   "cell_type": "code",
   "execution_count": 175,
   "metadata": {
    "scrolled": true,
    "uuid": "f308fe2e-a5bc-4c88-a7f6-a4f09a568f2f"
   },
   "outputs": [
    {
     "name": "stderr",
     "output_type": "stream",
     "text": [
      "D:\\ProgramData\\Anaconda3\\envs\\t2.3\\lib\\site-packages\\IPython\\lib\\latextools.py:126: MatplotlibDeprecationWarning: \n",
      "The to_png function was deprecated in Matplotlib 3.4 and will be removed two minor releases later. Use mathtext.math_to_image instead.\n",
      "  mt.to_png(f, s, fontsize=12, dpi=dpi, color=color)\n",
      "D:\\ProgramData\\Anaconda3\\envs\\t2.3\\lib\\site-packages\\IPython\\lib\\latextools.py:126: MatplotlibDeprecationWarning: \n",
      "The to_rgba function was deprecated in Matplotlib 3.4 and will be removed two minor releases later. Use mathtext.math_to_image instead.\n",
      "  mt.to_png(f, s, fontsize=12, dpi=dpi, color=color)\n",
      "D:\\ProgramData\\Anaconda3\\envs\\t2.3\\lib\\site-packages\\IPython\\lib\\latextools.py:126: MatplotlibDeprecationWarning: \n",
      "The to_mask function was deprecated in Matplotlib 3.4 and will be removed two minor releases later. Use mathtext.math_to_image instead.\n",
      "  mt.to_png(f, s, fontsize=12, dpi=dpi, color=color)\n",
      "D:\\ProgramData\\Anaconda3\\envs\\t2.3\\lib\\site-packages\\IPython\\lib\\latextools.py:126: MatplotlibDeprecationWarning: \n",
      "The MathtextBackendBitmap class was deprecated in Matplotlib 3.4 and will be removed two minor releases later. Use mathtext.math_to_image instead.\n",
      "  mt.to_png(f, s, fontsize=12, dpi=dpi, color=color)\n"
     ]
    },
    {
     "data": {
      "image/png": "[encoded data removed]",
      "text/latex": [
       "$\\displaystyle \\sqrt{x} - 13$"
      ],
      "text/plain": [
       "sqrt(x) - 13"
      ]
     },
     "execution_count": 175,
     "metadata": {},
     "output_type": "execute_result"
    }
   ],
   "source": [
    "3 + sy.sqrt(x) - 4 ** 2  "
   ]
  },
  {
   "cell_type": "code",
   "execution_count": 166,
   "metadata": {
    "uuid": "025f5084-4efc-4416-a564-b8a96ec426fd"
   },
   "outputs": [],
   "source": [
    "f = x ** 2 + 3 + 0.5 * x ** 2 + 3 / 2  "
   ]
  },
  {
   "cell_type": "code",
   "execution_count": 98,
   "metadata": {
    "scrolled": true,
    "uuid": "f427581e-50ba-45b9-a145-ff734be26e59"
   },
   "outputs": [
    {
     "data": {
      "text/latex": [
       "$\\displaystyle 1.5 x^{2} + 4.5$"
      ],
      "text/plain": [
       "1.5*x**2 + 4.5"
      ]
     },
     "execution_count": 98,
     "metadata": {},
     "output_type": "execute_result"
    }
   ],
   "source": [
    "sy.simplify(f)  "
   ]
  },
  {
   "cell_type": "markdown",
   "metadata": {},
   "source": [
    "### sy.simplify自动化简，合并同类项，使函数呈现出最简式。"
   ]
  },
  {
   "cell_type": "code",
   "execution_count": 169,
   "metadata": {
    "uuid": "59837e7c-a82f-44e5-8b87-b0fba310ffc5"
   },
   "outputs": [],
   "source": [
    "sy.init_printing(pretty_print=False, use_unicode=False, use_latex = True)"
   ]
  },
  {
   "cell_type": "markdown",
   "metadata": {},
   "source": [
    "### symbol的意义是可以输出数学函数式，并且可以选择输出的书写格式，包括LaTeX-based, Unicode-based和ASCII3种格式，是符合论文里面可以直接引用的格式类型的。pretty_print是ASCII格式，use_unicode是Unicode-based格式，use_latex是LaTeX-based，初始是pretty_print为True，其他两个为None"
   ]
  },
  {
   "cell_type": "markdown",
   "metadata": {},
   "source": [
    "### latex网页看起来比较好看，Ascii输出比较看看。"
   ]
  },
  {
   "cell_type": "code",
   "execution_count": 170,
   "metadata": {
    "scrolled": true,
    "uuid": "ea1bbb85-a431-4e6c-a264-6ffb6df9f59e"
   },
   "outputs": [
    {
     "name": "stdout",
     "output_type": "stream",
     "text": [
      "     2      \n",
      "1.5*x  + 4.5\n"
     ]
    }
   ],
   "source": [
    "print(sy.pretty(f))"
   ]
  },
  {
   "cell_type": "code",
   "execution_count": 177,
   "metadata": {},
   "outputs": [
    {
     "name": "stdout",
     "output_type": "stream",
     "text": [
      "1.5 x^{2} + 4.5\n"
     ]
    }
   ],
   "source": [
    "print(sy.latex(f))"
   ]
  },
  {
   "cell_type": "code",
   "execution_count": 178,
   "metadata": {
    "uuid": "e8702014-5347-4eac-b10c-39c5a54459c9"
   },
   "outputs": [
    {
     "name": "stdout",
     "output_type": "stream",
     "text": [
      "  ___      \n",
      "\\/ x  + 0.5\n"
     ]
    }
   ],
   "source": [
    "print(sy.pretty(sy.sqrt(x) + 0.5))"
   ]
  },
  {
   "cell_type": "code",
   "execution_count": 179,
   "metadata": {},
   "outputs": [
    {
     "name": "stdout",
     "output_type": "stream",
     "text": [
      "\\sqrt{x} + 0.5\n"
     ]
    }
   ],
   "source": [
    "print(sy.latex(sy.sqrt(x) + 0.5))"
   ]
  },
  {
   "cell_type": "code",
   "execution_count": 172,
   "metadata": {
    "scrolled": true
   },
   "outputs": [
    {
     "name": "stdout",
     "output_type": "stream",
     "text": [
      "Wall time: 8.06 s\n"
     ]
    }
   ],
   "source": [
    "%time pi_str = str(sy.N(sy.pi, 400000))  "
   ]
  },
  {
   "cell_type": "markdown",
   "metadata": {},
   "source": [
    "#### 计算400000位数的圆周率，然后将浮点数转换为str的形式。N(sy.pi, 400000)：N的作用是计算括号里面的数值，括号里面的第二个数是保留的位数。"
   ]
  },
  {
   "cell_type": "code",
   "execution_count": 173,
   "metadata": {
    "scrolled": true,
    "uuid": "b8cf7cf4-56e2-4c6b-a70b-6592ec4bd6a6"
   },
   "outputs": [
    {
     "data": {
      "text/plain": [
       "'3.1415926535897932384626433832795028841971'"
      ]
     },
     "execution_count": 173,
     "metadata": {},
     "output_type": "execute_result"
    }
   ],
   "source": [
    "pi_str[:42]  "
   ]
  },
  {
   "cell_type": "code",
   "execution_count": 174,
   "metadata": {
    "uuid": "595cc15e-99b8-43c7-ad89-db4500fdb860"
   },
   "outputs": [
    {
     "data": {
      "text/plain": [
       "'8245672736856312185020980470362464176199'"
      ]
     },
     "execution_count": 174,
     "metadata": {},
     "output_type": "execute_result"
    }
   ],
   "source": [
    "pi_str[-40:]  "
   ]
  },
  {
   "cell_type": "code",
   "execution_count": 105,
   "metadata": {
    "scrolled": true,
    "uuid": "cc4b85c4-e603-4d36-9553-f3999e877fca"
   },
   "outputs": [
    {
     "name": "stdout",
     "output_type": "stream",
     "text": [
      "CPU times: user 94 µs, sys: 1e+03 ns, total: 95 µs\n",
      "Wall time: 97 µs\n"
     ]
    },
    {
     "data": {
      "text/plain": [
       "80847"
      ]
     },
     "execution_count": 105,
     "metadata": {},
     "output_type": "execute_result"
    }
   ],
   "source": [
    "%time pi_str.find('061072')  "
   ]
  },
  {
   "cell_type": "code",
   "execution_count": 180,
   "metadata": {
    "scrolled": true
   },
   "outputs": [
    {
     "name": "stdout",
     "output_type": "stream",
     "text": [
      "Wall time: 0 ns\n"
     ]
    },
    {
     "name": "stderr",
     "output_type": "stream",
     "text": [
      "D:\\ProgramData\\Anaconda3\\envs\\t2.3\\lib\\site-packages\\IPython\\lib\\latextools.py:126: MatplotlibDeprecationWarning: \n",
      "The to_png function was deprecated in Matplotlib 3.4 and will be removed two minor releases later. Use mathtext.math_to_image instead.\n",
      "  mt.to_png(f, s, fontsize=12, dpi=dpi, color=color)\n",
      "D:\\ProgramData\\Anaconda3\\envs\\t2.3\\lib\\site-packages\\IPython\\lib\\latextools.py:126: MatplotlibDeprecationWarning: \n",
      "The to_rgba function was deprecated in Matplotlib 3.4 and will be removed two minor releases later. Use mathtext.math_to_image instead.\n",
      "  mt.to_png(f, s, fontsize=12, dpi=dpi, color=color)\n",
      "D:\\ProgramData\\Anaconda3\\envs\\t2.3\\lib\\site-packages\\IPython\\lib\\latextools.py:126: MatplotlibDeprecationWarning: \n",
      "The to_mask function was deprecated in Matplotlib 3.4 and will be removed two minor releases later. Use mathtext.math_to_image instead.\n",
      "  mt.to_png(f, s, fontsize=12, dpi=dpi, color=color)\n",
      "D:\\ProgramData\\Anaconda3\\envs\\t2.3\\lib\\site-packages\\IPython\\lib\\latextools.py:126: MatplotlibDeprecationWarning: \n",
      "The MathtextBackendBitmap class was deprecated in Matplotlib 3.4 and will be removed two minor releases later. Use mathtext.math_to_image instead.\n",
      "  mt.to_png(f, s, fontsize=12, dpi=dpi, color=color)\n"
     ]
    },
    {
     "data": {
      "image/png": "[encoded data removed]",
      "text/latex": [
       "$\\displaystyle 0$"
      ],
      "text/plain": [
       "0"
      ]
     },
     "execution_count": 180,
     "metadata": {},
     "output_type": "execute_result"
    }
   ],
   "source": [
    "%time pi_str.find('3.14') "
   ]
  },
  {
   "cell_type": "code",
   "execution_count": 181,
   "metadata": {
    "scrolled": false
   },
   "outputs": [
    {
     "name": "stdout",
     "output_type": "stream",
     "text": [
      "Wall time: 0 ns\n"
     ]
    },
    {
     "data": {
      "image/png": "[encoded data removed]",
      "text/latex": [
       "$\\displaystyle 249$"
      ],
      "text/plain": [
       "249"
      ]
     },
     "execution_count": 181,
     "metadata": {},
     "output_type": "execute_result"
    }
   ],
   "source": [
    "%time pi_str.find('0914') "
   ]
  },
  {
   "cell_type": "markdown",
   "metadata": {},
   "source": [
    "#### str.find可以找出str里面的(第一次遇到这个str就输出index)最小index(从0开始算);pi_str[-40:]:str也可以切片。"
   ]
  },
  {
   "cell_type": "markdown",
   "metadata": {},
   "source": [
    "### Equations 解方程式"
   ]
  },
  {
   "cell_type": "code",
   "execution_count": 182,
   "metadata": {
    "uuid": "c310eeab-ac04-4015-a327-29628f9a9a11"
   },
   "outputs": [
    {
     "data": {
      "image/png": "[encoded data removed]",
      "text/latex": [
       "$\\displaystyle \\left[ -1, \\  1\\right]$"
      ],
      "text/plain": [
       "[-1, 1]"
      ]
     },
     "execution_count": 182,
     "metadata": {},
     "output_type": "execute_result"
    }
   ],
   "source": [
    "sy.solve(x ** 2 - 1)"
   ]
  },
  {
   "cell_type": "code",
   "execution_count": 183,
   "metadata": {
    "scrolled": true,
    "uuid": "60076f9d-93f3-47e0-b5b6-87d1bca3d30a"
   },
   "outputs": [
    {
     "data": {
      "image/png": "[encoded data removed]",
      "text/latex": [
       "$\\displaystyle \\left[ -2, \\  2\\right]$"
      ],
      "text/plain": [
       "[-2, 2]"
      ]
     },
     "execution_count": 183,
     "metadata": {},
     "output_type": "execute_result"
    }
   ],
   "source": [
    "sy.solve(x ** 2 - 1 - 3)"
   ]
  },
  {
   "cell_type": "code",
   "execution_count": 184,
   "metadata": {
    "uuid": "6c9e1060-61e6-4b18-9be4-cb71b83fc5a7"
   },
   "outputs": [
    {
     "data": {
      "image/png": "[encoded data removed]",
      "text/latex": [
       "$\\displaystyle \\left[ 0.858094329496553, \\  -0.679047164748276 - 0.839206763026694 i, \\  -0.679047164748276 + 0.839206763026694 i\\right]$"
      ],
      "text/plain": [
       "[0.858094329496553, -0.679047164748276 - 0.839206763026694*I, -0.679047164748276 + 0.839206763026694*I]"
      ]
     },
     "execution_count": 184,
     "metadata": {},
     "output_type": "execute_result"
    }
   ],
   "source": [
    "sy.solve(x ** 3 + 0.5 * x ** 2 - 1)"
   ]
  },
  {
   "cell_type": "code",
   "execution_count": 185,
   "metadata": {
    "uuid": "fcd70615-0db5-4c5c-8246-245ba3c8501c"
   },
   "outputs": [
    {
     "data": {
      "image/png": "[encoded data removed]",
      "text/latex": [
       "$\\displaystyle \\left[ \\left\\{ x : - i y\\right\\}, \\  \\left\\{ x : i y\\right\\}\\right]$"
      ],
      "text/plain": [
       "[{x: -I*y}, {x: I*y}]"
      ]
     },
     "execution_count": 185,
     "metadata": {},
     "output_type": "execute_result"
    }
   ],
   "source": [
    "sy.solve(x ** 2 + y ** 2)"
   ]
  },
  {
   "cell_type": "markdown",
   "metadata": {},
   "source": [
    "### sy.solve括号里面写要解的方程，电脑自动将输入的方程求等于0的x或者x,y的解；对于一元多次多项式的解可能存在多个解的情况，就会返回一个list[]，里面是所有可能的解。二元方程式，解出来是以x或者y的表达式的形式(因为二元及其以上的方程式需要两个及以上的方程式来算出具体x和y的值\n",
    ")"
   ]
  },
  {
   "cell_type": "markdown",
   "metadata": {},
   "source": [
    "### Integration and Differentiation"
   ]
  },
  {
   "cell_type": "code",
   "execution_count": 110,
   "metadata": {
    "uuid": "503329d1-812a-461c-9019-e6bb2a44125e"
   },
   "outputs": [],
   "source": [
    "a, b = sy.symbols('a b')  "
   ]
  },
  {
   "cell_type": "code",
   "execution_count": 111,
   "metadata": {},
   "outputs": [],
   "source": [
    "I = sy.Integral(sy.sin(x) + 0.5 * x, (x, a, b))  "
   ]
  },
  {
   "cell_type": "code",
   "execution_count": 112,
   "metadata": {
    "uuid": "af7bf980-d65b-4567-8576-404e79c5ac65"
   },
   "outputs": [
    {
     "name": "stdout",
     "output_type": "stream",
     "text": [
      "  b                    \n",
      "  /                    \n",
      " |                     \n",
      " |  (0.5*x + sin(x)) dx\n",
      " |                     \n",
      "/                      \n",
      "a                      \n"
     ]
    }
   ],
   "source": [
    "print(sy.pretty(I))  "
   ]
  },
  {
   "cell_type": "markdown",
   "metadata": {},
   "source": [
    "#### 画出数学式:积分号；sy.Integral是写出一个需要计算但是还没有计算的积分号，包裹住括号里面的函数式。"
   ]
  },
  {
   "cell_type": "code",
   "execution_count": 186,
   "metadata": {
    "uuid": "89d4c980-01d7-423a-a2ab-a9698787019a"
   },
   "outputs": [],
   "source": [
    "int_func = sy.integrate(sy.sin(x) + 0.5 * x, x)  "
   ]
  },
  {
   "cell_type": "markdown",
   "metadata": {},
   "source": [
    "#### sy.integrate(i小写的形式)：是真的要去算出积分，而不像大写的I仅仅是写出积分号。"
   ]
  },
  {
   "cell_type": "code",
   "execution_count": 187,
   "metadata": {
    "scrolled": true,
    "uuid": "38141163-7d29-4bd6-bfaf-9f9cfad86967"
   },
   "outputs": [
    {
     "name": "stdout",
     "output_type": "stream",
     "text": [
      "      2         \n",
      "0.25*x  - cos(x)\n"
     ]
    }
   ],
   "source": [
    "print(sy.pretty(int_func))  "
   ]
  },
  {
   "cell_type": "markdown",
   "metadata": {},
   "source": [
    "### 算出不定积分的表达式。"
   ]
  },
  {
   "cell_type": "code",
   "execution_count": 188,
   "metadata": {
    "uuid": "51d4481a-c6b6-4caa-b4d1-aa6fb04d4493"
   },
   "outputs": [],
   "source": [
    "Fb = int_func.subs(x, 9.5).evalf()  \n",
    "Fa = int_func.subs(x, 0.5).evalf()  "
   ]
  },
  {
   "cell_type": "markdown",
   "metadata": {},
   "source": [
    "### subs是替换将int_func这个函数不定积分的上下限替换成0.5和9.5，因为sy.integrate已经求过了不定积分的函数式，加上.evalf()让函数带入替代的值，开始计算，分别算出下限Fa和上限Fb，相减得定积分值，Fb - Fa  -> 最准确的积分数值。"
   ]
  },
  {
   "cell_type": "code",
   "execution_count": 190,
   "metadata": {
    "uuid": "0c46e097-c665-440e-9d05-03c0d6e6d8d8"
   },
   "outputs": [
    {
     "data": {
      "image/png": "[encoded data removed]",
      "text/latex": [
       "$\\displaystyle 24.3747547180867$"
      ],
      "text/plain": [
       "24.3747547180867"
      ]
     },
     "execution_count": 190,
     "metadata": {},
     "output_type": "execute_result"
    }
   ],
   "source": [
    "Fb - Fa  "
   ]
  },
  {
   "cell_type": "code",
   "execution_count": 191,
   "metadata": {},
   "outputs": [],
   "source": [
    "int_func_limits = sy.integrate(sy.sin(x) + 0.5 * x, (x, a, b))  "
   ]
  },
  {
   "cell_type": "code",
   "execution_count": 118,
   "metadata": {
    "scrolled": true,
    "uuid": "657b13dc-101e-4c0c-9d15-43dbd418c3c8"
   },
   "outputs": [
    {
     "name": "stdout",
     "output_type": "stream",
     "text": [
      "        2         2                  \n",
      "- 0.25*a  + 0.25*b  + cos(a) - cos(b)\n"
     ]
    }
   ],
   "source": [
    "print(sy.pretty(int_func_limits))  "
   ]
  },
  {
   "cell_type": "markdown",
   "metadata": {},
   "source": [
    "### (x, a, b)代表不定积分上下限取的都是x，替换成a, b。输出的是运算的表达式，就是不定积分取b值减去不定积分取a值。"
   ]
  },
  {
   "cell_type": "code",
   "execution_count": 192,
   "metadata": {
    "scrolled": true,
    "uuid": "5c65cea8-1e15-4efa-aba4-52888becaf19"
   },
   "outputs": [
    {
     "data": {
      "image/png": "[encoded data removed]",
      "text/latex": [
       "$\\displaystyle 24.3747547180867$"
      ],
      "text/plain": [
       "24.3747547180867"
      ]
     },
     "execution_count": 192,
     "metadata": {},
     "output_type": "execute_result"
    }
   ],
   "source": [
    "int_func_limits.subs({a : 0.5, b : 9.5}).evalf()  "
   ]
  },
  {
   "cell_type": "markdown",
   "metadata": {},
   "source": [
    "### 给a，b赋值，然后.evalf()让式子计算出结果。"
   ]
  },
  {
   "cell_type": "code",
   "execution_count": 193,
   "metadata": {
    "scrolled": false,
    "uuid": "b13767c8-4878-42c1-b738-0727b824b329"
   },
   "outputs": [
    {
     "data": {
      "image/png": "[encoded data removed]",
      "text/latex": [
       "$\\displaystyle 24.3747547180867$"
      ],
      "text/plain": [
       "24.3747547180867"
      ]
     },
     "execution_count": 193,
     "metadata": {},
     "output_type": "execute_result"
    }
   ],
   "source": [
    "sy.integrate(sy.sin(x) + 0.5 * x, (x, 0.5, 9.5))  "
   ]
  },
  {
   "cell_type": "markdown",
   "metadata": {},
   "source": [
    "### 一步到位"
   ]
  },
  {
   "cell_type": "markdown",
   "metadata": {},
   "source": [
    "### Differentiation微分"
   ]
  },
  {
   "cell_type": "markdown",
   "metadata": {},
   "source": [
    "### 金融里面，一些因素对最后价格的影响，需要对函数对所研究元素做微分。"
   ]
  },
  {
   "cell_type": "code",
   "execution_count": 194,
   "metadata": {
    "scrolled": true,
    "uuid": "6ea93bb3-eb7c-4837-8327-621f3752b657"
   },
   "outputs": [
    {
     "data": {
      "image/png": "[encoded data removed]",
      "text/latex": [
       "$\\displaystyle 0.5 x + \\sin{\\left(x \\right)}$"
      ],
      "text/plain": [
       "0.5*x + sin(x)"
      ]
     },
     "execution_count": 194,
     "metadata": {},
     "output_type": "execute_result"
    }
   ],
   "source": [
    "int_func.diff()"
   ]
  },
  {
   "cell_type": "markdown",
   "metadata": {},
   "source": [
    "#### 积分和微分是相对的，一个函数积分后再微分，得到的还是原来的式子。"
   ]
  },
  {
   "cell_type": "code",
   "execution_count": 198,
   "metadata": {
    "uuid": "164131fd-a197-40ce-85d6-94221e808073"
   },
   "outputs": [],
   "source": [
    "f = (sy.sin(x) + 0.05 * x ** 2\n",
    "   + sy.sin(y) + 0.05 * y ** 2)  "
   ]
  },
  {
   "cell_type": "code",
   "execution_count": 199,
   "metadata": {
    "uuid": "5d1ce51b-2536-469b-b516-56db1e86519a"
   },
   "outputs": [
    {
     "data": {
      "image/png": "[encoded data removed]",
      "text/latex": [
       "$\\displaystyle 0.1 x + \\cos{\\left(x \\right)}$"
      ],
      "text/plain": [
       "0.1*x + cos(x)"
      ]
     },
     "execution_count": 199,
     "metadata": {},
     "output_type": "execute_result"
    }
   ],
   "source": [
    "del_x = sy.diff(f, x)  \n",
    "del_x  "
   ]
  },
  {
   "cell_type": "code",
   "execution_count": 200,
   "metadata": {
    "uuid": "8d778c21-ed6a-43f0-8347-b95af334972a"
   },
   "outputs": [
    {
     "data": {
      "image/png": "[encoded data removed]",
      "text/latex": [
       "$\\displaystyle 0.1 y + \\cos{\\left(y \\right)}$"
      ],
      "text/plain": [
       "0.1*y + cos(y)"
      ]
     },
     "execution_count": 200,
     "metadata": {},
     "output_type": "execute_result"
    }
   ],
   "source": [
    "del_y = sy.diff(f, y)  \n",
    "del_y  "
   ]
  },
  {
   "cell_type": "markdown",
   "metadata": {},
   "source": [
    "#### sy.diff(f, y)前面的是函数式，后面的是对哪一个变量做偏微分。"
   ]
  },
  {
   "cell_type": "code",
   "execution_count": 203,
   "metadata": {
    "uuid": "588daaba-266a-43da-a4b9-baeb56fc1ac8"
   },
   "outputs": [
    {
     "data": {
      "image/png": "[encoded data removed]",
      "text/latex": [
       "$\\displaystyle -1.42755177876459$"
      ],
      "text/plain": [
       "-1.42755177876459"
      ]
     },
     "execution_count": 203,
     "metadata": {},
     "output_type": "execute_result"
    }
   ],
   "source": [
    "xo = sy.nsolve(del_x, -1.5)  \n",
    "xo  "
   ]
  },
  {
   "cell_type": "code",
   "execution_count": 204,
   "metadata": {
    "uuid": "2ef9beca-58f2-470b-a50e-6292bffbf2e0"
   },
   "outputs": [
    {
     "data": {
      "image/png": "[encoded data removed]",
      "text/latex": [
       "$\\displaystyle -1.42755177876459$"
      ],
      "text/plain": [
       "-1.42755177876459"
      ]
     },
     "execution_count": 204,
     "metadata": {},
     "output_type": "execute_result"
    }
   ],
   "source": [
    "yo = sy.nsolve(del_y, -1.5)  \n",
    "yo  "
   ]
  },
  {
   "cell_type": "markdown",
   "metadata": {},
   "source": [
    "### sy.nsolve更加适用于解非线性的方程式。前面是方程式，后面是起始值。"
   ]
  },
  {
   "cell_type": "code",
   "execution_count": 205,
   "metadata": {
    "uuid": "c0812b29-c69f-4a30-aaf1-1447d1434cf4"
   },
   "outputs": [
    {
     "data": {
      "image/png": "[encoded data removed]",
      "text/latex": [
       "$\\displaystyle -1.77572565314742$"
      ],
      "text/plain": [
       "-1.77572565314742"
      ]
     },
     "execution_count": 205,
     "metadata": {},
     "output_type": "execute_result"
    }
   ],
   "source": [
    "f.subs({x : xo, y : yo}).evalf()  "
   ]
  },
  {
   "cell_type": "code",
   "execution_count": 206,
   "metadata": {
    "uuid": "fd89d904-eab3-4035-941a-785c6a3f36cb"
   },
   "outputs": [
    {
     "data": {
      "image/png": "[encoded data removed]",
      "text/latex": [
       "$\\displaystyle 1.74632928225285$"
      ],
      "text/plain": [
       "1.74632928225285"
      ]
     },
     "execution_count": 206,
     "metadata": {},
     "output_type": "execute_result"
    }
   ],
   "source": [
    "xo = sy.nsolve(del_x, 1.5)\n",
    "xo"
   ]
  },
  {
   "cell_type": "code",
   "execution_count": 207,
   "metadata": {
    "uuid": "cc99d8f4-e062-4c7e-85ae-46e96d3c8f19"
   },
   "outputs": [
    {
     "data": {
      "image/png": "[encoded data removed]",
      "text/latex": [
       "$\\displaystyle 1.74632928225285$"
      ],
      "text/plain": [
       "1.74632928225285"
      ]
     },
     "execution_count": 207,
     "metadata": {},
     "output_type": "execute_result"
    }
   ],
   "source": [
    "yo = sy.nsolve(del_y, 1.5)  \n",
    "yo"
   ]
  },
  {
   "cell_type": "code",
   "execution_count": 208,
   "metadata": {
    "scrolled": false,
    "uuid": "54622abe-cef1-47ff-bf23-b883cf588a91"
   },
   "outputs": [
    {
     "data": {
      "image/png": "[encoded data removed]",
      "text/latex": [
       "$\\displaystyle 2.2742338105564$"
      ],
      "text/plain": [
       "2.27423381055640"
      ]
     },
     "execution_count": 208,
     "metadata": {},
     "output_type": "execute_result"
    }
   ],
   "source": [
    "f.subs({x : xo, y : yo}).evalf()  "
   ]
  },
  {
   "cell_type": "markdown",
   "metadata": {},
   "source": [
    "#### {x : xo, y : yo}把解出来的偏微分为0的点的值，subs里面可以使用{}的dict字典的形式来赋值。−1.42755177876459是凸优化里面取出的极值点的位置，还是需要使用全局优化的方法，得到大致的极小值范围，然后设定极小值。如果初始点设定为1.5，就会落入相对极小值1.74632928225285，但绝对不是全局最小:−1.77572565314742 < 2.2742338105564, sy.nsolve对多个不同的起始值可能会求出多个不同的偏导数函数为0的解，每一个都可以使偏导数等于0，都是相对的极值在一定区域内，但是不一定是全局的极值。(尤其在函数波动大的情况下)"
   ]
  },
  {
   "cell_type": "markdown",
   "metadata": {},
   "source": [
    "# 总结：1， sy在单个数字运算方面比numpy有更多功能，更加针对数学问题，可以算出方程，积分，微分，极值等数学参数，还可以写出数学公式。2，大致分为函数求导，积分，微分等计算问题和求极值等偏应用的问题。"
   ]
  },
  {
   "cell_type": "markdown",
   "metadata": {},
   "source": [
    "<img src=\"http://hilpisch.com/tpq_logo.png\" alt=\"The Python Quants\" width=\"35%\" align=\"right\" border=\"0\"><br>\n",
    "\n",
    "<a href=\"http://tpq.io\" target=\"_blank\">http://tpq.io</a> | <a href=\"http://twitter.com/dyjh\" target=\"_blank\">@dyjh</a> | <a href=\"mailto:training@tpq.io\">training@tpq.io</a>"
   ]
  }
 ],
 "metadata": {
  "anaconda-cloud": {},
  "kernelspec": {
   "display_name": "Python 3",
   "language": "python",
   "name": "python3"
  },
  "language_info": {
   "codemirror_mode": {
    "name": "ipython",
    "version": 3
   },
   "file_extension": ".py",
   "mimetype": "text/x-python",
   "name": "python",
   "nbconvert_exporter": "python",
   "pygments_lexer": "ipython3",
   "version": "3.7.2"
  }
 },
 "nbformat": 4,
 "nbformat_minor": 4
}
