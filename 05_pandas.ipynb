{
 "cells": [
  {
   "cell_type": "markdown",
   "metadata": {},
   "source": [
    "<img src=\"http://hilpisch.com/tpq_logo.png\" alt=\"The Python Quants\" width=\"35%\" align=\"right\" border=\"0\"><br>"
   ]
  },
  {
   "cell_type": "code",
   "execution_count": 4,
   "metadata": {
    "scrolled": true
   },
   "outputs": [
    {
     "ename": "SyntaxError",
     "evalue": "invalid syntax (<ipython-input-4-25558726e9b7>, line 1)",
     "output_type": "error",
     "traceback": [
      "\u001b[1;36m  File \u001b[1;32m\"<ipython-input-4-25558726e9b7>\"\u001b[1;36m, line \u001b[1;32m1\u001b[0m\n\u001b[1;33m    $pip install jupyter_contrib_nbextensions -i https://pypi.tuna.tsinghua.edu.cn/simple\u001b[0m\n\u001b[1;37m    ^\u001b[0m\n\u001b[1;31mSyntaxError\u001b[0m\u001b[1;31m:\u001b[0m invalid syntax\n"
     ]
    }
   ],
   "source": [
    "$pip install jupyter_contrib_nbextensions -i https://pypi.tuna.tsinghua.edu.cn/simple\n",
    "jupyter contrib nbextension install --user\n",
    "$pip install jupyter_nbextensions_configurator"
   ]
  },
  {
   "cell_type": "code",
   "execution_count": 5,
   "metadata": {},
   "outputs": [
    {
     "name": "stdout",
     "output_type": "stream",
     "text": [
      "Looking in indexes: http://mirrors.aliyun.com/pypi/simple\n",
      "Collecting jupyter_contrib_nbextensions\n",
      "  Downloading http://mirrors.aliyun.com/pypi/packages/33/f0/6e2c00afda860f655fbf0f795f7310bdbf12122846344dfdc803fc7455d5/jupyter_contrib_nbextensions-0.5.1-py2.py3-none-any.whl (20.9 MB)\n",
      "Requirement already satisfied: notebook>=4.0 in d:\\programdata\\anaconda3\\envs\\t2.3\\lib\\site-packages (from jupyter_contrib_nbextensions) (6.3.0)\n",
      "Requirement already satisfied: nbconvert>=4.2 in d:\\programdata\\anaconda3\\envs\\t2.3\\lib\\site-packages (from jupyter_contrib_nbextensions) (6.0.7)\n",
      "Requirement already satisfied: traitlets>=4.1 in d:\\programdata\\anaconda3\\envs\\t2.3\\lib\\site-packages (from jupyter_contrib_nbextensions) (5.0.5)\n",
      "Collecting jupyter-latex-envs>=1.3.8\n",
      "  Downloading http://mirrors.aliyun.com/pypi/packages/0e/15/55805de080d5542f76920364635e96e64d3b37f678befdfe3b16aa154205/jupyter_latex_envs-1.4.6.tar.gz (861 kB)\n",
      "Requirement already satisfied: tornado in d:\\programdata\\anaconda3\\envs\\t2.3\\lib\\site-packages (from jupyter_contrib_nbextensions) (6.1)\n",
      "Collecting jupyter-contrib-core>=0.3.3\n",
      "  Downloading http://mirrors.aliyun.com/pypi/packages/e6/8f/04a752a8b66a66e7092c035e5d87d2502ac7ec07f9fb6059059b6c0dc272/jupyter_contrib_core-0.3.3-py2.py3-none-any.whl (18 kB)\n",
      "Collecting jupyter-highlight-selected-word>=0.1.1\n",
      "  Downloading http://mirrors.aliyun.com/pypi/packages/50/d7/19ab7cfd60bf268d2abbacc52d4295a40f52d74dfc0d938e4761ee5e598b/jupyter_highlight_selected_word-0.2.0-py2.py3-none-any.whl (11 kB)\n",
      "Requirement already satisfied: jupyter-core in d:\\programdata\\anaconda3\\envs\\t2.3\\lib\\site-packages (from jupyter_contrib_nbextensions) (4.7.1)\n",
      "Requirement already satisfied: pyyaml in d:\\programdata\\anaconda3\\envs\\t2.3\\lib\\site-packages (from jupyter_contrib_nbextensions) (5.4.1)\n",
      "Requirement already satisfied: lxml in d:\\programdata\\anaconda3\\envs\\t2.3\\lib\\site-packages (from jupyter_contrib_nbextensions) (4.6.3)\n",
      "Requirement already satisfied: ipython-genutils in d:\\programdata\\anaconda3\\envs\\t2.3\\lib\\site-packages (from jupyter_contrib_nbextensions) (0.2.0)\n",
      "Collecting jupyter-nbextensions-configurator>=0.4.0\n",
      "  Downloading http://mirrors.aliyun.com/pypi/packages/51/a3/d72d5f2dc10c5ccf5a6f4c79f636bf071a5ce462dedd07af2f70384db6cb/jupyter_nbextensions_configurator-0.4.1.tar.gz (479 kB)\n",
      "Requirement already satisfied: setuptools in d:\\programdata\\anaconda3\\envs\\t2.3\\lib\\site-packages (from jupyter-contrib-core>=0.3.3->jupyter_contrib_nbextensions) (52.0.0.post20210125)\n",
      "Requirement already satisfied: ipython in d:\\programdata\\anaconda3\\envs\\t2.3\\lib\\site-packages (from jupyter-latex-envs>=1.3.8->jupyter_contrib_nbextensions) (7.22.0)\n",
      "Requirement already satisfied: entrypoints>=0.2.2 in d:\\programdata\\anaconda3\\envs\\t2.3\\lib\\site-packages (from nbconvert>=4.2->jupyter_contrib_nbextensions) (0.3)\n",
      "Requirement already satisfied: mistune<2,>=0.8.1 in d:\\programdata\\anaconda3\\envs\\t2.3\\lib\\site-packages (from nbconvert>=4.2->jupyter_contrib_nbextensions) (0.8.4)\n",
      "Requirement already satisfied: bleach in d:\\programdata\\anaconda3\\envs\\t2.3\\lib\\site-packages (from nbconvert>=4.2->jupyter_contrib_nbextensions) (3.3.0)\n",
      "Requirement already satisfied: defusedxml in d:\\programdata\\anaconda3\\envs\\t2.3\\lib\\site-packages (from nbconvert>=4.2->jupyter_contrib_nbextensions) (0.7.1)\n",
      "Requirement already satisfied: pygments>=2.4.1 in d:\\programdata\\anaconda3\\envs\\t2.3\\lib\\site-packages (from nbconvert>=4.2->jupyter_contrib_nbextensions) (2.8.1)\n",
      "Requirement already satisfied: pandocfilters>=1.4.1 in d:\\programdata\\anaconda3\\envs\\t2.3\\lib\\site-packages (from nbconvert>=4.2->jupyter_contrib_nbextensions) (1.4.3)\n",
      "Requirement already satisfied: testpath in d:\\programdata\\anaconda3\\envs\\t2.3\\lib\\site-packages (from nbconvert>=4.2->jupyter_contrib_nbextensions) (0.4.4)\n",
      "Requirement already satisfied: jinja2>=2.4 in d:\\programdata\\anaconda3\\envs\\t2.3\\lib\\site-packages (from nbconvert>=4.2->jupyter_contrib_nbextensions) (2.11.3)\n",
      "Requirement already satisfied: nbclient<0.6.0,>=0.5.0 in d:\\programdata\\anaconda3\\envs\\t2.3\\lib\\site-packages (from nbconvert>=4.2->jupyter_contrib_nbextensions) (0.5.3)\n",
      "Requirement already satisfied: nbformat>=4.4 in d:\\programdata\\anaconda3\\envs\\t2.3\\lib\\site-packages (from nbconvert>=4.2->jupyter_contrib_nbextensions) (5.1.3)\n",
      "Requirement already satisfied: jupyterlab-pygments in d:\\programdata\\anaconda3\\envs\\t2.3\\lib\\site-packages (from nbconvert>=4.2->jupyter_contrib_nbextensions) (0.1.2)\n",
      "Requirement already satisfied: MarkupSafe>=0.23 in d:\\programdata\\anaconda3\\envs\\t2.3\\lib\\site-packages (from jinja2>=2.4->nbconvert>=4.2->jupyter_contrib_nbextensions) (1.1.1)\n",
      "Requirement already satisfied: async-generator in d:\\programdata\\anaconda3\\envs\\t2.3\\lib\\site-packages (from nbclient<0.6.0,>=0.5.0->nbconvert>=4.2->jupyter_contrib_nbextensions) (1.10)\n",
      "Requirement already satisfied: nest-asyncio in d:\\programdata\\anaconda3\\envs\\t2.3\\lib\\site-packages (from nbclient<0.6.0,>=0.5.0->nbconvert>=4.2->jupyter_contrib_nbextensions) (1.5.1)\n",
      "Requirement already satisfied: jupyter-client>=6.1.5 in d:\\programdata\\anaconda3\\envs\\t2.3\\lib\\site-packages (from nbclient<0.6.0,>=0.5.0->nbconvert>=4.2->jupyter_contrib_nbextensions) (6.1.12)\n",
      "Requirement already satisfied: pyzmq>=13 in d:\\programdata\\anaconda3\\envs\\t2.3\\lib\\site-packages (from jupyter-client>=6.1.5->nbclient<0.6.0,>=0.5.0->nbconvert>=4.2->jupyter_contrib_nbextensions) (20.0.0)\n",
      "Requirement already satisfied: python-dateutil>=2.1 in d:\\programdata\\anaconda3\\envs\\t2.3\\lib\\site-packages (from jupyter-client>=6.1.5->nbclient<0.6.0,>=0.5.0->nbconvert>=4.2->jupyter_contrib_nbextensions) (2.8.1)\n",
      "Requirement already satisfied: pywin32>=1.0 in d:\\programdata\\anaconda3\\envs\\t2.3\\lib\\site-packages (from jupyter-core->jupyter_contrib_nbextensions) (227)\n",
      "Requirement already satisfied: jsonschema!=2.5.0,>=2.4 in d:\\programdata\\anaconda3\\envs\\t2.3\\lib\\site-packages (from nbformat>=4.4->nbconvert>=4.2->jupyter_contrib_nbextensions) (3.2.0)\n",
      "Requirement already satisfied: importlib-metadata in d:\\programdata\\anaconda3\\envs\\t2.3\\lib\\site-packages (from jsonschema!=2.5.0,>=2.4->nbformat>=4.4->nbconvert>=4.2->jupyter_contrib_nbextensions) (3.10.0)\n",
      "Requirement already satisfied: six>=1.11.0 in d:\\programdata\\anaconda3\\envs\\t2.3\\lib\\site-packages (from jsonschema!=2.5.0,>=2.4->nbformat>=4.4->nbconvert>=4.2->jupyter_contrib_nbextensions) (1.15.0)\n",
      "Requirement already satisfied: attrs>=17.4.0 in d:\\programdata\\anaconda3\\envs\\t2.3\\lib\\site-packages (from jsonschema!=2.5.0,>=2.4->nbformat>=4.4->nbconvert>=4.2->jupyter_contrib_nbextensions) (20.3.0)\n",
      "Requirement already satisfied: pyrsistent>=0.14.0 in d:\\programdata\\anaconda3\\envs\\t2.3\\lib\\site-packages (from jsonschema!=2.5.0,>=2.4->nbformat>=4.4->nbconvert>=4.2->jupyter_contrib_nbextensions) (0.17.3)\n",
      "Requirement already satisfied: Send2Trash>=1.5.0 in d:\\programdata\\anaconda3\\envs\\t2.3\\lib\\site-packages (from notebook>=4.0->jupyter_contrib_nbextensions) (1.5.0)\n",
      "Requirement already satisfied: argon2-cffi in d:\\programdata\\anaconda3\\envs\\t2.3\\lib\\site-packages (from notebook>=4.0->jupyter_contrib_nbextensions) (20.1.0)\n",
      "Requirement already satisfied: prometheus-client in d:\\programdata\\anaconda3\\envs\\t2.3\\lib\\site-packages (from notebook>=4.0->jupyter_contrib_nbextensions) (0.10.0)\n",
      "Requirement already satisfied: terminado>=0.8.3 in d:\\programdata\\anaconda3\\envs\\t2.3\\lib\\site-packages (from notebook>=4.0->jupyter_contrib_nbextensions) (0.9.4)\n",
      "Requirement already satisfied: ipykernel in d:\\programdata\\anaconda3\\envs\\t2.3\\lib\\site-packages (from notebook>=4.0->jupyter_contrib_nbextensions) (5.3.4)\n",
      "Requirement already satisfied: pywinpty>=0.5 in d:\\programdata\\anaconda3\\envs\\t2.3\\lib\\site-packages (from terminado>=0.8.3->notebook>=4.0->jupyter_contrib_nbextensions) (0.5.7)\n",
      "Requirement already satisfied: cffi>=1.0.0 in d:\\programdata\\anaconda3\\envs\\t2.3\\lib\\site-packages (from argon2-cffi->notebook>=4.0->jupyter_contrib_nbextensions) (1.14.5)\n",
      "Requirement already satisfied: pycparser in d:\\programdata\\anaconda3\\envs\\t2.3\\lib\\site-packages (from cffi>=1.0.0->argon2-cffi->notebook>=4.0->jupyter_contrib_nbextensions) (2.20)\n",
      "Requirement already satisfied: webencodings in d:\\programdata\\anaconda3\\envs\\t2.3\\lib\\site-packages (from bleach->nbconvert>=4.2->jupyter_contrib_nbextensions) (0.5.1)\n",
      "Requirement already satisfied: packaging in d:\\programdata\\anaconda3\\envs\\t2.3\\lib\\site-packages (from bleach->nbconvert>=4.2->jupyter_contrib_nbextensions) (20.9)\n",
      "Requirement already satisfied: typing-extensions>=3.6.4 in d:\\programdata\\anaconda3\\envs\\t2.3\\lib\\site-packages (from importlib-metadata->jsonschema!=2.5.0,>=2.4->nbformat>=4.4->nbconvert>=4.2->jupyter_contrib_nbextensions) (3.7.4.3)\n",
      "Requirement already satisfied: zipp>=0.5 in d:\\programdata\\anaconda3\\envs\\t2.3\\lib\\site-packages (from importlib-metadata->jsonschema!=2.5.0,>=2.4->nbformat>=4.4->nbconvert>=4.2->jupyter_contrib_nbextensions) (3.4.1)\n",
      "Requirement already satisfied: decorator in d:\\programdata\\anaconda3\\envs\\t2.3\\lib\\site-packages (from ipython->jupyter-latex-envs>=1.3.8->jupyter_contrib_nbextensions) (5.0.5)\n",
      "Requirement already satisfied: colorama in d:\\programdata\\anaconda3\\envs\\t2.3\\lib\\site-packages (from ipython->jupyter-latex-envs>=1.3.8->jupyter_contrib_nbextensions) (0.4.4)\n",
      "Requirement already satisfied: prompt-toolkit!=3.0.0,!=3.0.1,<3.1.0,>=2.0.0 in d:\\programdata\\anaconda3\\envs\\t2.3\\lib\\site-packages (from ipython->jupyter-latex-envs>=1.3.8->jupyter_contrib_nbextensions) (3.0.17)\n",
      "Requirement already satisfied: jedi>=0.16 in d:\\programdata\\anaconda3\\envs\\t2.3\\lib\\site-packages (from ipython->jupyter-latex-envs>=1.3.8->jupyter_contrib_nbextensions) (0.17.2)\n",
      "Requirement already satisfied: backcall in d:\\programdata\\anaconda3\\envs\\t2.3\\lib\\site-packages (from ipython->jupyter-latex-envs>=1.3.8->jupyter_contrib_nbextensions) (0.2.0)\n",
      "Requirement already satisfied: pickleshare in d:\\programdata\\anaconda3\\envs\\t2.3\\lib\\site-packages (from ipython->jupyter-latex-envs>=1.3.8->jupyter_contrib_nbextensions) (0.7.5)\n",
      "Requirement already satisfied: parso<0.8.0,>=0.7.0 in d:\\programdata\\anaconda3\\envs\\t2.3\\lib\\site-packages (from jedi>=0.16->ipython->jupyter-latex-envs>=1.3.8->jupyter_contrib_nbextensions) (0.7.0)\n",
      "Requirement already satisfied: wcwidth in d:\\programdata\\anaconda3\\envs\\t2.3\\lib\\site-packages (from prompt-toolkit!=3.0.0,!=3.0.1,<3.1.0,>=2.0.0->ipython->jupyter-latex-envs>=1.3.8->jupyter_contrib_nbextensions) (0.2.5)\n",
      "Requirement already satisfied: pyparsing>=2.0.2 in d:\\programdata\\anaconda3\\envs\\t2.3\\lib\\site-packages (from packaging->bleach->nbconvert>=4.2->jupyter_contrib_nbextensions) (2.4.7)\n",
      "Building wheels for collected packages: jupyter-latex-envs, jupyter-nbextensions-configurator\n",
      "  Building wheel for jupyter-latex-envs (setup.py): started\n",
      "  Building wheel for jupyter-latex-envs (setup.py): finished with status 'done'\n",
      "  Created wheel for jupyter-latex-envs: filename=jupyter_latex_envs-1.4.6-py2.py3-none-any.whl size=963394 sha256=accb4bc31174fc3ab519db56dca8a38371a72e79eb7a6c78c260eaa520016a51\n",
      "  Stored in directory: c:\\users\\pc\\appdata\\local\\pip\\cache\\wheels\\53\\61\\f0\\eb626d3ec6bc4f24545c6ec5731cda5e9578a7b8b19dcde760\n",
      "  Building wheel for jupyter-nbextensions-configurator (setup.py): started\n",
      "  Building wheel for jupyter-nbextensions-configurator (setup.py): finished with status 'done'\n",
      "  Created wheel for jupyter-nbextensions-configurator: filename=jupyter_nbextensions_configurator-0.4.1-py2.py3-none-any.whl size=465825 sha256=6982d473488fecfce1418f74a5e3018a27e3fdf2efdbf541a451b3537a48c506\n",
      "  Stored in directory: c:\\users\\pc\\appdata\\local\\pip\\cache\\wheels\\65\\28\\b3\\cf701feb44bfde5ac0eecc42e0e4a826e6854878a8a3eb293f\n",
      "Successfully built jupyter-latex-envs jupyter-nbextensions-configurator\n",
      "Installing collected packages: jupyter-contrib-core, jupyter-nbextensions-configurator, jupyter-latex-envs, jupyter-highlight-selected-word, jupyter-contrib-nbextensions\n",
      "Successfully installed jupyter-contrib-core-0.3.3 jupyter-contrib-nbextensions-0.5.1 jupyter-highlight-selected-word-0.2.0 jupyter-latex-envs-1.4.6 jupyter-nbextensions-configurator-0.4.1\n",
      "Note: you may need to restart the kernel to use updated packages.\n"
     ]
    },
    {
     "name": "stderr",
     "output_type": "stream",
     "text": [
      "[I 17:06:24 InstallContribNbextensionsApp] jupyter contrib nbextension install \n",
      "[I 17:06:24 InstallContribNbextensionsApp] Installing jupyter_contrib_nbextensions nbextension files to jupyter data directory\n",
      "[I 17:06:24 InstallContribNbextensionsApp] Installing d:\\programdata\\anaconda3\\envs\\t2.3\\lib\\site-packages\\jupyter_contrib_nbextensions\\nbextensions\\addbefore -> addbefore\n",
      "[I 17:06:24 InstallContribNbextensionsApp] Making directory: C:\\ProgramData\\jupyter\\nbextensions\\addbefore\\\n",
      "[I 17:06:24 InstallContribNbextensionsApp] Copying: d:\\programdata\\anaconda3\\envs\\t2.3\\lib\\site-packages\\jupyter_contrib_nbextensions\\nbextensions\\addbefore\\addbefore.yaml -> C:\\ProgramData\\jupyter\\nbextensions\\addbefore\\addbefore.yaml\n",
      "[I 17:06:24 InstallContribNbextensionsApp] Copying: d:\\programdata\\anaconda3\\envs\\t2.3\\lib\\site-packages\\jupyter_contrib_nbextensions\\nbextensions\\addbefore\\icon.png -> C:\\ProgramData\\jupyter\\nbextensions\\addbefore\\icon.png\n",
      "[I 17:06:24 InstallContribNbextensionsApp] Copying: d:\\programdata\\anaconda3\\envs\\t2.3\\lib\\site-packages\\jupyter_contrib_nbextensions\\nbextensions\\addbefore\\main.js -> C:\\ProgramData\\jupyter\\nbextensions\\addbefore\\main.js\n",
      "[I 17:06:24 InstallContribNbextensionsApp] Copying: d:\\programdata\\anaconda3\\envs\\t2.3\\lib\\site-packages\\jupyter_contrib_nbextensions\\nbextensions\\addbefore\\readme.md -> C:\\ProgramData\\jupyter\\nbextensions\\addbefore\\readme.md\n",
      "[I 17:06:24 InstallContribNbextensionsApp] - Validating: ok\n",
      "[I 17:06:24 InstallContribNbextensionsApp] Installing d:\\programdata\\anaconda3\\envs\\t2.3\\lib\\site-packages\\jupyter_contrib_nbextensions\\nbextensions\\autosavetime -> autosavetime\n",
      "[I 17:06:24 InstallContribNbextensionsApp] Making directory: C:\\ProgramData\\jupyter\\nbextensions\\autosavetime\\\n",
      "[I 17:06:24 InstallContribNbextensionsApp] Copying: d:\\programdata\\anaconda3\\envs\\t2.3\\lib\\site-packages\\jupyter_contrib_nbextensions\\nbextensions\\autosavetime\\autosavetime.yaml -> C:\\ProgramData\\jupyter\\nbextensions\\autosavetime\\autosavetime.yaml\n",
      "[I 17:06:24 InstallContribNbextensionsApp] Copying: d:\\programdata\\anaconda3\\envs\\t2.3\\lib\\site-packages\\jupyter_contrib_nbextensions\\nbextensions\\autosavetime\\icon.png -> C:\\ProgramData\\jupyter\\nbextensions\\autosavetime\\icon.png\n",
      "[I 17:06:24 InstallContribNbextensionsApp] Copying: d:\\programdata\\anaconda3\\envs\\t2.3\\lib\\site-packages\\jupyter_contrib_nbextensions\\nbextensions\\autosavetime\\main.js -> C:\\ProgramData\\jupyter\\nbextensions\\autosavetime\\main.js\n",
      "[I 17:06:24 InstallContribNbextensionsApp] Copying: d:\\programdata\\anaconda3\\envs\\t2.3\\lib\\site-packages\\jupyter_contrib_nbextensions\\nbextensions\\autosavetime\\README.md -> C:\\ProgramData\\jupyter\\nbextensions\\autosavetime\\README.md\n",
      "[I 17:06:24 InstallContribNbextensionsApp] - Validating: ok\n",
      "[I 17:06:24 InstallContribNbextensionsApp] Installing d:\\programdata\\anaconda3\\envs\\t2.3\\lib\\site-packages\\jupyter_contrib_nbextensions\\nbextensions\\autoscroll -> autoscroll\n",
      "[I 17:06:24 InstallContribNbextensionsApp] Making directory: C:\\ProgramData\\jupyter\\nbextensions\\autoscroll\\\n",
      "[I 17:06:24 InstallContribNbextensionsApp] Copying: d:\\programdata\\anaconda3\\envs\\t2.3\\lib\\site-packages\\jupyter_contrib_nbextensions\\nbextensions\\autoscroll\\autoscroll.yaml -> C:\\ProgramData\\jupyter\\nbextensions\\autoscroll\\autoscroll.yaml\n",
      "[I 17:06:24 InstallContribNbextensionsApp] Copying: d:\\programdata\\anaconda3\\envs\\t2.3\\lib\\site-packages\\jupyter_contrib_nbextensions\\nbextensions\\autoscroll\\icon.png -> C:\\ProgramData\\jupyter\\nbextensions\\autoscroll\\icon.png\n",
      "[I 17:06:24 InstallContribNbextensionsApp] Copying: d:\\programdata\\anaconda3\\envs\\t2.3\\lib\\site-packages\\jupyter_contrib_nbextensions\\nbextensions\\autoscroll\\main.js -> C:\\ProgramData\\jupyter\\nbextensions\\autoscroll\\main.js\n",
      "[I 17:06:24 InstallContribNbextensionsApp] Copying: d:\\programdata\\anaconda3\\envs\\t2.3\\lib\\site-packages\\jupyter_contrib_nbextensions\\nbextensions\\autoscroll\\README.md -> C:\\ProgramData\\jupyter\\nbextensions\\autoscroll\\README.md\n",
      "[I 17:06:24 InstallContribNbextensionsApp] - Validating: ok\n",
      "[I 17:06:24 InstallContribNbextensionsApp] Installing d:\\programdata\\anaconda3\\envs\\t2.3\\lib\\site-packages\\jupyter_contrib_nbextensions\\nbextensions\\cell_filter -> cell_filter\n",
      "[I 17:06:24 InstallContribNbextensionsApp] Making directory: C:\\ProgramData\\jupyter\\nbextensions\\cell_filter\\\n",
      "[I 17:06:24 InstallContribNbextensionsApp] Copying: d:\\programdata\\anaconda3\\envs\\t2.3\\lib\\site-packages\\jupyter_contrib_nbextensions\\nbextensions\\cell_filter\\cell_filter.js -> C:\\ProgramData\\jupyter\\nbextensions\\cell_filter\\cell_filter.js\n",
      "[I 17:06:24 InstallContribNbextensionsApp] Copying: d:\\programdata\\anaconda3\\envs\\t2.3\\lib\\site-packages\\jupyter_contrib_nbextensions\\nbextensions\\cell_filter\\cell_filter.yml -> C:\\ProgramData\\jupyter\\nbextensions\\cell_filter\\cell_filter.yml\n",
      "[I 17:06:24 InstallContribNbextensionsApp] Copying: d:\\programdata\\anaconda3\\envs\\t2.3\\lib\\site-packages\\jupyter_contrib_nbextensions\\nbextensions\\cell_filter\\README.md -> C:\\ProgramData\\jupyter\\nbextensions\\cell_filter\\README.md\n",
      "[I 17:06:24 InstallContribNbextensionsApp] - Validating: ok\n",
      "[I 17:06:24 InstallContribNbextensionsApp] Installing d:\\programdata\\anaconda3\\envs\\t2.3\\lib\\site-packages\\jupyter_contrib_nbextensions\\nbextensions\\codefolding -> codefolding\n",
      "[I 17:06:24 InstallContribNbextensionsApp] Making directory: C:\\ProgramData\\jupyter\\nbextensions\\codefolding\\\n",
      "[I 17:06:24 InstallContribNbextensionsApp] Copying: d:\\programdata\\anaconda3\\envs\\t2.3\\lib\\site-packages\\jupyter_contrib_nbextensions\\nbextensions\\codefolding\\codefolding.yaml -> C:\\ProgramData\\jupyter\\nbextensions\\codefolding\\codefolding.yaml\n",
      "[I 17:06:24 InstallContribNbextensionsApp] Copying: d:\\programdata\\anaconda3\\envs\\t2.3\\lib\\site-packages\\jupyter_contrib_nbextensions\\nbextensions\\codefolding\\codefolding_editor.png -> C:\\ProgramData\\jupyter\\nbextensions\\codefolding\\codefolding_editor.png\n",
      "[I 17:06:24 InstallContribNbextensionsApp] Copying: d:\\programdata\\anaconda3\\envs\\t2.3\\lib\\site-packages\\jupyter_contrib_nbextensions\\nbextensions\\codefolding\\codefolding_editor.yaml -> C:\\ProgramData\\jupyter\\nbextensions\\codefolding\\codefolding_editor.yaml\n",
      "[I 17:06:24 InstallContribNbextensionsApp] Copying: d:\\programdata\\anaconda3\\envs\\t2.3\\lib\\site-packages\\jupyter_contrib_nbextensions\\nbextensions\\codefolding\\codefolding_firstline_folded.png -> C:\\ProgramData\\jupyter\\nbextensions\\codefolding\\codefolding_firstline_folded.png\n",
      "[I 17:06:24 InstallContribNbextensionsApp] Copying: d:\\programdata\\anaconda3\\envs\\t2.3\\lib\\site-packages\\jupyter_contrib_nbextensions\\nbextensions\\codefolding\\codefolding_firstline_unfolded.png -> C:\\ProgramData\\jupyter\\nbextensions\\codefolding\\codefolding_firstline_unfolded.png\n",
      "[I 17:06:24 InstallContribNbextensionsApp] Copying: d:\\programdata\\anaconda3\\envs\\t2.3\\lib\\site-packages\\jupyter_contrib_nbextensions\\nbextensions\\codefolding\\codefolding_indent_folded_1.png -> C:\\ProgramData\\jupyter\\nbextensions\\codefolding\\codefolding_indent_folded_1.png\n",
      "[I 17:06:24 InstallContribNbextensionsApp] Copying: d:\\programdata\\anaconda3\\envs\\t2.3\\lib\\site-packages\\jupyter_contrib_nbextensions\\nbextensions\\codefolding\\codefolding_indent_folded_2.png -> C:\\ProgramData\\jupyter\\nbextensions\\codefolding\\codefolding_indent_folded_2.png\n",
      "[I 17:06:24 InstallContribNbextensionsApp] Copying: d:\\programdata\\anaconda3\\envs\\t2.3\\lib\\site-packages\\jupyter_contrib_nbextensions\\nbextensions\\codefolding\\codefolding_indent_unfolded.png -> C:\\ProgramData\\jupyter\\nbextensions\\codefolding\\codefolding_indent_unfolded.png\n",
      "[I 17:06:24 InstallContribNbextensionsApp] Copying: d:\\programdata\\anaconda3\\envs\\t2.3\\lib\\site-packages\\jupyter_contrib_nbextensions\\nbextensions\\codefolding\\edit.js -> C:\\ProgramData\\jupyter\\nbextensions\\codefolding\\edit.js\n",
      "[I 17:06:24 InstallContribNbextensionsApp] Copying: d:\\programdata\\anaconda3\\envs\\t2.3\\lib\\site-packages\\jupyter_contrib_nbextensions\\nbextensions\\codefolding\\firstline-fold.js -> C:\\ProgramData\\jupyter\\nbextensions\\codefolding\\firstline-fold.js\n",
      "[I 17:06:24 InstallContribNbextensionsApp] Copying: d:\\programdata\\anaconda3\\envs\\t2.3\\lib\\site-packages\\jupyter_contrib_nbextensions\\nbextensions\\codefolding\\foldgutter.css -> C:\\ProgramData\\jupyter\\nbextensions\\codefolding\\foldgutter.css\n",
      "[I 17:06:24 InstallContribNbextensionsApp] Copying: d:\\programdata\\anaconda3\\envs\\t2.3\\lib\\site-packages\\jupyter_contrib_nbextensions\\nbextensions\\codefolding\\icon.png -> C:\\ProgramData\\jupyter\\nbextensions\\codefolding\\icon.png\n",
      "[I 17:06:24 InstallContribNbextensionsApp] Copying: d:\\programdata\\anaconda3\\envs\\t2.3\\lib\\site-packages\\jupyter_contrib_nbextensions\\nbextensions\\codefolding\\magic-fold.js -> C:\\ProgramData\\jupyter\\nbextensions\\codefolding\\magic-fold.js\n",
      "[I 17:06:24 InstallContribNbextensionsApp] Copying: d:\\programdata\\anaconda3\\envs\\t2.3\\lib\\site-packages\\jupyter_contrib_nbextensions\\nbextensions\\codefolding\\magic-folded.png -> C:\\ProgramData\\jupyter\\nbextensions\\codefolding\\magic-folded.png\n",
      "[I 17:06:24 InstallContribNbextensionsApp] Copying: d:\\programdata\\anaconda3\\envs\\t2.3\\lib\\site-packages\\jupyter_contrib_nbextensions\\nbextensions\\codefolding\\magic-unfolded.png -> C:\\ProgramData\\jupyter\\nbextensions\\codefolding\\magic-unfolded.png\n",
      "[I 17:06:24 InstallContribNbextensionsApp] Copying: d:\\programdata\\anaconda3\\envs\\t2.3\\lib\\site-packages\\jupyter_contrib_nbextensions\\nbextensions\\codefolding\\main.js -> C:\\ProgramData\\jupyter\\nbextensions\\codefolding\\main.js\n",
      "[I 17:06:24 InstallContribNbextensionsApp] Copying: d:\\programdata\\anaconda3\\envs\\t2.3\\lib\\site-packages\\jupyter_contrib_nbextensions\\nbextensions\\codefolding\\readme.md -> C:\\ProgramData\\jupyter\\nbextensions\\codefolding\\readme.md\n",
      "[I 17:06:24 InstallContribNbextensionsApp] - Validating: ok\n",
      "[I 17:06:24 InstallContribNbextensionsApp] Installing d:\\programdata\\anaconda3\\envs\\t2.3\\lib\\site-packages\\jupyter_contrib_nbextensions\\nbextensions\\codefolding -> codefolding\n",
      "[I 17:06:24 InstallContribNbextensionsApp] Up to date: C:\\ProgramData\\jupyter\\nbextensions\\codefolding\\codefolding.yaml\n",
      "[I 17:06:24 InstallContribNbextensionsApp] Up to date: C:\\ProgramData\\jupyter\\nbextensions\\codefolding\\codefolding_editor.png\n",
      "[I 17:06:24 InstallContribNbextensionsApp] Up to date: C:\\ProgramData\\jupyter\\nbextensions\\codefolding\\codefolding_editor.yaml\n",
      "[I 17:06:24 InstallContribNbextensionsApp] Up to date: C:\\ProgramData\\jupyter\\nbextensions\\codefolding\\codefolding_firstline_folded.png\n",
      "[I 17:06:24 InstallContribNbextensionsApp] Up to date: C:\\ProgramData\\jupyter\\nbextensions\\codefolding\\codefolding_firstline_unfolded.png\n",
      "[I 17:06:24 InstallContribNbextensionsApp] Up to date: C:\\ProgramData\\jupyter\\nbextensions\\codefolding\\codefolding_indent_folded_1.png\n",
      "[I 17:06:24 InstallContribNbextensionsApp] Up to date: C:\\ProgramData\\jupyter\\nbextensions\\codefolding\\codefolding_indent_folded_2.png\n",
      "[I 17:06:24 InstallContribNbextensionsApp] Up to date: C:\\ProgramData\\jupyter\\nbextensions\\codefolding\\codefolding_indent_unfolded.png\n",
      "[I 17:06:24 InstallContribNbextensionsApp] Up to date: C:\\ProgramData\\jupyter\\nbextensions\\codefolding\\edit.js\n",
      "[I 17:06:24 InstallContribNbextensionsApp] Up to date: C:\\ProgramData\\jupyter\\nbextensions\\codefolding\\firstline-fold.js\n",
      "[I 17:06:24 InstallContribNbextensionsApp] Up to date: C:\\ProgramData\\jupyter\\nbextensions\\codefolding\\foldgutter.css\n",
      "[I 17:06:24 InstallContribNbextensionsApp] Up to date: C:\\ProgramData\\jupyter\\nbextensions\\codefolding\\icon.png\n",
      "[I 17:06:24 InstallContribNbextensionsApp] Up to date: C:\\ProgramData\\jupyter\\nbextensions\\codefolding\\magic-fold.js\n",
      "[I 17:06:24 InstallContribNbextensionsApp] Up to date: C:\\ProgramData\\jupyter\\nbextensions\\codefolding\\magic-folded.png\n",
      "[I 17:06:24 InstallContribNbextensionsApp] Up to date: C:\\ProgramData\\jupyter\\nbextensions\\codefolding\\magic-unfolded.png\n",
      "[I 17:06:24 InstallContribNbextensionsApp] Up to date: C:\\ProgramData\\jupyter\\nbextensions\\codefolding\\main.js\n",
      "[I 17:06:24 InstallContribNbextensionsApp] Up to date: C:\\ProgramData\\jupyter\\nbextensions\\codefolding\\readme.md\n",
      "[I 17:06:24 InstallContribNbextensionsApp] - Validating: ok\n",
      "[I 17:06:24 InstallContribNbextensionsApp] Installing d:\\programdata\\anaconda3\\envs\\t2.3\\lib\\site-packages\\jupyter_contrib_nbextensions\\nbextensions\\codemirror_mode_extensions -> codemirror_mode_extensions\n",
      "[I 17:06:24 InstallContribNbextensionsApp] Making directory: C:\\ProgramData\\jupyter\\nbextensions\\codemirror_mode_extensions\\\n",
      "[I 17:06:24 InstallContribNbextensionsApp] Copying: d:\\programdata\\anaconda3\\envs\\t2.3\\lib\\site-packages\\jupyter_contrib_nbextensions\\nbextensions\\codemirror_mode_extensions\\codemirror_mode_extensions.yaml -> C:\\ProgramData\\jupyter\\nbextensions\\codemirror_mode_extensions\\codemirror_mode_extensions.yaml\n",
      "[I 17:06:24 InstallContribNbextensionsApp] Copying: d:\\programdata\\anaconda3\\envs\\t2.3\\lib\\site-packages\\jupyter_contrib_nbextensions\\nbextensions\\codemirror_mode_extensions\\main.js -> C:\\ProgramData\\jupyter\\nbextensions\\codemirror_mode_extensions\\main.js\n",
      "[I 17:06:24 InstallContribNbextensionsApp] - Validating: ok\n",
      "[I 17:06:24 InstallContribNbextensionsApp] Installing d:\\programdata\\anaconda3\\envs\\t2.3\\lib\\site-packages\\jupyter_contrib_nbextensions\\nbextensions\\code_font_size -> code_font_size\n",
      "[I 17:06:24 InstallContribNbextensionsApp] Making directory: C:\\ProgramData\\jupyter\\nbextensions\\code_font_size\\\n",
      "[I 17:06:24 InstallContribNbextensionsApp] Copying: d:\\programdata\\anaconda3\\envs\\t2.3\\lib\\site-packages\\jupyter_contrib_nbextensions\\nbextensions\\code_font_size\\code_font_size.js -> C:\\ProgramData\\jupyter\\nbextensions\\code_font_size\\code_font_size.js\n",
      "[I 17:06:24 InstallContribNbextensionsApp] Copying: d:\\programdata\\anaconda3\\envs\\t2.3\\lib\\site-packages\\jupyter_contrib_nbextensions\\nbextensions\\code_font_size\\code_font_size.yaml -> C:\\ProgramData\\jupyter\\nbextensions\\code_font_size\\code_font_size.yaml\n",
      "[I 17:06:24 InstallContribNbextensionsApp] Copying: d:\\programdata\\anaconda3\\envs\\t2.3\\lib\\site-packages\\jupyter_contrib_nbextensions\\nbextensions\\code_font_size\\README.md -> C:\\ProgramData\\jupyter\\nbextensions\\code_font_size\\README.md\n",
      "[I 17:06:24 InstallContribNbextensionsApp] - Validating: ok\n",
      "[I 17:06:24 InstallContribNbextensionsApp] Installing d:\\programdata\\anaconda3\\envs\\t2.3\\lib\\site-packages\\jupyter_contrib_nbextensions\\nbextensions\\code_prettify -> code_prettify\n",
      "[I 17:06:24 InstallContribNbextensionsApp] Making directory: C:\\ProgramData\\jupyter\\nbextensions\\code_prettify\\\n",
      "[I 17:06:24 InstallContribNbextensionsApp] Copying: d:\\programdata\\anaconda3\\envs\\t2.3\\lib\\site-packages\\jupyter_contrib_nbextensions\\nbextensions\\code_prettify\\2to3.js -> C:\\ProgramData\\jupyter\\nbextensions\\code_prettify\\2to3.js\n",
      "[I 17:06:24 InstallContribNbextensionsApp] Copying: d:\\programdata\\anaconda3\\envs\\t2.3\\lib\\site-packages\\jupyter_contrib_nbextensions\\nbextensions\\code_prettify\\2to3.yaml -> C:\\ProgramData\\jupyter\\nbextensions\\code_prettify\\2to3.yaml\n",
      "[I 17:06:24 InstallContribNbextensionsApp] Copying: d:\\programdata\\anaconda3\\envs\\t2.3\\lib\\site-packages\\jupyter_contrib_nbextensions\\nbextensions\\code_prettify\\autopep8.js -> C:\\ProgramData\\jupyter\\nbextensions\\code_prettify\\autopep8.js\n",
      "[I 17:06:24 InstallContribNbextensionsApp] Copying: d:\\programdata\\anaconda3\\envs\\t2.3\\lib\\site-packages\\jupyter_contrib_nbextensions\\nbextensions\\code_prettify\\autopep8.yaml -> C:\\ProgramData\\jupyter\\nbextensions\\code_prettify\\autopep8.yaml\n",
      "[I 17:06:24 InstallContribNbextensionsApp] Copying: d:\\programdata\\anaconda3\\envs\\t2.3\\lib\\site-packages\\jupyter_contrib_nbextensions\\nbextensions\\code_prettify\\code_prettify.js -> C:\\ProgramData\\jupyter\\nbextensions\\code_prettify\\code_prettify.js\n",
      "[I 17:06:24 InstallContribNbextensionsApp] Copying: d:\\programdata\\anaconda3\\envs\\t2.3\\lib\\site-packages\\jupyter_contrib_nbextensions\\nbextensions\\code_prettify\\code_prettify.yaml -> C:\\ProgramData\\jupyter\\nbextensions\\code_prettify\\code_prettify.yaml\n",
      "[I 17:06:24 InstallContribNbextensionsApp] Copying: d:\\programdata\\anaconda3\\envs\\t2.3\\lib\\site-packages\\jupyter_contrib_nbextensions\\nbextensions\\code_prettify\\demo-jv.gif -> C:\\ProgramData\\jupyter\\nbextensions\\code_prettify\\demo-jv.gif\n",
      "[I 17:06:24 InstallContribNbextensionsApp] Copying: d:\\programdata\\anaconda3\\envs\\t2.3\\lib\\site-packages\\jupyter_contrib_nbextensions\\nbextensions\\code_prettify\\demo-py.gif -> C:\\ProgramData\\jupyter\\nbextensions\\code_prettify\\demo-py.gif\n",
      "[I 17:06:24 InstallContribNbextensionsApp] Copying: d:\\programdata\\anaconda3\\envs\\t2.3\\lib\\site-packages\\jupyter_contrib_nbextensions\\nbextensions\\code_prettify\\demo-R.gif -> C:\\ProgramData\\jupyter\\nbextensions\\code_prettify\\demo-R.gif\n",
      "[I 17:06:24 InstallContribNbextensionsApp] Copying: d:\\programdata\\anaconda3\\envs\\t2.3\\lib\\site-packages\\jupyter_contrib_nbextensions\\nbextensions\\code_prettify\\demo_2to3.gif -> C:\\ProgramData\\jupyter\\nbextensions\\code_prettify\\demo_2to3.gif\n",
      "[I 17:06:24 InstallContribNbextensionsApp] Copying: d:\\programdata\\anaconda3\\envs\\t2.3\\lib\\site-packages\\jupyter_contrib_nbextensions\\nbextensions\\code_prettify\\isort.js -> C:\\ProgramData\\jupyter\\nbextensions\\code_prettify\\isort.js\n",
      "[I 17:06:24 InstallContribNbextensionsApp] Copying: d:\\programdata\\anaconda3\\envs\\t2.3\\lib\\site-packages\\jupyter_contrib_nbextensions\\nbextensions\\code_prettify\\isort.yaml -> C:\\ProgramData\\jupyter\\nbextensions\\code_prettify\\isort.yaml\n",
      "[I 17:06:24 InstallContribNbextensionsApp] Copying: d:\\programdata\\anaconda3\\envs\\t2.3\\lib\\site-packages\\jupyter_contrib_nbextensions\\nbextensions\\code_prettify\\kernel_exec_on_cell.js -> C:\\ProgramData\\jupyter\\nbextensions\\code_prettify\\kernel_exec_on_cell.js\n",
      "[I 17:06:24 InstallContribNbextensionsApp] Copying: d:\\programdata\\anaconda3\\envs\\t2.3\\lib\\site-packages\\jupyter_contrib_nbextensions\\nbextensions\\code_prettify\\README.md -> C:\\ProgramData\\jupyter\\nbextensions\\code_prettify\\README.md\n",
      "[I 17:06:24 InstallContribNbextensionsApp] Copying: d:\\programdata\\anaconda3\\envs\\t2.3\\lib\\site-packages\\jupyter_contrib_nbextensions\\nbextensions\\code_prettify\\README_2to3.md -> C:\\ProgramData\\jupyter\\nbextensions\\code_prettify\\README_2to3.md\n",
      "[I 17:06:24 InstallContribNbextensionsApp] Copying: d:\\programdata\\anaconda3\\envs\\t2.3\\lib\\site-packages\\jupyter_contrib_nbextensions\\nbextensions\\code_prettify\\README_autopep8.md -> C:\\ProgramData\\jupyter\\nbextensions\\code_prettify\\README_autopep8.md\n",
      "[I 17:06:24 InstallContribNbextensionsApp] Copying: d:\\programdata\\anaconda3\\envs\\t2.3\\lib\\site-packages\\jupyter_contrib_nbextensions\\nbextensions\\code_prettify\\README_code_prettify.md -> C:\\ProgramData\\jupyter\\nbextensions\\code_prettify\\README_code_prettify.md\n",
      "[I 17:06:24 InstallContribNbextensionsApp] Copying: d:\\programdata\\anaconda3\\envs\\t2.3\\lib\\site-packages\\jupyter_contrib_nbextensions\\nbextensions\\code_prettify\\README_isort.md -> C:\\ProgramData\\jupyter\\nbextensions\\code_prettify\\README_isort.md\n",
      "[I 17:06:24 InstallContribNbextensionsApp] - Validating: ok\n",
      "[I 17:06:24 InstallContribNbextensionsApp] Installing d:\\programdata\\anaconda3\\envs\\t2.3\\lib\\site-packages\\jupyter_contrib_nbextensions\\nbextensions\\code_prettify -> code_prettify\n",
      "[I 17:06:24 InstallContribNbextensionsApp] Up to date: C:\\ProgramData\\jupyter\\nbextensions\\code_prettify\\2to3.js\n",
      "[I 17:06:24 InstallContribNbextensionsApp] Up to date: C:\\ProgramData\\jupyter\\nbextensions\\code_prettify\\2to3.yaml\n",
      "[I 17:06:24 InstallContribNbextensionsApp] Up to date: C:\\ProgramData\\jupyter\\nbextensions\\code_prettify\\autopep8.js\n",
      "[I 17:06:24 InstallContribNbextensionsApp] Up to date: C:\\ProgramData\\jupyter\\nbextensions\\code_prettify\\autopep8.yaml\n",
      "[I 17:06:24 InstallContribNbextensionsApp] Up to date: C:\\ProgramData\\jupyter\\nbextensions\\code_prettify\\code_prettify.js\n",
      "[I 17:06:24 InstallContribNbextensionsApp] Up to date: C:\\ProgramData\\jupyter\\nbextensions\\code_prettify\\code_prettify.yaml\n",
      "[I 17:06:24 InstallContribNbextensionsApp] Up to date: C:\\ProgramData\\jupyter\\nbextensions\\code_prettify\\demo-jv.gif\n",
      "[I 17:06:24 InstallContribNbextensionsApp] Up to date: C:\\ProgramData\\jupyter\\nbextensions\\code_prettify\\demo-py.gif\n",
      "[I 17:06:24 InstallContribNbextensionsApp] Up to date: C:\\ProgramData\\jupyter\\nbextensions\\code_prettify\\demo-R.gif\n",
      "[I 17:06:24 InstallContribNbextensionsApp] Up to date: C:\\ProgramData\\jupyter\\nbextensions\\code_prettify\\demo_2to3.gif\n",
      "[I 17:06:24 InstallContribNbextensionsApp] Up to date: C:\\ProgramData\\jupyter\\nbextensions\\code_prettify\\isort.js\n",
      "[I 17:06:24 InstallContribNbextensionsApp] Up to date: C:\\ProgramData\\jupyter\\nbextensions\\code_prettify\\isort.yaml\n",
      "[I 17:06:24 InstallContribNbextensionsApp] Up to date: C:\\ProgramData\\jupyter\\nbextensions\\code_prettify\\kernel_exec_on_cell.js\n",
      "[I 17:06:24 InstallContribNbextensionsApp] Up to date: C:\\ProgramData\\jupyter\\nbextensions\\code_prettify\\README.md\n",
      "[I 17:06:24 InstallContribNbextensionsApp] Up to date: C:\\ProgramData\\jupyter\\nbextensions\\code_prettify\\README_2to3.md\n",
      "[I 17:06:24 InstallContribNbextensionsApp] Up to date: C:\\ProgramData\\jupyter\\nbextensions\\code_prettify\\README_autopep8.md\n",
      "[I 17:06:24 InstallContribNbextensionsApp] Up to date: C:\\ProgramData\\jupyter\\nbextensions\\code_prettify\\README_code_prettify.md\n",
      "[I 17:06:24 InstallContribNbextensionsApp] Up to date: C:\\ProgramData\\jupyter\\nbextensions\\code_prettify\\README_isort.md\n",
      "[I 17:06:24 InstallContribNbextensionsApp] - Validating: ok\n",
      "[I 17:06:24 InstallContribNbextensionsApp] Installing d:\\programdata\\anaconda3\\envs\\t2.3\\lib\\site-packages\\jupyter_contrib_nbextensions\\nbextensions\\code_prettify -> code_prettify\n",
      "[I 17:06:24 InstallContribNbextensionsApp] Up to date: C:\\ProgramData\\jupyter\\nbextensions\\code_prettify\\2to3.js\n",
      "[I 17:06:24 InstallContribNbextensionsApp] Up to date: C:\\ProgramData\\jupyter\\nbextensions\\code_prettify\\2to3.yaml\n",
      "[I 17:06:24 InstallContribNbextensionsApp] Up to date: C:\\ProgramData\\jupyter\\nbextensions\\code_prettify\\autopep8.js\n",
      "[I 17:06:24 InstallContribNbextensionsApp] Up to date: C:\\ProgramData\\jupyter\\nbextensions\\code_prettify\\autopep8.yaml\n",
      "[I 17:06:24 InstallContribNbextensionsApp] Up to date: C:\\ProgramData\\jupyter\\nbextensions\\code_prettify\\code_prettify.js\n",
      "[I 17:06:24 InstallContribNbextensionsApp] Up to date: C:\\ProgramData\\jupyter\\nbextensions\\code_prettify\\code_prettify.yaml\n",
      "[I 17:06:24 InstallContribNbextensionsApp] Up to date: C:\\ProgramData\\jupyter\\nbextensions\\code_prettify\\demo-jv.gif\n",
      "[I 17:06:24 InstallContribNbextensionsApp] Up to date: C:\\ProgramData\\jupyter\\nbextensions\\code_prettify\\demo-py.gif\n",
      "[I 17:06:24 InstallContribNbextensionsApp] Up to date: C:\\ProgramData\\jupyter\\nbextensions\\code_prettify\\demo-R.gif\n",
      "[I 17:06:24 InstallContribNbextensionsApp] Up to date: C:\\ProgramData\\jupyter\\nbextensions\\code_prettify\\demo_2to3.gif\n",
      "[I 17:06:24 InstallContribNbextensionsApp] Up to date: C:\\ProgramData\\jupyter\\nbextensions\\code_prettify\\isort.js\n",
      "[I 17:06:24 InstallContribNbextensionsApp] Up to date: C:\\ProgramData\\jupyter\\nbextensions\\code_prettify\\isort.yaml\n",
      "[I 17:06:24 InstallContribNbextensionsApp] Up to date: C:\\ProgramData\\jupyter\\nbextensions\\code_prettify\\kernel_exec_on_cell.js\n",
      "[I 17:06:24 InstallContribNbextensionsApp] Up to date: C:\\ProgramData\\jupyter\\nbextensions\\code_prettify\\README.md\n",
      "[I 17:06:24 InstallContribNbextensionsApp] Up to date: C:\\ProgramData\\jupyter\\nbextensions\\code_prettify\\README_2to3.md\n",
      "[I 17:06:24 InstallContribNbextensionsApp] Up to date: C:\\ProgramData\\jupyter\\nbextensions\\code_prettify\\README_autopep8.md\n",
      "[I 17:06:24 InstallContribNbextensionsApp] Up to date: C:\\ProgramData\\jupyter\\nbextensions\\code_prettify\\README_code_prettify.md\n",
      "[I 17:06:24 InstallContribNbextensionsApp] Up to date: C:\\ProgramData\\jupyter\\nbextensions\\code_prettify\\README_isort.md\n",
      "[I 17:06:24 InstallContribNbextensionsApp] - Validating: ok\n",
      "[I 17:06:24 InstallContribNbextensionsApp] Installing d:\\programdata\\anaconda3\\envs\\t2.3\\lib\\site-packages\\jupyter_contrib_nbextensions\\nbextensions\\code_prettify -> code_prettify\n",
      "[I 17:06:24 InstallContribNbextensionsApp] Up to date: C:\\ProgramData\\jupyter\\nbextensions\\code_prettify\\2to3.js\n",
      "[I 17:06:24 InstallContribNbextensionsApp] Up to date: C:\\ProgramData\\jupyter\\nbextensions\\code_prettify\\2to3.yaml\n",
      "[I 17:06:24 InstallContribNbextensionsApp] Up to date: C:\\ProgramData\\jupyter\\nbextensions\\code_prettify\\autopep8.js\n",
      "[I 17:06:24 InstallContribNbextensionsApp] Up to date: C:\\ProgramData\\jupyter\\nbextensions\\code_prettify\\autopep8.yaml\n",
      "[I 17:06:24 InstallContribNbextensionsApp] Up to date: C:\\ProgramData\\jupyter\\nbextensions\\code_prettify\\code_prettify.js\n",
      "[I 17:06:24 InstallContribNbextensionsApp] Up to date: C:\\ProgramData\\jupyter\\nbextensions\\code_prettify\\code_prettify.yaml\n",
      "[I 17:06:24 InstallContribNbextensionsApp] Up to date: C:\\ProgramData\\jupyter\\nbextensions\\code_prettify\\demo-jv.gif\n",
      "[I 17:06:24 InstallContribNbextensionsApp] Up to date: C:\\ProgramData\\jupyter\\nbextensions\\code_prettify\\demo-py.gif\n",
      "[I 17:06:24 InstallContribNbextensionsApp] Up to date: C:\\ProgramData\\jupyter\\nbextensions\\code_prettify\\demo-R.gif\n",
      "[I 17:06:24 InstallContribNbextensionsApp] Up to date: C:\\ProgramData\\jupyter\\nbextensions\\code_prettify\\demo_2to3.gif\n",
      "[I 17:06:24 InstallContribNbextensionsApp] Up to date: C:\\ProgramData\\jupyter\\nbextensions\\code_prettify\\isort.js\n",
      "[I 17:06:24 InstallContribNbextensionsApp] Up to date: C:\\ProgramData\\jupyter\\nbextensions\\code_prettify\\isort.yaml\n",
      "[I 17:06:24 InstallContribNbextensionsApp] Up to date: C:\\ProgramData\\jupyter\\nbextensions\\code_prettify\\kernel_exec_on_cell.js\n",
      "[I 17:06:24 InstallContribNbextensionsApp] Up to date: C:\\ProgramData\\jupyter\\nbextensions\\code_prettify\\README.md\n",
      "[I 17:06:24 InstallContribNbextensionsApp] Up to date: C:\\ProgramData\\jupyter\\nbextensions\\code_prettify\\README_2to3.md\n",
      "[I 17:06:24 InstallContribNbextensionsApp] Up to date: C:\\ProgramData\\jupyter\\nbextensions\\code_prettify\\README_autopep8.md\n",
      "[I 17:06:24 InstallContribNbextensionsApp] Up to date: C:\\ProgramData\\jupyter\\nbextensions\\code_prettify\\README_code_prettify.md\n",
      "[I 17:06:24 InstallContribNbextensionsApp] Up to date: C:\\ProgramData\\jupyter\\nbextensions\\code_prettify\\README_isort.md\n",
      "[I 17:06:24 InstallContribNbextensionsApp] - Validating: ok\n",
      "[I 17:06:24 InstallContribNbextensionsApp] Installing d:\\programdata\\anaconda3\\envs\\t2.3\\lib\\site-packages\\jupyter_contrib_nbextensions\\nbextensions\\collapsible_headings -> collapsible_headings\n",
      "[I 17:06:24 InstallContribNbextensionsApp] Making directory: C:\\ProgramData\\jupyter\\nbextensions\\collapsible_headings\\\n",
      "[I 17:06:24 InstallContribNbextensionsApp] Copying: d:\\programdata\\anaconda3\\envs\\t2.3\\lib\\site-packages\\jupyter_contrib_nbextensions\\nbextensions\\collapsible_headings\\collapsible_headings.yaml -> C:\\ProgramData\\jupyter\\nbextensions\\collapsible_headings\\collapsible_headings.yaml\n",
      "[I 17:06:24 InstallContribNbextensionsApp] Copying: d:\\programdata\\anaconda3\\envs\\t2.3\\lib\\site-packages\\jupyter_contrib_nbextensions\\nbextensions\\collapsible_headings\\icon.png -> C:\\ProgramData\\jupyter\\nbextensions\\collapsible_headings\\icon.png\n",
      "[I 17:06:24 InstallContribNbextensionsApp] Copying: d:\\programdata\\anaconda3\\envs\\t2.3\\lib\\site-packages\\jupyter_contrib_nbextensions\\nbextensions\\collapsible_headings\\main.css -> C:\\ProgramData\\jupyter\\nbextensions\\collapsible_headings\\main.css\n",
      "[I 17:06:24 InstallContribNbextensionsApp] Copying: d:\\programdata\\anaconda3\\envs\\t2.3\\lib\\site-packages\\jupyter_contrib_nbextensions\\nbextensions\\collapsible_headings\\main.js -> C:\\ProgramData\\jupyter\\nbextensions\\collapsible_headings\\main.js\n",
      "[I 17:06:24 InstallContribNbextensionsApp] Copying: d:\\programdata\\anaconda3\\envs\\t2.3\\lib\\site-packages\\jupyter_contrib_nbextensions\\nbextensions\\collapsible_headings\\readme.md -> C:\\ProgramData\\jupyter\\nbextensions\\collapsible_headings\\readme.md\n",
      "[I 17:06:24 InstallContribNbextensionsApp] Copying: d:\\programdata\\anaconda3\\envs\\t2.3\\lib\\site-packages\\jupyter_contrib_nbextensions\\nbextensions\\collapsible_headings\\screenshot.png -> C:\\ProgramData\\jupyter\\nbextensions\\collapsible_headings\\screenshot.png\n",
      "[I 17:06:24 InstallContribNbextensionsApp] - Validating: ok\n",
      "[I 17:06:24 InstallContribNbextensionsApp] Installing d:\\programdata\\anaconda3\\envs\\t2.3\\lib\\site-packages\\jupyter_contrib_nbextensions\\nbextensions\\comment-uncomment -> comment-uncomment\n",
      "[I 17:06:24 InstallContribNbextensionsApp] Making directory: C:\\ProgramData\\jupyter\\nbextensions\\comment-uncomment\\\n",
      "[I 17:06:24 InstallContribNbextensionsApp] Copying: d:\\programdata\\anaconda3\\envs\\t2.3\\lib\\site-packages\\jupyter_contrib_nbextensions\\nbextensions\\comment-uncomment\\comment-uncomment.yaml -> C:\\ProgramData\\jupyter\\nbextensions\\comment-uncomment\\comment-uncomment.yaml\n",
      "[I 17:06:24 InstallContribNbextensionsApp] Copying: d:\\programdata\\anaconda3\\envs\\t2.3\\lib\\site-packages\\jupyter_contrib_nbextensions\\nbextensions\\comment-uncomment\\icon.png -> C:\\ProgramData\\jupyter\\nbextensions\\comment-uncomment\\icon.png\n",
      "[I 17:06:24 InstallContribNbextensionsApp] Copying: d:\\programdata\\anaconda3\\envs\\t2.3\\lib\\site-packages\\jupyter_contrib_nbextensions\\nbextensions\\comment-uncomment\\main.js -> C:\\ProgramData\\jupyter\\nbextensions\\comment-uncomment\\main.js\n",
      "[I 17:06:24 InstallContribNbextensionsApp] Copying: d:\\programdata\\anaconda3\\envs\\t2.3\\lib\\site-packages\\jupyter_contrib_nbextensions\\nbextensions\\comment-uncomment\\readme.md -> C:\\ProgramData\\jupyter\\nbextensions\\comment-uncomment\\readme.md\n",
      "[I 17:06:24 InstallContribNbextensionsApp] - Validating: ok\n",
      "[I 17:06:24 InstallContribNbextensionsApp] Installing d:\\programdata\\anaconda3\\envs\\t2.3\\lib\\site-packages\\jupyter_contrib_nbextensions\\nbextensions\\contrib_nbextensions_help_item -> contrib_nbextensions_help_item\n",
      "[I 17:06:24 InstallContribNbextensionsApp] Making directory: C:\\ProgramData\\jupyter\\nbextensions\\contrib_nbextensions_help_item\\\n",
      "[I 17:06:24 InstallContribNbextensionsApp] Copying: d:\\programdata\\anaconda3\\envs\\t2.3\\lib\\site-packages\\jupyter_contrib_nbextensions\\nbextensions\\contrib_nbextensions_help_item\\contrib_nbextensions_help_item.yaml -> C:\\ProgramData\\jupyter\\nbextensions\\contrib_nbextensions_help_item\\contrib_nbextensions_help_item.yaml\n",
      "[I 17:06:24 InstallContribNbextensionsApp] Copying: d:\\programdata\\anaconda3\\envs\\t2.3\\lib\\site-packages\\jupyter_contrib_nbextensions\\nbextensions\\contrib_nbextensions_help_item\\main.js -> C:\\ProgramData\\jupyter\\nbextensions\\contrib_nbextensions_help_item\\main.js\n",
      "[I 17:06:24 InstallContribNbextensionsApp] Copying: d:\\programdata\\anaconda3\\envs\\t2.3\\lib\\site-packages\\jupyter_contrib_nbextensions\\nbextensions\\contrib_nbextensions_help_item\\README.md -> C:\\ProgramData\\jupyter\\nbextensions\\contrib_nbextensions_help_item\\README.md\n",
      "[I 17:06:24 InstallContribNbextensionsApp] - Validating: ok\n",
      "[I 17:06:24 InstallContribNbextensionsApp] Installing d:\\programdata\\anaconda3\\envs\\t2.3\\lib\\site-packages\\jupyter_contrib_nbextensions\\nbextensions\\datestamper -> datestamper\n",
      "[I 17:06:24 InstallContribNbextensionsApp] Making directory: C:\\ProgramData\\jupyter\\nbextensions\\datestamper\\\n",
      "[I 17:06:24 InstallContribNbextensionsApp] Copying: d:\\programdata\\anaconda3\\envs\\t2.3\\lib\\site-packages\\jupyter_contrib_nbextensions\\nbextensions\\datestamper\\icon.png -> C:\\ProgramData\\jupyter\\nbextensions\\datestamper\\icon.png\n",
      "[I 17:06:24 InstallContribNbextensionsApp] Copying: d:\\programdata\\anaconda3\\envs\\t2.3\\lib\\site-packages\\jupyter_contrib_nbextensions\\nbextensions\\datestamper\\main.js -> C:\\ProgramData\\jupyter\\nbextensions\\datestamper\\main.js\n",
      "[I 17:06:24 InstallContribNbextensionsApp] Copying: d:\\programdata\\anaconda3\\envs\\t2.3\\lib\\site-packages\\jupyter_contrib_nbextensions\\nbextensions\\datestamper\\main.yaml -> C:\\ProgramData\\jupyter\\nbextensions\\datestamper\\main.yaml\n",
      "[I 17:06:24 InstallContribNbextensionsApp] Copying: d:\\programdata\\anaconda3\\envs\\t2.3\\lib\\site-packages\\jupyter_contrib_nbextensions\\nbextensions\\datestamper\\readme.md -> C:\\ProgramData\\jupyter\\nbextensions\\datestamper\\readme.md\n",
      "[I 17:06:24 InstallContribNbextensionsApp] - Validating: ok\n",
      "[I 17:06:24 InstallContribNbextensionsApp] Installing d:\\programdata\\anaconda3\\envs\\t2.3\\lib\\site-packages\\jupyter_contrib_nbextensions\\nbextensions\\equation-numbering -> equation-numbering\n",
      "[I 17:06:24 InstallContribNbextensionsApp] Making directory: C:\\ProgramData\\jupyter\\nbextensions\\equation-numbering\\\n",
      "[I 17:06:24 InstallContribNbextensionsApp] Copying: d:\\programdata\\anaconda3\\envs\\t2.3\\lib\\site-packages\\jupyter_contrib_nbextensions\\nbextensions\\equation-numbering\\button.png -> C:\\ProgramData\\jupyter\\nbextensions\\equation-numbering\\button.png\n",
      "[I 17:06:24 InstallContribNbextensionsApp] Copying: d:\\programdata\\anaconda3\\envs\\t2.3\\lib\\site-packages\\jupyter_contrib_nbextensions\\nbextensions\\equation-numbering\\icon.png -> C:\\ProgramData\\jupyter\\nbextensions\\equation-numbering\\icon.png\n",
      "[I 17:06:24 InstallContribNbextensionsApp] Copying: d:\\programdata\\anaconda3\\envs\\t2.3\\lib\\site-packages\\jupyter_contrib_nbextensions\\nbextensions\\equation-numbering\\info.yaml -> C:\\ProgramData\\jupyter\\nbextensions\\equation-numbering\\info.yaml\n",
      "[I 17:06:24 InstallContribNbextensionsApp] Copying: d:\\programdata\\anaconda3\\envs\\t2.3\\lib\\site-packages\\jupyter_contrib_nbextensions\\nbextensions\\equation-numbering\\main.js -> C:\\ProgramData\\jupyter\\nbextensions\\equation-numbering\\main.js\n",
      "[I 17:06:24 InstallContribNbextensionsApp] Copying: d:\\programdata\\anaconda3\\envs\\t2.3\\lib\\site-packages\\jupyter_contrib_nbextensions\\nbextensions\\equation-numbering\\readme.md -> C:\\ProgramData\\jupyter\\nbextensions\\equation-numbering\\readme.md\n",
      "[I 17:06:24 InstallContribNbextensionsApp] - Validating: ok\n",
      "[I 17:06:24 InstallContribNbextensionsApp] Installing d:\\programdata\\anaconda3\\envs\\t2.3\\lib\\site-packages\\jupyter_contrib_nbextensions\\nbextensions\\execute_time -> execute_time\n",
      "[I 17:06:24 InstallContribNbextensionsApp] Making directory: C:\\ProgramData\\jupyter\\nbextensions\\execute_time\\\n",
      "[I 17:06:24 InstallContribNbextensionsApp] Copying: d:\\programdata\\anaconda3\\envs\\t2.3\\lib\\site-packages\\jupyter_contrib_nbextensions\\nbextensions\\execute_time\\ExecuteTime.css -> C:\\ProgramData\\jupyter\\nbextensions\\execute_time\\ExecuteTime.css\n",
      "[I 17:06:24 InstallContribNbextensionsApp] Copying: d:\\programdata\\anaconda3\\envs\\t2.3\\lib\\site-packages\\jupyter_contrib_nbextensions\\nbextensions\\execute_time\\ExecuteTime.js -> C:\\ProgramData\\jupyter\\nbextensions\\execute_time\\ExecuteTime.js\n",
      "[I 17:06:24 InstallContribNbextensionsApp] Copying: d:\\programdata\\anaconda3\\envs\\t2.3\\lib\\site-packages\\jupyter_contrib_nbextensions\\nbextensions\\execute_time\\ExecuteTime.yaml -> C:\\ProgramData\\jupyter\\nbextensions\\execute_time\\ExecuteTime.yaml\n",
      "[I 17:06:24 InstallContribNbextensionsApp] Copying: d:\\programdata\\anaconda3\\envs\\t2.3\\lib\\site-packages\\jupyter_contrib_nbextensions\\nbextensions\\execute_time\\execution-timings-box.png -> C:\\ProgramData\\jupyter\\nbextensions\\execute_time\\execution-timings-box.png\n",
      "[I 17:06:24 InstallContribNbextensionsApp] Copying: d:\\programdata\\anaconda3\\envs\\t2.3\\lib\\site-packages\\jupyter_contrib_nbextensions\\nbextensions\\execute_time\\execution-timings-menu.png -> C:\\ProgramData\\jupyter\\nbextensions\\execute_time\\execution-timings-menu.png\n",
      "[I 17:06:24 InstallContribNbextensionsApp] Copying: d:\\programdata\\anaconda3\\envs\\t2.3\\lib\\site-packages\\jupyter_contrib_nbextensions\\nbextensions\\execute_time\\icon.png -> C:\\ProgramData\\jupyter\\nbextensions\\execute_time\\icon.png\n",
      "[I 17:06:24 InstallContribNbextensionsApp] Copying: d:\\programdata\\anaconda3\\envs\\t2.3\\lib\\site-packages\\jupyter_contrib_nbextensions\\nbextensions\\execute_time\\readme.md -> C:\\ProgramData\\jupyter\\nbextensions\\execute_time\\readme.md\n",
      "[I 17:06:24 InstallContribNbextensionsApp] - Validating: ok\n",
      "[I 17:06:24 InstallContribNbextensionsApp] Installing d:\\programdata\\anaconda3\\envs\\t2.3\\lib\\site-packages\\jupyter_contrib_nbextensions\\nbextensions\\execution_dependencies -> execution_dependencies\n",
      "[I 17:06:24 InstallContribNbextensionsApp] Making directory: C:\\ProgramData\\jupyter\\nbextensions\\execution_dependencies\\\n",
      "[I 17:06:24 InstallContribNbextensionsApp] Copying: d:\\programdata\\anaconda3\\envs\\t2.3\\lib\\site-packages\\jupyter_contrib_nbextensions\\nbextensions\\execution_dependencies\\execution_dependencies.js -> C:\\ProgramData\\jupyter\\nbextensions\\execution_dependencies\\execution_dependencies.js\n",
      "[I 17:06:24 InstallContribNbextensionsApp] Copying: d:\\programdata\\anaconda3\\envs\\t2.3\\lib\\site-packages\\jupyter_contrib_nbextensions\\nbextensions\\execution_dependencies\\execution_dependencies.yml -> C:\\ProgramData\\jupyter\\nbextensions\\execution_dependencies\\execution_dependencies.yml\n",
      "[I 17:06:24 InstallContribNbextensionsApp] Copying: d:\\programdata\\anaconda3\\envs\\t2.3\\lib\\site-packages\\jupyter_contrib_nbextensions\\nbextensions\\execution_dependencies\\README.md -> C:\\ProgramData\\jupyter\\nbextensions\\execution_dependencies\\README.md\n",
      "[I 17:06:24 InstallContribNbextensionsApp] - Validating: ok\n",
      "[I 17:06:24 InstallContribNbextensionsApp] Installing d:\\programdata\\anaconda3\\envs\\t2.3\\lib\\site-packages\\jupyter_contrib_nbextensions\\nbextensions\\exercise -> exercise\n",
      "[I 17:06:24 InstallContribNbextensionsApp] Making directory: C:\\ProgramData\\jupyter\\nbextensions\\exercise\\\n",
      "[I 17:06:24 InstallContribNbextensionsApp] Copying: d:\\programdata\\anaconda3\\envs\\t2.3\\lib\\site-packages\\jupyter_contrib_nbextensions\\nbextensions\\exercise\\exercise.yaml -> C:\\ProgramData\\jupyter\\nbextensions\\exercise\\exercise.yaml\n",
      "[I 17:06:24 InstallContribNbextensionsApp] Copying: d:\\programdata\\anaconda3\\envs\\t2.3\\lib\\site-packages\\jupyter_contrib_nbextensions\\nbextensions\\exercise\\history.md -> C:\\ProgramData\\jupyter\\nbextensions\\exercise\\history.md\n",
      "[I 17:06:24 InstallContribNbextensionsApp] Copying: d:\\programdata\\anaconda3\\envs\\t2.3\\lib\\site-packages\\jupyter_contrib_nbextensions\\nbextensions\\exercise\\icon.png -> C:\\ProgramData\\jupyter\\nbextensions\\exercise\\icon.png\n",
      "[I 17:06:24 InstallContribNbextensionsApp] Copying: d:\\programdata\\anaconda3\\envs\\t2.3\\lib\\site-packages\\jupyter_contrib_nbextensions\\nbextensions\\exercise\\image.gif -> C:\\ProgramData\\jupyter\\nbextensions\\exercise\\image.gif\n",
      "[I 17:06:24 InstallContribNbextensionsApp] Copying: d:\\programdata\\anaconda3\\envs\\t2.3\\lib\\site-packages\\jupyter_contrib_nbextensions\\nbextensions\\exercise\\main.css -> C:\\ProgramData\\jupyter\\nbextensions\\exercise\\main.css\n",
      "[I 17:06:24 InstallContribNbextensionsApp] Copying: d:\\programdata\\anaconda3\\envs\\t2.3\\lib\\site-packages\\jupyter_contrib_nbextensions\\nbextensions\\exercise\\main.js -> C:\\ProgramData\\jupyter\\nbextensions\\exercise\\main.js\n",
      "[I 17:06:24 InstallContribNbextensionsApp] Copying: d:\\programdata\\anaconda3\\envs\\t2.3\\lib\\site-packages\\jupyter_contrib_nbextensions\\nbextensions\\exercise\\readme.md -> C:\\ProgramData\\jupyter\\nbextensions\\exercise\\readme.md\n",
      "[I 17:06:24 InstallContribNbextensionsApp] - Validating: ok\n",
      "[I 17:06:24 InstallContribNbextensionsApp] Installing d:\\programdata\\anaconda3\\envs\\t2.3\\lib\\site-packages\\jupyter_contrib_nbextensions\\nbextensions\\exercise2 -> exercise2\n",
      "[I 17:06:24 InstallContribNbextensionsApp] Making directory: C:\\ProgramData\\jupyter\\nbextensions\\exercise2\\\n",
      "[I 17:06:24 InstallContribNbextensionsApp] Copying: d:\\programdata\\anaconda3\\envs\\t2.3\\lib\\site-packages\\jupyter_contrib_nbextensions\\nbextensions\\exercise2\\exercise2.yaml -> C:\\ProgramData\\jupyter\\nbextensions\\exercise2\\exercise2.yaml\n",
      "[I 17:06:24 InstallContribNbextensionsApp] Copying: d:\\programdata\\anaconda3\\envs\\t2.3\\lib\\site-packages\\jupyter_contrib_nbextensions\\nbextensions\\exercise2\\icon.png -> C:\\ProgramData\\jupyter\\nbextensions\\exercise2\\icon.png\n",
      "[I 17:06:24 InstallContribNbextensionsApp] Copying: d:\\programdata\\anaconda3\\envs\\t2.3\\lib\\site-packages\\jupyter_contrib_nbextensions\\nbextensions\\exercise2\\image.gif -> C:\\ProgramData\\jupyter\\nbextensions\\exercise2\\image.gif\n",
      "[I 17:06:24 InstallContribNbextensionsApp] Copying: d:\\programdata\\anaconda3\\envs\\t2.3\\lib\\site-packages\\jupyter_contrib_nbextensions\\nbextensions\\exercise2\\main.css -> C:\\ProgramData\\jupyter\\nbextensions\\exercise2\\main.css\n",
      "[I 17:06:24 InstallContribNbextensionsApp] Copying: d:\\programdata\\anaconda3\\envs\\t2.3\\lib\\site-packages\\jupyter_contrib_nbextensions\\nbextensions\\exercise2\\main.js -> C:\\ProgramData\\jupyter\\nbextensions\\exercise2\\main.js\n",
      "[I 17:06:24 InstallContribNbextensionsApp] Copying: d:\\programdata\\anaconda3\\envs\\t2.3\\lib\\site-packages\\jupyter_contrib_nbextensions\\nbextensions\\exercise2\\readme.md -> C:\\ProgramData\\jupyter\\nbextensions\\exercise2\\readme.md\n",
      "[I 17:06:24 InstallContribNbextensionsApp] - Validating: ok\n",
      "[I 17:06:24 InstallContribNbextensionsApp] Installing d:\\programdata\\anaconda3\\envs\\t2.3\\lib\\site-packages\\jupyter_contrib_nbextensions\\nbextensions\\export_embedded -> export_embedded\n",
      "[I 17:06:24 InstallContribNbextensionsApp] Making directory: C:\\ProgramData\\jupyter\\nbextensions\\export_embedded\\\n",
      "[I 17:06:24 InstallContribNbextensionsApp] Copying: d:\\programdata\\anaconda3\\envs\\t2.3\\lib\\site-packages\\jupyter_contrib_nbextensions\\nbextensions\\export_embedded\\export_embedded.yaml -> C:\\ProgramData\\jupyter\\nbextensions\\export_embedded\\export_embedded.yaml\n",
      "[I 17:06:24 InstallContribNbextensionsApp] Copying: d:\\programdata\\anaconda3\\envs\\t2.3\\lib\\site-packages\\jupyter_contrib_nbextensions\\nbextensions\\export_embedded\\icon.png -> C:\\ProgramData\\jupyter\\nbextensions\\export_embedded\\icon.png\n",
      "[I 17:06:24 InstallContribNbextensionsApp] Copying: d:\\programdata\\anaconda3\\envs\\t2.3\\lib\\site-packages\\jupyter_contrib_nbextensions\\nbextensions\\export_embedded\\main.js -> C:\\ProgramData\\jupyter\\nbextensions\\export_embedded\\main.js\n",
      "[I 17:06:24 InstallContribNbextensionsApp] Copying: d:\\programdata\\anaconda3\\envs\\t2.3\\lib\\site-packages\\jupyter_contrib_nbextensions\\nbextensions\\export_embedded\\readme.md -> C:\\ProgramData\\jupyter\\nbextensions\\export_embedded\\readme.md\n",
      "[I 17:06:24 InstallContribNbextensionsApp] - Validating: ok\n",
      "[I 17:06:24 InstallContribNbextensionsApp] Installing d:\\programdata\\anaconda3\\envs\\t2.3\\lib\\site-packages\\jupyter_contrib_nbextensions\\nbextensions\\freeze -> freeze\n",
      "[I 17:06:24 InstallContribNbextensionsApp] Making directory: C:\\ProgramData\\jupyter\\nbextensions\\freeze\\\n",
      "[I 17:06:24 InstallContribNbextensionsApp] Copying: d:\\programdata\\anaconda3\\envs\\t2.3\\lib\\site-packages\\jupyter_contrib_nbextensions\\nbextensions\\freeze\\config.yaml -> C:\\ProgramData\\jupyter\\nbextensions\\freeze\\config.yaml\n",
      "[I 17:06:24 InstallContribNbextensionsApp] Copying: d:\\programdata\\anaconda3\\envs\\t2.3\\lib\\site-packages\\jupyter_contrib_nbextensions\\nbextensions\\freeze\\icon.png -> C:\\ProgramData\\jupyter\\nbextensions\\freeze\\icon.png\n",
      "[I 17:06:24 InstallContribNbextensionsApp] Copying: d:\\programdata\\anaconda3\\envs\\t2.3\\lib\\site-packages\\jupyter_contrib_nbextensions\\nbextensions\\freeze\\main.js -> C:\\ProgramData\\jupyter\\nbextensions\\freeze\\main.js\n",
      "[I 17:06:24 InstallContribNbextensionsApp] Copying: d:\\programdata\\anaconda3\\envs\\t2.3\\lib\\site-packages\\jupyter_contrib_nbextensions\\nbextensions\\freeze\\readme.md -> C:\\ProgramData\\jupyter\\nbextensions\\freeze\\readme.md\n",
      "[I 17:06:24 InstallContribNbextensionsApp] - Validating: ok\n",
      "[I 17:06:24 InstallContribNbextensionsApp] Installing d:\\programdata\\anaconda3\\envs\\t2.3\\lib\\site-packages\\jupyter_contrib_nbextensions\\nbextensions\\gist_it -> gist_it\n",
      "[I 17:06:24 InstallContribNbextensionsApp] Making directory: C:\\ProgramData\\jupyter\\nbextensions\\gist_it\\\n",
      "[I 17:06:24 InstallContribNbextensionsApp] Copying: d:\\programdata\\anaconda3\\envs\\t2.3\\lib\\site-packages\\jupyter_contrib_nbextensions\\nbextensions\\gist_it\\gist_it.yaml -> C:\\ProgramData\\jupyter\\nbextensions\\gist_it\\gist_it.yaml\n",
      "[I 17:06:24 InstallContribNbextensionsApp] Copying: d:\\programdata\\anaconda3\\envs\\t2.3\\lib\\site-packages\\jupyter_contrib_nbextensions\\nbextensions\\gist_it\\icon.png -> C:\\ProgramData\\jupyter\\nbextensions\\gist_it\\icon.png\n",
      "[I 17:06:24 InstallContribNbextensionsApp] Copying: d:\\programdata\\anaconda3\\envs\\t2.3\\lib\\site-packages\\jupyter_contrib_nbextensions\\nbextensions\\gist_it\\main.js -> C:\\ProgramData\\jupyter\\nbextensions\\gist_it\\main.js\n",
      "[I 17:06:24 InstallContribNbextensionsApp] Copying: d:\\programdata\\anaconda3\\envs\\t2.3\\lib\\site-packages\\jupyter_contrib_nbextensions\\nbextensions\\gist_it\\readme.md -> C:\\ProgramData\\jupyter\\nbextensions\\gist_it\\readme.md\n",
      "[I 17:06:24 InstallContribNbextensionsApp] - Validating: ok\n",
      "[I 17:06:24 InstallContribNbextensionsApp] Installing d:\\programdata\\anaconda3\\envs\\t2.3\\lib\\site-packages\\jupyter_contrib_nbextensions\\nbextensions\\help_panel -> help_panel\n",
      "[I 17:06:24 InstallContribNbextensionsApp] Making directory: C:\\ProgramData\\jupyter\\nbextensions\\help_panel\\\n",
      "[I 17:06:24 InstallContribNbextensionsApp] Copying: d:\\programdata\\anaconda3\\envs\\t2.3\\lib\\site-packages\\jupyter_contrib_nbextensions\\nbextensions\\help_panel\\help_panel.css -> C:\\ProgramData\\jupyter\\nbextensions\\help_panel\\help_panel.css\n",
      "[I 17:06:24 InstallContribNbextensionsApp] Copying: d:\\programdata\\anaconda3\\envs\\t2.3\\lib\\site-packages\\jupyter_contrib_nbextensions\\nbextensions\\help_panel\\help_panel.js -> C:\\ProgramData\\jupyter\\nbextensions\\help_panel\\help_panel.js\n",
      "[I 17:06:24 InstallContribNbextensionsApp] Copying: d:\\programdata\\anaconda3\\envs\\t2.3\\lib\\site-packages\\jupyter_contrib_nbextensions\\nbextensions\\help_panel\\help_panel.yaml -> C:\\ProgramData\\jupyter\\nbextensions\\help_panel\\help_panel.yaml\n",
      "[I 17:06:24 InstallContribNbextensionsApp] Copying: d:\\programdata\\anaconda3\\envs\\t2.3\\lib\\site-packages\\jupyter_contrib_nbextensions\\nbextensions\\help_panel\\help_panel_ext.png -> C:\\ProgramData\\jupyter\\nbextensions\\help_panel\\help_panel_ext.png\n",
      "[I 17:06:24 InstallContribNbextensionsApp] Copying: d:\\programdata\\anaconda3\\envs\\t2.3\\lib\\site-packages\\jupyter_contrib_nbextensions\\nbextensions\\help_panel\\help_panel_ext_fullscreen.png -> C:\\ProgramData\\jupyter\\nbextensions\\help_panel\\help_panel_ext_fullscreen.png\n",
      "[I 17:06:24 InstallContribNbextensionsApp] Copying: d:\\programdata\\anaconda3\\envs\\t2.3\\lib\\site-packages\\jupyter_contrib_nbextensions\\nbextensions\\help_panel\\icon.png -> C:\\ProgramData\\jupyter\\nbextensions\\help_panel\\icon.png\n",
      "[I 17:06:24 InstallContribNbextensionsApp] Copying: d:\\programdata\\anaconda3\\envs\\t2.3\\lib\\site-packages\\jupyter_contrib_nbextensions\\nbextensions\\help_panel\\readme.md -> C:\\ProgramData\\jupyter\\nbextensions\\help_panel\\readme.md\n",
      "[I 17:06:24 InstallContribNbextensionsApp] Making directory: C:\\ProgramData\\jupyter\\nbextensions\\help_panel\\img\n",
      "[I 17:06:24 InstallContribNbextensionsApp] Copying: d:\\programdata\\anaconda3\\envs\\t2.3\\lib\\site-packages\\jupyter_contrib_nbextensions\\nbextensions\\help_panel\\img\\handle-v.png -> C:\\ProgramData\\jupyter\\nbextensions\\help_panel\\img\\handle-v.png\n",
      "[I 17:06:24 InstallContribNbextensionsApp] - Validating: ok\n",
      "[I 17:06:24 InstallContribNbextensionsApp] Installing d:\\programdata\\anaconda3\\envs\\t2.3\\lib\\site-packages\\jupyter_contrib_nbextensions\\nbextensions\\hide_header -> hide_header\n",
      "[I 17:06:24 InstallContribNbextensionsApp] Making directory: C:\\ProgramData\\jupyter\\nbextensions\\hide_header\\\n",
      "[I 17:06:24 InstallContribNbextensionsApp] Copying: d:\\programdata\\anaconda3\\envs\\t2.3\\lib\\site-packages\\jupyter_contrib_nbextensions\\nbextensions\\hide_header\\hide_header.yaml -> C:\\ProgramData\\jupyter\\nbextensions\\hide_header\\hide_header.yaml\n",
      "[I 17:06:24 InstallContribNbextensionsApp] Copying: d:\\programdata\\anaconda3\\envs\\t2.3\\lib\\site-packages\\jupyter_contrib_nbextensions\\nbextensions\\hide_header\\main.js -> C:\\ProgramData\\jupyter\\nbextensions\\hide_header\\main.js\n",
      "[I 17:06:24 InstallContribNbextensionsApp] Copying: d:\\programdata\\anaconda3\\envs\\t2.3\\lib\\site-packages\\jupyter_contrib_nbextensions\\nbextensions\\hide_header\\README.md -> C:\\ProgramData\\jupyter\\nbextensions\\hide_header\\README.md\n",
      "[I 17:06:24 InstallContribNbextensionsApp] - Validating: ok\n",
      "[I 17:06:24 InstallContribNbextensionsApp] Installing d:\\programdata\\anaconda3\\envs\\t2.3\\lib\\site-packages\\jupyter_contrib_nbextensions\\nbextensions\\hide_input -> hide_input\n",
      "[I 17:06:24 InstallContribNbextensionsApp] Making directory: C:\\ProgramData\\jupyter\\nbextensions\\hide_input\\\n",
      "[I 17:06:24 InstallContribNbextensionsApp] Copying: d:\\programdata\\anaconda3\\envs\\t2.3\\lib\\site-packages\\jupyter_contrib_nbextensions\\nbextensions\\hide_input\\hide-input.yaml -> C:\\ProgramData\\jupyter\\nbextensions\\hide_input\\hide-input.yaml\n",
      "[I 17:06:24 InstallContribNbextensionsApp] Copying: d:\\programdata\\anaconda3\\envs\\t2.3\\lib\\site-packages\\jupyter_contrib_nbextensions\\nbextensions\\hide_input\\icon.png -> C:\\ProgramData\\jupyter\\nbextensions\\hide_input\\icon.png\n",
      "[I 17:06:24 InstallContribNbextensionsApp] Copying: d:\\programdata\\anaconda3\\envs\\t2.3\\lib\\site-packages\\jupyter_contrib_nbextensions\\nbextensions\\hide_input\\main.js -> C:\\ProgramData\\jupyter\\nbextensions\\hide_input\\main.js\n",
      "[I 17:06:24 InstallContribNbextensionsApp] Copying: d:\\programdata\\anaconda3\\envs\\t2.3\\lib\\site-packages\\jupyter_contrib_nbextensions\\nbextensions\\hide_input\\readme.md -> C:\\ProgramData\\jupyter\\nbextensions\\hide_input\\readme.md\n",
      "[I 17:06:24 InstallContribNbextensionsApp] - Validating: ok\n",
      "[I 17:06:24 InstallContribNbextensionsApp] Installing d:\\programdata\\anaconda3\\envs\\t2.3\\lib\\site-packages\\jupyter_contrib_nbextensions\\nbextensions\\hide_input_all -> hide_input_all\n",
      "[I 17:06:24 InstallContribNbextensionsApp] Making directory: C:\\ProgramData\\jupyter\\nbextensions\\hide_input_all\\\n",
      "[I 17:06:24 InstallContribNbextensionsApp] Copying: d:\\programdata\\anaconda3\\envs\\t2.3\\lib\\site-packages\\jupyter_contrib_nbextensions\\nbextensions\\hide_input_all\\hide_input_all.yaml -> C:\\ProgramData\\jupyter\\nbextensions\\hide_input_all\\hide_input_all.yaml\n",
      "[I 17:06:24 InstallContribNbextensionsApp] Copying: d:\\programdata\\anaconda3\\envs\\t2.3\\lib\\site-packages\\jupyter_contrib_nbextensions\\nbextensions\\hide_input_all\\hide_input_all_hide.png -> C:\\ProgramData\\jupyter\\nbextensions\\hide_input_all\\hide_input_all_hide.png\n",
      "[I 17:06:24 InstallContribNbextensionsApp] Copying: d:\\programdata\\anaconda3\\envs\\t2.3\\lib\\site-packages\\jupyter_contrib_nbextensions\\nbextensions\\hide_input_all\\hide_input_all_show.png -> C:\\ProgramData\\jupyter\\nbextensions\\hide_input_all\\hide_input_all_show.png\n",
      "[I 17:06:24 InstallContribNbextensionsApp] Copying: d:\\programdata\\anaconda3\\envs\\t2.3\\lib\\site-packages\\jupyter_contrib_nbextensions\\nbextensions\\hide_input_all\\icon.png -> C:\\ProgramData\\jupyter\\nbextensions\\hide_input_all\\icon.png\n",
      "[I 17:06:24 InstallContribNbextensionsApp] Copying: d:\\programdata\\anaconda3\\envs\\t2.3\\lib\\site-packages\\jupyter_contrib_nbextensions\\nbextensions\\hide_input_all\\main.js -> C:\\ProgramData\\jupyter\\nbextensions\\hide_input_all\\main.js\n",
      "[I 17:06:24 InstallContribNbextensionsApp] Copying: d:\\programdata\\anaconda3\\envs\\t2.3\\lib\\site-packages\\jupyter_contrib_nbextensions\\nbextensions\\hide_input_all\\readme.md -> C:\\ProgramData\\jupyter\\nbextensions\\hide_input_all\\readme.md\n",
      "[I 17:06:24 InstallContribNbextensionsApp] - Validating: ok\n",
      "[I 17:06:24 InstallContribNbextensionsApp] Installing d:\\programdata\\anaconda3\\envs\\t2.3\\lib\\site-packages\\jupyter_contrib_nbextensions\\nbextensions\\highlighter -> highlighter\n",
      "[I 17:06:24 InstallContribNbextensionsApp] Making directory: C:\\ProgramData\\jupyter\\nbextensions\\highlighter\\\n",
      "[I 17:06:24 InstallContribNbextensionsApp] Copying: d:\\programdata\\anaconda3\\envs\\t2.3\\lib\\site-packages\\jupyter_contrib_nbextensions\\nbextensions\\highlighter\\demo_highlighter.html -> C:\\ProgramData\\jupyter\\nbextensions\\highlighter\\demo_highlighter.html\n",
      "[I 17:06:24 InstallContribNbextensionsApp] Copying: d:\\programdata\\anaconda3\\envs\\t2.3\\lib\\site-packages\\jupyter_contrib_nbextensions\\nbextensions\\highlighter\\demo_highlighter.ipynb -> C:\\ProgramData\\jupyter\\nbextensions\\highlighter\\demo_highlighter.ipynb\n",
      "[I 17:06:24 InstallContribNbextensionsApp] Copying: d:\\programdata\\anaconda3\\envs\\t2.3\\lib\\site-packages\\jupyter_contrib_nbextensions\\nbextensions\\highlighter\\export_highlights.html -> C:\\ProgramData\\jupyter\\nbextensions\\highlighter\\export_highlights.html\n",
      "[I 17:06:24 InstallContribNbextensionsApp] Copying: d:\\programdata\\anaconda3\\envs\\t2.3\\lib\\site-packages\\jupyter_contrib_nbextensions\\nbextensions\\highlighter\\export_highlights.ipynb -> C:\\ProgramData\\jupyter\\nbextensions\\highlighter\\export_highlights.ipynb\n",
      "[I 17:06:24 InstallContribNbextensionsApp] Copying: d:\\programdata\\anaconda3\\envs\\t2.3\\lib\\site-packages\\jupyter_contrib_nbextensions\\nbextensions\\highlighter\\export_highlights.pdf -> C:\\ProgramData\\jupyter\\nbextensions\\highlighter\\export_highlights.pdf\n",
      "[I 17:06:24 InstallContribNbextensionsApp] Copying: d:\\programdata\\anaconda3\\envs\\t2.3\\lib\\site-packages\\jupyter_contrib_nbextensions\\nbextensions\\highlighter\\export_highlights.tex -> C:\\ProgramData\\jupyter\\nbextensions\\highlighter\\export_highlights.tex\n",
      "[I 17:06:24 InstallContribNbextensionsApp] Copying: d:\\programdata\\anaconda3\\envs\\t2.3\\lib\\site-packages\\jupyter_contrib_nbextensions\\nbextensions\\highlighter\\highlighter.css -> C:\\ProgramData\\jupyter\\nbextensions\\highlighter\\highlighter.css\n",
      "[I 17:06:24 InstallContribNbextensionsApp] Copying: d:\\programdata\\anaconda3\\envs\\t2.3\\lib\\site-packages\\jupyter_contrib_nbextensions\\nbextensions\\highlighter\\highlighter.js -> C:\\ProgramData\\jupyter\\nbextensions\\highlighter\\highlighter.js\n",
      "[I 17:06:24 InstallContribNbextensionsApp] Copying: d:\\programdata\\anaconda3\\envs\\t2.3\\lib\\site-packages\\jupyter_contrib_nbextensions\\nbextensions\\highlighter\\highlighter.yaml -> C:\\ProgramData\\jupyter\\nbextensions\\highlighter\\highlighter.yaml\n",
      "[I 17:06:24 InstallContribNbextensionsApp] Copying: d:\\programdata\\anaconda3\\envs\\t2.3\\lib\\site-packages\\jupyter_contrib_nbextensions\\nbextensions\\highlighter\\icon.png -> C:\\ProgramData\\jupyter\\nbextensions\\highlighter\\icon.png\n",
      "[I 17:06:24 InstallContribNbextensionsApp] Copying: d:\\programdata\\anaconda3\\envs\\t2.3\\lib\\site-packages\\jupyter_contrib_nbextensions\\nbextensions\\highlighter\\image.gif -> C:\\ProgramData\\jupyter\\nbextensions\\highlighter\\image.gif\n",
      "[I 17:06:24 InstallContribNbextensionsApp] Copying: d:\\programdata\\anaconda3\\envs\\t2.3\\lib\\site-packages\\jupyter_contrib_nbextensions\\nbextensions\\highlighter\\readme.md -> C:\\ProgramData\\jupyter\\nbextensions\\highlighter\\readme.md\n",
      "[I 17:06:24 InstallContribNbextensionsApp] Copying: d:\\programdata\\anaconda3\\envs\\t2.3\\lib\\site-packages\\jupyter_contrib_nbextensions\\nbextensions\\highlighter\\tst_highlights.html -> C:\\ProgramData\\jupyter\\nbextensions\\highlighter\\tst_highlights.html\n",
      "[I 17:06:24 InstallContribNbextensionsApp] Copying: d:\\programdata\\anaconda3\\envs\\t2.3\\lib\\site-packages\\jupyter_contrib_nbextensions\\nbextensions\\highlighter\\tst_highlights.ipynb -> C:\\ProgramData\\jupyter\\nbextensions\\highlighter\\tst_highlights.ipynb\n",
      "[I 17:06:24 InstallContribNbextensionsApp] Copying: d:\\programdata\\anaconda3\\envs\\t2.3\\lib\\site-packages\\jupyter_contrib_nbextensions\\nbextensions\\highlighter\\tst_highlights.pdf -> C:\\ProgramData\\jupyter\\nbextensions\\highlighter\\tst_highlights.pdf\n",
      "[I 17:06:24 InstallContribNbextensionsApp] Copying: d:\\programdata\\anaconda3\\envs\\t2.3\\lib\\site-packages\\jupyter_contrib_nbextensions\\nbextensions\\highlighter\\tst_highlights.tex -> C:\\ProgramData\\jupyter\\nbextensions\\highlighter\\tst_highlights.tex\n",
      "[I 17:06:24 InstallContribNbextensionsApp] - Validating: ok\n",
      "[I 17:06:24 InstallContribNbextensionsApp] Installing d:\\programdata\\anaconda3\\envs\\t2.3\\lib\\site-packages\\jupyter_contrib_nbextensions\\nbextensions\\hinterland -> hinterland\n",
      "[I 17:06:24 InstallContribNbextensionsApp] Making directory: C:\\ProgramData\\jupyter\\nbextensions\\hinterland\\\n",
      "[I 17:06:24 InstallContribNbextensionsApp] Copying: d:\\programdata\\anaconda3\\envs\\t2.3\\lib\\site-packages\\jupyter_contrib_nbextensions\\nbextensions\\hinterland\\hinterland.js -> C:\\ProgramData\\jupyter\\nbextensions\\hinterland\\hinterland.js\n",
      "[I 17:06:24 InstallContribNbextensionsApp] Copying: d:\\programdata\\anaconda3\\envs\\t2.3\\lib\\site-packages\\jupyter_contrib_nbextensions\\nbextensions\\hinterland\\hinterland.yaml -> C:\\ProgramData\\jupyter\\nbextensions\\hinterland\\hinterland.yaml\n",
      "[I 17:06:24 InstallContribNbextensionsApp] Copying: d:\\programdata\\anaconda3\\envs\\t2.3\\lib\\site-packages\\jupyter_contrib_nbextensions\\nbextensions\\hinterland\\README.md -> C:\\ProgramData\\jupyter\\nbextensions\\hinterland\\README.md\n",
      "[I 17:06:24 InstallContribNbextensionsApp] - Validating: ok\n",
      "[I 17:06:24 InstallContribNbextensionsApp] Installing d:\\programdata\\anaconda3\\envs\\t2.3\\lib\\site-packages\\jupyter_contrib_nbextensions\\nbextensions\\init_cell -> init_cell\n",
      "[I 17:06:24 InstallContribNbextensionsApp] Making directory: C:\\ProgramData\\jupyter\\nbextensions\\init_cell\\\n",
      "[I 17:06:24 InstallContribNbextensionsApp] Copying: d:\\programdata\\anaconda3\\envs\\t2.3\\lib\\site-packages\\jupyter_contrib_nbextensions\\nbextensions\\init_cell\\cell_toolbar_menu.png -> C:\\ProgramData\\jupyter\\nbextensions\\init_cell\\cell_toolbar_menu.png\n",
      "[I 17:06:24 InstallContribNbextensionsApp] Copying: d:\\programdata\\anaconda3\\envs\\t2.3\\lib\\site-packages\\jupyter_contrib_nbextensions\\nbextensions\\init_cell\\icon.png -> C:\\ProgramData\\jupyter\\nbextensions\\init_cell\\icon.png\n",
      "[I 17:06:24 InstallContribNbextensionsApp] Copying: d:\\programdata\\anaconda3\\envs\\t2.3\\lib\\site-packages\\jupyter_contrib_nbextensions\\nbextensions\\init_cell\\init_cell.yaml -> C:\\ProgramData\\jupyter\\nbextensions\\init_cell\\init_cell.yaml\n",
      "[I 17:06:24 InstallContribNbextensionsApp] Copying: d:\\programdata\\anaconda3\\envs\\t2.3\\lib\\site-packages\\jupyter_contrib_nbextensions\\nbextensions\\init_cell\\main.js -> C:\\ProgramData\\jupyter\\nbextensions\\init_cell\\main.js\n",
      "[I 17:06:24 InstallContribNbextensionsApp] Copying: d:\\programdata\\anaconda3\\envs\\t2.3\\lib\\site-packages\\jupyter_contrib_nbextensions\\nbextensions\\init_cell\\README.md -> C:\\ProgramData\\jupyter\\nbextensions\\init_cell\\README.md\n",
      "[I 17:06:24 InstallContribNbextensionsApp] - Validating: ok\n",
      "[I 17:06:24 InstallContribNbextensionsApp] Installing d:\\programdata\\anaconda3\\envs\\t2.3\\lib\\site-packages\\jupyter_contrib_nbextensions\\nbextensions\\keyboard_shortcut_editor -> keyboard_shortcut_editor\n",
      "[I 17:06:24 InstallContribNbextensionsApp] Making directory: C:\\ProgramData\\jupyter\\nbextensions\\keyboard_shortcut_editor\\\n",
      "[I 17:06:24 InstallContribNbextensionsApp] Copying: d:\\programdata\\anaconda3\\envs\\t2.3\\lib\\site-packages\\jupyter_contrib_nbextensions\\nbextensions\\keyboard_shortcut_editor\\icon.png -> C:\\ProgramData\\jupyter\\nbextensions\\keyboard_shortcut_editor\\icon.png\n",
      "[I 17:06:24 InstallContribNbextensionsApp] Copying: d:\\programdata\\anaconda3\\envs\\t2.3\\lib\\site-packages\\jupyter_contrib_nbextensions\\nbextensions\\keyboard_shortcut_editor\\keyboard_shortcut_editor.yaml -> C:\\ProgramData\\jupyter\\nbextensions\\keyboard_shortcut_editor\\keyboard_shortcut_editor.yaml\n",
      "[I 17:06:24 InstallContribNbextensionsApp] Copying: d:\\programdata\\anaconda3\\envs\\t2.3\\lib\\site-packages\\jupyter_contrib_nbextensions\\nbextensions\\keyboard_shortcut_editor\\kse_components.js -> C:\\ProgramData\\jupyter\\nbextensions\\keyboard_shortcut_editor\\kse_components.js\n",
      "[I 17:06:24 InstallContribNbextensionsApp] Copying: d:\\programdata\\anaconda3\\envs\\t2.3\\lib\\site-packages\\jupyter_contrib_nbextensions\\nbextensions\\keyboard_shortcut_editor\\main.css -> C:\\ProgramData\\jupyter\\nbextensions\\keyboard_shortcut_editor\\main.css\n",
      "[I 17:06:24 InstallContribNbextensionsApp] Copying: d:\\programdata\\anaconda3\\envs\\t2.3\\lib\\site-packages\\jupyter_contrib_nbextensions\\nbextensions\\keyboard_shortcut_editor\\main.js -> C:\\ProgramData\\jupyter\\nbextensions\\keyboard_shortcut_editor\\main.js\n",
      "[I 17:06:24 InstallContribNbextensionsApp] Copying: d:\\programdata\\anaconda3\\envs\\t2.3\\lib\\site-packages\\jupyter_contrib_nbextensions\\nbextensions\\keyboard_shortcut_editor\\quickhelp_shim.js -> C:\\ProgramData\\jupyter\\nbextensions\\keyboard_shortcut_editor\\quickhelp_shim.js\n",
      "[I 17:06:24 InstallContribNbextensionsApp] Copying: d:\\programdata\\anaconda3\\envs\\t2.3\\lib\\site-packages\\jupyter_contrib_nbextensions\\nbextensions\\keyboard_shortcut_editor\\README.md -> C:\\ProgramData\\jupyter\\nbextensions\\keyboard_shortcut_editor\\README.md\n",
      "[I 17:06:24 InstallContribNbextensionsApp] Copying: d:\\programdata\\anaconda3\\envs\\t2.3\\lib\\site-packages\\jupyter_contrib_nbextensions\\nbextensions\\keyboard_shortcut_editor\\readme_add_new_link.png -> C:\\ProgramData\\jupyter\\nbextensions\\keyboard_shortcut_editor\\readme_add_new_link.png\n",
      "[I 17:06:24 InstallContribNbextensionsApp] Copying: d:\\programdata\\anaconda3\\envs\\t2.3\\lib\\site-packages\\jupyter_contrib_nbextensions\\nbextensions\\keyboard_shortcut_editor\\readme_add_new_select_action.png -> C:\\ProgramData\\jupyter\\nbextensions\\keyboard_shortcut_editor\\readme_add_new_select_action.png\n",
      "[I 17:06:24 InstallContribNbextensionsApp] Copying: d:\\programdata\\anaconda3\\envs\\t2.3\\lib\\site-packages\\jupyter_contrib_nbextensions\\nbextensions\\keyboard_shortcut_editor\\readme_comma.png -> C:\\ProgramData\\jupyter\\nbextensions\\keyboard_shortcut_editor\\readme_comma.png\n",
      "[I 17:06:24 InstallContribNbextensionsApp] Copying: d:\\programdata\\anaconda3\\envs\\t2.3\\lib\\site-packages\\jupyter_contrib_nbextensions\\nbextensions\\keyboard_shortcut_editor\\readme_conflict.png -> C:\\ProgramData\\jupyter\\nbextensions\\keyboard_shortcut_editor\\readme_conflict.png\n",
      "[I 17:06:24 InstallContribNbextensionsApp] Copying: d:\\programdata\\anaconda3\\envs\\t2.3\\lib\\site-packages\\jupyter_contrib_nbextensions\\nbextensions\\keyboard_shortcut_editor\\readme_dropdown.png -> C:\\ProgramData\\jupyter\\nbextensions\\keyboard_shortcut_editor\\readme_dropdown.png\n",
      "[I 17:06:24 InstallContribNbextensionsApp] Copying: d:\\programdata\\anaconda3\\envs\\t2.3\\lib\\site-packages\\jupyter_contrib_nbextensions\\nbextensions\\keyboard_shortcut_editor\\readme_menu_item.png -> C:\\ProgramData\\jupyter\\nbextensions\\keyboard_shortcut_editor\\readme_menu_item.png\n",
      "[I 17:06:24 InstallContribNbextensionsApp] Copying: d:\\programdata\\anaconda3\\envs\\t2.3\\lib\\site-packages\\jupyter_contrib_nbextensions\\nbextensions\\keyboard_shortcut_editor\\readme_reset_disabled.png -> C:\\ProgramData\\jupyter\\nbextensions\\keyboard_shortcut_editor\\readme_reset_disabled.png\n",
      "[I 17:06:24 InstallContribNbextensionsApp] Copying: d:\\programdata\\anaconda3\\envs\\t2.3\\lib\\site-packages\\jupyter_contrib_nbextensions\\nbextensions\\keyboard_shortcut_editor\\readme_shortcut_editor_blank.png -> C:\\ProgramData\\jupyter\\nbextensions\\keyboard_shortcut_editor\\readme_shortcut_editor_blank.png\n",
      "[I 17:06:24 InstallContribNbextensionsApp] Copying: d:\\programdata\\anaconda3\\envs\\t2.3\\lib\\site-packages\\jupyter_contrib_nbextensions\\nbextensions\\keyboard_shortcut_editor\\readme_shortcut_editor_success.png -> C:\\ProgramData\\jupyter\\nbextensions\\keyboard_shortcut_editor\\readme_shortcut_editor_success.png\n",
      "[I 17:06:24 InstallContribNbextensionsApp] Copying: d:\\programdata\\anaconda3\\envs\\t2.3\\lib\\site-packages\\jupyter_contrib_nbextensions\\nbextensions\\keyboard_shortcut_editor\\readme_undefined_key.png -> C:\\ProgramData\\jupyter\\nbextensions\\keyboard_shortcut_editor\\readme_undefined_key.png\n",
      "[I 17:06:24 InstallContribNbextensionsApp] - Validating: ok\n",
      "[I 17:06:24 InstallContribNbextensionsApp] Installing d:\\programdata\\anaconda3\\envs\\t2.3\\lib\\site-packages\\jupyter_contrib_nbextensions\\nbextensions\\limit_output -> limit_output\n",
      "[I 17:06:24 InstallContribNbextensionsApp] Making directory: C:\\ProgramData\\jupyter\\nbextensions\\limit_output\\\n",
      "[I 17:06:24 InstallContribNbextensionsApp] Copying: d:\\programdata\\anaconda3\\envs\\t2.3\\lib\\site-packages\\jupyter_contrib_nbextensions\\nbextensions\\limit_output\\icon.png -> C:\\ProgramData\\jupyter\\nbextensions\\limit_output\\icon.png\n",
      "[I 17:06:24 InstallContribNbextensionsApp] Copying: d:\\programdata\\anaconda3\\envs\\t2.3\\lib\\site-packages\\jupyter_contrib_nbextensions\\nbextensions\\limit_output\\limit-output.yaml -> C:\\ProgramData\\jupyter\\nbextensions\\limit_output\\limit-output.yaml\n",
      "[I 17:06:24 InstallContribNbextensionsApp] Copying: d:\\programdata\\anaconda3\\envs\\t2.3\\lib\\site-packages\\jupyter_contrib_nbextensions\\nbextensions\\limit_output\\main.js -> C:\\ProgramData\\jupyter\\nbextensions\\limit_output\\main.js\n",
      "[I 17:06:24 InstallContribNbextensionsApp] Copying: d:\\programdata\\anaconda3\\envs\\t2.3\\lib\\site-packages\\jupyter_contrib_nbextensions\\nbextensions\\limit_output\\readme.md -> C:\\ProgramData\\jupyter\\nbextensions\\limit_output\\readme.md\n",
      "[I 17:06:24 InstallContribNbextensionsApp] - Validating: ok\n",
      "[I 17:06:24 InstallContribNbextensionsApp] Installing d:\\programdata\\anaconda3\\envs\\t2.3\\lib\\site-packages\\jupyter_contrib_nbextensions\\nbextensions\\livemdpreview -> livemdpreview\n",
      "[I 17:06:24 InstallContribNbextensionsApp] Making directory: C:\\ProgramData\\jupyter\\nbextensions\\livemdpreview\\\n",
      "[I 17:06:24 InstallContribNbextensionsApp] Copying: d:\\programdata\\anaconda3\\envs\\t2.3\\lib\\site-packages\\jupyter_contrib_nbextensions\\nbextensions\\livemdpreview\\livemdpreview.js -> C:\\ProgramData\\jupyter\\nbextensions\\livemdpreview\\livemdpreview.js\n",
      "[I 17:06:24 InstallContribNbextensionsApp] Copying: d:\\programdata\\anaconda3\\envs\\t2.3\\lib\\site-packages\\jupyter_contrib_nbextensions\\nbextensions\\livemdpreview\\livemdpreview.yml -> C:\\ProgramData\\jupyter\\nbextensions\\livemdpreview\\livemdpreview.yml\n",
      "[I 17:06:24 InstallContribNbextensionsApp] - Validating: ok\n"
     ]
    },
    {
     "name": "stderr",
     "output_type": "stream",
     "text": [
      "[I 17:06:24 InstallContribNbextensionsApp] Installing d:\\programdata\\anaconda3\\envs\\t2.3\\lib\\site-packages\\jupyter_contrib_nbextensions\\nbextensions\\load_tex_macros -> load_tex_macros\n",
      "[I 17:06:24 InstallContribNbextensionsApp] Making directory: C:\\ProgramData\\jupyter\\nbextensions\\load_tex_macros\\\n",
      "[I 17:06:24 InstallContribNbextensionsApp] Copying: d:\\programdata\\anaconda3\\envs\\t2.3\\lib\\site-packages\\jupyter_contrib_nbextensions\\nbextensions\\load_tex_macros\\icon.png -> C:\\ProgramData\\jupyter\\nbextensions\\load_tex_macros\\icon.png\n",
      "[I 17:06:24 InstallContribNbextensionsApp] Copying: d:\\programdata\\anaconda3\\envs\\t2.3\\lib\\site-packages\\jupyter_contrib_nbextensions\\nbextensions\\load_tex_macros\\load_tex_macros.yaml -> C:\\ProgramData\\jupyter\\nbextensions\\load_tex_macros\\load_tex_macros.yaml\n",
      "[I 17:06:24 InstallContribNbextensionsApp] Copying: d:\\programdata\\anaconda3\\envs\\t2.3\\lib\\site-packages\\jupyter_contrib_nbextensions\\nbextensions\\load_tex_macros\\main.js -> C:\\ProgramData\\jupyter\\nbextensions\\load_tex_macros\\main.js\n",
      "[I 17:06:24 InstallContribNbextensionsApp] Copying: d:\\programdata\\anaconda3\\envs\\t2.3\\lib\\site-packages\\jupyter_contrib_nbextensions\\nbextensions\\load_tex_macros\\readme.md -> C:\\ProgramData\\jupyter\\nbextensions\\load_tex_macros\\readme.md\n",
      "[I 17:06:24 InstallContribNbextensionsApp] - Validating: ok\n",
      "[I 17:06:24 InstallContribNbextensionsApp] Installing d:\\programdata\\anaconda3\\envs\\t2.3\\lib\\site-packages\\jupyter_contrib_nbextensions\\nbextensions\\move_selected_cells -> move_selected_cells\n",
      "[I 17:06:24 InstallContribNbextensionsApp] Making directory: C:\\ProgramData\\jupyter\\nbextensions\\move_selected_cells\\\n",
      "[I 17:06:24 InstallContribNbextensionsApp] Copying: d:\\programdata\\anaconda3\\envs\\t2.3\\lib\\site-packages\\jupyter_contrib_nbextensions\\nbextensions\\move_selected_cells\\main.js -> C:\\ProgramData\\jupyter\\nbextensions\\move_selected_cells\\main.js\n",
      "[I 17:06:24 InstallContribNbextensionsApp] Copying: d:\\programdata\\anaconda3\\envs\\t2.3\\lib\\site-packages\\jupyter_contrib_nbextensions\\nbextensions\\move_selected_cells\\move_selected_cells.yaml -> C:\\ProgramData\\jupyter\\nbextensions\\move_selected_cells\\move_selected_cells.yaml\n",
      "[I 17:06:24 InstallContribNbextensionsApp] Copying: d:\\programdata\\anaconda3\\envs\\t2.3\\lib\\site-packages\\jupyter_contrib_nbextensions\\nbextensions\\move_selected_cells\\README.md -> C:\\ProgramData\\jupyter\\nbextensions\\move_selected_cells\\README.md\n",
      "[I 17:06:24 InstallContribNbextensionsApp] - Validating: ok\n",
      "[I 17:06:24 InstallContribNbextensionsApp] Installing d:\\programdata\\anaconda3\\envs\\t2.3\\lib\\site-packages\\jupyter_contrib_nbextensions\\nbextensions\\navigation-hotkeys -> navigation-hotkeys\n",
      "[I 17:06:24 InstallContribNbextensionsApp] Making directory: C:\\ProgramData\\jupyter\\nbextensions\\navigation-hotkeys\\\n",
      "[I 17:06:24 InstallContribNbextensionsApp] Copying: d:\\programdata\\anaconda3\\envs\\t2.3\\lib\\site-packages\\jupyter_contrib_nbextensions\\nbextensions\\navigation-hotkeys\\hotkeys.yaml -> C:\\ProgramData\\jupyter\\nbextensions\\navigation-hotkeys\\hotkeys.yaml\n",
      "[I 17:06:24 InstallContribNbextensionsApp] Copying: d:\\programdata\\anaconda3\\envs\\t2.3\\lib\\site-packages\\jupyter_contrib_nbextensions\\nbextensions\\navigation-hotkeys\\icon.png -> C:\\ProgramData\\jupyter\\nbextensions\\navigation-hotkeys\\icon.png\n",
      "[I 17:06:24 InstallContribNbextensionsApp] Copying: d:\\programdata\\anaconda3\\envs\\t2.3\\lib\\site-packages\\jupyter_contrib_nbextensions\\nbextensions\\navigation-hotkeys\\main.js -> C:\\ProgramData\\jupyter\\nbextensions\\navigation-hotkeys\\main.js\n",
      "[I 17:06:24 InstallContribNbextensionsApp] Copying: d:\\programdata\\anaconda3\\envs\\t2.3\\lib\\site-packages\\jupyter_contrib_nbextensions\\nbextensions\\navigation-hotkeys\\readme.md -> C:\\ProgramData\\jupyter\\nbextensions\\navigation-hotkeys\\readme.md\n",
      "[I 17:06:24 InstallContribNbextensionsApp] - Validating: ok\n",
      "[I 17:06:24 InstallContribNbextensionsApp] Installing d:\\programdata\\anaconda3\\envs\\t2.3\\lib\\site-packages\\jupyter_contrib_nbextensions\\nbextensions\\nbTranslate -> nbTranslate\n",
      "[I 17:06:24 InstallContribNbextensionsApp] Making directory: C:\\ProgramData\\jupyter\\nbextensions\\nbTranslate\\\n",
      "[I 17:06:24 InstallContribNbextensionsApp] Copying: d:\\programdata\\anaconda3\\envs\\t2.3\\lib\\site-packages\\jupyter_contrib_nbextensions\\nbextensions\\nbTranslate\\demo1.gif -> C:\\ProgramData\\jupyter\\nbextensions\\nbTranslate\\demo1.gif\n",
      "[I 17:06:24 InstallContribNbextensionsApp] Copying: d:\\programdata\\anaconda3\\envs\\t2.3\\lib\\site-packages\\jupyter_contrib_nbextensions\\nbextensions\\nbTranslate\\demo2.gif -> C:\\ProgramData\\jupyter\\nbextensions\\nbTranslate\\demo2.gif\n",
      "[I 17:06:24 InstallContribNbextensionsApp] Copying: d:\\programdata\\anaconda3\\envs\\t2.3\\lib\\site-packages\\jupyter_contrib_nbextensions\\nbextensions\\nbTranslate\\languages.js -> C:\\ProgramData\\jupyter\\nbextensions\\nbTranslate\\languages.js\n",
      "[I 17:06:24 InstallContribNbextensionsApp] Copying: d:\\programdata\\anaconda3\\envs\\t2.3\\lib\\site-packages\\jupyter_contrib_nbextensions\\nbextensions\\nbTranslate\\main.js -> C:\\ProgramData\\jupyter\\nbextensions\\nbTranslate\\main.js\n",
      "[I 17:06:24 InstallContribNbextensionsApp] Copying: d:\\programdata\\anaconda3\\envs\\t2.3\\lib\\site-packages\\jupyter_contrib_nbextensions\\nbextensions\\nbTranslate\\mutils.js -> C:\\ProgramData\\jupyter\\nbextensions\\nbTranslate\\mutils.js\n",
      "[I 17:06:24 InstallContribNbextensionsApp] Copying: d:\\programdata\\anaconda3\\envs\\t2.3\\lib\\site-packages\\jupyter_contrib_nbextensions\\nbextensions\\nbTranslate\\nbTranslate.js -> C:\\ProgramData\\jupyter\\nbextensions\\nbTranslate\\nbTranslate.js\n",
      "[I 17:06:24 InstallContribNbextensionsApp] Copying: d:\\programdata\\anaconda3\\envs\\t2.3\\lib\\site-packages\\jupyter_contrib_nbextensions\\nbextensions\\nbTranslate\\nbTranslate.yaml -> C:\\ProgramData\\jupyter\\nbextensions\\nbTranslate\\nbTranslate.yaml\n",
      "[I 17:06:24 InstallContribNbextensionsApp] Copying: d:\\programdata\\anaconda3\\envs\\t2.3\\lib\\site-packages\\jupyter_contrib_nbextensions\\nbextensions\\nbTranslate\\README.md -> C:\\ProgramData\\jupyter\\nbextensions\\nbTranslate\\README.md\n",
      "[I 17:06:24 InstallContribNbextensionsApp] - Validating: ok\n",
      "[I 17:06:24 InstallContribNbextensionsApp] Installing d:\\programdata\\anaconda3\\envs\\t2.3\\lib\\site-packages\\jupyter_contrib_nbextensions\\nbextensions\\notify -> notify\n",
      "[I 17:06:24 InstallContribNbextensionsApp] Making directory: C:\\ProgramData\\jupyter\\nbextensions\\notify\\\n",
      "[I 17:06:24 InstallContribNbextensionsApp] Copying: d:\\programdata\\anaconda3\\envs\\t2.3\\lib\\site-packages\\jupyter_contrib_nbextensions\\nbextensions\\notify\\notification.png -> C:\\ProgramData\\jupyter\\nbextensions\\notify\\notification.png\n",
      "[I 17:06:24 InstallContribNbextensionsApp] Copying: d:\\programdata\\anaconda3\\envs\\t2.3\\lib\\site-packages\\jupyter_contrib_nbextensions\\nbextensions\\notify\\notify.js -> C:\\ProgramData\\jupyter\\nbextensions\\notify\\notify.js\n",
      "[I 17:06:24 InstallContribNbextensionsApp] Copying: d:\\programdata\\anaconda3\\envs\\t2.3\\lib\\site-packages\\jupyter_contrib_nbextensions\\nbextensions\\notify\\notify.mp3 -> C:\\ProgramData\\jupyter\\nbextensions\\notify\\notify.mp3\n",
      "[I 17:06:24 InstallContribNbextensionsApp] Copying: d:\\programdata\\anaconda3\\envs\\t2.3\\lib\\site-packages\\jupyter_contrib_nbextensions\\nbextensions\\notify\\notify.yaml -> C:\\ProgramData\\jupyter\\nbextensions\\notify\\notify.yaml\n",
      "[I 17:06:24 InstallContribNbextensionsApp] Copying: d:\\programdata\\anaconda3\\envs\\t2.3\\lib\\site-packages\\jupyter_contrib_nbextensions\\nbextensions\\notify\\readme.md -> C:\\ProgramData\\jupyter\\nbextensions\\notify\\readme.md\n",
      "[I 17:06:24 InstallContribNbextensionsApp] - Validating: ok\n",
      "[I 17:06:24 InstallContribNbextensionsApp] Installing d:\\programdata\\anaconda3\\envs\\t2.3\\lib\\site-packages\\jupyter_contrib_nbextensions\\nbextensions\\printview -> printview\n",
      "[I 17:06:24 InstallContribNbextensionsApp] Making directory: C:\\ProgramData\\jupyter\\nbextensions\\printview\\\n",
      "[I 17:06:24 InstallContribNbextensionsApp] Copying: d:\\programdata\\anaconda3\\envs\\t2.3\\lib\\site-packages\\jupyter_contrib_nbextensions\\nbextensions\\printview\\icon.png -> C:\\ProgramData\\jupyter\\nbextensions\\printview\\icon.png\n",
      "[I 17:06:24 InstallContribNbextensionsApp] Copying: d:\\programdata\\anaconda3\\envs\\t2.3\\lib\\site-packages\\jupyter_contrib_nbextensions\\nbextensions\\printview\\main.js -> C:\\ProgramData\\jupyter\\nbextensions\\printview\\main.js\n",
      "[I 17:06:24 InstallContribNbextensionsApp] Copying: d:\\programdata\\anaconda3\\envs\\t2.3\\lib\\site-packages\\jupyter_contrib_nbextensions\\nbextensions\\printview\\printview-button.png -> C:\\ProgramData\\jupyter\\nbextensions\\printview\\printview-button.png\n",
      "[I 17:06:24 InstallContribNbextensionsApp] Copying: d:\\programdata\\anaconda3\\envs\\t2.3\\lib\\site-packages\\jupyter_contrib_nbextensions\\nbextensions\\printview\\printview.yaml -> C:\\ProgramData\\jupyter\\nbextensions\\printview\\printview.yaml\n",
      "[I 17:06:24 InstallContribNbextensionsApp] Copying: d:\\programdata\\anaconda3\\envs\\t2.3\\lib\\site-packages\\jupyter_contrib_nbextensions\\nbextensions\\printview\\readme.md -> C:\\ProgramData\\jupyter\\nbextensions\\printview\\readme.md\n",
      "[I 17:06:24 InstallContribNbextensionsApp] - Validating: ok\n",
      "[I 17:06:24 InstallContribNbextensionsApp] Installing d:\\programdata\\anaconda3\\envs\\t2.3\\lib\\site-packages\\jupyter_contrib_nbextensions\\nbextensions\\python-markdown -> python-markdown\n",
      "[I 17:06:24 InstallContribNbextensionsApp] Making directory: C:\\ProgramData\\jupyter\\nbextensions\\python-markdown\\\n",
      "[I 17:06:24 InstallContribNbextensionsApp] Copying: d:\\programdata\\anaconda3\\envs\\t2.3\\lib\\site-packages\\jupyter_contrib_nbextensions\\nbextensions\\python-markdown\\main.css -> C:\\ProgramData\\jupyter\\nbextensions\\python-markdown\\main.css\n",
      "[I 17:06:24 InstallContribNbextensionsApp] Copying: d:\\programdata\\anaconda3\\envs\\t2.3\\lib\\site-packages\\jupyter_contrib_nbextensions\\nbextensions\\python-markdown\\main.js -> C:\\ProgramData\\jupyter\\nbextensions\\python-markdown\\main.js\n",
      "[I 17:06:24 InstallContribNbextensionsApp] Copying: d:\\programdata\\anaconda3\\envs\\t2.3\\lib\\site-packages\\jupyter_contrib_nbextensions\\nbextensions\\python-markdown\\python-markdown-post.png -> C:\\ProgramData\\jupyter\\nbextensions\\python-markdown\\python-markdown-post.png\n",
      "[I 17:06:24 InstallContribNbextensionsApp] Copying: d:\\programdata\\anaconda3\\envs\\t2.3\\lib\\site-packages\\jupyter_contrib_nbextensions\\nbextensions\\python-markdown\\python-markdown-pre.png -> C:\\ProgramData\\jupyter\\nbextensions\\python-markdown\\python-markdown-pre.png\n",
      "[I 17:06:24 InstallContribNbextensionsApp] Copying: d:\\programdata\\anaconda3\\envs\\t2.3\\lib\\site-packages\\jupyter_contrib_nbextensions\\nbextensions\\python-markdown\\python-markdown.png -> C:\\ProgramData\\jupyter\\nbextensions\\python-markdown\\python-markdown.png\n",
      "[I 17:06:24 InstallContribNbextensionsApp] Copying: d:\\programdata\\anaconda3\\envs\\t2.3\\lib\\site-packages\\jupyter_contrib_nbextensions\\nbextensions\\python-markdown\\python-markdown.yaml -> C:\\ProgramData\\jupyter\\nbextensions\\python-markdown\\python-markdown.yaml\n",
      "[I 17:06:24 InstallContribNbextensionsApp] Copying: d:\\programdata\\anaconda3\\envs\\t2.3\\lib\\site-packages\\jupyter_contrib_nbextensions\\nbextensions\\python-markdown\\readme.md -> C:\\ProgramData\\jupyter\\nbextensions\\python-markdown\\readme.md\n",
      "[I 17:06:24 InstallContribNbextensionsApp] Copying: d:\\programdata\\anaconda3\\envs\\t2.3\\lib\\site-packages\\jupyter_contrib_nbextensions\\nbextensions\\python-markdown\\trusted.png -> C:\\ProgramData\\jupyter\\nbextensions\\python-markdown\\trusted.png\n",
      "[I 17:06:24 InstallContribNbextensionsApp] Copying: d:\\programdata\\anaconda3\\envs\\t2.3\\lib\\site-packages\\jupyter_contrib_nbextensions\\nbextensions\\python-markdown\\untrusted.png -> C:\\ProgramData\\jupyter\\nbextensions\\python-markdown\\untrusted.png\n",
      "[I 17:06:24 InstallContribNbextensionsApp] - Validating: ok\n",
      "[I 17:06:24 InstallContribNbextensionsApp] Installing d:\\programdata\\anaconda3\\envs\\t2.3\\lib\\site-packages\\jupyter_contrib_nbextensions\\nbextensions\\qtconsole -> qtconsole\n",
      "[I 17:06:24 InstallContribNbextensionsApp] Making directory: C:\\ProgramData\\jupyter\\nbextensions\\qtconsole\\\n",
      "[I 17:06:24 InstallContribNbextensionsApp] Copying: d:\\programdata\\anaconda3\\envs\\t2.3\\lib\\site-packages\\jupyter_contrib_nbextensions\\nbextensions\\qtconsole\\qtconsole.js -> C:\\ProgramData\\jupyter\\nbextensions\\qtconsole\\qtconsole.js\n",
      "[I 17:06:24 InstallContribNbextensionsApp] Copying: d:\\programdata\\anaconda3\\envs\\t2.3\\lib\\site-packages\\jupyter_contrib_nbextensions\\nbextensions\\qtconsole\\qtconsole.yaml -> C:\\ProgramData\\jupyter\\nbextensions\\qtconsole\\qtconsole.yaml\n",
      "[I 17:06:24 InstallContribNbextensionsApp] Copying: d:\\programdata\\anaconda3\\envs\\t2.3\\lib\\site-packages\\jupyter_contrib_nbextensions\\nbextensions\\qtconsole\\README.md -> C:\\ProgramData\\jupyter\\nbextensions\\qtconsole\\README.md\n",
      "[I 17:06:24 InstallContribNbextensionsApp] - Validating: ok\n",
      "[I 17:06:24 InstallContribNbextensionsApp] Installing d:\\programdata\\anaconda3\\envs\\t2.3\\lib\\site-packages\\jupyter_contrib_nbextensions\\nbextensions\\rubberband -> rubberband\n",
      "[I 17:06:24 InstallContribNbextensionsApp] Making directory: C:\\ProgramData\\jupyter\\nbextensions\\rubberband\\\n",
      "[I 17:06:24 InstallContribNbextensionsApp] Copying: d:\\programdata\\anaconda3\\envs\\t2.3\\lib\\site-packages\\jupyter_contrib_nbextensions\\nbextensions\\rubberband\\icon.png -> C:\\ProgramData\\jupyter\\nbextensions\\rubberband\\icon.png\n",
      "[I 17:06:24 InstallContribNbextensionsApp] Copying: d:\\programdata\\anaconda3\\envs\\t2.3\\lib\\site-packages\\jupyter_contrib_nbextensions\\nbextensions\\rubberband\\main.css -> C:\\ProgramData\\jupyter\\nbextensions\\rubberband\\main.css\n",
      "[I 17:06:24 InstallContribNbextensionsApp] Copying: d:\\programdata\\anaconda3\\envs\\t2.3\\lib\\site-packages\\jupyter_contrib_nbextensions\\nbextensions\\rubberband\\main.js -> C:\\ProgramData\\jupyter\\nbextensions\\rubberband\\main.js\n",
      "[I 17:06:24 InstallContribNbextensionsApp] Copying: d:\\programdata\\anaconda3\\envs\\t2.3\\lib\\site-packages\\jupyter_contrib_nbextensions\\nbextensions\\rubberband\\readme.md -> C:\\ProgramData\\jupyter\\nbextensions\\rubberband\\readme.md\n",
      "[I 17:06:24 InstallContribNbextensionsApp] Copying: d:\\programdata\\anaconda3\\envs\\t2.3\\lib\\site-packages\\jupyter_contrib_nbextensions\\nbextensions\\rubberband\\rubberband.yaml -> C:\\ProgramData\\jupyter\\nbextensions\\rubberband\\rubberband.yaml\n",
      "[I 17:06:24 InstallContribNbextensionsApp] - Validating: ok\n",
      "[I 17:06:24 InstallContribNbextensionsApp] Installing d:\\programdata\\anaconda3\\envs\\t2.3\\lib\\site-packages\\jupyter_contrib_nbextensions\\nbextensions\\ruler -> ruler\n",
      "[I 17:06:24 InstallContribNbextensionsApp] Making directory: C:\\ProgramData\\jupyter\\nbextensions\\ruler\\\n",
      "[I 17:06:24 InstallContribNbextensionsApp] Copying: d:\\programdata\\anaconda3\\envs\\t2.3\\lib\\site-packages\\jupyter_contrib_nbextensions\\nbextensions\\ruler\\edit.js -> C:\\ProgramData\\jupyter\\nbextensions\\ruler\\edit.js\n",
      "[I 17:06:24 InstallContribNbextensionsApp] Copying: d:\\programdata\\anaconda3\\envs\\t2.3\\lib\\site-packages\\jupyter_contrib_nbextensions\\nbextensions\\ruler\\icon.png -> C:\\ProgramData\\jupyter\\nbextensions\\ruler\\icon.png\n",
      "[I 17:06:24 InstallContribNbextensionsApp] Copying: d:\\programdata\\anaconda3\\envs\\t2.3\\lib\\site-packages\\jupyter_contrib_nbextensions\\nbextensions\\ruler\\main.js -> C:\\ProgramData\\jupyter\\nbextensions\\ruler\\main.js\n",
      "[I 17:06:24 InstallContribNbextensionsApp] Copying: d:\\programdata\\anaconda3\\envs\\t2.3\\lib\\site-packages\\jupyter_contrib_nbextensions\\nbextensions\\ruler\\readme.md -> C:\\ProgramData\\jupyter\\nbextensions\\ruler\\readme.md\n",
      "[I 17:06:24 InstallContribNbextensionsApp] Copying: d:\\programdata\\anaconda3\\envs\\t2.3\\lib\\site-packages\\jupyter_contrib_nbextensions\\nbextensions\\ruler\\ruler.yaml -> C:\\ProgramData\\jupyter\\nbextensions\\ruler\\ruler.yaml\n",
      "[I 17:06:24 InstallContribNbextensionsApp] Copying: d:\\programdata\\anaconda3\\envs\\t2.3\\lib\\site-packages\\jupyter_contrib_nbextensions\\nbextensions\\ruler\\ruler_editor.yaml -> C:\\ProgramData\\jupyter\\nbextensions\\ruler\\ruler_editor.yaml\n",
      "[I 17:06:24 InstallContribNbextensionsApp] - Validating: ok\n",
      "[I 17:06:24 InstallContribNbextensionsApp] Installing d:\\programdata\\anaconda3\\envs\\t2.3\\lib\\site-packages\\jupyter_contrib_nbextensions\\nbextensions\\ruler -> ruler\n",
      "[I 17:06:24 InstallContribNbextensionsApp] Up to date: C:\\ProgramData\\jupyter\\nbextensions\\ruler\\edit.js\n",
      "[I 17:06:24 InstallContribNbextensionsApp] Up to date: C:\\ProgramData\\jupyter\\nbextensions\\ruler\\icon.png\n",
      "[I 17:06:24 InstallContribNbextensionsApp] Up to date: C:\\ProgramData\\jupyter\\nbextensions\\ruler\\main.js\n",
      "[I 17:06:24 InstallContribNbextensionsApp] Up to date: C:\\ProgramData\\jupyter\\nbextensions\\ruler\\readme.md\n",
      "[I 17:06:24 InstallContribNbextensionsApp] Up to date: C:\\ProgramData\\jupyter\\nbextensions\\ruler\\ruler.yaml\n",
      "[I 17:06:24 InstallContribNbextensionsApp] Up to date: C:\\ProgramData\\jupyter\\nbextensions\\ruler\\ruler_editor.yaml\n",
      "[I 17:06:24 InstallContribNbextensionsApp] - Validating: ok\n",
      "[I 17:06:24 InstallContribNbextensionsApp] Installing d:\\programdata\\anaconda3\\envs\\t2.3\\lib\\site-packages\\jupyter_contrib_nbextensions\\nbextensions\\runtools -> runtools\n",
      "[I 17:06:24 InstallContribNbextensionsApp] Making directory: C:\\ProgramData\\jupyter\\nbextensions\\runtools\\\n",
      "[I 17:06:24 InstallContribNbextensionsApp] Copying: d:\\programdata\\anaconda3\\envs\\t2.3\\lib\\site-packages\\jupyter_contrib_nbextensions\\nbextensions\\runtools\\annotations.odg -> C:\\ProgramData\\jupyter\\nbextensions\\runtools\\annotations.odg\n",
      "[I 17:06:24 InstallContribNbextensionsApp] Copying: d:\\programdata\\anaconda3\\envs\\t2.3\\lib\\site-packages\\jupyter_contrib_nbextensions\\nbextensions\\runtools\\cellstate.js -> C:\\ProgramData\\jupyter\\nbextensions\\runtools\\cellstate.js\n",
      "[I 17:06:24 InstallContribNbextensionsApp] Copying: d:\\programdata\\anaconda3\\envs\\t2.3\\lib\\site-packages\\jupyter_contrib_nbextensions\\nbextensions\\runtools\\demo.gif -> C:\\ProgramData\\jupyter\\nbextensions\\runtools\\demo.gif\n",
      "[I 17:06:24 InstallContribNbextensionsApp] Copying: d:\\programdata\\anaconda3\\envs\\t2.3\\lib\\site-packages\\jupyter_contrib_nbextensions\\nbextensions\\runtools\\gutter.css -> C:\\ProgramData\\jupyter\\nbextensions\\runtools\\gutter.css\n",
      "[I 17:06:24 InstallContribNbextensionsApp] Copying: d:\\programdata\\anaconda3\\envs\\t2.3\\lib\\site-packages\\jupyter_contrib_nbextensions\\nbextensions\\runtools\\icon.png -> C:\\ProgramData\\jupyter\\nbextensions\\runtools\\icon.png\n",
      "[I 17:06:24 InstallContribNbextensionsApp] Copying: d:\\programdata\\anaconda3\\envs\\t2.3\\lib\\site-packages\\jupyter_contrib_nbextensions\\nbextensions\\runtools\\main.css -> C:\\ProgramData\\jupyter\\nbextensions\\runtools\\main.css\n",
      "[I 17:06:24 InstallContribNbextensionsApp] Copying: d:\\programdata\\anaconda3\\envs\\t2.3\\lib\\site-packages\\jupyter_contrib_nbextensions\\nbextensions\\runtools\\main.js -> C:\\ProgramData\\jupyter\\nbextensions\\runtools\\main.js\n",
      "[I 17:06:24 InstallContribNbextensionsApp] Copying: d:\\programdata\\anaconda3\\envs\\t2.3\\lib\\site-packages\\jupyter_contrib_nbextensions\\nbextensions\\runtools\\readme.md -> C:\\ProgramData\\jupyter\\nbextensions\\runtools\\readme.md\n",
      "[I 17:06:24 InstallContribNbextensionsApp] Copying: d:\\programdata\\anaconda3\\envs\\t2.3\\lib\\site-packages\\jupyter_contrib_nbextensions\\nbextensions\\runtools\\runtools.yaml -> C:\\ProgramData\\jupyter\\nbextensions\\runtools\\runtools.yaml\n",
      "[I 17:06:24 InstallContribNbextensionsApp] Copying: d:\\programdata\\anaconda3\\envs\\t2.3\\lib\\site-packages\\jupyter_contrib_nbextensions\\nbextensions\\runtools\\runtools_execute.png -> C:\\ProgramData\\jupyter\\nbextensions\\runtools\\runtools_execute.png\n",
      "[I 17:06:24 InstallContribNbextensionsApp] Copying: d:\\programdata\\anaconda3\\envs\\t2.3\\lib\\site-packages\\jupyter_contrib_nbextensions\\nbextensions\\runtools\\runtools_lock.png -> C:\\ProgramData\\jupyter\\nbextensions\\runtools\\runtools_lock.png\n",
      "[I 17:06:24 InstallContribNbextensionsApp] Copying: d:\\programdata\\anaconda3\\envs\\t2.3\\lib\\site-packages\\jupyter_contrib_nbextensions\\nbextensions\\runtools\\runtools_marker.png -> C:\\ProgramData\\jupyter\\nbextensions\\runtools\\runtools_marker.png\n",
      "[I 17:06:24 InstallContribNbextensionsApp] Copying: d:\\programdata\\anaconda3\\envs\\t2.3\\lib\\site-packages\\jupyter_contrib_nbextensions\\nbextensions\\runtools\\runtools_nb.png -> C:\\ProgramData\\jupyter\\nbextensions\\runtools\\runtools_nb.png\n",
      "[I 17:06:24 InstallContribNbextensionsApp] Copying: d:\\programdata\\anaconda3\\envs\\t2.3\\lib\\site-packages\\jupyter_contrib_nbextensions\\nbextensions\\runtools\\runtools_show_hide.png -> C:\\ProgramData\\jupyter\\nbextensions\\runtools\\runtools_show_hide.png\n",
      "[I 17:06:24 InstallContribNbextensionsApp] - Validating: ok\n",
      "[I 17:06:24 InstallContribNbextensionsApp] Installing d:\\programdata\\anaconda3\\envs\\t2.3\\lib\\site-packages\\jupyter_contrib_nbextensions\\nbextensions\\scratchpad -> scratchpad\n",
      "[I 17:06:24 InstallContribNbextensionsApp] Making directory: C:\\ProgramData\\jupyter\\nbextensions\\scratchpad\\\n",
      "[I 17:06:24 InstallContribNbextensionsApp] Copying: d:\\programdata\\anaconda3\\envs\\t2.3\\lib\\site-packages\\jupyter_contrib_nbextensions\\nbextensions\\scratchpad\\demo.gif -> C:\\ProgramData\\jupyter\\nbextensions\\scratchpad\\demo.gif\n",
      "[I 17:06:24 InstallContribNbextensionsApp] Copying: d:\\programdata\\anaconda3\\envs\\t2.3\\lib\\site-packages\\jupyter_contrib_nbextensions\\nbextensions\\scratchpad\\LICENSE -> C:\\ProgramData\\jupyter\\nbextensions\\scratchpad\\LICENSE\n",
      "[I 17:06:24 InstallContribNbextensionsApp] Copying: d:\\programdata\\anaconda3\\envs\\t2.3\\lib\\site-packages\\jupyter_contrib_nbextensions\\nbextensions\\scratchpad\\main.js -> C:\\ProgramData\\jupyter\\nbextensions\\scratchpad\\main.js\n",
      "[I 17:06:24 InstallContribNbextensionsApp] Copying: d:\\programdata\\anaconda3\\envs\\t2.3\\lib\\site-packages\\jupyter_contrib_nbextensions\\nbextensions\\scratchpad\\README.md -> C:\\ProgramData\\jupyter\\nbextensions\\scratchpad\\README.md\n",
      "[I 17:06:24 InstallContribNbextensionsApp] Copying: d:\\programdata\\anaconda3\\envs\\t2.3\\lib\\site-packages\\jupyter_contrib_nbextensions\\nbextensions\\scratchpad\\scratchpad.css -> C:\\ProgramData\\jupyter\\nbextensions\\scratchpad\\scratchpad.css\n",
      "[I 17:06:24 InstallContribNbextensionsApp] Copying: d:\\programdata\\anaconda3\\envs\\t2.3\\lib\\site-packages\\jupyter_contrib_nbextensions\\nbextensions\\scratchpad\\scratchpad.yaml -> C:\\ProgramData\\jupyter\\nbextensions\\scratchpad\\scratchpad.yaml\n",
      "[I 17:06:24 InstallContribNbextensionsApp] - Validating: ok\n",
      "[I 17:06:24 InstallContribNbextensionsApp] Installing d:\\programdata\\anaconda3\\envs\\t2.3\\lib\\site-packages\\jupyter_contrib_nbextensions\\nbextensions\\scroll_down -> scroll_down\n",
      "[I 17:06:24 InstallContribNbextensionsApp] Making directory: C:\\ProgramData\\jupyter\\nbextensions\\scroll_down\\\n",
      "[I 17:06:24 InstallContribNbextensionsApp] Copying: d:\\programdata\\anaconda3\\envs\\t2.3\\lib\\site-packages\\jupyter_contrib_nbextensions\\nbextensions\\scroll_down\\config.yaml -> C:\\ProgramData\\jupyter\\nbextensions\\scroll_down\\config.yaml\n",
      "[I 17:06:24 InstallContribNbextensionsApp] Copying: d:\\programdata\\anaconda3\\envs\\t2.3\\lib\\site-packages\\jupyter_contrib_nbextensions\\nbextensions\\scroll_down\\icon.png -> C:\\ProgramData\\jupyter\\nbextensions\\scroll_down\\icon.png\n",
      "[I 17:06:24 InstallContribNbextensionsApp] Copying: d:\\programdata\\anaconda3\\envs\\t2.3\\lib\\site-packages\\jupyter_contrib_nbextensions\\nbextensions\\scroll_down\\main.js -> C:\\ProgramData\\jupyter\\nbextensions\\scroll_down\\main.js\n",
      "[I 17:06:24 InstallContribNbextensionsApp] Copying: d:\\programdata\\anaconda3\\envs\\t2.3\\lib\\site-packages\\jupyter_contrib_nbextensions\\nbextensions\\scroll_down\\readme.md -> C:\\ProgramData\\jupyter\\nbextensions\\scroll_down\\readme.md\n",
      "[I 17:06:24 InstallContribNbextensionsApp] - Validating: ok\n",
      "[I 17:06:24 InstallContribNbextensionsApp] Installing d:\\programdata\\anaconda3\\envs\\t2.3\\lib\\site-packages\\jupyter_contrib_nbextensions\\nbextensions\\select_keymap -> select_keymap\n",
      "[I 17:06:24 InstallContribNbextensionsApp] Making directory: C:\\ProgramData\\jupyter\\nbextensions\\select_keymap\\\n",
      "[I 17:06:24 InstallContribNbextensionsApp] Copying: d:\\programdata\\anaconda3\\envs\\t2.3\\lib\\site-packages\\jupyter_contrib_nbextensions\\nbextensions\\select_keymap\\main.js -> C:\\ProgramData\\jupyter\\nbextensions\\select_keymap\\main.js\n",
      "[I 17:06:24 InstallContribNbextensionsApp] Copying: d:\\programdata\\anaconda3\\envs\\t2.3\\lib\\site-packages\\jupyter_contrib_nbextensions\\nbextensions\\select_keymap\\README.md -> C:\\ProgramData\\jupyter\\nbextensions\\select_keymap\\README.md\n",
      "[I 17:06:24 InstallContribNbextensionsApp] Copying: d:\\programdata\\anaconda3\\envs\\t2.3\\lib\\site-packages\\jupyter_contrib_nbextensions\\nbextensions\\select_keymap\\select_keymap.png -> C:\\ProgramData\\jupyter\\nbextensions\\select_keymap\\select_keymap.png\n",
      "[I 17:06:24 InstallContribNbextensionsApp] Copying: d:\\programdata\\anaconda3\\envs\\t2.3\\lib\\site-packages\\jupyter_contrib_nbextensions\\nbextensions\\select_keymap\\select_keymap.yaml -> C:\\ProgramData\\jupyter\\nbextensions\\select_keymap\\select_keymap.yaml\n",
      "[I 17:06:24 InstallContribNbextensionsApp] - Validating: ok\n",
      "[I 17:06:24 InstallContribNbextensionsApp] Installing d:\\programdata\\anaconda3\\envs\\t2.3\\lib\\site-packages\\jupyter_contrib_nbextensions\\nbextensions\\skill -> skill\n",
      "[I 17:06:24 InstallContribNbextensionsApp] Making directory: C:\\ProgramData\\jupyter\\nbextensions\\skill\\\n",
      "[I 17:06:24 InstallContribNbextensionsApp] Copying: d:\\programdata\\anaconda3\\envs\\t2.3\\lib\\site-packages\\jupyter_contrib_nbextensions\\nbextensions\\skill\\main.js -> C:\\ProgramData\\jupyter\\nbextensions\\skill\\main.js\n",
      "[I 17:06:24 InstallContribNbextensionsApp] Copying: d:\\programdata\\anaconda3\\envs\\t2.3\\lib\\site-packages\\jupyter_contrib_nbextensions\\nbextensions\\skill\\README.md -> C:\\ProgramData\\jupyter\\nbextensions\\skill\\README.md\n",
      "[I 17:06:24 InstallContribNbextensionsApp] Copying: d:\\programdata\\anaconda3\\envs\\t2.3\\lib\\site-packages\\jupyter_contrib_nbextensions\\nbextensions\\skill\\skill.js -> C:\\ProgramData\\jupyter\\nbextensions\\skill\\skill.js\n",
      "[I 17:06:24 InstallContribNbextensionsApp] Copying: d:\\programdata\\anaconda3\\envs\\t2.3\\lib\\site-packages\\jupyter_contrib_nbextensions\\nbextensions\\skill\\skill.yaml -> C:\\ProgramData\\jupyter\\nbextensions\\skill\\skill.yaml\n",
      "[I 17:06:24 InstallContribNbextensionsApp] - Validating: ok\n",
      "[I 17:06:24 InstallContribNbextensionsApp] Installing d:\\programdata\\anaconda3\\envs\\t2.3\\lib\\site-packages\\jupyter_contrib_nbextensions\\nbextensions\\skip-traceback -> skip-traceback\n",
      "[I 17:06:24 InstallContribNbextensionsApp] Making directory: C:\\ProgramData\\jupyter\\nbextensions\\skip-traceback\\\n",
      "[I 17:06:24 InstallContribNbextensionsApp] Copying: d:\\programdata\\anaconda3\\envs\\t2.3\\lib\\site-packages\\jupyter_contrib_nbextensions\\nbextensions\\skip-traceback\\icon.png -> C:\\ProgramData\\jupyter\\nbextensions\\skip-traceback\\icon.png\n",
      "[I 17:06:24 InstallContribNbextensionsApp] Copying: d:\\programdata\\anaconda3\\envs\\t2.3\\lib\\site-packages\\jupyter_contrib_nbextensions\\nbextensions\\skip-traceback\\main.js -> C:\\ProgramData\\jupyter\\nbextensions\\skip-traceback\\main.js\n",
      "[I 17:06:24 InstallContribNbextensionsApp] Copying: d:\\programdata\\anaconda3\\envs\\t2.3\\lib\\site-packages\\jupyter_contrib_nbextensions\\nbextensions\\skip-traceback\\readme.md -> C:\\ProgramData\\jupyter\\nbextensions\\skip-traceback\\readme.md\n",
      "[I 17:06:24 InstallContribNbextensionsApp] Copying: d:\\programdata\\anaconda3\\envs\\t2.3\\lib\\site-packages\\jupyter_contrib_nbextensions\\nbextensions\\skip-traceback\\skip-traceback.png -> C:\\ProgramData\\jupyter\\nbextensions\\skip-traceback\\skip-traceback.png\n",
      "[I 17:06:24 InstallContribNbextensionsApp] Copying: d:\\programdata\\anaconda3\\envs\\t2.3\\lib\\site-packages\\jupyter_contrib_nbextensions\\nbextensions\\skip-traceback\\skip-traceback.yaml -> C:\\ProgramData\\jupyter\\nbextensions\\skip-traceback\\skip-traceback.yaml\n",
      "[I 17:06:24 InstallContribNbextensionsApp] Copying: d:\\programdata\\anaconda3\\envs\\t2.3\\lib\\site-packages\\jupyter_contrib_nbextensions\\nbextensions\\skip-traceback\\traceback.png -> C:\\ProgramData\\jupyter\\nbextensions\\skip-traceback\\traceback.png\n",
      "[I 17:06:24 InstallContribNbextensionsApp] - Validating: ok\n",
      "[I 17:06:24 InstallContribNbextensionsApp] Installing d:\\programdata\\anaconda3\\envs\\t2.3\\lib\\site-packages\\jupyter_contrib_nbextensions\\nbextensions\\snippets -> snippets\n",
      "[I 17:06:24 InstallContribNbextensionsApp] Making directory: C:\\ProgramData\\jupyter\\nbextensions\\snippets\\\n",
      "[I 17:06:24 InstallContribNbextensionsApp] Copying: d:\\programdata\\anaconda3\\envs\\t2.3\\lib\\site-packages\\jupyter_contrib_nbextensions\\nbextensions\\snippets\\main.js -> C:\\ProgramData\\jupyter\\nbextensions\\snippets\\main.js\n",
      "[I 17:06:24 InstallContribNbextensionsApp] Copying: d:\\programdata\\anaconda3\\envs\\t2.3\\lib\\site-packages\\jupyter_contrib_nbextensions\\nbextensions\\snippets\\README.md -> C:\\ProgramData\\jupyter\\nbextensions\\snippets\\README.md\n",
      "[I 17:06:24 InstallContribNbextensionsApp] Copying: d:\\programdata\\anaconda3\\envs\\t2.3\\lib\\site-packages\\jupyter_contrib_nbextensions\\nbextensions\\snippets\\snippets-demo.gif -> C:\\ProgramData\\jupyter\\nbextensions\\snippets\\snippets-demo.gif\n",
      "[I 17:06:24 InstallContribNbextensionsApp] Copying: d:\\programdata\\anaconda3\\envs\\t2.3\\lib\\site-packages\\jupyter_contrib_nbextensions\\nbextensions\\snippets\\snippets.json -> C:\\ProgramData\\jupyter\\nbextensions\\snippets\\snippets.json\n",
      "[I 17:06:24 InstallContribNbextensionsApp] Copying: d:\\programdata\\anaconda3\\envs\\t2.3\\lib\\site-packages\\jupyter_contrib_nbextensions\\nbextensions\\snippets\\snippets.yaml -> C:\\ProgramData\\jupyter\\nbextensions\\snippets\\snippets.yaml\n",
      "[I 17:06:24 InstallContribNbextensionsApp] - Validating: ok\n",
      "[I 17:06:24 InstallContribNbextensionsApp] Installing d:\\programdata\\anaconda3\\envs\\t2.3\\lib\\site-packages\\jupyter_contrib_nbextensions\\nbextensions\\snippets_menu -> snippets_menu\n",
      "[I 17:06:24 InstallContribNbextensionsApp] Making directory: C:\\ProgramData\\jupyter\\nbextensions\\snippets_menu\\\n",
      "[I 17:06:24 InstallContribNbextensionsApp] Copying: d:\\programdata\\anaconda3\\envs\\t2.3\\lib\\site-packages\\jupyter_contrib_nbextensions\\nbextensions\\snippets_menu\\config.yaml -> C:\\ProgramData\\jupyter\\nbextensions\\snippets_menu\\config.yaml\n",
      "[I 17:06:24 InstallContribNbextensionsApp] Copying: d:\\programdata\\anaconda3\\envs\\t2.3\\lib\\site-packages\\jupyter_contrib_nbextensions\\nbextensions\\snippets_menu\\examples_for_custom.js -> C:\\ProgramData\\jupyter\\nbextensions\\snippets_menu\\examples_for_custom.js\n",
      "[I 17:06:24 InstallContribNbextensionsApp] Copying: d:\\programdata\\anaconda3\\envs\\t2.3\\lib\\site-packages\\jupyter_contrib_nbextensions\\nbextensions\\snippets_menu\\main.js -> C:\\ProgramData\\jupyter\\nbextensions\\snippets_menu\\main.js\n",
      "[I 17:06:24 InstallContribNbextensionsApp] Copying: d:\\programdata\\anaconda3\\envs\\t2.3\\lib\\site-packages\\jupyter_contrib_nbextensions\\nbextensions\\snippets_menu\\readme.md -> C:\\ProgramData\\jupyter\\nbextensions\\snippets_menu\\readme.md\n",
      "[I 17:06:24 InstallContribNbextensionsApp] Copying: d:\\programdata\\anaconda3\\envs\\t2.3\\lib\\site-packages\\jupyter_contrib_nbextensions\\nbextensions\\snippets_menu\\screenshot1.png -> C:\\ProgramData\\jupyter\\nbextensions\\snippets_menu\\screenshot1.png\n",
      "[I 17:06:24 InstallContribNbextensionsApp] Copying: d:\\programdata\\anaconda3\\envs\\t2.3\\lib\\site-packages\\jupyter_contrib_nbextensions\\nbextensions\\snippets_menu\\screenshot2.png -> C:\\ProgramData\\jupyter\\nbextensions\\snippets_menu\\screenshot2.png\n",
      "[I 17:06:24 InstallContribNbextensionsApp] Copying: d:\\programdata\\anaconda3\\envs\\t2.3\\lib\\site-packages\\jupyter_contrib_nbextensions\\nbextensions\\snippets_menu\\screenshot3.png -> C:\\ProgramData\\jupyter\\nbextensions\\snippets_menu\\screenshot3.png\n",
      "[I 17:06:24 InstallContribNbextensionsApp] Copying: d:\\programdata\\anaconda3\\envs\\t2.3\\lib\\site-packages\\jupyter_contrib_nbextensions\\nbextensions\\snippets_menu\\snippets_menu.css -> C:\\ProgramData\\jupyter\\nbextensions\\snippets_menu\\snippets_menu.css\n",
      "[I 17:06:24 InstallContribNbextensionsApp] Copying: d:\\programdata\\anaconda3\\envs\\t2.3\\lib\\site-packages\\jupyter_contrib_nbextensions\\nbextensions\\snippets_menu\\snippets_submenu_markdown.js -> C:\\ProgramData\\jupyter\\nbextensions\\snippets_menu\\snippets_submenu_markdown.js\n",
      "[I 17:06:24 InstallContribNbextensionsApp] Copying: d:\\programdata\\anaconda3\\envs\\t2.3\\lib\\site-packages\\jupyter_contrib_nbextensions\\nbextensions\\snippets_menu\\snippets_submenu_python.js -> C:\\ProgramData\\jupyter\\nbextensions\\snippets_menu\\snippets_submenu_python.js\n",
      "[I 17:06:24 InstallContribNbextensionsApp] Copying: d:\\programdata\\anaconda3\\envs\\t2.3\\lib\\site-packages\\jupyter_contrib_nbextensions\\nbextensions\\snippets_menu\\thumbnail.png -> C:\\ProgramData\\jupyter\\nbextensions\\snippets_menu\\thumbnail.png\n",
      "[I 17:06:24 InstallContribNbextensionsApp] Making directory: C:\\ProgramData\\jupyter\\nbextensions\\snippets_menu\\snippets_submenus_python\n",
      "[I 17:06:24 InstallContribNbextensionsApp] Copying: d:\\programdata\\anaconda3\\envs\\t2.3\\lib\\site-packages\\jupyter_contrib_nbextensions\\nbextensions\\snippets_menu\\snippets_submenus_python\\astropy.js -> C:\\ProgramData\\jupyter\\nbextensions\\snippets_menu\\snippets_submenus_python\\astropy.js\n",
      "[I 17:06:24 InstallContribNbextensionsApp] Copying: d:\\programdata\\anaconda3\\envs\\t2.3\\lib\\site-packages\\jupyter_contrib_nbextensions\\nbextensions\\snippets_menu\\snippets_submenus_python\\h5py.js -> C:\\ProgramData\\jupyter\\nbextensions\\snippets_menu\\snippets_submenus_python\\h5py.js\n",
      "[I 17:06:24 InstallContribNbextensionsApp] Copying: d:\\programdata\\anaconda3\\envs\\t2.3\\lib\\site-packages\\jupyter_contrib_nbextensions\\nbextensions\\snippets_menu\\snippets_submenus_python\\matplotlib.js -> C:\\ProgramData\\jupyter\\nbextensions\\snippets_menu\\snippets_submenus_python\\matplotlib.js\n",
      "[I 17:06:24 InstallContribNbextensionsApp] Copying: d:\\programdata\\anaconda3\\envs\\t2.3\\lib\\site-packages\\jupyter_contrib_nbextensions\\nbextensions\\snippets_menu\\snippets_submenus_python\\numba.js -> C:\\ProgramData\\jupyter\\nbextensions\\snippets_menu\\snippets_submenus_python\\numba.js\n",
      "[I 17:06:24 InstallContribNbextensionsApp] Copying: d:\\programdata\\anaconda3\\envs\\t2.3\\lib\\site-packages\\jupyter_contrib_nbextensions\\nbextensions\\snippets_menu\\snippets_submenus_python\\numpy.js -> C:\\ProgramData\\jupyter\\nbextensions\\snippets_menu\\snippets_submenus_python\\numpy.js\n",
      "[I 17:06:25 InstallContribNbextensionsApp] Copying: d:\\programdata\\anaconda3\\envs\\t2.3\\lib\\site-packages\\jupyter_contrib_nbextensions\\nbextensions\\snippets_menu\\snippets_submenus_python\\numpy_polynomial.js -> C:\\ProgramData\\jupyter\\nbextensions\\snippets_menu\\snippets_submenus_python\\numpy_polynomial.js\n",
      "[I 17:06:25 InstallContribNbextensionsApp] Copying: d:\\programdata\\anaconda3\\envs\\t2.3\\lib\\site-packages\\jupyter_contrib_nbextensions\\nbextensions\\snippets_menu\\snippets_submenus_python\\numpy_ufuncs.js -> C:\\ProgramData\\jupyter\\nbextensions\\snippets_menu\\snippets_submenus_python\\numpy_ufuncs.js\n",
      "[I 17:06:25 InstallContribNbextensionsApp] Copying: d:\\programdata\\anaconda3\\envs\\t2.3\\lib\\site-packages\\jupyter_contrib_nbextensions\\nbextensions\\snippets_menu\\snippets_submenus_python\\pandas.js -> C:\\ProgramData\\jupyter\\nbextensions\\snippets_menu\\snippets_submenus_python\\pandas.js\n",
      "[I 17:06:25 InstallContribNbextensionsApp] Copying: d:\\programdata\\anaconda3\\envs\\t2.3\\lib\\site-packages\\jupyter_contrib_nbextensions\\nbextensions\\snippets_menu\\snippets_submenus_python\\python.js -> C:\\ProgramData\\jupyter\\nbextensions\\snippets_menu\\snippets_submenus_python\\python.js\n",
      "[I 17:06:25 InstallContribNbextensionsApp] Copying: d:\\programdata\\anaconda3\\envs\\t2.3\\lib\\site-packages\\jupyter_contrib_nbextensions\\nbextensions\\snippets_menu\\snippets_submenus_python\\python_regex.js -> C:\\ProgramData\\jupyter\\nbextensions\\snippets_menu\\snippets_submenus_python\\python_regex.js\n",
      "[I 17:06:25 InstallContribNbextensionsApp] Copying: d:\\programdata\\anaconda3\\envs\\t2.3\\lib\\site-packages\\jupyter_contrib_nbextensions\\nbextensions\\snippets_menu\\snippets_submenus_python\\scipy.js -> C:\\ProgramData\\jupyter\\nbextensions\\snippets_menu\\snippets_submenus_python\\scipy.js\n",
      "[I 17:06:25 InstallContribNbextensionsApp] Copying: d:\\programdata\\anaconda3\\envs\\t2.3\\lib\\site-packages\\jupyter_contrib_nbextensions\\nbextensions\\snippets_menu\\snippets_submenus_python\\scipy_constants.js -> C:\\ProgramData\\jupyter\\nbextensions\\snippets_menu\\snippets_submenus_python\\scipy_constants.js\n",
      "[I 17:06:25 InstallContribNbextensionsApp] Copying: d:\\programdata\\anaconda3\\envs\\t2.3\\lib\\site-packages\\jupyter_contrib_nbextensions\\nbextensions\\snippets_menu\\snippets_submenus_python\\scipy_special.js -> C:\\ProgramData\\jupyter\\nbextensions\\snippets_menu\\snippets_submenus_python\\scipy_special.js\n",
      "[I 17:06:25 InstallContribNbextensionsApp] Copying: d:\\programdata\\anaconda3\\envs\\t2.3\\lib\\site-packages\\jupyter_contrib_nbextensions\\nbextensions\\snippets_menu\\snippets_submenus_python\\sympy.js -> C:\\ProgramData\\jupyter\\nbextensions\\snippets_menu\\snippets_submenus_python\\sympy.js\n",
      "[I 17:06:25 InstallContribNbextensionsApp] Copying: d:\\programdata\\anaconda3\\envs\\t2.3\\lib\\site-packages\\jupyter_contrib_nbextensions\\nbextensions\\snippets_menu\\snippets_submenus_python\\sympy_assumptions.js -> C:\\ProgramData\\jupyter\\nbextensions\\snippets_menu\\snippets_submenus_python\\sympy_assumptions.js\n",
      "[I 17:06:25 InstallContribNbextensionsApp] Copying: d:\\programdata\\anaconda3\\envs\\t2.3\\lib\\site-packages\\jupyter_contrib_nbextensions\\nbextensions\\snippets_menu\\snippets_submenus_python\\sympy_functions.js -> C:\\ProgramData\\jupyter\\nbextensions\\snippets_menu\\snippets_submenus_python\\sympy_functions.js\n",
      "[I 17:06:25 InstallContribNbextensionsApp] - Validating: ok\n",
      "[I 17:06:25 InstallContribNbextensionsApp] Installing d:\\programdata\\anaconda3\\envs\\t2.3\\lib\\site-packages\\jupyter_contrib_nbextensions\\nbextensions\\spellchecker -> spellchecker\n",
      "[I 17:06:25 InstallContribNbextensionsApp] Making directory: C:\\ProgramData\\jupyter\\nbextensions\\spellchecker\\\n",
      "[I 17:06:25 InstallContribNbextensionsApp] Copying: d:\\programdata\\anaconda3\\envs\\t2.3\\lib\\site-packages\\jupyter_contrib_nbextensions\\nbextensions\\spellchecker\\config.yaml -> C:\\ProgramData\\jupyter\\nbextensions\\spellchecker\\config.yaml\n",
      "[I 17:06:25 InstallContribNbextensionsApp] Copying: d:\\programdata\\anaconda3\\envs\\t2.3\\lib\\site-packages\\jupyter_contrib_nbextensions\\nbextensions\\spellchecker\\download_new_dict.py -> C:\\ProgramData\\jupyter\\nbextensions\\spellchecker\\download_new_dict.py\n",
      "[I 17:06:25 InstallContribNbextensionsApp] Copying: d:\\programdata\\anaconda3\\envs\\t2.3\\lib\\site-packages\\jupyter_contrib_nbextensions\\nbextensions\\spellchecker\\main.css -> C:\\ProgramData\\jupyter\\nbextensions\\spellchecker\\main.css\n",
      "[I 17:06:25 InstallContribNbextensionsApp] Copying: d:\\programdata\\anaconda3\\envs\\t2.3\\lib\\site-packages\\jupyter_contrib_nbextensions\\nbextensions\\spellchecker\\main.js -> C:\\ProgramData\\jupyter\\nbextensions\\spellchecker\\main.js\n",
      "[I 17:06:25 InstallContribNbextensionsApp] Copying: d:\\programdata\\anaconda3\\envs\\t2.3\\lib\\site-packages\\jupyter_contrib_nbextensions\\nbextensions\\spellchecker\\README.md -> C:\\ProgramData\\jupyter\\nbextensions\\spellchecker\\README.md\n",
      "[I 17:06:25 InstallContribNbextensionsApp] Copying: d:\\programdata\\anaconda3\\envs\\t2.3\\lib\\site-packages\\jupyter_contrib_nbextensions\\nbextensions\\spellchecker\\screenshot.png -> C:\\ProgramData\\jupyter\\nbextensions\\spellchecker\\screenshot.png\n",
      "[I 17:06:25 InstallContribNbextensionsApp] Making directory: C:\\ProgramData\\jupyter\\nbextensions\\spellchecker\\typo\n",
      "[I 17:06:25 InstallContribNbextensionsApp] Copying: d:\\programdata\\anaconda3\\envs\\t2.3\\lib\\site-packages\\jupyter_contrib_nbextensions\\nbextensions\\spellchecker\\typo\\LICENSE.txt -> C:\\ProgramData\\jupyter\\nbextensions\\spellchecker\\typo\\LICENSE.txt\n",
      "[I 17:06:25 InstallContribNbextensionsApp] Copying: d:\\programdata\\anaconda3\\envs\\t2.3\\lib\\site-packages\\jupyter_contrib_nbextensions\\nbextensions\\spellchecker\\typo\\typo.js -> C:\\ProgramData\\jupyter\\nbextensions\\spellchecker\\typo\\typo.js\n",
      "[I 17:06:25 InstallContribNbextensionsApp] Making directory: C:\\ProgramData\\jupyter\\nbextensions\\spellchecker\\__pycache__\n",
      "[I 17:06:25 InstallContribNbextensionsApp] Copying: d:\\programdata\\anaconda3\\envs\\t2.3\\lib\\site-packages\\jupyter_contrib_nbextensions\\nbextensions\\spellchecker\\__pycache__\\download_new_dict.cpython-37.pyc -> C:\\ProgramData\\jupyter\\nbextensions\\spellchecker\\__pycache__\\download_new_dict.cpython-37.pyc\n",
      "[I 17:06:25 InstallContribNbextensionsApp] - Validating: ok\n",
      "[I 17:06:25 InstallContribNbextensionsApp] Installing d:\\programdata\\anaconda3\\envs\\t2.3\\lib\\site-packages\\jupyter_contrib_nbextensions\\nbextensions\\splitcell -> splitcell\n",
      "[I 17:06:25 InstallContribNbextensionsApp] Making directory: C:\\ProgramData\\jupyter\\nbextensions\\splitcell\\\n",
      "[I 17:06:25 InstallContribNbextensionsApp] Copying: d:\\programdata\\anaconda3\\envs\\t2.3\\lib\\site-packages\\jupyter_contrib_nbextensions\\nbextensions\\splitcell\\icon.png -> C:\\ProgramData\\jupyter\\nbextensions\\splitcell\\icon.png\n",
      "[I 17:06:25 InstallContribNbextensionsApp] Copying: d:\\programdata\\anaconda3\\envs\\t2.3\\lib\\site-packages\\jupyter_contrib_nbextensions\\nbextensions\\splitcell\\readme.md -> C:\\ProgramData\\jupyter\\nbextensions\\splitcell\\readme.md\n",
      "[I 17:06:25 InstallContribNbextensionsApp] Copying: d:\\programdata\\anaconda3\\envs\\t2.3\\lib\\site-packages\\jupyter_contrib_nbextensions\\nbextensions\\splitcell\\splitcell.js -> C:\\ProgramData\\jupyter\\nbextensions\\splitcell\\splitcell.js\n",
      "[I 17:06:25 InstallContribNbextensionsApp] Copying: d:\\programdata\\anaconda3\\envs\\t2.3\\lib\\site-packages\\jupyter_contrib_nbextensions\\nbextensions\\splitcell\\splitcell.yaml -> C:\\ProgramData\\jupyter\\nbextensions\\splitcell\\splitcell.yaml\n",
      "[I 17:06:25 InstallContribNbextensionsApp] - Validating: ok\n",
      "[I 17:06:25 InstallContribNbextensionsApp] Installing d:\\programdata\\anaconda3\\envs\\t2.3\\lib\\site-packages\\jupyter_contrib_nbextensions\\nbextensions\\table_beautifier -> table_beautifier\n",
      "[I 17:06:25 InstallContribNbextensionsApp] Making directory: C:\\ProgramData\\jupyter\\nbextensions\\table_beautifier\\\n",
      "[I 17:06:25 InstallContribNbextensionsApp] Copying: d:\\programdata\\anaconda3\\envs\\t2.3\\lib\\site-packages\\jupyter_contrib_nbextensions\\nbextensions\\table_beautifier\\main.css -> C:\\ProgramData\\jupyter\\nbextensions\\table_beautifier\\main.css\n",
      "[I 17:06:25 InstallContribNbextensionsApp] Copying: d:\\programdata\\anaconda3\\envs\\t2.3\\lib\\site-packages\\jupyter_contrib_nbextensions\\nbextensions\\table_beautifier\\main.js -> C:\\ProgramData\\jupyter\\nbextensions\\table_beautifier\\main.js\n",
      "[I 17:06:25 InstallContribNbextensionsApp] Copying: d:\\programdata\\anaconda3\\envs\\t2.3\\lib\\site-packages\\jupyter_contrib_nbextensions\\nbextensions\\table_beautifier\\README.md -> C:\\ProgramData\\jupyter\\nbextensions\\table_beautifier\\README.md\n",
      "[I 17:06:25 InstallContribNbextensionsApp] Copying: d:\\programdata\\anaconda3\\envs\\t2.3\\lib\\site-packages\\jupyter_contrib_nbextensions\\nbextensions\\table_beautifier\\table_beautifier.yaml -> C:\\ProgramData\\jupyter\\nbextensions\\table_beautifier\\table_beautifier.yaml\n",
      "[I 17:06:25 InstallContribNbextensionsApp] - Validating: ok\n",
      "[I 17:06:25 InstallContribNbextensionsApp] Installing d:\\programdata\\anaconda3\\envs\\t2.3\\lib\\site-packages\\jupyter_contrib_nbextensions\\nbextensions\\toc2 -> toc2\n",
      "[I 17:06:25 InstallContribNbextensionsApp] Making directory: C:\\ProgramData\\jupyter\\nbextensions\\toc2\\\n",
      "[I 17:06:25 InstallContribNbextensionsApp] Copying: d:\\programdata\\anaconda3\\envs\\t2.3\\lib\\site-packages\\jupyter_contrib_nbextensions\\nbextensions\\toc2\\demo.gif -> C:\\ProgramData\\jupyter\\nbextensions\\toc2\\demo.gif\n",
      "[I 17:06:25 InstallContribNbextensionsApp] Copying: d:\\programdata\\anaconda3\\envs\\t2.3\\lib\\site-packages\\jupyter_contrib_nbextensions\\nbextensions\\toc2\\demo2.gif -> C:\\ProgramData\\jupyter\\nbextensions\\toc2\\demo2.gif\n",
      "[I 17:06:25 InstallContribNbextensionsApp] Copying: d:\\programdata\\anaconda3\\envs\\t2.3\\lib\\site-packages\\jupyter_contrib_nbextensions\\nbextensions\\toc2\\demo3.gif -> C:\\ProgramData\\jupyter\\nbextensions\\toc2\\demo3.gif\n",
      "[I 17:06:25 InstallContribNbextensionsApp] Copying: d:\\programdata\\anaconda3\\envs\\t2.3\\lib\\site-packages\\jupyter_contrib_nbextensions\\nbextensions\\toc2\\demo_dark.png -> C:\\ProgramData\\jupyter\\nbextensions\\toc2\\demo_dark.png\n",
      "[I 17:06:25 InstallContribNbextensionsApp] Copying: d:\\programdata\\anaconda3\\envs\\t2.3\\lib\\site-packages\\jupyter_contrib_nbextensions\\nbextensions\\toc2\\icon.png -> C:\\ProgramData\\jupyter\\nbextensions\\toc2\\icon.png\n",
      "[I 17:06:25 InstallContribNbextensionsApp] Copying: d:\\programdata\\anaconda3\\envs\\t2.3\\lib\\site-packages\\jupyter_contrib_nbextensions\\nbextensions\\toc2\\image.png -> C:\\ProgramData\\jupyter\\nbextensions\\toc2\\image.png\n",
      "[I 17:06:25 InstallContribNbextensionsApp] Copying: d:\\programdata\\anaconda3\\envs\\t2.3\\lib\\site-packages\\jupyter_contrib_nbextensions\\nbextensions\\toc2\\main.css -> C:\\ProgramData\\jupyter\\nbextensions\\toc2\\main.css\n",
      "[I 17:06:25 InstallContribNbextensionsApp] Copying: d:\\programdata\\anaconda3\\envs\\t2.3\\lib\\site-packages\\jupyter_contrib_nbextensions\\nbextensions\\toc2\\main.js -> C:\\ProgramData\\jupyter\\nbextensions\\toc2\\main.js\n",
      "[I 17:06:25 InstallContribNbextensionsApp] Copying: d:\\programdata\\anaconda3\\envs\\t2.3\\lib\\site-packages\\jupyter_contrib_nbextensions\\nbextensions\\toc2\\README.md -> C:\\ProgramData\\jupyter\\nbextensions\\toc2\\README.md\n",
      "[I 17:06:25 InstallContribNbextensionsApp] Copying: d:\\programdata\\anaconda3\\envs\\t2.3\\lib\\site-packages\\jupyter_contrib_nbextensions\\nbextensions\\toc2\\toc2.js -> C:\\ProgramData\\jupyter\\nbextensions\\toc2\\toc2.js\n",
      "[I 17:06:25 InstallContribNbextensionsApp] Copying: d:\\programdata\\anaconda3\\envs\\t2.3\\lib\\site-packages\\jupyter_contrib_nbextensions\\nbextensions\\toc2\\toc2.yaml -> C:\\ProgramData\\jupyter\\nbextensions\\toc2\\toc2.yaml\n",
      "[I 17:06:25 InstallContribNbextensionsApp] - Validating: ok\n",
      "[I 17:06:25 InstallContribNbextensionsApp] Installing d:\\programdata\\anaconda3\\envs\\t2.3\\lib\\site-packages\\jupyter_contrib_nbextensions\\nbextensions\\toggle_all_line_numbers -> toggle_all_line_numbers\n",
      "[I 17:06:25 InstallContribNbextensionsApp] Making directory: C:\\ProgramData\\jupyter\\nbextensions\\toggle_all_line_numbers\\\n",
      "[I 17:06:25 InstallContribNbextensionsApp] Copying: d:\\programdata\\anaconda3\\envs\\t2.3\\lib\\site-packages\\jupyter_contrib_nbextensions\\nbextensions\\toggle_all_line_numbers\\icon.png -> C:\\ProgramData\\jupyter\\nbextensions\\toggle_all_line_numbers\\icon.png\n",
      "[I 17:06:25 InstallContribNbextensionsApp] Copying: d:\\programdata\\anaconda3\\envs\\t2.3\\lib\\site-packages\\jupyter_contrib_nbextensions\\nbextensions\\toggle_all_line_numbers\\main.js -> C:\\ProgramData\\jupyter\\nbextensions\\toggle_all_line_numbers\\main.js\n",
      "[I 17:06:25 InstallContribNbextensionsApp] Copying: d:\\programdata\\anaconda3\\envs\\t2.3\\lib\\site-packages\\jupyter_contrib_nbextensions\\nbextensions\\toggle_all_line_numbers\\main.yaml -> C:\\ProgramData\\jupyter\\nbextensions\\toggle_all_line_numbers\\main.yaml\n",
      "[I 17:06:25 InstallContribNbextensionsApp] Copying: d:\\programdata\\anaconda3\\envs\\t2.3\\lib\\site-packages\\jupyter_contrib_nbextensions\\nbextensions\\toggle_all_line_numbers\\readme.md -> C:\\ProgramData\\jupyter\\nbextensions\\toggle_all_line_numbers\\readme.md\n",
      "[I 17:06:25 InstallContribNbextensionsApp] - Validating: ok\n",
      "[I 17:06:25 InstallContribNbextensionsApp] Installing d:\\programdata\\anaconda3\\envs\\t2.3\\lib\\site-packages\\jupyter_contrib_nbextensions\\nbextensions\\tree-filter -> tree-filter\n",
      "[I 17:06:25 InstallContribNbextensionsApp] Making directory: C:\\ProgramData\\jupyter\\nbextensions\\tree-filter\\\n",
      "[I 17:06:25 InstallContribNbextensionsApp] Copying: d:\\programdata\\anaconda3\\envs\\t2.3\\lib\\site-packages\\jupyter_contrib_nbextensions\\nbextensions\\tree-filter\\demo.gif -> C:\\ProgramData\\jupyter\\nbextensions\\tree-filter\\demo.gif\n",
      "[I 17:06:25 InstallContribNbextensionsApp] Copying: d:\\programdata\\anaconda3\\envs\\t2.3\\lib\\site-packages\\jupyter_contrib_nbextensions\\nbextensions\\tree-filter\\index.js -> C:\\ProgramData\\jupyter\\nbextensions\\tree-filter\\index.js\n",
      "[I 17:06:25 InstallContribNbextensionsApp] Copying: d:\\programdata\\anaconda3\\envs\\t2.3\\lib\\site-packages\\jupyter_contrib_nbextensions\\nbextensions\\tree-filter\\readme.md -> C:\\ProgramData\\jupyter\\nbextensions\\tree-filter\\readme.md\n",
      "[I 17:06:25 InstallContribNbextensionsApp] Copying: d:\\programdata\\anaconda3\\envs\\t2.3\\lib\\site-packages\\jupyter_contrib_nbextensions\\nbextensions\\tree-filter\\tree-filter.yaml -> C:\\ProgramData\\jupyter\\nbextensions\\tree-filter\\tree-filter.yaml\n",
      "[I 17:06:25 InstallContribNbextensionsApp] - Validating: ok\n",
      "[I 17:06:25 InstallContribNbextensionsApp] Installing d:\\programdata\\anaconda3\\envs\\t2.3\\lib\\site-packages\\jupyter_contrib_nbextensions\\nbextensions\\varInspector -> varInspector\n",
      "[I 17:06:25 InstallContribNbextensionsApp] Making directory: C:\\ProgramData\\jupyter\\nbextensions\\varInspector\\\n",
      "[I 17:06:25 InstallContribNbextensionsApp] Copying: d:\\programdata\\anaconda3\\envs\\t2.3\\lib\\site-packages\\jupyter_contrib_nbextensions\\nbextensions\\varInspector\\demo.gif -> C:\\ProgramData\\jupyter\\nbextensions\\varInspector\\demo.gif\n",
      "[I 17:06:25 InstallContribNbextensionsApp] Copying: d:\\programdata\\anaconda3\\envs\\t2.3\\lib\\site-packages\\jupyter_contrib_nbextensions\\nbextensions\\varInspector\\icon.png -> C:\\ProgramData\\jupyter\\nbextensions\\varInspector\\icon.png\n",
      "[I 17:06:25 InstallContribNbextensionsApp] Copying: d:\\programdata\\anaconda3\\envs\\t2.3\\lib\\site-packages\\jupyter_contrib_nbextensions\\nbextensions\\varInspector\\jquery.tablesorter.min.js -> C:\\ProgramData\\jupyter\\nbextensions\\varInspector\\jquery.tablesorter.min.js\n",
      "[I 17:06:25 InstallContribNbextensionsApp] Copying: d:\\programdata\\anaconda3\\envs\\t2.3\\lib\\site-packages\\jupyter_contrib_nbextensions\\nbextensions\\varInspector\\main.css -> C:\\ProgramData\\jupyter\\nbextensions\\varInspector\\main.css\n",
      "[I 17:06:25 InstallContribNbextensionsApp] Copying: d:\\programdata\\anaconda3\\envs\\t2.3\\lib\\site-packages\\jupyter_contrib_nbextensions\\nbextensions\\varInspector\\main.js -> C:\\ProgramData\\jupyter\\nbextensions\\varInspector\\main.js\n",
      "[I 17:06:25 InstallContribNbextensionsApp] Copying: d:\\programdata\\anaconda3\\envs\\t2.3\\lib\\site-packages\\jupyter_contrib_nbextensions\\nbextensions\\varInspector\\README.md -> C:\\ProgramData\\jupyter\\nbextensions\\varInspector\\README.md\n",
      "[I 17:06:25 InstallContribNbextensionsApp] Copying: d:\\programdata\\anaconda3\\envs\\t2.3\\lib\\site-packages\\jupyter_contrib_nbextensions\\nbextensions\\varInspector\\tablesorter_LICENSE.txt -> C:\\ProgramData\\jupyter\\nbextensions\\varInspector\\tablesorter_LICENSE.txt\n",
      "[I 17:06:25 InstallContribNbextensionsApp] Copying: d:\\programdata\\anaconda3\\envs\\t2.3\\lib\\site-packages\\jupyter_contrib_nbextensions\\nbextensions\\varInspector\\varInspector.yaml -> C:\\ProgramData\\jupyter\\nbextensions\\varInspector\\varInspector.yaml\n",
      "[I 17:06:25 InstallContribNbextensionsApp] Copying: d:\\programdata\\anaconda3\\envs\\t2.3\\lib\\site-packages\\jupyter_contrib_nbextensions\\nbextensions\\varInspector\\var_list.py -> C:\\ProgramData\\jupyter\\nbextensions\\varInspector\\var_list.py\n",
      "[I 17:06:25 InstallContribNbextensionsApp] Copying: d:\\programdata\\anaconda3\\envs\\t2.3\\lib\\site-packages\\jupyter_contrib_nbextensions\\nbextensions\\varInspector\\var_list.r -> C:\\ProgramData\\jupyter\\nbextensions\\varInspector\\var_list.r\n",
      "[I 17:06:25 InstallContribNbextensionsApp] Making directory: C:\\ProgramData\\jupyter\\nbextensions\\varInspector\\__pycache__\n",
      "[I 17:06:25 InstallContribNbextensionsApp] Copying: d:\\programdata\\anaconda3\\envs\\t2.3\\lib\\site-packages\\jupyter_contrib_nbextensions\\nbextensions\\varInspector\\__pycache__\\var_list.cpython-37.pyc -> C:\\ProgramData\\jupyter\\nbextensions\\varInspector\\__pycache__\\var_list.cpython-37.pyc\n",
      "[I 17:06:25 InstallContribNbextensionsApp] - Validating: ok\n",
      "[I 17:06:25 InstallContribNbextensionsApp] Installing d:\\programdata\\anaconda3\\envs\\t2.3\\lib\\site-packages\\jupyter_contrib_nbextensions\\nbextensions\\zenmode -> zenmode\n",
      "[I 17:06:25 InstallContribNbextensionsApp] Making directory: C:\\ProgramData\\jupyter\\nbextensions\\zenmode\\\n",
      "[I 17:06:25 InstallContribNbextensionsApp] Copying: d:\\programdata\\anaconda3\\envs\\t2.3\\lib\\site-packages\\jupyter_contrib_nbextensions\\nbextensions\\zenmode\\main.css -> C:\\ProgramData\\jupyter\\nbextensions\\zenmode\\main.css\n",
      "[I 17:06:25 InstallContribNbextensionsApp] Copying: d:\\programdata\\anaconda3\\envs\\t2.3\\lib\\site-packages\\jupyter_contrib_nbextensions\\nbextensions\\zenmode\\main.js -> C:\\ProgramData\\jupyter\\nbextensions\\zenmode\\main.js\n",
      "[I 17:06:25 InstallContribNbextensionsApp] Copying: d:\\programdata\\anaconda3\\envs\\t2.3\\lib\\site-packages\\jupyter_contrib_nbextensions\\nbextensions\\zenmode\\README.md -> C:\\ProgramData\\jupyter\\nbextensions\\zenmode\\README.md\n",
      "[I 17:06:25 InstallContribNbextensionsApp] Copying: d:\\programdata\\anaconda3\\envs\\t2.3\\lib\\site-packages\\jupyter_contrib_nbextensions\\nbextensions\\zenmode\\zenmode.yaml -> C:\\ProgramData\\jupyter\\nbextensions\\zenmode\\zenmode.yaml\n",
      "[I 17:06:25 InstallContribNbextensionsApp] Making directory: C:\\ProgramData\\jupyter\\nbextensions\\zenmode\\images\n",
      "[I 17:06:25 InstallContribNbextensionsApp] Copying: d:\\programdata\\anaconda3\\envs\\t2.3\\lib\\site-packages\\jupyter_contrib_nbextensions\\nbextensions\\zenmode\\images\\back1.jpg -> C:\\ProgramData\\jupyter\\nbextensions\\zenmode\\images\\back1.jpg\n",
      "[I 17:06:25 InstallContribNbextensionsApp] Copying: d:\\programdata\\anaconda3\\envs\\t2.3\\lib\\site-packages\\jupyter_contrib_nbextensions\\nbextensions\\zenmode\\images\\back11.jpg -> C:\\ProgramData\\jupyter\\nbextensions\\zenmode\\images\\back11.jpg\n"
     ]
    },
    {
     "name": "stderr",
     "output_type": "stream",
     "text": [
      "[I 17:06:25 InstallContribNbextensionsApp] Copying: d:\\programdata\\anaconda3\\envs\\t2.3\\lib\\site-packages\\jupyter_contrib_nbextensions\\nbextensions\\zenmode\\images\\back12.jpg -> C:\\ProgramData\\jupyter\\nbextensions\\zenmode\\images\\back12.jpg\n",
      "[I 17:06:25 InstallContribNbextensionsApp] Copying: d:\\programdata\\anaconda3\\envs\\t2.3\\lib\\site-packages\\jupyter_contrib_nbextensions\\nbextensions\\zenmode\\images\\back2.jpg -> C:\\ProgramData\\jupyter\\nbextensions\\zenmode\\images\\back2.jpg\n",
      "[I 17:06:25 InstallContribNbextensionsApp] Copying: d:\\programdata\\anaconda3\\envs\\t2.3\\lib\\site-packages\\jupyter_contrib_nbextensions\\nbextensions\\zenmode\\images\\back21.jpg -> C:\\ProgramData\\jupyter\\nbextensions\\zenmode\\images\\back21.jpg\n",
      "[I 17:06:25 InstallContribNbextensionsApp] Copying: d:\\programdata\\anaconda3\\envs\\t2.3\\lib\\site-packages\\jupyter_contrib_nbextensions\\nbextensions\\zenmode\\images\\back22.jpg -> C:\\ProgramData\\jupyter\\nbextensions\\zenmode\\images\\back22.jpg\n",
      "[I 17:06:25 InstallContribNbextensionsApp] Copying: d:\\programdata\\anaconda3\\envs\\t2.3\\lib\\site-packages\\jupyter_contrib_nbextensions\\nbextensions\\zenmode\\images\\back3.jpg -> C:\\ProgramData\\jupyter\\nbextensions\\zenmode\\images\\back3.jpg\n",
      "[I 17:06:25 InstallContribNbextensionsApp] Copying: d:\\programdata\\anaconda3\\envs\\t2.3\\lib\\site-packages\\jupyter_contrib_nbextensions\\nbextensions\\zenmode\\images\\ipynblogo0.png -> C:\\ProgramData\\jupyter\\nbextensions\\zenmode\\images\\ipynblogo0.png\n",
      "[I 17:06:25 InstallContribNbextensionsApp] Copying: d:\\programdata\\anaconda3\\envs\\t2.3\\lib\\site-packages\\jupyter_contrib_nbextensions\\nbextensions\\zenmode\\images\\ipynblogo1.png -> C:\\ProgramData\\jupyter\\nbextensions\\zenmode\\images\\ipynblogo1.png\n",
      "[I 17:06:25 InstallContribNbextensionsApp] - Validating: ok\n",
      "[I 17:06:25 InstallContribNbextensionsApp] Installing d:\\programdata\\anaconda3\\envs\\t2.3\\lib\\site-packages\\jupyter_highlight_selected_word\\static\\highlight_selected_word -> highlight_selected_word\n",
      "[I 17:06:25 InstallContribNbextensionsApp] Making directory: C:\\ProgramData\\jupyter\\nbextensions\\highlight_selected_word\\\n",
      "[I 17:06:25 InstallContribNbextensionsApp] Copying: d:\\programdata\\anaconda3\\envs\\t2.3\\lib\\site-packages\\jupyter_highlight_selected_word\\static\\highlight_selected_word\\configurator.yaml -> C:\\ProgramData\\jupyter\\nbextensions\\highlight_selected_word\\configurator.yaml\n",
      "[I 17:06:25 InstallContribNbextensionsApp] Copying: d:\\programdata\\anaconda3\\envs\\t2.3\\lib\\site-packages\\jupyter_highlight_selected_word\\static\\highlight_selected_word\\main.js -> C:\\ProgramData\\jupyter\\nbextensions\\highlight_selected_word\\main.js\n",
      "[I 17:06:25 InstallContribNbextensionsApp] Copying: d:\\programdata\\anaconda3\\envs\\t2.3\\lib\\site-packages\\jupyter_highlight_selected_word\\static\\highlight_selected_word\\README.md -> C:\\ProgramData\\jupyter\\nbextensions\\highlight_selected_word\\README.md\n",
      "[I 17:06:25 InstallContribNbextensionsApp] - Validating: ok\n",
      "[I 17:06:25 InstallContribNbextensionsApp] Installing d:\\programdata\\anaconda3\\envs\\t2.3\\lib\\site-packages\\latex_envs\\static -> latex_envs\n",
      "[I 17:06:25 InstallContribNbextensionsApp] Making directory: C:\\ProgramData\\jupyter\\nbextensions\\latex_envs\\\n",
      "[I 17:06:25 InstallContribNbextensionsApp] Copying: d:\\programdata\\anaconda3\\envs\\t2.3\\lib\\site-packages\\latex_envs\\static\\bibInNb4.js -> C:\\ProgramData\\jupyter\\nbextensions\\latex_envs\\bibInNb4.js\n",
      "[I 17:06:25 InstallContribNbextensionsApp] Copying: d:\\programdata\\anaconda3\\envs\\t2.3\\lib\\site-packages\\latex_envs\\static\\bibtex2.js -> C:\\ProgramData\\jupyter\\nbextensions\\latex_envs\\bibtex2.js\n",
      "[I 17:06:25 InstallContribNbextensionsApp] Copying: d:\\programdata\\anaconda3\\envs\\t2.3\\lib\\site-packages\\latex_envs\\static\\configuration_toolbar.png -> C:\\ProgramData\\jupyter\\nbextensions\\latex_envs\\configuration_toolbar.png\n",
      "[I 17:06:25 InstallContribNbextensionsApp] Copying: d:\\programdata\\anaconda3\\envs\\t2.3\\lib\\site-packages\\latex_envs\\static\\envsLatex.js -> C:\\ProgramData\\jupyter\\nbextensions\\latex_envs\\envsLatex.js\n",
      "[I 17:06:25 InstallContribNbextensionsApp] Copying: d:\\programdata\\anaconda3\\envs\\t2.3\\lib\\site-packages\\latex_envs\\static\\envsLatex.json -> C:\\ProgramData\\jupyter\\nbextensions\\latex_envs\\envsLatex.json\n",
      "[I 17:06:25 InstallContribNbextensionsApp] Copying: d:\\programdata\\anaconda3\\envs\\t2.3\\lib\\site-packages\\latex_envs\\static\\example.png -> C:\\ProgramData\\jupyter\\nbextensions\\latex_envs\\example.png\n",
      "[I 17:06:25 InstallContribNbextensionsApp] Copying: d:\\programdata\\anaconda3\\envs\\t2.3\\lib\\site-packages\\latex_envs\\static\\example_user_envs.json -> C:\\ProgramData\\jupyter\\nbextensions\\latex_envs\\example_user_envs.json\n",
      "[I 17:06:25 InstallContribNbextensionsApp] Copying: d:\\programdata\\anaconda3\\envs\\t2.3\\lib\\site-packages\\latex_envs\\static\\icon.png -> C:\\ProgramData\\jupyter\\nbextensions\\latex_envs\\icon.png\n",
      "[I 17:06:25 InstallContribNbextensionsApp] Copying: d:\\programdata\\anaconda3\\envs\\t2.3\\lib\\site-packages\\latex_envs\\static\\initNb.js -> C:\\ProgramData\\jupyter\\nbextensions\\latex_envs\\initNb.js\n",
      "[I 17:06:25 InstallContribNbextensionsApp] Copying: d:\\programdata\\anaconda3\\envs\\t2.3\\lib\\site-packages\\latex_envs\\static\\latex_envs.css -> C:\\ProgramData\\jupyter\\nbextensions\\latex_envs\\latex_envs.css\n",
      "[I 17:06:25 InstallContribNbextensionsApp] Copying: d:\\programdata\\anaconda3\\envs\\t2.3\\lib\\site-packages\\latex_envs\\static\\latex_envs.js -> C:\\ProgramData\\jupyter\\nbextensions\\latex_envs\\latex_envs.js\n",
      "[I 17:06:25 InstallContribNbextensionsApp] Copying: d:\\programdata\\anaconda3\\envs\\t2.3\\lib\\site-packages\\latex_envs\\static\\latex_envs.yaml -> C:\\ProgramData\\jupyter\\nbextensions\\latex_envs\\latex_envs.yaml\n",
      "[I 17:06:25 InstallContribNbextensionsApp] Copying: d:\\programdata\\anaconda3\\envs\\t2.3\\lib\\site-packages\\latex_envs\\static\\main_toolbar.png -> C:\\ProgramData\\jupyter\\nbextensions\\latex_envs\\main_toolbar.png\n",
      "[I 17:06:25 InstallContribNbextensionsApp] Copying: d:\\programdata\\anaconda3\\envs\\t2.3\\lib\\site-packages\\latex_envs\\static\\README.md -> C:\\ProgramData\\jupyter\\nbextensions\\latex_envs\\README.md\n",
      "[I 17:06:25 InstallContribNbextensionsApp] Copying: d:\\programdata\\anaconda3\\envs\\t2.3\\lib\\site-packages\\latex_envs\\static\\thmsInNb4.js -> C:\\ProgramData\\jupyter\\nbextensions\\latex_envs\\thmsInNb4.js\n",
      "[I 17:06:25 InstallContribNbextensionsApp] Making directory: C:\\ProgramData\\jupyter\\nbextensions\\latex_envs\\doc\n",
      "[I 17:06:25 InstallContribNbextensionsApp] Copying: d:\\programdata\\anaconda3\\envs\\t2.3\\lib\\site-packages\\latex_envs\\static\\doc\\biblio_ipython.bib -> C:\\ProgramData\\jupyter\\nbextensions\\latex_envs\\doc\\biblio_ipython.bib\n",
      "[I 17:06:25 InstallContribNbextensionsApp] Copying: d:\\programdata\\anaconda3\\envs\\t2.3\\lib\\site-packages\\latex_envs\\static\\doc\\configuration_toolbar.png -> C:\\ProgramData\\jupyter\\nbextensions\\latex_envs\\doc\\configuration_toolbar.png\n",
      "[I 17:06:25 InstallContribNbextensionsApp] Copying: d:\\programdata\\anaconda3\\envs\\t2.3\\lib\\site-packages\\latex_envs\\static\\doc\\config_toolbar.png -> C:\\ProgramData\\jupyter\\nbextensions\\latex_envs\\doc\\config_toolbar.png\n",
      "[I 17:06:25 InstallContribNbextensionsApp] Copying: d:\\programdata\\anaconda3\\envs\\t2.3\\lib\\site-packages\\latex_envs\\static\\doc\\documentation.pdf -> C:\\ProgramData\\jupyter\\nbextensions\\latex_envs\\doc\\documentation.pdf\n",
      "[I 17:06:25 InstallContribNbextensionsApp] Copying: d:\\programdata\\anaconda3\\envs\\t2.3\\lib\\site-packages\\latex_envs\\static\\doc\\documentation.tex -> C:\\ProgramData\\jupyter\\nbextensions\\latex_envs\\doc\\documentation.tex\n",
      "[I 17:06:25 InstallContribNbextensionsApp] Copying: d:\\programdata\\anaconda3\\envs\\t2.3\\lib\\site-packages\\latex_envs\\static\\doc\\example.png -> C:\\ProgramData\\jupyter\\nbextensions\\latex_envs\\doc\\example.png\n",
      "[I 17:06:25 InstallContribNbextensionsApp] Copying: d:\\programdata\\anaconda3\\envs\\t2.3\\lib\\site-packages\\latex_envs\\static\\doc\\header.tex -> C:\\ProgramData\\jupyter\\nbextensions\\latex_envs\\doc\\header.tex\n",
      "[I 17:06:25 InstallContribNbextensionsApp] Copying: d:\\programdata\\anaconda3\\envs\\t2.3\\lib\\site-packages\\latex_envs\\static\\doc\\IEEEtran.bst -> C:\\ProgramData\\jupyter\\nbextensions\\latex_envs\\doc\\IEEEtran.bst\n",
      "[I 17:06:25 InstallContribNbextensionsApp] Copying: d:\\programdata\\anaconda3\\envs\\t2.3\\lib\\site-packages\\latex_envs\\static\\doc\\LaTeX_envs_menu.png -> C:\\ProgramData\\jupyter\\nbextensions\\latex_envs\\doc\\LaTeX_envs_menu.png\n",
      "[I 17:06:25 InstallContribNbextensionsApp] Copying: d:\\programdata\\anaconda3\\envs\\t2.3\\lib\\site-packages\\latex_envs\\static\\doc\\latex_env_doc.html -> C:\\ProgramData\\jupyter\\nbextensions\\latex_envs\\doc\\latex_env_doc.html\n",
      "[I 17:06:25 InstallContribNbextensionsApp] Copying: d:\\programdata\\anaconda3\\envs\\t2.3\\lib\\site-packages\\latex_envs\\static\\doc\\latex_env_doc.ipynb -> C:\\ProgramData\\jupyter\\nbextensions\\latex_envs\\doc\\latex_env_doc.ipynb\n",
      "[I 17:06:25 InstallContribNbextensionsApp] Copying: d:\\programdata\\anaconda3\\envs\\t2.3\\lib\\site-packages\\latex_envs\\static\\doc\\latex_env_doc.tex -> C:\\ProgramData\\jupyter\\nbextensions\\latex_envs\\doc\\latex_env_doc.tex\n",
      "[I 17:06:25 InstallContribNbextensionsApp] Copying: d:\\programdata\\anaconda3\\envs\\t2.3\\lib\\site-packages\\latex_envs\\static\\doc\\main_toolbar.png -> C:\\ProgramData\\jupyter\\nbextensions\\latex_envs\\doc\\main_toolbar.png\n",
      "[I 17:06:25 InstallContribNbextensionsApp] Copying: d:\\programdata\\anaconda3\\envs\\t2.3\\lib\\site-packages\\latex_envs\\static\\doc\\README.md -> C:\\ProgramData\\jupyter\\nbextensions\\latex_envs\\doc\\README.md\n",
      "[I 17:06:25 InstallContribNbextensionsApp] Copying: d:\\programdata\\anaconda3\\envs\\t2.3\\lib\\site-packages\\latex_envs\\static\\doc\\Toggles.png -> C:\\ProgramData\\jupyter\\nbextensions\\latex_envs\\doc\\Toggles.png\n",
      "[I 17:06:25 InstallContribNbextensionsApp] Making directory: C:\\ProgramData\\jupyter\\nbextensions\\latex_envs\\doc\\.ipynb_checkpoints\n",
      "[I 17:06:25 InstallContribNbextensionsApp] Copying: d:\\programdata\\anaconda3\\envs\\t2.3\\lib\\site-packages\\latex_envs\\static\\doc\\.ipynb_checkpoints\\latex_env_doc-checkpoint.ipynb -> C:\\ProgramData\\jupyter\\nbextensions\\latex_envs\\doc\\.ipynb_checkpoints\\latex_env_doc-checkpoint.ipynb\n",
      "[I 17:06:25 InstallContribNbextensionsApp] Making directory: C:\\ProgramData\\jupyter\\nbextensions\\latex_envs\\doc\\latex_env_doc_files\n",
      "[I 17:06:25 InstallContribNbextensionsApp] Copying: d:\\programdata\\anaconda3\\envs\\t2.3\\lib\\site-packages\\latex_envs\\static\\doc\\latex_env_doc_files\\latex_env_doc_23_2.png -> C:\\ProgramData\\jupyter\\nbextensions\\latex_envs\\doc\\latex_env_doc_files\\latex_env_doc_23_2.png\n",
      "[I 17:06:25 InstallContribNbextensionsApp] Copying: d:\\programdata\\anaconda3\\envs\\t2.3\\lib\\site-packages\\latex_envs\\static\\doc\\latex_env_doc_files\\latex_env_doc_24_2.png -> C:\\ProgramData\\jupyter\\nbextensions\\latex_envs\\doc\\latex_env_doc_files\\latex_env_doc_24_2.png\n",
      "[I 17:06:25 InstallContribNbextensionsApp] Copying: d:\\programdata\\anaconda3\\envs\\t2.3\\lib\\site-packages\\latex_envs\\static\\doc\\latex_env_doc_files\\latex_env_doc_26_2.png -> C:\\ProgramData\\jupyter\\nbextensions\\latex_envs\\doc\\latex_env_doc_files\\latex_env_doc_26_2.png\n",
      "[I 17:06:25 InstallContribNbextensionsApp] Copying: d:\\programdata\\anaconda3\\envs\\t2.3\\lib\\site-packages\\latex_envs\\static\\doc\\latex_env_doc_files\\latex_env_doc_27_2.png -> C:\\ProgramData\\jupyter\\nbextensions\\latex_envs\\doc\\latex_env_doc_files\\latex_env_doc_27_2.png\n",
      "[I 17:06:25 InstallContribNbextensionsApp] Copying: d:\\programdata\\anaconda3\\envs\\t2.3\\lib\\site-packages\\latex_envs\\static\\doc\\latex_env_doc_files\\latex_env_doc_41_0.png -> C:\\ProgramData\\jupyter\\nbextensions\\latex_envs\\doc\\latex_env_doc_files\\latex_env_doc_41_0.png\n",
      "[I 17:06:25 InstallContribNbextensionsApp] Copying: d:\\programdata\\anaconda3\\envs\\t2.3\\lib\\site-packages\\latex_envs\\static\\doc\\latex_env_doc_files\\latex_env_doc_42_0.png -> C:\\ProgramData\\jupyter\\nbextensions\\latex_envs\\doc\\latex_env_doc_files\\latex_env_doc_42_0.png\n",
      "[I 17:06:25 InstallContribNbextensionsApp] Copying: d:\\programdata\\anaconda3\\envs\\t2.3\\lib\\site-packages\\latex_envs\\static\\doc\\latex_env_doc_files\\latex_env_doc_43_0.png -> C:\\ProgramData\\jupyter\\nbextensions\\latex_envs\\doc\\latex_env_doc_files\\latex_env_doc_43_0.png\n",
      "[I 17:06:25 InstallContribNbextensionsApp] Copying: d:\\programdata\\anaconda3\\envs\\t2.3\\lib\\site-packages\\latex_envs\\static\\doc\\latex_env_doc_files\\latex_env_doc_44_0.png -> C:\\ProgramData\\jupyter\\nbextensions\\latex_envs\\doc\\latex_env_doc_files\\latex_env_doc_44_0.png\n",
      "[I 17:06:25 InstallContribNbextensionsApp] Copying: d:\\programdata\\anaconda3\\envs\\t2.3\\lib\\site-packages\\latex_envs\\static\\doc\\latex_env_doc_files\\latex_env_doc_45_0.png -> C:\\ProgramData\\jupyter\\nbextensions\\latex_envs\\doc\\latex_env_doc_files\\latex_env_doc_45_0.png\n",
      "[I 17:06:25 InstallContribNbextensionsApp] Copying: d:\\programdata\\anaconda3\\envs\\t2.3\\lib\\site-packages\\latex_envs\\static\\doc\\latex_env_doc_files\\latex_env_doc_46_0.png -> C:\\ProgramData\\jupyter\\nbextensions\\latex_envs\\doc\\latex_env_doc_files\\latex_env_doc_46_0.png\n",
      "[I 17:06:25 InstallContribNbextensionsApp] Copying: d:\\programdata\\anaconda3\\envs\\t2.3\\lib\\site-packages\\latex_envs\\static\\doc\\latex_env_doc_files\\latex_env_doc_47_0.png -> C:\\ProgramData\\jupyter\\nbextensions\\latex_envs\\doc\\latex_env_doc_files\\latex_env_doc_47_0.png\n",
      "[I 17:06:25 InstallContribNbextensionsApp] Copying: d:\\programdata\\anaconda3\\envs\\t2.3\\lib\\site-packages\\latex_envs\\static\\doc\\latex_env_doc_files\\latex_env_doc_48_0.png -> C:\\ProgramData\\jupyter\\nbextensions\\latex_envs\\doc\\latex_env_doc_files\\latex_env_doc_48_0.png\n",
      "[I 17:06:25 InstallContribNbextensionsApp] Copying: d:\\programdata\\anaconda3\\envs\\t2.3\\lib\\site-packages\\latex_envs\\static\\doc\\latex_env_doc_files\\latex_env_doc_49_0.png -> C:\\ProgramData\\jupyter\\nbextensions\\latex_envs\\doc\\latex_env_doc_files\\latex_env_doc_49_0.png\n",
      "[I 17:06:25 InstallContribNbextensionsApp] Copying: d:\\programdata\\anaconda3\\envs\\t2.3\\lib\\site-packages\\latex_envs\\static\\doc\\latex_env_doc_files\\latex_env_doc_50_0.png -> C:\\ProgramData\\jupyter\\nbextensions\\latex_envs\\doc\\latex_env_doc_files\\latex_env_doc_50_0.png\n",
      "[I 17:06:25 InstallContribNbextensionsApp] Copying: d:\\programdata\\anaconda3\\envs\\t2.3\\lib\\site-packages\\latex_envs\\static\\doc\\latex_env_doc_files\\latex_env_doc_51_0.png -> C:\\ProgramData\\jupyter\\nbextensions\\latex_envs\\doc\\latex_env_doc_files\\latex_env_doc_51_0.png\n",
      "[I 17:06:25 InstallContribNbextensionsApp] Copying: d:\\programdata\\anaconda3\\envs\\t2.3\\lib\\site-packages\\latex_envs\\static\\doc\\latex_env_doc_files\\latex_env_doc_52_0.png -> C:\\ProgramData\\jupyter\\nbextensions\\latex_envs\\doc\\latex_env_doc_files\\latex_env_doc_52_0.png\n",
      "[I 17:06:25 InstallContribNbextensionsApp] - Validating: ok\n",
      "[I 17:06:25 InstallContribNbextensionsApp] Installing jupyter_contrib_nbextensions items to config in C:\\ProgramData\\jupyter\n",
      "Enabling: jupyter_nbextensions_configurator\n",
      "- Writing config: C:\\ProgramData\\jupyter\n",
      "    - Validating...\n",
      "      jupyter_nbextensions_configurator 0.4.1 ok\n",
      "Enabling notebook nbextension nbextensions_configurator/config_menu/main...\n",
      "Enabling tree nbextension nbextensions_configurator/tree_tab/main...\n",
      "[I 17:06:25 InstallContribNbextensionsApp] Enabling notebook extension contrib_nbextensions_help_item/main...\n",
      "[I 17:06:25 InstallContribNbextensionsApp]       - Validating: ok\n",
      "[I 17:06:25 InstallContribNbextensionsApp] - Editing config: C:\\ProgramData\\jupyter\\jupyter_nbconvert_config.json\n",
      "[I 17:06:25 InstallContribNbextensionsApp] --  Configuring nbconvert template path\n",
      "[I 17:06:25 InstallContribNbextensionsApp] --  Configuring nbconvert preprocessors\n",
      "[I 17:06:25 InstallContribNbextensionsApp] - Writing config: C:\\ProgramData\\jupyter\\jupyter_nbconvert_config.json\n",
      "[I 17:06:25 InstallContribNbextensionsApp] --  Writing updated config file C:\\ProgramData\\jupyter\\jupyter_nbconvert_config.json\n"
     ]
    }
   ],
   "source": [
    "pip install jupyter_contrib_nbextensions && jupyter contrib nbextension install"
   ]
  },
  {
   "cell_type": "markdown",
   "metadata": {},
   "source": [
    "# Python for Finance (2nd ed.)\n",
    "\n",
    "**Mastering Data-Driven Finance**\n",
    "\n",
    "&copy; Dr. Yves J. Hilpisch | The Python Quants GmbH\n",
    "\n",
    "<img src=\"http://hilpisch.com/images/py4fi_2nd_shadow.png\" width=\"300px\" align=\"left\">"
   ]
  },
  {
   "cell_type": "markdown",
   "metadata": {},
   "source": [
    "# Data Analysis with pandas "
   ]
  },
  {
   "cell_type": "markdown",
   "metadata": {},
   "source": [
    "## 相当于是Python版本的Excel，有一维版本：series，二维版本：dataframe"
   ]
  },
  {
   "cell_type": "markdown",
   "metadata": {},
   "source": [
    "## pandas Basics"
   ]
  },
  {
   "cell_type": "markdown",
   "metadata": {},
   "source": [
    "### First Steps with DataFrame Class，直接用pd.DataFrame写入"
   ]
  },
  {
   "cell_type": "code",
   "execution_count": 55,
   "metadata": {
    "uuid": "eda2a742-134d-4d47-8b30-557b846b9bb3"
   },
   "outputs": [],
   "source": [
    "import pandas as pd"
   ]
  },
  {
   "cell_type": "code",
   "execution_count": 56,
   "metadata": {},
   "outputs": [],
   "source": [
    "import numpy as np"
   ]
  },
  {
   "cell_type": "code",
   "execution_count": 57,
   "metadata": {},
   "outputs": [],
   "source": [
    "df = pd.DataFrame([10, 20, 30, 40],  \n",
    "                  columns=['numbers'],  \n",
    "                  index=['a', 'b', 'c', 'd'])  "
   ]
  },
  {
   "cell_type": "code",
   "execution_count": 58,
   "metadata": {
    "uuid": "f3be2d89-829a-49b2-96fc-07c475db1e3f"
   },
   "outputs": [
    {
     "data": {
      "text/html": [
       "<div>\n",
       "<style scoped>\n",
       "    .dataframe tbody tr th:only-of-type {\n",
       "        vertical-align: middle;\n",
       "    }\n",
       "\n",
       "    .dataframe tbody tr th {\n",
       "        vertical-align: top;\n",
       "    }\n",
       "\n",
       "    .dataframe thead th {\n",
       "        text-align: right;\n",
       "    }\n",
       "</style>\n",
       "<table border=\"1\" class=\"dataframe\">\n",
       "  <thead>\n",
       "    <tr style=\"text-align: right;\">\n",
       "      <th></th>\n",
       "      <th>numbers</th>\n",
       "    </tr>\n",
       "  </thead>\n",
       "  <tbody>\n",
       "    <tr>\n",
       "      <th>a</th>\n",
       "      <td>10</td>\n",
       "    </tr>\n",
       "    <tr>\n",
       "      <th>b</th>\n",
       "      <td>20</td>\n",
       "    </tr>\n",
       "    <tr>\n",
       "      <th>c</th>\n",
       "      <td>30</td>\n",
       "    </tr>\n",
       "    <tr>\n",
       "      <th>d</th>\n",
       "      <td>40</td>\n",
       "    </tr>\n",
       "  </tbody>\n",
       "</table>\n",
       "</div>"
      ],
      "text/plain": [
       "   numbers\n",
       "a       10\n",
       "b       20\n",
       "c       30\n",
       "d       40"
      ]
     },
     "execution_count": 58,
     "metadata": {},
     "output_type": "execute_result"
    }
   ],
   "source": [
    "df  "
   ]
  },
  {
   "cell_type": "code",
   "execution_count": 59,
   "metadata": {
    "uuid": "47b70a7b-710f-4c40-9a70-b09db7af1a12"
   },
   "outputs": [
    {
     "data": {
      "text/plain": [
       "Index(['a', 'b', 'c', 'd'], dtype='object')"
      ]
     },
     "execution_count": 59,
     "metadata": {},
     "output_type": "execute_result"
    }
   ],
   "source": [
    "df.index  "
   ]
  },
  {
   "cell_type": "code",
   "execution_count": 60,
   "metadata": {
    "uuid": "a36c6695-520d-4df1-a6fa-5f8362af37a3"
   },
   "outputs": [
    {
     "data": {
      "text/plain": [
       "Index(['numbers'], dtype='object')"
      ]
     },
     "execution_count": 60,
     "metadata": {},
     "output_type": "execute_result"
    }
   ],
   "source": [
    "df.columns  "
   ]
  },
  {
   "cell_type": "code",
   "execution_count": 61,
   "metadata": {
    "scrolled": true,
    "uuid": "c93aed37-21de-429d-86ed-9849e4c3e23c"
   },
   "outputs": [
    {
     "data": {
      "text/plain": [
       "numbers    30\n",
       "Name: c, dtype: int64"
      ]
     },
     "execution_count": 61,
     "metadata": {},
     "output_type": "execute_result"
    }
   ],
   "source": [
    "df.loc['c']  "
   ]
  },
  {
   "cell_type": "code",
   "execution_count": 62,
   "metadata": {
    "scrolled": false,
    "uuid": "8c7c2f69-3673-40d9-a568-0471c629810d"
   },
   "outputs": [
    {
     "data": {
      "text/html": [
       "<div>\n",
       "<style scoped>\n",
       "    .dataframe tbody tr th:only-of-type {\n",
       "        vertical-align: middle;\n",
       "    }\n",
       "\n",
       "    .dataframe tbody tr th {\n",
       "        vertical-align: top;\n",
       "    }\n",
       "\n",
       "    .dataframe thead th {\n",
       "        text-align: right;\n",
       "    }\n",
       "</style>\n",
       "<table border=\"1\" class=\"dataframe\">\n",
       "  <thead>\n",
       "    <tr style=\"text-align: right;\">\n",
       "      <th></th>\n",
       "      <th>numbers</th>\n",
       "    </tr>\n",
       "  </thead>\n",
       "  <tbody>\n",
       "    <tr>\n",
       "      <th>a</th>\n",
       "      <td>10</td>\n",
       "    </tr>\n",
       "    <tr>\n",
       "      <th>d</th>\n",
       "      <td>40</td>\n",
       "    </tr>\n",
       "  </tbody>\n",
       "</table>\n",
       "</div>"
      ],
      "text/plain": [
       "   numbers\n",
       "a       10\n",
       "d       40"
      ]
     },
     "execution_count": 62,
     "metadata": {},
     "output_type": "execute_result"
    }
   ],
   "source": [
    "df.loc[['a', 'd']]  "
   ]
  },
  {
   "cell_type": "code",
   "execution_count": 63,
   "metadata": {},
   "outputs": [
    {
     "ename": "KeyError",
     "evalue": "'ss'",
     "output_type": "error",
     "traceback": [
      "\u001b[1;31m---------------------------------------------------------------------------\u001b[0m",
      "\u001b[1;31mKeyError\u001b[0m                                  Traceback (most recent call last)",
      "\u001b[1;32mD:\\ProgramData\\Anaconda3\\envs\\t2.3\\lib\\site-packages\\pandas\\core\\indexes\\base.py\u001b[0m in \u001b[0;36mget_loc\u001b[1;34m(self, key, method, tolerance)\u001b[0m\n\u001b[0;32m   3079\u001b[0m             \u001b[1;32mtry\u001b[0m\u001b[1;33m:\u001b[0m\u001b[1;33m\u001b[0m\u001b[1;33m\u001b[0m\u001b[0m\n\u001b[1;32m-> 3080\u001b[1;33m                 \u001b[1;32mreturn\u001b[0m \u001b[0mself\u001b[0m\u001b[1;33m.\u001b[0m\u001b[0m_engine\u001b[0m\u001b[1;33m.\u001b[0m\u001b[0mget_loc\u001b[0m\u001b[1;33m(\u001b[0m\u001b[0mcasted_key\u001b[0m\u001b[1;33m)\u001b[0m\u001b[1;33m\u001b[0m\u001b[1;33m\u001b[0m\u001b[0m\n\u001b[0m\u001b[0;32m   3081\u001b[0m             \u001b[1;32mexcept\u001b[0m \u001b[0mKeyError\u001b[0m \u001b[1;32mas\u001b[0m \u001b[0merr\u001b[0m\u001b[1;33m:\u001b[0m\u001b[1;33m\u001b[0m\u001b[1;33m\u001b[0m\u001b[0m\n",
      "\u001b[1;32mpandas\\_libs\\index.pyx\u001b[0m in \u001b[0;36mpandas._libs.index.IndexEngine.get_loc\u001b[1;34m()\u001b[0m\n",
      "\u001b[1;32mpandas\\_libs\\index.pyx\u001b[0m in \u001b[0;36mpandas._libs.index.IndexEngine.get_loc\u001b[1;34m()\u001b[0m\n",
      "\u001b[1;32mpandas\\_libs\\hashtable_class_helper.pxi\u001b[0m in \u001b[0;36mpandas._libs.hashtable.PyObjectHashTable.get_item\u001b[1;34m()\u001b[0m\n",
      "\u001b[1;32mpandas\\_libs\\hashtable_class_helper.pxi\u001b[0m in \u001b[0;36mpandas._libs.hashtable.PyObjectHashTable.get_item\u001b[1;34m()\u001b[0m\n",
      "\u001b[1;31mKeyError\u001b[0m: 'ss'",
      "\nThe above exception was the direct cause of the following exception:\n",
      "\u001b[1;31mKeyError\u001b[0m                                  Traceback (most recent call last)",
      "\u001b[1;32m<ipython-input-63-730f0e0a6b67>\u001b[0m in \u001b[0;36m<module>\u001b[1;34m\u001b[0m\n\u001b[0;32m      1\u001b[0m \u001b[0mdf\u001b[0m\u001b[1;33m[\u001b[0m\u001b[1;34m'ss'\u001b[0m\u001b[1;33m]\u001b[0m \u001b[1;33m=\u001b[0m \u001b[0mdf\u001b[0m\u001b[1;33m[\u001b[0m\u001b[1;34m'numbers'\u001b[0m\u001b[1;33m]\u001b[0m \u001b[1;33m*\u001b[0m \u001b[1;36m2\u001b[0m\u001b[1;33m\u001b[0m\u001b[1;33m\u001b[0m\u001b[0m\n\u001b[0;32m      2\u001b[0m \u001b[0mdf\u001b[0m\u001b[1;33m\u001b[0m\u001b[1;33m\u001b[0m\u001b[0m\n\u001b[1;32m----> 3\u001b[1;33m \u001b[0mdf\u001b[0m\u001b[1;33m.\u001b[0m\u001b[0mloc\u001b[0m\u001b[1;33m[\u001b[0m\u001b[1;34m'ss'\u001b[0m\u001b[1;33m]\u001b[0m\u001b[1;33m[\u001b[0m\u001b[1;34m'c'\u001b[0m\u001b[1;33m]\u001b[0m\u001b[1;33m\u001b[0m\u001b[1;33m\u001b[0m\u001b[0m\n\u001b[0m",
      "\u001b[1;32mD:\\ProgramData\\Anaconda3\\envs\\t2.3\\lib\\site-packages\\pandas\\core\\indexing.py\u001b[0m in \u001b[0;36m__getitem__\u001b[1;34m(self, key)\u001b[0m\n\u001b[0;32m    893\u001b[0m \u001b[1;33m\u001b[0m\u001b[0m\n\u001b[0;32m    894\u001b[0m             \u001b[0mmaybe_callable\u001b[0m \u001b[1;33m=\u001b[0m \u001b[0mcom\u001b[0m\u001b[1;33m.\u001b[0m\u001b[0mapply_if_callable\u001b[0m\u001b[1;33m(\u001b[0m\u001b[0mkey\u001b[0m\u001b[1;33m,\u001b[0m \u001b[0mself\u001b[0m\u001b[1;33m.\u001b[0m\u001b[0mobj\u001b[0m\u001b[1;33m)\u001b[0m\u001b[1;33m\u001b[0m\u001b[1;33m\u001b[0m\u001b[0m\n\u001b[1;32m--> 895\u001b[1;33m             \u001b[1;32mreturn\u001b[0m \u001b[0mself\u001b[0m\u001b[1;33m.\u001b[0m\u001b[0m_getitem_axis\u001b[0m\u001b[1;33m(\u001b[0m\u001b[0mmaybe_callable\u001b[0m\u001b[1;33m,\u001b[0m \u001b[0maxis\u001b[0m\u001b[1;33m=\u001b[0m\u001b[0maxis\u001b[0m\u001b[1;33m)\u001b[0m\u001b[1;33m\u001b[0m\u001b[1;33m\u001b[0m\u001b[0m\n\u001b[0m\u001b[0;32m    896\u001b[0m \u001b[1;33m\u001b[0m\u001b[0m\n\u001b[0;32m    897\u001b[0m     \u001b[1;32mdef\u001b[0m \u001b[0m_is_scalar_access\u001b[0m\u001b[1;33m(\u001b[0m\u001b[0mself\u001b[0m\u001b[1;33m,\u001b[0m \u001b[0mkey\u001b[0m\u001b[1;33m:\u001b[0m \u001b[0mTuple\u001b[0m\u001b[1;33m)\u001b[0m\u001b[1;33m:\u001b[0m\u001b[1;33m\u001b[0m\u001b[1;33m\u001b[0m\u001b[0m\n",
      "\u001b[1;32mD:\\ProgramData\\Anaconda3\\envs\\t2.3\\lib\\site-packages\\pandas\\core\\indexing.py\u001b[0m in \u001b[0;36m_getitem_axis\u001b[1;34m(self, key, axis)\u001b[0m\n\u001b[0;32m   1122\u001b[0m         \u001b[1;31m# fall thru to straight lookup\u001b[0m\u001b[1;33m\u001b[0m\u001b[1;33m\u001b[0m\u001b[1;33m\u001b[0m\u001b[0m\n\u001b[0;32m   1123\u001b[0m         \u001b[0mself\u001b[0m\u001b[1;33m.\u001b[0m\u001b[0m_validate_key\u001b[0m\u001b[1;33m(\u001b[0m\u001b[0mkey\u001b[0m\u001b[1;33m,\u001b[0m \u001b[0maxis\u001b[0m\u001b[1;33m)\u001b[0m\u001b[1;33m\u001b[0m\u001b[1;33m\u001b[0m\u001b[0m\n\u001b[1;32m-> 1124\u001b[1;33m         \u001b[1;32mreturn\u001b[0m \u001b[0mself\u001b[0m\u001b[1;33m.\u001b[0m\u001b[0m_get_label\u001b[0m\u001b[1;33m(\u001b[0m\u001b[0mkey\u001b[0m\u001b[1;33m,\u001b[0m \u001b[0maxis\u001b[0m\u001b[1;33m=\u001b[0m\u001b[0maxis\u001b[0m\u001b[1;33m)\u001b[0m\u001b[1;33m\u001b[0m\u001b[1;33m\u001b[0m\u001b[0m\n\u001b[0m\u001b[0;32m   1125\u001b[0m \u001b[1;33m\u001b[0m\u001b[0m\n\u001b[0;32m   1126\u001b[0m     \u001b[1;32mdef\u001b[0m \u001b[0m_get_slice_axis\u001b[0m\u001b[1;33m(\u001b[0m\u001b[0mself\u001b[0m\u001b[1;33m,\u001b[0m \u001b[0mslice_obj\u001b[0m\u001b[1;33m:\u001b[0m \u001b[0mslice\u001b[0m\u001b[1;33m,\u001b[0m \u001b[0maxis\u001b[0m\u001b[1;33m:\u001b[0m \u001b[0mint\u001b[0m\u001b[1;33m)\u001b[0m\u001b[1;33m:\u001b[0m\u001b[1;33m\u001b[0m\u001b[1;33m\u001b[0m\u001b[0m\n",
      "\u001b[1;32mD:\\ProgramData\\Anaconda3\\envs\\t2.3\\lib\\site-packages\\pandas\\core\\indexing.py\u001b[0m in \u001b[0;36m_get_label\u001b[1;34m(self, label, axis)\u001b[0m\n\u001b[0;32m   1071\u001b[0m     \u001b[1;32mdef\u001b[0m \u001b[0m_get_label\u001b[0m\u001b[1;33m(\u001b[0m\u001b[0mself\u001b[0m\u001b[1;33m,\u001b[0m \u001b[0mlabel\u001b[0m\u001b[1;33m,\u001b[0m \u001b[0maxis\u001b[0m\u001b[1;33m:\u001b[0m \u001b[0mint\u001b[0m\u001b[1;33m)\u001b[0m\u001b[1;33m:\u001b[0m\u001b[1;33m\u001b[0m\u001b[1;33m\u001b[0m\u001b[0m\n\u001b[0;32m   1072\u001b[0m         \u001b[1;31m# GH#5667 this will fail if the label is not present in the axis.\u001b[0m\u001b[1;33m\u001b[0m\u001b[1;33m\u001b[0m\u001b[1;33m\u001b[0m\u001b[0m\n\u001b[1;32m-> 1073\u001b[1;33m         \u001b[1;32mreturn\u001b[0m \u001b[0mself\u001b[0m\u001b[1;33m.\u001b[0m\u001b[0mobj\u001b[0m\u001b[1;33m.\u001b[0m\u001b[0mxs\u001b[0m\u001b[1;33m(\u001b[0m\u001b[0mlabel\u001b[0m\u001b[1;33m,\u001b[0m \u001b[0maxis\u001b[0m\u001b[1;33m=\u001b[0m\u001b[0maxis\u001b[0m\u001b[1;33m)\u001b[0m\u001b[1;33m\u001b[0m\u001b[1;33m\u001b[0m\u001b[0m\n\u001b[0m\u001b[0;32m   1074\u001b[0m \u001b[1;33m\u001b[0m\u001b[0m\n\u001b[0;32m   1075\u001b[0m     \u001b[1;32mdef\u001b[0m \u001b[0m_handle_lowerdim_multi_index_axis0\u001b[0m\u001b[1;33m(\u001b[0m\u001b[0mself\u001b[0m\u001b[1;33m,\u001b[0m \u001b[0mtup\u001b[0m\u001b[1;33m:\u001b[0m \u001b[0mTuple\u001b[0m\u001b[1;33m)\u001b[0m\u001b[1;33m:\u001b[0m\u001b[1;33m\u001b[0m\u001b[1;33m\u001b[0m\u001b[0m\n",
      "\u001b[1;32mD:\\ProgramData\\Anaconda3\\envs\\t2.3\\lib\\site-packages\\pandas\\core\\generic.py\u001b[0m in \u001b[0;36mxs\u001b[1;34m(self, key, axis, level, drop_level)\u001b[0m\n\u001b[0;32m   3737\u001b[0m                 \u001b[1;32mraise\u001b[0m \u001b[0mTypeError\u001b[0m\u001b[1;33m(\u001b[0m\u001b[1;34mf\"Expected label or tuple of labels, got {key}\"\u001b[0m\u001b[1;33m)\u001b[0m \u001b[1;32mfrom\u001b[0m \u001b[0me\u001b[0m\u001b[1;33m\u001b[0m\u001b[1;33m\u001b[0m\u001b[0m\n\u001b[0;32m   3738\u001b[0m         \u001b[1;32melse\u001b[0m\u001b[1;33m:\u001b[0m\u001b[1;33m\u001b[0m\u001b[1;33m\u001b[0m\u001b[0m\n\u001b[1;32m-> 3739\u001b[1;33m             \u001b[0mloc\u001b[0m \u001b[1;33m=\u001b[0m \u001b[0mindex\u001b[0m\u001b[1;33m.\u001b[0m\u001b[0mget_loc\u001b[0m\u001b[1;33m(\u001b[0m\u001b[0mkey\u001b[0m\u001b[1;33m)\u001b[0m\u001b[1;33m\u001b[0m\u001b[1;33m\u001b[0m\u001b[0m\n\u001b[0m\u001b[0;32m   3740\u001b[0m \u001b[1;33m\u001b[0m\u001b[0m\n\u001b[0;32m   3741\u001b[0m             \u001b[1;32mif\u001b[0m \u001b[0misinstance\u001b[0m\u001b[1;33m(\u001b[0m\u001b[0mloc\u001b[0m\u001b[1;33m,\u001b[0m \u001b[0mnp\u001b[0m\u001b[1;33m.\u001b[0m\u001b[0mndarray\u001b[0m\u001b[1;33m)\u001b[0m\u001b[1;33m:\u001b[0m\u001b[1;33m\u001b[0m\u001b[1;33m\u001b[0m\u001b[0m\n",
      "\u001b[1;32mD:\\ProgramData\\Anaconda3\\envs\\t2.3\\lib\\site-packages\\pandas\\core\\indexes\\base.py\u001b[0m in \u001b[0;36mget_loc\u001b[1;34m(self, key, method, tolerance)\u001b[0m\n\u001b[0;32m   3080\u001b[0m                 \u001b[1;32mreturn\u001b[0m \u001b[0mself\u001b[0m\u001b[1;33m.\u001b[0m\u001b[0m_engine\u001b[0m\u001b[1;33m.\u001b[0m\u001b[0mget_loc\u001b[0m\u001b[1;33m(\u001b[0m\u001b[0mcasted_key\u001b[0m\u001b[1;33m)\u001b[0m\u001b[1;33m\u001b[0m\u001b[1;33m\u001b[0m\u001b[0m\n\u001b[0;32m   3081\u001b[0m             \u001b[1;32mexcept\u001b[0m \u001b[0mKeyError\u001b[0m \u001b[1;32mas\u001b[0m \u001b[0merr\u001b[0m\u001b[1;33m:\u001b[0m\u001b[1;33m\u001b[0m\u001b[1;33m\u001b[0m\u001b[0m\n\u001b[1;32m-> 3082\u001b[1;33m                 \u001b[1;32mraise\u001b[0m \u001b[0mKeyError\u001b[0m\u001b[1;33m(\u001b[0m\u001b[0mkey\u001b[0m\u001b[1;33m)\u001b[0m \u001b[1;32mfrom\u001b[0m \u001b[0merr\u001b[0m\u001b[1;33m\u001b[0m\u001b[1;33m\u001b[0m\u001b[0m\n\u001b[0m\u001b[0;32m   3083\u001b[0m \u001b[1;33m\u001b[0m\u001b[0m\n\u001b[0;32m   3084\u001b[0m         \u001b[1;32mif\u001b[0m \u001b[0mtolerance\u001b[0m \u001b[1;32mis\u001b[0m \u001b[1;32mnot\u001b[0m \u001b[1;32mNone\u001b[0m\u001b[1;33m:\u001b[0m\u001b[1;33m\u001b[0m\u001b[1;33m\u001b[0m\u001b[0m\n",
      "\u001b[1;31mKeyError\u001b[0m: 'ss'"
     ]
    }
   ],
   "source": [
    "df['ss'] = df['numbers'] * 2\n",
    "df\n",
    "df.loc['ss']['c']"
   ]
  },
  {
   "cell_type": "code",
   "execution_count": 64,
   "metadata": {},
   "outputs": [
    {
     "data": {
      "text/plain": [
       "b    20\n",
       "c    30\n",
       "Name: numbers, dtype: int64"
      ]
     },
     "execution_count": 64,
     "metadata": {},
     "output_type": "execute_result"
    }
   ],
   "source": [
    "df.iloc[1:3, 0]"
   ]
  },
  {
   "cell_type": "code",
   "execution_count": 65,
   "metadata": {
    "scrolled": false,
    "uuid": "c3ce0cc3-26e8-4256-ab8c-9a2d4b181633"
   },
   "outputs": [
    {
     "data": {
      "text/html": [
       "<div>\n",
       "<style scoped>\n",
       "    .dataframe tbody tr th:only-of-type {\n",
       "        vertical-align: middle;\n",
       "    }\n",
       "\n",
       "    .dataframe tbody tr th {\n",
       "        vertical-align: top;\n",
       "    }\n",
       "\n",
       "    .dataframe thead th {\n",
       "        text-align: right;\n",
       "    }\n",
       "</style>\n",
       "<table border=\"1\" class=\"dataframe\">\n",
       "  <thead>\n",
       "    <tr style=\"text-align: right;\">\n",
       "      <th></th>\n",
       "      <th>numbers</th>\n",
       "      <th>ss</th>\n",
       "    </tr>\n",
       "  </thead>\n",
       "  <tbody>\n",
       "    <tr>\n",
       "      <th>b</th>\n",
       "      <td>20</td>\n",
       "      <td>40</td>\n",
       "    </tr>\n",
       "    <tr>\n",
       "      <th>c</th>\n",
       "      <td>30</td>\n",
       "      <td>60</td>\n",
       "    </tr>\n",
       "  </tbody>\n",
       "</table>\n",
       "</div>"
      ],
      "text/plain": [
       "   numbers  ss\n",
       "b       20  40\n",
       "c       30  60"
      ]
     },
     "execution_count": 65,
     "metadata": {},
     "output_type": "execute_result"
    }
   ],
   "source": [
    "df.iloc[1:3]  "
   ]
  },
  {
   "cell_type": "markdown",
   "metadata": {},
   "source": [
    "##### loc[]里面加的是列的名称，而iloc[]里面加的是行或者列的编号。所以loc比较适合数据量少一些，每一列都有名称；iloc相对于比较适合数据量多，没有名称的情况。"
   ]
  },
  {
   "cell_type": "markdown",
   "metadata": {},
   "source": [
    "##### loc[]里面不能放columns的名称，iloc可以放columns的序号。"
   ]
  },
  {
   "cell_type": "code",
   "execution_count": 66,
   "metadata": {
    "scrolled": true,
    "uuid": "94b1d846-63df-49f4-8a7f-8fed03e5f4fa"
   },
   "outputs": [
    {
     "data": {
      "text/plain": [
       "numbers    100\n",
       "ss         200\n",
       "dtype: int64"
      ]
     },
     "execution_count": 66,
     "metadata": {},
     "output_type": "execute_result"
    }
   ],
   "source": [
    "df.sum()  "
   ]
  },
  {
   "cell_type": "markdown",
   "metadata": {},
   "source": [
    "按columns相加起来"
   ]
  },
  {
   "cell_type": "code",
   "execution_count": 67,
   "metadata": {
    "scrolled": false,
    "uuid": "4e73eb4f-352d-4527-b0c5-4f3a6e7eb354"
   },
   "outputs": [
    {
     "name": "stdout",
     "output_type": "stream",
     "text": [
      "   numbers    ss\n",
      "a      100   400\n",
      "b      400  1600\n",
      "c      900  3600\n",
      "d     1600  6400    numbers  ss\n",
      "a       10  20\n",
      "b       20  40\n",
      "c       30  60\n",
      "d       40  80\n"
     ]
    }
   ],
   "source": [
    "df9 = df.apply(lambda x: x ** 2)  \n",
    "print(df9,df)"
   ]
  },
  {
   "cell_type": "code",
   "execution_count": 68,
   "metadata": {},
   "outputs": [
    {
     "data": {
      "text/plain": [
       "numbers    11.18034\n",
       "ss         22.36068\n",
       "dtype: float64"
      ]
     },
     "execution_count": 68,
     "metadata": {},
     "output_type": "execute_result"
    }
   ],
   "source": [
    "df.apply(np.std)"
   ]
  },
  {
   "cell_type": "markdown",
   "metadata": {},
   "source": [
    "相当于是numpy里面的map函数，()里面是对数组操作的函数。"
   ]
  },
  {
   "cell_type": "code",
   "execution_count": 69,
   "metadata": {
    "scrolled": true,
    "uuid": "75206a83-0154-4be2-88d0-7a82a190fda1"
   },
   "outputs": [
    {
     "data": {
      "text/html": [
       "<div>\n",
       "<style scoped>\n",
       "    .dataframe tbody tr th:only-of-type {\n",
       "        vertical-align: middle;\n",
       "    }\n",
       "\n",
       "    .dataframe tbody tr th {\n",
       "        vertical-align: top;\n",
       "    }\n",
       "\n",
       "    .dataframe thead th {\n",
       "        text-align: right;\n",
       "    }\n",
       "</style>\n",
       "<table border=\"1\" class=\"dataframe\">\n",
       "  <thead>\n",
       "    <tr style=\"text-align: right;\">\n",
       "      <th></th>\n",
       "      <th>numbers</th>\n",
       "      <th>ss</th>\n",
       "    </tr>\n",
       "  </thead>\n",
       "  <tbody>\n",
       "    <tr>\n",
       "      <th>a</th>\n",
       "      <td>100</td>\n",
       "      <td>400</td>\n",
       "    </tr>\n",
       "    <tr>\n",
       "      <th>b</th>\n",
       "      <td>400</td>\n",
       "      <td>1600</td>\n",
       "    </tr>\n",
       "    <tr>\n",
       "      <th>c</th>\n",
       "      <td>900</td>\n",
       "      <td>3600</td>\n",
       "    </tr>\n",
       "    <tr>\n",
       "      <th>d</th>\n",
       "      <td>1600</td>\n",
       "      <td>6400</td>\n",
       "    </tr>\n",
       "  </tbody>\n",
       "</table>\n",
       "</div>"
      ],
      "text/plain": [
       "   numbers    ss\n",
       "a      100   400\n",
       "b      400  1600\n",
       "c      900  3600\n",
       "d     1600  6400"
      ]
     },
     "execution_count": 69,
     "metadata": {},
     "output_type": "execute_result"
    }
   ],
   "source": [
    "df ** 2  "
   ]
  },
  {
   "cell_type": "code",
   "execution_count": 71,
   "metadata": {
    "scrolled": true
   },
   "outputs": [
    {
     "data": {
      "text/html": [
       "<div>\n",
       "<style scoped>\n",
       "    .dataframe tbody tr th:only-of-type {\n",
       "        vertical-align: middle;\n",
       "    }\n",
       "\n",
       "    .dataframe tbody tr th {\n",
       "        vertical-align: top;\n",
       "    }\n",
       "\n",
       "    .dataframe thead th {\n",
       "        text-align: right;\n",
       "    }\n",
       "</style>\n",
       "<table border=\"1\" class=\"dataframe\">\n",
       "  <thead>\n",
       "    <tr style=\"text-align: right;\">\n",
       "      <th></th>\n",
       "      <th>numbers</th>\n",
       "      <th>ss</th>\n",
       "    </tr>\n",
       "  </thead>\n",
       "  <tbody>\n",
       "    <tr>\n",
       "      <th>a</th>\n",
       "      <td>10</td>\n",
       "      <td>20</td>\n",
       "    </tr>\n",
       "    <tr>\n",
       "      <th>b</th>\n",
       "      <td>20</td>\n",
       "      <td>40</td>\n",
       "    </tr>\n",
       "    <tr>\n",
       "      <th>c</th>\n",
       "      <td>30</td>\n",
       "      <td>60</td>\n",
       "    </tr>\n",
       "    <tr>\n",
       "      <th>d</th>\n",
       "      <td>40</td>\n",
       "      <td>80</td>\n",
       "    </tr>\n",
       "  </tbody>\n",
       "</table>\n",
       "</div>"
      ],
      "text/plain": [
       "   numbers  ss\n",
       "a       10  20\n",
       "b       20  40\n",
       "c       30  60\n",
       "d       40  80"
      ]
     },
     "execution_count": 71,
     "metadata": {},
     "output_type": "execute_result"
    }
   ],
   "source": [
    "df"
   ]
  },
  {
   "cell_type": "markdown",
   "metadata": {},
   "source": [
    "每次对df的操作都只是记录在内存条里面，并不会对df本身数据进行改变，所以除非再重命名df,计算后的值不会被记录下来，并且参与之后对df的计算。"
   ]
  },
  {
   "cell_type": "code",
   "execution_count": 72,
   "metadata": {},
   "outputs": [],
   "source": [
    "df['floats'] = (1.5, 2.5, 3.5, 4.5)  "
   ]
  },
  {
   "cell_type": "code",
   "execution_count": 73,
   "metadata": {
    "scrolled": false,
    "uuid": "49a2633a-b3c0-4d00-a227-e0ff4a8cf81d"
   },
   "outputs": [
    {
     "data": {
      "text/html": [
       "<div>\n",
       "<style scoped>\n",
       "    .dataframe tbody tr th:only-of-type {\n",
       "        vertical-align: middle;\n",
       "    }\n",
       "\n",
       "    .dataframe tbody tr th {\n",
       "        vertical-align: top;\n",
       "    }\n",
       "\n",
       "    .dataframe thead th {\n",
       "        text-align: right;\n",
       "    }\n",
       "</style>\n",
       "<table border=\"1\" class=\"dataframe\">\n",
       "  <thead>\n",
       "    <tr style=\"text-align: right;\">\n",
       "      <th></th>\n",
       "      <th>numbers</th>\n",
       "      <th>ss</th>\n",
       "      <th>floats</th>\n",
       "    </tr>\n",
       "  </thead>\n",
       "  <tbody>\n",
       "    <tr>\n",
       "      <th>a</th>\n",
       "      <td>10</td>\n",
       "      <td>20</td>\n",
       "      <td>1.5</td>\n",
       "    </tr>\n",
       "    <tr>\n",
       "      <th>b</th>\n",
       "      <td>20</td>\n",
       "      <td>40</td>\n",
       "      <td>2.5</td>\n",
       "    </tr>\n",
       "    <tr>\n",
       "      <th>c</th>\n",
       "      <td>30</td>\n",
       "      <td>60</td>\n",
       "      <td>3.5</td>\n",
       "    </tr>\n",
       "    <tr>\n",
       "      <th>d</th>\n",
       "      <td>40</td>\n",
       "      <td>80</td>\n",
       "      <td>4.5</td>\n",
       "    </tr>\n",
       "  </tbody>\n",
       "</table>\n",
       "</div>"
      ],
      "text/plain": [
       "   numbers  ss  floats\n",
       "a       10  20     1.5\n",
       "b       20  40     2.5\n",
       "c       30  60     3.5\n",
       "d       40  80     4.5"
      ]
     },
     "execution_count": 73,
     "metadata": {},
     "output_type": "execute_result"
    }
   ],
   "source": [
    "df"
   ]
  },
  {
   "cell_type": "markdown",
   "metadata": {},
   "source": [
    "和numpy一样，可以增加列，通过df['floats'] =的方式。"
   ]
  },
  {
   "cell_type": "code",
   "execution_count": 74,
   "metadata": {
    "scrolled": true,
    "uuid": "c49b9aea-417a-4c2b-8e27-0e8771a77c87"
   },
   "outputs": [
    {
     "data": {
      "text/plain": [
       "a    1.5\n",
       "b    2.5\n",
       "c    3.5\n",
       "d    4.5\n",
       "Name: floats, dtype: float64"
      ]
     },
     "execution_count": 74,
     "metadata": {},
     "output_type": "execute_result"
    }
   ],
   "source": [
    "df['floats']  "
   ]
  },
  {
   "cell_type": "code",
   "execution_count": 75,
   "metadata": {},
   "outputs": [
    {
     "data": {
      "text/html": [
       "<div>\n",
       "<style scoped>\n",
       "    .dataframe tbody tr th:only-of-type {\n",
       "        vertical-align: middle;\n",
       "    }\n",
       "\n",
       "    .dataframe tbody tr th {\n",
       "        vertical-align: top;\n",
       "    }\n",
       "\n",
       "    .dataframe thead th {\n",
       "        text-align: right;\n",
       "    }\n",
       "</style>\n",
       "<table border=\"1\" class=\"dataframe\">\n",
       "  <thead>\n",
       "    <tr style=\"text-align: right;\">\n",
       "      <th></th>\n",
       "      <th>numbers</th>\n",
       "      <th>ss</th>\n",
       "      <th>floats</th>\n",
       "    </tr>\n",
       "  </thead>\n",
       "  <tbody>\n",
       "    <tr>\n",
       "      <th>b</th>\n",
       "      <td>20</td>\n",
       "      <td>40</td>\n",
       "      <td>2.5</td>\n",
       "    </tr>\n",
       "    <tr>\n",
       "      <th>c</th>\n",
       "      <td>30</td>\n",
       "      <td>60</td>\n",
       "      <td>3.5</td>\n",
       "    </tr>\n",
       "  </tbody>\n",
       "</table>\n",
       "</div>"
      ],
      "text/plain": [
       "   numbers  ss  floats\n",
       "b       20  40     2.5\n",
       "c       30  60     3.5"
      ]
     },
     "execution_count": 75,
     "metadata": {},
     "output_type": "execute_result"
    }
   ],
   "source": [
    "df[1:3]"
   ]
  },
  {
   "cell_type": "markdown",
   "metadata": {},
   "source": [
    "##### 直接df['floats'] 可以截取整个columns的内容,相比loc和iloc直接[]的方式更加简单，兼容两种写法，而且可以用columns名称来截取数组。"
   ]
  },
  {
   "cell_type": "code",
   "execution_count": 76,
   "metadata": {},
   "outputs": [],
   "source": [
    "df['names'] = pd.DataFrame(['Yves', 'Sandra', 'Lilli', 'Henry'],\n",
    "                           index=['d', 'a', 'b', 'c'])  "
   ]
  },
  {
   "cell_type": "markdown",
   "metadata": {},
   "source": [
    "自动对齐index和values。"
   ]
  },
  {
   "cell_type": "code",
   "execution_count": 77,
   "metadata": {
    "scrolled": false,
    "uuid": "aa892c41-6637-45ed-876b-6a70285e4c0b"
   },
   "outputs": [
    {
     "data": {
      "text/html": [
       "<div>\n",
       "<style scoped>\n",
       "    .dataframe tbody tr th:only-of-type {\n",
       "        vertical-align: middle;\n",
       "    }\n",
       "\n",
       "    .dataframe tbody tr th {\n",
       "        vertical-align: top;\n",
       "    }\n",
       "\n",
       "    .dataframe thead th {\n",
       "        text-align: right;\n",
       "    }\n",
       "</style>\n",
       "<table border=\"1\" class=\"dataframe\">\n",
       "  <thead>\n",
       "    <tr style=\"text-align: right;\">\n",
       "      <th></th>\n",
       "      <th>numbers</th>\n",
       "      <th>ss</th>\n",
       "      <th>floats</th>\n",
       "      <th>names</th>\n",
       "    </tr>\n",
       "  </thead>\n",
       "  <tbody>\n",
       "    <tr>\n",
       "      <th>a</th>\n",
       "      <td>10</td>\n",
       "      <td>20</td>\n",
       "      <td>1.5</td>\n",
       "      <td>Sandra</td>\n",
       "    </tr>\n",
       "    <tr>\n",
       "      <th>b</th>\n",
       "      <td>20</td>\n",
       "      <td>40</td>\n",
       "      <td>2.5</td>\n",
       "      <td>Lilli</td>\n",
       "    </tr>\n",
       "    <tr>\n",
       "      <th>c</th>\n",
       "      <td>30</td>\n",
       "      <td>60</td>\n",
       "      <td>3.5</td>\n",
       "      <td>Henry</td>\n",
       "    </tr>\n",
       "    <tr>\n",
       "      <th>d</th>\n",
       "      <td>40</td>\n",
       "      <td>80</td>\n",
       "      <td>4.5</td>\n",
       "      <td>Yves</td>\n",
       "    </tr>\n",
       "  </tbody>\n",
       "</table>\n",
       "</div>"
      ],
      "text/plain": [
       "   numbers  ss  floats   names\n",
       "a       10  20     1.5  Sandra\n",
       "b       20  40     2.5   Lilli\n",
       "c       30  60     3.5   Henry\n",
       "d       40  80     4.5    Yves"
      ]
     },
     "execution_count": 77,
     "metadata": {},
     "output_type": "execute_result"
    }
   ],
   "source": [
    "df"
   ]
  },
  {
   "cell_type": "code",
   "execution_count": 78,
   "metadata": {
    "scrolled": false,
    "uuid": "584ac18c-161f-4c7b-8ff1-1cd406fb8437"
   },
   "outputs": [
    {
     "data": {
      "text/html": [
       "<div>\n",
       "<style scoped>\n",
       "    .dataframe tbody tr th:only-of-type {\n",
       "        vertical-align: middle;\n",
       "    }\n",
       "\n",
       "    .dataframe tbody tr th {\n",
       "        vertical-align: top;\n",
       "    }\n",
       "\n",
       "    .dataframe thead th {\n",
       "        text-align: right;\n",
       "    }\n",
       "</style>\n",
       "<table border=\"1\" class=\"dataframe\">\n",
       "  <thead>\n",
       "    <tr style=\"text-align: right;\">\n",
       "      <th></th>\n",
       "      <th>numbers</th>\n",
       "      <th>ss</th>\n",
       "      <th>floats</th>\n",
       "      <th>names</th>\n",
       "    </tr>\n",
       "  </thead>\n",
       "  <tbody>\n",
       "    <tr>\n",
       "      <th>0</th>\n",
       "      <td>10</td>\n",
       "      <td>20.0</td>\n",
       "      <td>1.50</td>\n",
       "      <td>Sandra</td>\n",
       "    </tr>\n",
       "    <tr>\n",
       "      <th>1</th>\n",
       "      <td>20</td>\n",
       "      <td>40.0</td>\n",
       "      <td>2.50</td>\n",
       "      <td>Lilli</td>\n",
       "    </tr>\n",
       "    <tr>\n",
       "      <th>2</th>\n",
       "      <td>30</td>\n",
       "      <td>60.0</td>\n",
       "      <td>3.50</td>\n",
       "      <td>Henry</td>\n",
       "    </tr>\n",
       "    <tr>\n",
       "      <th>3</th>\n",
       "      <td>40</td>\n",
       "      <td>80.0</td>\n",
       "      <td>4.50</td>\n",
       "      <td>Yves</td>\n",
       "    </tr>\n",
       "    <tr>\n",
       "      <th>4</th>\n",
       "      <td>100</td>\n",
       "      <td>NaN</td>\n",
       "      <td>5.75</td>\n",
       "      <td>Jil</td>\n",
       "    </tr>\n",
       "  </tbody>\n",
       "</table>\n",
       "</div>"
      ],
      "text/plain": [
       "   numbers    ss  floats   names\n",
       "0       10  20.0    1.50  Sandra\n",
       "1       20  40.0    2.50   Lilli\n",
       "2       30  60.0    3.50   Henry\n",
       "3       40  80.0    4.50    Yves\n",
       "4      100   NaN    5.75     Jil"
      ]
     },
     "execution_count": 78,
     "metadata": {},
     "output_type": "execute_result"
    }
   ],
   "source": [
    "df.append({'numbers': 100, 'floats': 5.75, 'names': 'Jil'},\n",
    "               ignore_index=True)  "
   ]
  },
  {
   "cell_type": "code",
   "execution_count": 79,
   "metadata": {},
   "outputs": [],
   "source": [
    "df = df.append(pd.DataFrame({'numbers': 100, 'floats': 5.75,\n",
    "                             'names': 'Jil'}, index=['y',]))  "
   ]
  },
  {
   "cell_type": "code",
   "execution_count": 80,
   "metadata": {
    "uuid": "9068cd04-c6ff-4d0c-bd52-cf04cd89a0e9"
   },
   "outputs": [
    {
     "data": {
      "text/html": [
       "<div>\n",
       "<style scoped>\n",
       "    .dataframe tbody tr th:only-of-type {\n",
       "        vertical-align: middle;\n",
       "    }\n",
       "\n",
       "    .dataframe tbody tr th {\n",
       "        vertical-align: top;\n",
       "    }\n",
       "\n",
       "    .dataframe thead th {\n",
       "        text-align: right;\n",
       "    }\n",
       "</style>\n",
       "<table border=\"1\" class=\"dataframe\">\n",
       "  <thead>\n",
       "    <tr style=\"text-align: right;\">\n",
       "      <th></th>\n",
       "      <th>numbers</th>\n",
       "      <th>ss</th>\n",
       "      <th>floats</th>\n",
       "      <th>names</th>\n",
       "    </tr>\n",
       "  </thead>\n",
       "  <tbody>\n",
       "    <tr>\n",
       "      <th>a</th>\n",
       "      <td>10</td>\n",
       "      <td>20.0</td>\n",
       "      <td>1.50</td>\n",
       "      <td>Sandra</td>\n",
       "    </tr>\n",
       "    <tr>\n",
       "      <th>b</th>\n",
       "      <td>20</td>\n",
       "      <td>40.0</td>\n",
       "      <td>2.50</td>\n",
       "      <td>Lilli</td>\n",
       "    </tr>\n",
       "    <tr>\n",
       "      <th>c</th>\n",
       "      <td>30</td>\n",
       "      <td>60.0</td>\n",
       "      <td>3.50</td>\n",
       "      <td>Henry</td>\n",
       "    </tr>\n",
       "    <tr>\n",
       "      <th>d</th>\n",
       "      <td>40</td>\n",
       "      <td>80.0</td>\n",
       "      <td>4.50</td>\n",
       "      <td>Yves</td>\n",
       "    </tr>\n",
       "    <tr>\n",
       "      <th>y</th>\n",
       "      <td>100</td>\n",
       "      <td>NaN</td>\n",
       "      <td>5.75</td>\n",
       "      <td>Jil</td>\n",
       "    </tr>\n",
       "  </tbody>\n",
       "</table>\n",
       "</div>"
      ],
      "text/plain": [
       "   numbers    ss  floats   names\n",
       "a       10  20.0    1.50  Sandra\n",
       "b       20  40.0    2.50   Lilli\n",
       "c       30  60.0    3.50   Henry\n",
       "d       40  80.0    4.50    Yves\n",
       "y      100   NaN    5.75     Jil"
      ]
     },
     "execution_count": 80,
     "metadata": {},
     "output_type": "execute_result"
    }
   ],
   "source": [
    "df"
   ]
  },
  {
   "cell_type": "code",
   "execution_count": 84,
   "metadata": {
    "scrolled": true
   },
   "outputs": [],
   "source": [
    "df = df.append(pd.DataFrame({'names': 'Ji'}, index=['i',]), sort = True)  "
   ]
  },
  {
   "cell_type": "code",
   "execution_count": 85,
   "metadata": {},
   "outputs": [
    {
     "data": {
      "text/html": [
       "<div>\n",
       "<style scoped>\n",
       "    .dataframe tbody tr th:only-of-type {\n",
       "        vertical-align: middle;\n",
       "    }\n",
       "\n",
       "    .dataframe tbody tr th {\n",
       "        vertical-align: top;\n",
       "    }\n",
       "\n",
       "    .dataframe thead th {\n",
       "        text-align: right;\n",
       "    }\n",
       "</style>\n",
       "<table border=\"1\" class=\"dataframe\">\n",
       "  <thead>\n",
       "    <tr style=\"text-align: right;\">\n",
       "      <th></th>\n",
       "      <th>floats</th>\n",
       "      <th>names</th>\n",
       "      <th>numbers</th>\n",
       "      <th>ss</th>\n",
       "    </tr>\n",
       "  </thead>\n",
       "  <tbody>\n",
       "    <tr>\n",
       "      <th>a</th>\n",
       "      <td>1.50</td>\n",
       "      <td>Sandra</td>\n",
       "      <td>10.0</td>\n",
       "      <td>20.0</td>\n",
       "    </tr>\n",
       "    <tr>\n",
       "      <th>b</th>\n",
       "      <td>2.50</td>\n",
       "      <td>Lilli</td>\n",
       "      <td>20.0</td>\n",
       "      <td>40.0</td>\n",
       "    </tr>\n",
       "    <tr>\n",
       "      <th>c</th>\n",
       "      <td>3.50</td>\n",
       "      <td>Henry</td>\n",
       "      <td>30.0</td>\n",
       "      <td>60.0</td>\n",
       "    </tr>\n",
       "    <tr>\n",
       "      <th>d</th>\n",
       "      <td>4.50</td>\n",
       "      <td>Yves</td>\n",
       "      <td>40.0</td>\n",
       "      <td>80.0</td>\n",
       "    </tr>\n",
       "    <tr>\n",
       "      <th>y</th>\n",
       "      <td>5.75</td>\n",
       "      <td>Jil</td>\n",
       "      <td>100.0</td>\n",
       "      <td>NaN</td>\n",
       "    </tr>\n",
       "    <tr>\n",
       "      <th>i</th>\n",
       "      <td>NaN</td>\n",
       "      <td>Ji</td>\n",
       "      <td>NaN</td>\n",
       "      <td>NaN</td>\n",
       "    </tr>\n",
       "  </tbody>\n",
       "</table>\n",
       "</div>"
      ],
      "text/plain": [
       "   floats   names  numbers    ss\n",
       "a    1.50  Sandra     10.0  20.0\n",
       "b    2.50   Lilli     20.0  40.0\n",
       "c    3.50   Henry     30.0  60.0\n",
       "d    4.50    Yves     40.0  80.0\n",
       "y    5.75     Jil    100.0   NaN\n",
       "i     NaN      Ji      NaN   NaN"
      ]
     },
     "execution_count": 85,
     "metadata": {},
     "output_type": "execute_result"
    }
   ],
   "source": [
    "df"
   ]
  },
  {
   "cell_type": "code",
   "execution_count": 86,
   "metadata": {},
   "outputs": [],
   "source": [
    "df = df.append(pd.DataFrame({'names': 'Lizz'}, index=['j',]), sort= False)  "
   ]
  },
  {
   "cell_type": "code",
   "execution_count": 87,
   "metadata": {
    "scrolled": false,
    "uuid": "9068cd04-c6ff-4d0c-bd52-cf04cd89a0e9"
   },
   "outputs": [
    {
     "data": {
      "text/html": [
       "<div>\n",
       "<style scoped>\n",
       "    .dataframe tbody tr th:only-of-type {\n",
       "        vertical-align: middle;\n",
       "    }\n",
       "\n",
       "    .dataframe tbody tr th {\n",
       "        vertical-align: top;\n",
       "    }\n",
       "\n",
       "    .dataframe thead th {\n",
       "        text-align: right;\n",
       "    }\n",
       "</style>\n",
       "<table border=\"1\" class=\"dataframe\">\n",
       "  <thead>\n",
       "    <tr style=\"text-align: right;\">\n",
       "      <th></th>\n",
       "      <th>floats</th>\n",
       "      <th>names</th>\n",
       "      <th>numbers</th>\n",
       "      <th>ss</th>\n",
       "    </tr>\n",
       "  </thead>\n",
       "  <tbody>\n",
       "    <tr>\n",
       "      <th>a</th>\n",
       "      <td>1.50</td>\n",
       "      <td>Sandra</td>\n",
       "      <td>10.0</td>\n",
       "      <td>20.0</td>\n",
       "    </tr>\n",
       "    <tr>\n",
       "      <th>b</th>\n",
       "      <td>2.50</td>\n",
       "      <td>Lilli</td>\n",
       "      <td>20.0</td>\n",
       "      <td>40.0</td>\n",
       "    </tr>\n",
       "    <tr>\n",
       "      <th>c</th>\n",
       "      <td>3.50</td>\n",
       "      <td>Henry</td>\n",
       "      <td>30.0</td>\n",
       "      <td>60.0</td>\n",
       "    </tr>\n",
       "    <tr>\n",
       "      <th>d</th>\n",
       "      <td>4.50</td>\n",
       "      <td>Yves</td>\n",
       "      <td>40.0</td>\n",
       "      <td>80.0</td>\n",
       "    </tr>\n",
       "    <tr>\n",
       "      <th>y</th>\n",
       "      <td>5.75</td>\n",
       "      <td>Jil</td>\n",
       "      <td>100.0</td>\n",
       "      <td>NaN</td>\n",
       "    </tr>\n",
       "    <tr>\n",
       "      <th>i</th>\n",
       "      <td>NaN</td>\n",
       "      <td>Ji</td>\n",
       "      <td>NaN</td>\n",
       "      <td>NaN</td>\n",
       "    </tr>\n",
       "    <tr>\n",
       "      <th>j</th>\n",
       "      <td>NaN</td>\n",
       "      <td>Lizz</td>\n",
       "      <td>NaN</td>\n",
       "      <td>NaN</td>\n",
       "    </tr>\n",
       "  </tbody>\n",
       "</table>\n",
       "</div>"
      ],
      "text/plain": [
       "   floats   names  numbers    ss\n",
       "a    1.50  Sandra     10.0  20.0\n",
       "b    2.50   Lilli     20.0  40.0\n",
       "c    3.50   Henry     30.0  60.0\n",
       "d    4.50    Yves     40.0  80.0\n",
       "y    5.75     Jil    100.0   NaN\n",
       "i     NaN      Ji      NaN   NaN\n",
       "j     NaN    Lizz      NaN   NaN"
      ]
     },
     "execution_count": 87,
     "metadata": {},
     "output_type": "execute_result"
    }
   ],
   "source": [
    "df"
   ]
  },
  {
   "cell_type": "markdown",
   "metadata": {},
   "source": [
    "##### append增加行数，如果不写出行对应的index，可以就ignore_index=True将所有的index变成0开始的数字，不然会报错\n",
    "##### append添加的行要用{'names': 'Liz'}字典的形式一一对应写出来，如果相加的index对应的字典没有给所有的columns赋值，不会报错，但没有赋值的columns会出现NaN空值。\n",
    "##### index=['y',]增加index的格式\n",
    "#####  sort=False不需要对columns的名称按a-s字母顺序进行升序排列。默认sort= False。"
   ]
  },
  {
   "cell_type": "code",
   "execution_count": 88,
   "metadata": {
    "scrolled": false
   },
   "outputs": [
    {
     "data": {
      "text/plain": [
       "floats     float64\n",
       "names       object\n",
       "numbers    float64\n",
       "ss         float64\n",
       "dtype: object"
      ]
     },
     "execution_count": 88,
     "metadata": {},
     "output_type": "execute_result"
    }
   ],
   "source": [
    "df.dtypes  "
   ]
  },
  {
   "cell_type": "code",
   "execution_count": 89,
   "metadata": {
    "scrolled": true,
    "uuid": "3e863c7f-7875-4911-997b-6e48123dc1e5"
   },
   "outputs": [
    {
     "data": {
      "text/plain": [
       "numbers    40.00\n",
       "floats      3.55\n",
       "dtype: float64"
      ]
     },
     "execution_count": 89,
     "metadata": {},
     "output_type": "execute_result"
    }
   ],
   "source": [
    "df[['numbers', 'floats']].mean()  "
   ]
  },
  {
   "cell_type": "code",
   "execution_count": 90,
   "metadata": {
    "scrolled": false,
    "uuid": "c52173a0-485d-4eb2-b6b4-407d1ff2c30e"
   },
   "outputs": [
    {
     "data": {
      "text/plain": [
       "numbers    35.355339\n",
       "floats      1.662077\n",
       "dtype: float64"
      ]
     },
     "execution_count": 90,
     "metadata": {},
     "output_type": "execute_result"
    }
   ],
   "source": [
    "df[['numbers', 'floats']].std()  "
   ]
  },
  {
   "cell_type": "code",
   "execution_count": 91,
   "metadata": {
    "scrolled": true
   },
   "outputs": [
    {
     "data": {
      "text/plain": [
       "floats                             17.75\n",
       "names      SandraLilliHenryYvesJilJiLizz\n",
       "numbers                            200.0\n",
       "ss                                 200.0\n",
       "dtype: object"
      ]
     },
     "execution_count": 91,
     "metadata": {},
     "output_type": "execute_result"
    }
   ],
   "source": [
    "df.sum()"
   ]
  },
  {
   "cell_type": "code",
   "execution_count": 92,
   "metadata": {},
   "outputs": [
    {
     "data": {
      "text/plain": [
       "floats      3.55\n",
       "numbers    40.00\n",
       "ss         50.00\n",
       "dtype: float64"
      ]
     },
     "execution_count": 92,
     "metadata": {},
     "output_type": "execute_result"
    }
   ],
   "source": [
    "df.mean()"
   ]
  },
  {
   "cell_type": "markdown",
   "metadata": {},
   "source": [
    "[[]]切片本身需要一个[]，切片之后的数组组成list也需要[]，所以要截取多个columns组成的list需要[[]]."
   ]
  },
  {
   "cell_type": "markdown",
   "metadata": {},
   "source": [
    "可以直接.mean()、std(),一定要有()"
   ]
  },
  {
   "cell_type": "markdown",
   "metadata": {},
   "source": [
    "dataframe里面有str也可以做mean和sum等数学运算，只不过会跳过是str的columns，特例：对str的sum，是将所有str连成一个长字符串。"
   ]
  },
  {
   "cell_type": "markdown",
   "metadata": {},
   "source": [
    "### Second Steps with DataFrame Class两步，先用numpy生成数字，再用pd.DataFrame写出成dataframe"
   ]
  },
  {
   "cell_type": "code",
   "execution_count": 130,
   "metadata": {},
   "outputs": [],
   "source": [
    "import numpy as np"
   ]
  },
  {
   "cell_type": "code",
   "execution_count": 131,
   "metadata": {},
   "outputs": [],
   "source": [
    "np.random.seed(100)"
   ]
  },
  {
   "cell_type": "code",
   "execution_count": 132,
   "metadata": {},
   "outputs": [],
   "source": [
    "a = np.random.standard_normal((9, 4))"
   ]
  },
  {
   "cell_type": "code",
   "execution_count": 133,
   "metadata": {
    "uuid": "d6f56a00-91e6-4221-a1ec-6093f416d1be"
   },
   "outputs": [
    {
     "data": {
      "text/plain": [
       "array([[-1.74976547,  0.3426804 ,  1.1530358 , -0.25243604],\n",
       "       [ 0.98132079,  0.51421884,  0.22117967, -1.07004333],\n",
       "       [-0.18949583,  0.25500144, -0.45802699,  0.43516349],\n",
       "       [-0.58359505,  0.81684707,  0.67272081, -0.10441114],\n",
       "       [-0.53128038,  1.02973269, -0.43813562, -1.11831825],\n",
       "       [ 1.61898166,  1.54160517, -0.25187914, -0.84243574],\n",
       "       [ 0.18451869,  0.9370822 ,  0.73100034,  1.36155613],\n",
       "       [-0.32623806,  0.05567601,  0.22239961, -1.443217  ],\n",
       "       [-0.75635231,  0.81645401,  0.75044476, -0.45594693]])"
      ]
     },
     "execution_count": 133,
     "metadata": {},
     "output_type": "execute_result"
    }
   ],
   "source": [
    "a"
   ]
  },
  {
   "cell_type": "code",
   "execution_count": 134,
   "metadata": {},
   "outputs": [],
   "source": [
    "df = pd.DataFrame(a)  "
   ]
  },
  {
   "cell_type": "code",
   "execution_count": 135,
   "metadata": {
    "uuid": "450bd14d-7668-4f3f-a863-966f13562818"
   },
   "outputs": [
    {
     "data": {
      "text/html": [
       "<div>\n",
       "<style scoped>\n",
       "    .dataframe tbody tr th:only-of-type {\n",
       "        vertical-align: middle;\n",
       "    }\n",
       "\n",
       "    .dataframe tbody tr th {\n",
       "        vertical-align: top;\n",
       "    }\n",
       "\n",
       "    .dataframe thead th {\n",
       "        text-align: right;\n",
       "    }\n",
       "</style>\n",
       "<table border=\"1\" class=\"dataframe\">\n",
       "  <thead>\n",
       "    <tr style=\"text-align: right;\">\n",
       "      <th></th>\n",
       "      <th>0</th>\n",
       "      <th>1</th>\n",
       "      <th>2</th>\n",
       "      <th>3</th>\n",
       "    </tr>\n",
       "  </thead>\n",
       "  <tbody>\n",
       "    <tr>\n",
       "      <th>0</th>\n",
       "      <td>-1.749765</td>\n",
       "      <td>0.342680</td>\n",
       "      <td>1.153036</td>\n",
       "      <td>-0.252436</td>\n",
       "    </tr>\n",
       "    <tr>\n",
       "      <th>1</th>\n",
       "      <td>0.981321</td>\n",
       "      <td>0.514219</td>\n",
       "      <td>0.221180</td>\n",
       "      <td>-1.070043</td>\n",
       "    </tr>\n",
       "    <tr>\n",
       "      <th>2</th>\n",
       "      <td>-0.189496</td>\n",
       "      <td>0.255001</td>\n",
       "      <td>-0.458027</td>\n",
       "      <td>0.435163</td>\n",
       "    </tr>\n",
       "    <tr>\n",
       "      <th>3</th>\n",
       "      <td>-0.583595</td>\n",
       "      <td>0.816847</td>\n",
       "      <td>0.672721</td>\n",
       "      <td>-0.104411</td>\n",
       "    </tr>\n",
       "    <tr>\n",
       "      <th>4</th>\n",
       "      <td>-0.531280</td>\n",
       "      <td>1.029733</td>\n",
       "      <td>-0.438136</td>\n",
       "      <td>-1.118318</td>\n",
       "    </tr>\n",
       "    <tr>\n",
       "      <th>5</th>\n",
       "      <td>1.618982</td>\n",
       "      <td>1.541605</td>\n",
       "      <td>-0.251879</td>\n",
       "      <td>-0.842436</td>\n",
       "    </tr>\n",
       "    <tr>\n",
       "      <th>6</th>\n",
       "      <td>0.184519</td>\n",
       "      <td>0.937082</td>\n",
       "      <td>0.731000</td>\n",
       "      <td>1.361556</td>\n",
       "    </tr>\n",
       "    <tr>\n",
       "      <th>7</th>\n",
       "      <td>-0.326238</td>\n",
       "      <td>0.055676</td>\n",
       "      <td>0.222400</td>\n",
       "      <td>-1.443217</td>\n",
       "    </tr>\n",
       "    <tr>\n",
       "      <th>8</th>\n",
       "      <td>-0.756352</td>\n",
       "      <td>0.816454</td>\n",
       "      <td>0.750445</td>\n",
       "      <td>-0.455947</td>\n",
       "    </tr>\n",
       "  </tbody>\n",
       "</table>\n",
       "</div>"
      ],
      "text/plain": [
       "          0         1         2         3\n",
       "0 -1.749765  0.342680  1.153036 -0.252436\n",
       "1  0.981321  0.514219  0.221180 -1.070043\n",
       "2 -0.189496  0.255001 -0.458027  0.435163\n",
       "3 -0.583595  0.816847  0.672721 -0.104411\n",
       "4 -0.531280  1.029733 -0.438136 -1.118318\n",
       "5  1.618982  1.541605 -0.251879 -0.842436\n",
       "6  0.184519  0.937082  0.731000  1.361556\n",
       "7 -0.326238  0.055676  0.222400 -1.443217\n",
       "8 -0.756352  0.816454  0.750445 -0.455947"
      ]
     },
     "execution_count": 135,
     "metadata": {},
     "output_type": "execute_result"
    }
   ],
   "source": [
    "df"
   ]
  },
  {
   "cell_type": "code",
   "execution_count": 136,
   "metadata": {},
   "outputs": [],
   "source": [
    "df.columns = ['No1', 'No2', 'No3', 'No4']  "
   ]
  },
  {
   "cell_type": "code",
   "execution_count": 137,
   "metadata": {
    "scrolled": true,
    "uuid": "968395a4-12bc-46d2-b486-6c767abce366"
   },
   "outputs": [
    {
     "data": {
      "text/html": [
       "<div>\n",
       "<style scoped>\n",
       "    .dataframe tbody tr th:only-of-type {\n",
       "        vertical-align: middle;\n",
       "    }\n",
       "\n",
       "    .dataframe tbody tr th {\n",
       "        vertical-align: top;\n",
       "    }\n",
       "\n",
       "    .dataframe thead th {\n",
       "        text-align: right;\n",
       "    }\n",
       "</style>\n",
       "<table border=\"1\" class=\"dataframe\">\n",
       "  <thead>\n",
       "    <tr style=\"text-align: right;\">\n",
       "      <th></th>\n",
       "      <th>No1</th>\n",
       "      <th>No2</th>\n",
       "      <th>No3</th>\n",
       "      <th>No4</th>\n",
       "    </tr>\n",
       "  </thead>\n",
       "  <tbody>\n",
       "    <tr>\n",
       "      <th>0</th>\n",
       "      <td>-1.749765</td>\n",
       "      <td>0.342680</td>\n",
       "      <td>1.153036</td>\n",
       "      <td>-0.252436</td>\n",
       "    </tr>\n",
       "    <tr>\n",
       "      <th>1</th>\n",
       "      <td>0.981321</td>\n",
       "      <td>0.514219</td>\n",
       "      <td>0.221180</td>\n",
       "      <td>-1.070043</td>\n",
       "    </tr>\n",
       "    <tr>\n",
       "      <th>2</th>\n",
       "      <td>-0.189496</td>\n",
       "      <td>0.255001</td>\n",
       "      <td>-0.458027</td>\n",
       "      <td>0.435163</td>\n",
       "    </tr>\n",
       "    <tr>\n",
       "      <th>3</th>\n",
       "      <td>-0.583595</td>\n",
       "      <td>0.816847</td>\n",
       "      <td>0.672721</td>\n",
       "      <td>-0.104411</td>\n",
       "    </tr>\n",
       "    <tr>\n",
       "      <th>4</th>\n",
       "      <td>-0.531280</td>\n",
       "      <td>1.029733</td>\n",
       "      <td>-0.438136</td>\n",
       "      <td>-1.118318</td>\n",
       "    </tr>\n",
       "    <tr>\n",
       "      <th>5</th>\n",
       "      <td>1.618982</td>\n",
       "      <td>1.541605</td>\n",
       "      <td>-0.251879</td>\n",
       "      <td>-0.842436</td>\n",
       "    </tr>\n",
       "    <tr>\n",
       "      <th>6</th>\n",
       "      <td>0.184519</td>\n",
       "      <td>0.937082</td>\n",
       "      <td>0.731000</td>\n",
       "      <td>1.361556</td>\n",
       "    </tr>\n",
       "    <tr>\n",
       "      <th>7</th>\n",
       "      <td>-0.326238</td>\n",
       "      <td>0.055676</td>\n",
       "      <td>0.222400</td>\n",
       "      <td>-1.443217</td>\n",
       "    </tr>\n",
       "    <tr>\n",
       "      <th>8</th>\n",
       "      <td>-0.756352</td>\n",
       "      <td>0.816454</td>\n",
       "      <td>0.750445</td>\n",
       "      <td>-0.455947</td>\n",
       "    </tr>\n",
       "  </tbody>\n",
       "</table>\n",
       "</div>"
      ],
      "text/plain": [
       "        No1       No2       No3       No4\n",
       "0 -1.749765  0.342680  1.153036 -0.252436\n",
       "1  0.981321  0.514219  0.221180 -1.070043\n",
       "2 -0.189496  0.255001 -0.458027  0.435163\n",
       "3 -0.583595  0.816847  0.672721 -0.104411\n",
       "4 -0.531280  1.029733 -0.438136 -1.118318\n",
       "5  1.618982  1.541605 -0.251879 -0.842436\n",
       "6  0.184519  0.937082  0.731000  1.361556\n",
       "7 -0.326238  0.055676  0.222400 -1.443217\n",
       "8 -0.756352  0.816454  0.750445 -0.455947"
      ]
     },
     "execution_count": 137,
     "metadata": {},
     "output_type": "execute_result"
    }
   ],
   "source": [
    "df"
   ]
  },
  {
   "cell_type": "code",
   "execution_count": 138,
   "metadata": {
    "uuid": "68e8d73f-93d3-47ac-a656-1edbdebcd1ff"
   },
   "outputs": [
    {
     "data": {
      "text/plain": [
       "0.7010330941456459"
      ]
     },
     "execution_count": 138,
     "metadata": {},
     "output_type": "execute_result"
    }
   ],
   "source": [
    "df['No2'].mean()  "
   ]
  },
  {
   "cell_type": "code",
   "execution_count": 139,
   "metadata": {},
   "outputs": [],
   "source": [
    "dates = pd.date_range('2019-1-1', periods=9, freq='m')  "
   ]
  },
  {
   "cell_type": "code",
   "execution_count": 140,
   "metadata": {},
   "outputs": [],
   "source": [
    "?pd.date_range"
   ]
  },
  {
   "cell_type": "markdown",
   "metadata": {},
   "source": [
    "pd.date_range生成时间数据，'2019-1-1'开始日期，periods=9代表9个时间数据，freq='M'间隔为月份，预设为月底。"
   ]
  },
  {
   "cell_type": "code",
   "execution_count": 141,
   "metadata": {
    "uuid": "a80e1e88-d211-4ee4-a6d3-90403a7739a8"
   },
   "outputs": [
    {
     "data": {
      "text/plain": [
       "DatetimeIndex(['2019-01-31', '2019-02-28', '2019-03-31', '2019-04-30',\n",
       "               '2019-05-31', '2019-06-30', '2019-07-31', '2019-08-31',\n",
       "               '2019-09-30'],\n",
       "              dtype='datetime64[ns]', freq='M')"
      ]
     },
     "execution_count": 141,
     "metadata": {},
     "output_type": "execute_result"
    }
   ],
   "source": [
    "dates"
   ]
  },
  {
   "cell_type": "code",
   "execution_count": 142,
   "metadata": {},
   "outputs": [],
   "source": [
    "df.index = dates"
   ]
  },
  {
   "cell_type": "code",
   "execution_count": 143,
   "metadata": {
    "scrolled": false,
    "uuid": "d8fef9ed-25ca-4ae0-bd0c-026d340a903b"
   },
   "outputs": [
    {
     "data": {
      "text/html": [
       "<div>\n",
       "<style scoped>\n",
       "    .dataframe tbody tr th:only-of-type {\n",
       "        vertical-align: middle;\n",
       "    }\n",
       "\n",
       "    .dataframe tbody tr th {\n",
       "        vertical-align: top;\n",
       "    }\n",
       "\n",
       "    .dataframe thead th {\n",
       "        text-align: right;\n",
       "    }\n",
       "</style>\n",
       "<table border=\"1\" class=\"dataframe\">\n",
       "  <thead>\n",
       "    <tr style=\"text-align: right;\">\n",
       "      <th></th>\n",
       "      <th>No1</th>\n",
       "      <th>No2</th>\n",
       "      <th>No3</th>\n",
       "      <th>No4</th>\n",
       "    </tr>\n",
       "  </thead>\n",
       "  <tbody>\n",
       "    <tr>\n",
       "      <th>2019-01-31</th>\n",
       "      <td>-1.749765</td>\n",
       "      <td>0.342680</td>\n",
       "      <td>1.153036</td>\n",
       "      <td>-0.252436</td>\n",
       "    </tr>\n",
       "    <tr>\n",
       "      <th>2019-02-28</th>\n",
       "      <td>0.981321</td>\n",
       "      <td>0.514219</td>\n",
       "      <td>0.221180</td>\n",
       "      <td>-1.070043</td>\n",
       "    </tr>\n",
       "    <tr>\n",
       "      <th>2019-03-31</th>\n",
       "      <td>-0.189496</td>\n",
       "      <td>0.255001</td>\n",
       "      <td>-0.458027</td>\n",
       "      <td>0.435163</td>\n",
       "    </tr>\n",
       "    <tr>\n",
       "      <th>2019-04-30</th>\n",
       "      <td>-0.583595</td>\n",
       "      <td>0.816847</td>\n",
       "      <td>0.672721</td>\n",
       "      <td>-0.104411</td>\n",
       "    </tr>\n",
       "    <tr>\n",
       "      <th>2019-05-31</th>\n",
       "      <td>-0.531280</td>\n",
       "      <td>1.029733</td>\n",
       "      <td>-0.438136</td>\n",
       "      <td>-1.118318</td>\n",
       "    </tr>\n",
       "    <tr>\n",
       "      <th>2019-06-30</th>\n",
       "      <td>1.618982</td>\n",
       "      <td>1.541605</td>\n",
       "      <td>-0.251879</td>\n",
       "      <td>-0.842436</td>\n",
       "    </tr>\n",
       "    <tr>\n",
       "      <th>2019-07-31</th>\n",
       "      <td>0.184519</td>\n",
       "      <td>0.937082</td>\n",
       "      <td>0.731000</td>\n",
       "      <td>1.361556</td>\n",
       "    </tr>\n",
       "    <tr>\n",
       "      <th>2019-08-31</th>\n",
       "      <td>-0.326238</td>\n",
       "      <td>0.055676</td>\n",
       "      <td>0.222400</td>\n",
       "      <td>-1.443217</td>\n",
       "    </tr>\n",
       "    <tr>\n",
       "      <th>2019-09-30</th>\n",
       "      <td>-0.756352</td>\n",
       "      <td>0.816454</td>\n",
       "      <td>0.750445</td>\n",
       "      <td>-0.455947</td>\n",
       "    </tr>\n",
       "  </tbody>\n",
       "</table>\n",
       "</div>"
      ],
      "text/plain": [
       "                 No1       No2       No3       No4\n",
       "2019-01-31 -1.749765  0.342680  1.153036 -0.252436\n",
       "2019-02-28  0.981321  0.514219  0.221180 -1.070043\n",
       "2019-03-31 -0.189496  0.255001 -0.458027  0.435163\n",
       "2019-04-30 -0.583595  0.816847  0.672721 -0.104411\n",
       "2019-05-31 -0.531280  1.029733 -0.438136 -1.118318\n",
       "2019-06-30  1.618982  1.541605 -0.251879 -0.842436\n",
       "2019-07-31  0.184519  0.937082  0.731000  1.361556\n",
       "2019-08-31 -0.326238  0.055676  0.222400 -1.443217\n",
       "2019-09-30 -0.756352  0.816454  0.750445 -0.455947"
      ]
     },
     "execution_count": 143,
     "metadata": {},
     "output_type": "execute_result"
    }
   ],
   "source": [
    "df"
   ]
  },
  {
   "cell_type": "markdown",
   "metadata": {},
   "source": [
    "可以用df.index和df.columns来给df设置行名和列名"
   ]
  },
  {
   "cell_type": "code",
   "execution_count": 127,
   "metadata": {
    "scrolled": false,
    "uuid": "bcc38d60-3e1c-49bb-b883-ea7564c136b4"
   },
   "outputs": [
    {
     "data": {
      "text/plain": [
       "array([[-1.74976547,  0.3426804 ,  1.1530358 , -0.25243604],\n",
       "       [ 0.98132079,  0.51421884,  0.22117967, -1.07004333],\n",
       "       [-0.18949583,  0.25500144, -0.45802699,  0.43516349],\n",
       "       [-0.58359505,  0.81684707,  0.67272081, -0.10441114],\n",
       "       [-0.53128038,  1.02973269, -0.43813562, -1.11831825],\n",
       "       [ 1.61898166,  1.54160517, -0.25187914, -0.84243574],\n",
       "       [ 0.18451869,  0.9370822 ,  0.73100034,  1.36155613],\n",
       "       [-0.32623806,  0.05567601,  0.22239961, -1.443217  ],\n",
       "       [-0.75635231,  0.81645401,  0.75044476, -0.45594693]])"
      ]
     },
     "execution_count": 127,
     "metadata": {},
     "output_type": "execute_result"
    }
   ],
   "source": [
    "df.values"
   ]
  },
  {
   "cell_type": "code",
   "execution_count": 144,
   "metadata": {},
   "outputs": [],
   "source": [
    "np = np.array(df)"
   ]
  },
  {
   "cell_type": "code",
   "execution_count": 145,
   "metadata": {
    "scrolled": true,
    "uuid": "bcc38d60-3e1c-49bb-b883-ea7564c136b4"
   },
   "outputs": [
    {
     "name": "stdout",
     "output_type": "stream",
     "text": [
      "[[-1.74976547  0.3426804   1.1530358  -0.25243604]\n",
      " [ 0.98132079  0.51421884  0.22117967 -1.07004333]\n",
      " [-0.18949583  0.25500144 -0.45802699  0.43516349]\n",
      " [-0.58359505  0.81684707  0.67272081 -0.10441114]\n",
      " [-0.53128038  1.02973269 -0.43813562 -1.11831825]\n",
      " [ 1.61898166  1.54160517 -0.25187914 -0.84243574]\n",
      " [ 0.18451869  0.9370822   0.73100034  1.36155613]\n",
      " [-0.32623806  0.05567601  0.22239961 -1.443217  ]\n",
      " [-0.75635231  0.81645401  0.75044476 -0.45594693]]\n"
     ]
    }
   ],
   "source": [
    "print(np)"
   ]
  },
  {
   "cell_type": "code",
   "execution_count": 120,
   "metadata": {
    "scrolled": false
   },
   "outputs": [
    {
     "data": {
      "text/html": [
       "<div>\n",
       "<style scoped>\n",
       "    .dataframe tbody tr th:only-of-type {\n",
       "        vertical-align: middle;\n",
       "    }\n",
       "\n",
       "    .dataframe tbody tr th {\n",
       "        vertical-align: top;\n",
       "    }\n",
       "\n",
       "    .dataframe thead th {\n",
       "        text-align: right;\n",
       "    }\n",
       "</style>\n",
       "<table border=\"1\" class=\"dataframe\">\n",
       "  <thead>\n",
       "    <tr style=\"text-align: right;\">\n",
       "      <th></th>\n",
       "      <th>No1</th>\n",
       "      <th>No2</th>\n",
       "      <th>No3</th>\n",
       "      <th>No4</th>\n",
       "    </tr>\n",
       "  </thead>\n",
       "  <tbody>\n",
       "    <tr>\n",
       "      <th>2019-01-31</th>\n",
       "      <td>-1.749765</td>\n",
       "      <td>0.342680</td>\n",
       "      <td>1.153036</td>\n",
       "      <td>-0.252436</td>\n",
       "    </tr>\n",
       "    <tr>\n",
       "      <th>2019-02-28</th>\n",
       "      <td>0.981321</td>\n",
       "      <td>0.514219</td>\n",
       "      <td>0.221180</td>\n",
       "      <td>-1.070043</td>\n",
       "    </tr>\n",
       "    <tr>\n",
       "      <th>2019-03-31</th>\n",
       "      <td>-0.189496</td>\n",
       "      <td>0.255001</td>\n",
       "      <td>-0.458027</td>\n",
       "      <td>0.435163</td>\n",
       "    </tr>\n",
       "    <tr>\n",
       "      <th>2019-04-30</th>\n",
       "      <td>-0.583595</td>\n",
       "      <td>0.816847</td>\n",
       "      <td>0.672721</td>\n",
       "      <td>-0.104411</td>\n",
       "    </tr>\n",
       "    <tr>\n",
       "      <th>2019-05-31</th>\n",
       "      <td>-0.531280</td>\n",
       "      <td>1.029733</td>\n",
       "      <td>-0.438136</td>\n",
       "      <td>-1.118318</td>\n",
       "    </tr>\n",
       "    <tr>\n",
       "      <th>2019-06-30</th>\n",
       "      <td>1.618982</td>\n",
       "      <td>1.541605</td>\n",
       "      <td>-0.251879</td>\n",
       "      <td>-0.842436</td>\n",
       "    </tr>\n",
       "    <tr>\n",
       "      <th>2019-07-31</th>\n",
       "      <td>0.184519</td>\n",
       "      <td>0.937082</td>\n",
       "      <td>0.731000</td>\n",
       "      <td>1.361556</td>\n",
       "    </tr>\n",
       "    <tr>\n",
       "      <th>2019-08-31</th>\n",
       "      <td>-0.326238</td>\n",
       "      <td>0.055676</td>\n",
       "      <td>0.222400</td>\n",
       "      <td>-1.443217</td>\n",
       "    </tr>\n",
       "    <tr>\n",
       "      <th>2019-09-30</th>\n",
       "      <td>-0.756352</td>\n",
       "      <td>0.816454</td>\n",
       "      <td>0.750445</td>\n",
       "      <td>-0.455947</td>\n",
       "    </tr>\n",
       "  </tbody>\n",
       "</table>\n",
       "</div>"
      ],
      "text/plain": [
       "                 No1       No2       No3       No4\n",
       "2019-01-31 -1.749765  0.342680  1.153036 -0.252436\n",
       "2019-02-28  0.981321  0.514219  0.221180 -1.070043\n",
       "2019-03-31 -0.189496  0.255001 -0.458027  0.435163\n",
       "2019-04-30 -0.583595  0.816847  0.672721 -0.104411\n",
       "2019-05-31 -0.531280  1.029733 -0.438136 -1.118318\n",
       "2019-06-30  1.618982  1.541605 -0.251879 -0.842436\n",
       "2019-07-31  0.184519  0.937082  0.731000  1.361556\n",
       "2019-08-31 -0.326238  0.055676  0.222400 -1.443217\n",
       "2019-09-30 -0.756352  0.816454  0.750445 -0.455947"
      ]
     },
     "execution_count": 120,
     "metadata": {},
     "output_type": "execute_result"
    }
   ],
   "source": [
    "df"
   ]
  },
  {
   "cell_type": "markdown",
   "metadata": {},
   "source": [
    "将dataframe导出来为np.array的形式"
   ]
  },
  {
   "cell_type": "markdown",
   "metadata": {},
   "source": [
    "## Basic Analytics"
   ]
  },
  {
   "cell_type": "code",
   "execution_count": 146,
   "metadata": {},
   "outputs": [
    {
     "name": "stdout",
     "output_type": "stream",
     "text": [
      "<class 'pandas.core.frame.DataFrame'>\n",
      "DatetimeIndex: 9 entries, 2019-01-31 to 2019-09-30\n",
      "Freq: M\n",
      "Data columns (total 4 columns):\n",
      " #   Column  Non-Null Count  Dtype  \n",
      "---  ------  --------------  -----  \n",
      " 0   No1     9 non-null      float64\n",
      " 1   No2     9 non-null      float64\n",
      " 2   No3     9 non-null      float64\n",
      " 3   No4     9 non-null      float64\n",
      "dtypes: float64(4)\n",
      "memory usage: 360.0 bytes\n"
     ]
    }
   ],
   "source": [
    "df.info()  "
   ]
  },
  {
   "cell_type": "code",
   "execution_count": 41,
   "metadata": {
    "scrolled": true,
    "uuid": "125980cc-91ec-4ab4-9a4a-cfd772dd1254"
   },
   "outputs": [
    {
     "data": {
      "text/html": [
       "<div>\n",
       "<style scoped>\n",
       "    .dataframe tbody tr th:only-of-type {\n",
       "        vertical-align: middle;\n",
       "    }\n",
       "\n",
       "    .dataframe tbody tr th {\n",
       "        vertical-align: top;\n",
       "    }\n",
       "\n",
       "    .dataframe thead th {\n",
       "        text-align: right;\n",
       "    }\n",
       "</style>\n",
       "<table border=\"1\" class=\"dataframe\">\n",
       "  <thead>\n",
       "    <tr style=\"text-align: right;\">\n",
       "      <th></th>\n",
       "      <th>No1</th>\n",
       "      <th>No2</th>\n",
       "      <th>No3</th>\n",
       "      <th>No4</th>\n",
       "    </tr>\n",
       "  </thead>\n",
       "  <tbody>\n",
       "    <tr>\n",
       "      <th>count</th>\n",
       "      <td>9.000000</td>\n",
       "      <td>9.000000</td>\n",
       "      <td>9.000000</td>\n",
       "      <td>9.000000</td>\n",
       "    </tr>\n",
       "    <tr>\n",
       "      <th>mean</th>\n",
       "      <td>-0.150212</td>\n",
       "      <td>0.701033</td>\n",
       "      <td>0.289193</td>\n",
       "      <td>-0.387788</td>\n",
       "    </tr>\n",
       "    <tr>\n",
       "      <th>std</th>\n",
       "      <td>0.988306</td>\n",
       "      <td>0.457685</td>\n",
       "      <td>0.579920</td>\n",
       "      <td>0.877532</td>\n",
       "    </tr>\n",
       "    <tr>\n",
       "      <th>min</th>\n",
       "      <td>-1.749765</td>\n",
       "      <td>0.055676</td>\n",
       "      <td>-0.458027</td>\n",
       "      <td>-1.443217</td>\n",
       "    </tr>\n",
       "    <tr>\n",
       "      <th>25%</th>\n",
       "      <td>-0.583595</td>\n",
       "      <td>0.342680</td>\n",
       "      <td>-0.251879</td>\n",
       "      <td>-1.070043</td>\n",
       "    </tr>\n",
       "    <tr>\n",
       "      <th>50%</th>\n",
       "      <td>-0.326238</td>\n",
       "      <td>0.816454</td>\n",
       "      <td>0.222400</td>\n",
       "      <td>-0.455947</td>\n",
       "    </tr>\n",
       "    <tr>\n",
       "      <th>75%</th>\n",
       "      <td>0.184519</td>\n",
       "      <td>0.937082</td>\n",
       "      <td>0.731000</td>\n",
       "      <td>-0.104411</td>\n",
       "    </tr>\n",
       "    <tr>\n",
       "      <th>max</th>\n",
       "      <td>1.618982</td>\n",
       "      <td>1.541605</td>\n",
       "      <td>1.153036</td>\n",
       "      <td>1.361556</td>\n",
       "    </tr>\n",
       "  </tbody>\n",
       "</table>\n",
       "</div>"
      ],
      "text/plain": [
       "            No1       No2       No3       No4\n",
       "count  9.000000  9.000000  9.000000  9.000000\n",
       "mean  -0.150212  0.701033  0.289193 -0.387788\n",
       "std    0.988306  0.457685  0.579920  0.877532\n",
       "min   -1.749765  0.055676 -0.458027 -1.443217\n",
       "25%   -0.583595  0.342680 -0.251879 -1.070043\n",
       "50%   -0.326238  0.816454  0.222400 -0.455947\n",
       "75%    0.184519  0.937082  0.731000 -0.104411\n",
       "max    1.618982  1.541605  1.153036  1.361556"
      ]
     },
     "execution_count": 41,
     "metadata": {},
     "output_type": "execute_result"
    }
   ],
   "source": [
    "df.describe()  "
   ]
  },
  {
   "cell_type": "markdown",
   "metadata": {},
   "source": [
    "叙述性统计，描述data的大致情况"
   ]
  },
  {
   "cell_type": "code",
   "execution_count": 147,
   "metadata": {
    "uuid": "f760ea25-c64c-4e70-9f91-b72701d919ce"
   },
   "outputs": [
    {
     "data": {
      "text/plain": [
       "No1   -1.351906\n",
       "No2    6.309298\n",
       "No3    2.602739\n",
       "No4   -3.490089\n",
       "dtype: float64"
      ]
     },
     "execution_count": 147,
     "metadata": {},
     "output_type": "execute_result"
    }
   ],
   "source": [
    "df.sum()  "
   ]
  },
  {
   "cell_type": "code",
   "execution_count": 148,
   "metadata": {
    "uuid": "3dd9bd77-eb80-46cb-87f3-62c053a8e223"
   },
   "outputs": [
    {
     "data": {
      "text/plain": [
       "No1   -0.150212\n",
       "No2    0.701033\n",
       "No3    0.289193\n",
       "No4   -0.387788\n",
       "dtype: float64"
      ]
     },
     "execution_count": 148,
     "metadata": {},
     "output_type": "execute_result"
    }
   ],
   "source": [
    "df.mean()  "
   ]
  },
  {
   "cell_type": "code",
   "execution_count": 149,
   "metadata": {
    "uuid": "3dd9bd77-eb80-46cb-87f3-62c053a8e223"
   },
   "outputs": [
    {
     "data": {
      "text/plain": [
       "No1   -0.150212\n",
       "No2    0.701033\n",
       "No3    0.289193\n",
       "No4   -0.387788\n",
       "dtype: float64"
      ]
     },
     "execution_count": 149,
     "metadata": {},
     "output_type": "execute_result"
    }
   ],
   "source": [
    "df.mean(axis=0)  "
   ]
  },
  {
   "cell_type": "code",
   "execution_count": 154,
   "metadata": {
    "scrolled": true
   },
   "outputs": [
    {
     "data": {
      "text/plain": [
       "2019-01-31   -0.126621\n",
       "2019-02-28    0.161669\n",
       "2019-03-31    0.010661\n",
       "2019-04-30    0.200390\n",
       "2019-05-31   -0.264500\n",
       "2019-06-30    0.516568\n",
       "2019-07-31    0.803539\n",
       "2019-08-31   -0.372845\n",
       "2019-09-30    0.088650\n",
       "Freq: M, dtype: float64"
      ]
     },
     "execution_count": 154,
     "metadata": {},
     "output_type": "execute_result"
    }
   ],
   "source": [
    "df.mean(axis=1)  "
   ]
  },
  {
   "cell_type": "markdown",
   "metadata": {},
   "source": [
    "默认按着y轴做统计axis = 0"
   ]
  },
  {
   "cell_type": "code",
   "execution_count": 152,
   "metadata": {
    "scrolled": true,
    "uuid": "8e167ea8-09b7-4585-8cac-28fe20eefe66"
   },
   "outputs": [
    {
     "data": {
      "text/html": [
       "<div>\n",
       "<style scoped>\n",
       "    .dataframe tbody tr th:only-of-type {\n",
       "        vertical-align: middle;\n",
       "    }\n",
       "\n",
       "    .dataframe tbody tr th {\n",
       "        vertical-align: top;\n",
       "    }\n",
       "\n",
       "    .dataframe thead th {\n",
       "        text-align: right;\n",
       "    }\n",
       "</style>\n",
       "<table border=\"1\" class=\"dataframe\">\n",
       "  <thead>\n",
       "    <tr style=\"text-align: right;\">\n",
       "      <th></th>\n",
       "      <th>No1</th>\n",
       "      <th>No2</th>\n",
       "      <th>No3</th>\n",
       "      <th>No4</th>\n",
       "    </tr>\n",
       "  </thead>\n",
       "  <tbody>\n",
       "    <tr>\n",
       "      <th>2019-01-31</th>\n",
       "      <td>-1.749765</td>\n",
       "      <td>0.342680</td>\n",
       "      <td>1.153036</td>\n",
       "      <td>-0.252436</td>\n",
       "    </tr>\n",
       "    <tr>\n",
       "      <th>2019-02-28</th>\n",
       "      <td>-0.768445</td>\n",
       "      <td>0.856899</td>\n",
       "      <td>1.374215</td>\n",
       "      <td>-1.322479</td>\n",
       "    </tr>\n",
       "    <tr>\n",
       "      <th>2019-03-31</th>\n",
       "      <td>-0.957941</td>\n",
       "      <td>1.111901</td>\n",
       "      <td>0.916188</td>\n",
       "      <td>-0.887316</td>\n",
       "    </tr>\n",
       "    <tr>\n",
       "      <th>2019-04-30</th>\n",
       "      <td>-1.541536</td>\n",
       "      <td>1.928748</td>\n",
       "      <td>1.588909</td>\n",
       "      <td>-0.991727</td>\n",
       "    </tr>\n",
       "    <tr>\n",
       "      <th>2019-05-31</th>\n",
       "      <td>-2.072816</td>\n",
       "      <td>2.958480</td>\n",
       "      <td>1.150774</td>\n",
       "      <td>-2.110045</td>\n",
       "    </tr>\n",
       "    <tr>\n",
       "      <th>2019-06-30</th>\n",
       "      <td>-0.453834</td>\n",
       "      <td>4.500086</td>\n",
       "      <td>0.898895</td>\n",
       "      <td>-2.952481</td>\n",
       "    </tr>\n",
       "    <tr>\n",
       "      <th>2019-07-31</th>\n",
       "      <td>-0.269316</td>\n",
       "      <td>5.437168</td>\n",
       "      <td>1.629895</td>\n",
       "      <td>-1.590925</td>\n",
       "    </tr>\n",
       "    <tr>\n",
       "      <th>2019-08-31</th>\n",
       "      <td>-0.595554</td>\n",
       "      <td>5.492844</td>\n",
       "      <td>1.852294</td>\n",
       "      <td>-3.034142</td>\n",
       "    </tr>\n",
       "    <tr>\n",
       "      <th>2019-09-30</th>\n",
       "      <td>-1.351906</td>\n",
       "      <td>6.309298</td>\n",
       "      <td>2.602739</td>\n",
       "      <td>-3.490089</td>\n",
       "    </tr>\n",
       "  </tbody>\n",
       "</table>\n",
       "</div>"
      ],
      "text/plain": [
       "                 No1       No2       No3       No4\n",
       "2019-01-31 -1.749765  0.342680  1.153036 -0.252436\n",
       "2019-02-28 -0.768445  0.856899  1.374215 -1.322479\n",
       "2019-03-31 -0.957941  1.111901  0.916188 -0.887316\n",
       "2019-04-30 -1.541536  1.928748  1.588909 -0.991727\n",
       "2019-05-31 -2.072816  2.958480  1.150774 -2.110045\n",
       "2019-06-30 -0.453834  4.500086  0.898895 -2.952481\n",
       "2019-07-31 -0.269316  5.437168  1.629895 -1.590925\n",
       "2019-08-31 -0.595554  5.492844  1.852294 -3.034142\n",
       "2019-09-30 -1.351906  6.309298  2.602739 -3.490089"
      ]
     },
     "execution_count": 152,
     "metadata": {},
     "output_type": "execute_result"
    }
   ],
   "source": [
    "df.cumsum(axis = 0) "
   ]
  },
  {
   "cell_type": "code",
   "execution_count": 151,
   "metadata": {},
   "outputs": [
    {
     "data": {
      "text/html": [
       "<div>\n",
       "<style scoped>\n",
       "    .dataframe tbody tr th:only-of-type {\n",
       "        vertical-align: middle;\n",
       "    }\n",
       "\n",
       "    .dataframe tbody tr th {\n",
       "        vertical-align: top;\n",
       "    }\n",
       "\n",
       "    .dataframe thead th {\n",
       "        text-align: right;\n",
       "    }\n",
       "</style>\n",
       "<table border=\"1\" class=\"dataframe\">\n",
       "  <thead>\n",
       "    <tr style=\"text-align: right;\">\n",
       "      <th></th>\n",
       "      <th>No1</th>\n",
       "      <th>No2</th>\n",
       "      <th>No3</th>\n",
       "      <th>No4</th>\n",
       "    </tr>\n",
       "  </thead>\n",
       "  <tbody>\n",
       "    <tr>\n",
       "      <th>2019-01-31</th>\n",
       "      <td>-1.749765</td>\n",
       "      <td>0.342680</td>\n",
       "      <td>1.153036</td>\n",
       "      <td>-0.252436</td>\n",
       "    </tr>\n",
       "    <tr>\n",
       "      <th>2019-02-28</th>\n",
       "      <td>0.981321</td>\n",
       "      <td>0.514219</td>\n",
       "      <td>0.221180</td>\n",
       "      <td>-1.070043</td>\n",
       "    </tr>\n",
       "    <tr>\n",
       "      <th>2019-03-31</th>\n",
       "      <td>-0.189496</td>\n",
       "      <td>0.255001</td>\n",
       "      <td>-0.458027</td>\n",
       "      <td>0.435163</td>\n",
       "    </tr>\n",
       "    <tr>\n",
       "      <th>2019-04-30</th>\n",
       "      <td>-0.583595</td>\n",
       "      <td>0.816847</td>\n",
       "      <td>0.672721</td>\n",
       "      <td>-0.104411</td>\n",
       "    </tr>\n",
       "    <tr>\n",
       "      <th>2019-05-31</th>\n",
       "      <td>-0.531280</td>\n",
       "      <td>1.029733</td>\n",
       "      <td>-0.438136</td>\n",
       "      <td>-1.118318</td>\n",
       "    </tr>\n",
       "    <tr>\n",
       "      <th>2019-06-30</th>\n",
       "      <td>1.618982</td>\n",
       "      <td>1.541605</td>\n",
       "      <td>-0.251879</td>\n",
       "      <td>-0.842436</td>\n",
       "    </tr>\n",
       "    <tr>\n",
       "      <th>2019-07-31</th>\n",
       "      <td>0.184519</td>\n",
       "      <td>0.937082</td>\n",
       "      <td>0.731000</td>\n",
       "      <td>1.361556</td>\n",
       "    </tr>\n",
       "    <tr>\n",
       "      <th>2019-08-31</th>\n",
       "      <td>-0.326238</td>\n",
       "      <td>0.055676</td>\n",
       "      <td>0.222400</td>\n",
       "      <td>-1.443217</td>\n",
       "    </tr>\n",
       "    <tr>\n",
       "      <th>2019-09-30</th>\n",
       "      <td>-0.756352</td>\n",
       "      <td>0.816454</td>\n",
       "      <td>0.750445</td>\n",
       "      <td>-0.455947</td>\n",
       "    </tr>\n",
       "  </tbody>\n",
       "</table>\n",
       "</div>"
      ],
      "text/plain": [
       "                 No1       No2       No3       No4\n",
       "2019-01-31 -1.749765  0.342680  1.153036 -0.252436\n",
       "2019-02-28  0.981321  0.514219  0.221180 -1.070043\n",
       "2019-03-31 -0.189496  0.255001 -0.458027  0.435163\n",
       "2019-04-30 -0.583595  0.816847  0.672721 -0.104411\n",
       "2019-05-31 -0.531280  1.029733 -0.438136 -1.118318\n",
       "2019-06-30  1.618982  1.541605 -0.251879 -0.842436\n",
       "2019-07-31  0.184519  0.937082  0.731000  1.361556\n",
       "2019-08-31 -0.326238  0.055676  0.222400 -1.443217\n",
       "2019-09-30 -0.756352  0.816454  0.750445 -0.455947"
      ]
     },
     "execution_count": 151,
     "metadata": {},
     "output_type": "execute_result"
    }
   ],
   "source": [
    "df"
   ]
  },
  {
   "cell_type": "markdown",
   "metadata": {},
   "source": [
    "累加,2019-01-31保持原数，后面的在前面的基础上累加上自己这一行的数。"
   ]
  },
  {
   "cell_type": "code",
   "execution_count": 155,
   "metadata": {
    "scrolled": false
   },
   "outputs": [
    {
     "data": {
      "text/plain": [
       "No1   -0.150212\n",
       "No2    0.701033\n",
       "No3    0.289193\n",
       "No4   -0.387788\n",
       "dtype: float64"
      ]
     },
     "execution_count": 155,
     "metadata": {},
     "output_type": "execute_result"
    }
   ],
   "source": [
    "import numpy as np\n",
    "np.mean(df)  "
   ]
  },
  {
   "cell_type": "code",
   "execution_count": 156,
   "metadata": {
    "scrolled": false
   },
   "outputs": [
    {
     "data": {
      "text/html": [
       "<div>\n",
       "<style scoped>\n",
       "    .dataframe tbody tr th:only-of-type {\n",
       "        vertical-align: middle;\n",
       "    }\n",
       "\n",
       "    .dataframe tbody tr th {\n",
       "        vertical-align: top;\n",
       "    }\n",
       "\n",
       "    .dataframe thead th {\n",
       "        text-align: right;\n",
       "    }\n",
       "</style>\n",
       "<table border=\"1\" class=\"dataframe\">\n",
       "  <thead>\n",
       "    <tr style=\"text-align: right;\">\n",
       "      <th></th>\n",
       "      <th>No1</th>\n",
       "      <th>No2</th>\n",
       "      <th>No3</th>\n",
       "      <th>No4</th>\n",
       "    </tr>\n",
       "  </thead>\n",
       "  <tbody>\n",
       "    <tr>\n",
       "      <th>2019-01-31</th>\n",
       "      <td>NaN</td>\n",
       "      <td>-1.070957</td>\n",
       "      <td>0.142398</td>\n",
       "      <td>NaN</td>\n",
       "    </tr>\n",
       "    <tr>\n",
       "      <th>2019-02-28</th>\n",
       "      <td>-0.018856</td>\n",
       "      <td>-0.665106</td>\n",
       "      <td>-1.508780</td>\n",
       "      <td>NaN</td>\n",
       "    </tr>\n",
       "    <tr>\n",
       "      <th>2019-03-31</th>\n",
       "      <td>NaN</td>\n",
       "      <td>-1.366486</td>\n",
       "      <td>NaN</td>\n",
       "      <td>-0.832033</td>\n",
       "    </tr>\n",
       "    <tr>\n",
       "      <th>2019-04-30</th>\n",
       "      <td>NaN</td>\n",
       "      <td>-0.202303</td>\n",
       "      <td>-0.396425</td>\n",
       "      <td>NaN</td>\n",
       "    </tr>\n",
       "    <tr>\n",
       "      <th>2019-05-31</th>\n",
       "      <td>NaN</td>\n",
       "      <td>0.029299</td>\n",
       "      <td>NaN</td>\n",
       "      <td>NaN</td>\n",
       "    </tr>\n",
       "    <tr>\n",
       "      <th>2019-06-30</th>\n",
       "      <td>0.481797</td>\n",
       "      <td>0.432824</td>\n",
       "      <td>NaN</td>\n",
       "      <td>NaN</td>\n",
       "    </tr>\n",
       "    <tr>\n",
       "      <th>2019-07-31</th>\n",
       "      <td>-1.690005</td>\n",
       "      <td>-0.064984</td>\n",
       "      <td>-0.313341</td>\n",
       "      <td>0.308628</td>\n",
       "    </tr>\n",
       "    <tr>\n",
       "      <th>2019-08-31</th>\n",
       "      <td>NaN</td>\n",
       "      <td>-2.888206</td>\n",
       "      <td>-1.503279</td>\n",
       "      <td>NaN</td>\n",
       "    </tr>\n",
       "    <tr>\n",
       "      <th>2019-09-30</th>\n",
       "      <td>NaN</td>\n",
       "      <td>-0.202785</td>\n",
       "      <td>-0.287089</td>\n",
       "      <td>NaN</td>\n",
       "    </tr>\n",
       "  </tbody>\n",
       "</table>\n",
       "</div>"
      ],
      "text/plain": [
       "                 No1       No2       No3       No4\n",
       "2019-01-31       NaN -1.070957  0.142398       NaN\n",
       "2019-02-28 -0.018856 -0.665106 -1.508780       NaN\n",
       "2019-03-31       NaN -1.366486       NaN -0.832033\n",
       "2019-04-30       NaN -0.202303 -0.396425       NaN\n",
       "2019-05-31       NaN  0.029299       NaN       NaN\n",
       "2019-06-30  0.481797  0.432824       NaN       NaN\n",
       "2019-07-31 -1.690005 -0.064984 -0.313341  0.308628\n",
       "2019-08-31       NaN -2.888206 -1.503279       NaN\n",
       "2019-09-30       NaN -0.202785 -0.287089       NaN"
      ]
     },
     "execution_count": 156,
     "metadata": {},
     "output_type": "execute_result"
    }
   ],
   "source": [
    "# raises warning\n",
    "np.log(df)  "
   ]
  },
  {
   "cell_type": "markdown",
   "metadata": {},
   "source": [
    "只有正数可以取log（数学计算里面的ln)，其他会是NaN"
   ]
  },
  {
   "cell_type": "code",
   "execution_count": 158,
   "metadata": {
    "scrolled": false,
    "uuid": "9dfc1e40-c030-4a9c-9e3a-ff28c64a93df"
   },
   "outputs": [
    {
     "data": {
      "text/html": [
       "<div>\n",
       "<style scoped>\n",
       "    .dataframe tbody tr th:only-of-type {\n",
       "        vertical-align: middle;\n",
       "    }\n",
       "\n",
       "    .dataframe tbody tr th {\n",
       "        vertical-align: top;\n",
       "    }\n",
       "\n",
       "    .dataframe thead th {\n",
       "        text-align: right;\n",
       "    }\n",
       "</style>\n",
       "<table border=\"1\" class=\"dataframe\">\n",
       "  <thead>\n",
       "    <tr style=\"text-align: right;\">\n",
       "      <th></th>\n",
       "      <th>No1</th>\n",
       "      <th>No2</th>\n",
       "      <th>No3</th>\n",
       "      <th>No4</th>\n",
       "    </tr>\n",
       "  </thead>\n",
       "  <tbody>\n",
       "    <tr>\n",
       "      <th>2019-01-31</th>\n",
       "      <td>1.322787</td>\n",
       "      <td>0.585389</td>\n",
       "      <td>1.073795</td>\n",
       "      <td>0.502430</td>\n",
       "    </tr>\n",
       "    <tr>\n",
       "      <th>2019-02-28</th>\n",
       "      <td>0.990616</td>\n",
       "      <td>0.717091</td>\n",
       "      <td>0.470297</td>\n",
       "      <td>1.034429</td>\n",
       "    </tr>\n",
       "    <tr>\n",
       "      <th>2019-03-31</th>\n",
       "      <td>0.435311</td>\n",
       "      <td>0.504977</td>\n",
       "      <td>0.676777</td>\n",
       "      <td>0.659669</td>\n",
       "    </tr>\n",
       "    <tr>\n",
       "      <th>2019-04-30</th>\n",
       "      <td>0.763934</td>\n",
       "      <td>0.903796</td>\n",
       "      <td>0.820196</td>\n",
       "      <td>0.323127</td>\n",
       "    </tr>\n",
       "    <tr>\n",
       "      <th>2019-05-31</th>\n",
       "      <td>0.728890</td>\n",
       "      <td>1.014757</td>\n",
       "      <td>0.661918</td>\n",
       "      <td>1.057506</td>\n",
       "    </tr>\n",
       "    <tr>\n",
       "      <th>2019-06-30</th>\n",
       "      <td>1.272392</td>\n",
       "      <td>1.241614</td>\n",
       "      <td>0.501876</td>\n",
       "      <td>0.917843</td>\n",
       "    </tr>\n",
       "    <tr>\n",
       "      <th>2019-07-31</th>\n",
       "      <td>0.429556</td>\n",
       "      <td>0.968030</td>\n",
       "      <td>0.854986</td>\n",
       "      <td>1.166857</td>\n",
       "    </tr>\n",
       "    <tr>\n",
       "      <th>2019-08-31</th>\n",
       "      <td>0.571173</td>\n",
       "      <td>0.235958</td>\n",
       "      <td>0.471593</td>\n",
       "      <td>1.201340</td>\n",
       "    </tr>\n",
       "    <tr>\n",
       "      <th>2019-09-30</th>\n",
       "      <td>0.869685</td>\n",
       "      <td>0.903578</td>\n",
       "      <td>0.866282</td>\n",
       "      <td>0.675238</td>\n",
       "    </tr>\n",
       "  </tbody>\n",
       "</table>\n",
       "</div>"
      ],
      "text/plain": [
       "                 No1       No2       No3       No4\n",
       "2019-01-31  1.322787  0.585389  1.073795  0.502430\n",
       "2019-02-28  0.990616  0.717091  0.470297  1.034429\n",
       "2019-03-31  0.435311  0.504977  0.676777  0.659669\n",
       "2019-04-30  0.763934  0.903796  0.820196  0.323127\n",
       "2019-05-31  0.728890  1.014757  0.661918  1.057506\n",
       "2019-06-30  1.272392  1.241614  0.501876  0.917843\n",
       "2019-07-31  0.429556  0.968030  0.854986  1.166857\n",
       "2019-08-31  0.571173  0.235958  0.471593  1.201340\n",
       "2019-09-30  0.869685  0.903578  0.866282  0.675238"
      ]
     },
     "execution_count": 158,
     "metadata": {},
     "output_type": "execute_result"
    }
   ],
   "source": [
    "np.sqrt(abs(df))  "
   ]
  },
  {
   "cell_type": "markdown",
   "metadata": {},
   "source": [
    "abs()取绝对值"
   ]
  },
  {
   "cell_type": "code",
   "execution_count": 159,
   "metadata": {
    "uuid": "a540362b-50d7-4ef0-89ba-0b6ee38033f6"
   },
   "outputs": [
    {
     "data": {
      "text/plain": [
       "No1    7.384345\n",
       "No2    7.075190\n",
       "No3    6.397719\n",
       "No4    7.538440\n",
       "dtype: float64"
      ]
     },
     "execution_count": 159,
     "metadata": {},
     "output_type": "execute_result"
    }
   ],
   "source": [
    "np.sqrt(abs(df)).sum()  "
   ]
  },
  {
   "cell_type": "code",
   "execution_count": 160,
   "metadata": {
    "scrolled": false
   },
   "outputs": [
    {
     "data": {
      "text/html": [
       "<div>\n",
       "<style scoped>\n",
       "    .dataframe tbody tr th:only-of-type {\n",
       "        vertical-align: middle;\n",
       "    }\n",
       "\n",
       "    .dataframe tbody tr th {\n",
       "        vertical-align: top;\n",
       "    }\n",
       "\n",
       "    .dataframe thead th {\n",
       "        text-align: right;\n",
       "    }\n",
       "</style>\n",
       "<table border=\"1\" class=\"dataframe\">\n",
       "  <thead>\n",
       "    <tr style=\"text-align: right;\">\n",
       "      <th></th>\n",
       "      <th>No1</th>\n",
       "      <th>No2</th>\n",
       "      <th>No3</th>\n",
       "      <th>No4</th>\n",
       "    </tr>\n",
       "  </thead>\n",
       "  <tbody>\n",
       "    <tr>\n",
       "      <th>2019-01-31</th>\n",
       "      <td>-74.976547</td>\n",
       "      <td>134.268040</td>\n",
       "      <td>215.303580</td>\n",
       "      <td>74.756396</td>\n",
       "    </tr>\n",
       "    <tr>\n",
       "      <th>2019-02-28</th>\n",
       "      <td>198.132079</td>\n",
       "      <td>151.421884</td>\n",
       "      <td>122.117967</td>\n",
       "      <td>-7.004333</td>\n",
       "    </tr>\n",
       "    <tr>\n",
       "      <th>2019-03-31</th>\n",
       "      <td>81.050417</td>\n",
       "      <td>125.500144</td>\n",
       "      <td>54.197301</td>\n",
       "      <td>143.516349</td>\n",
       "    </tr>\n",
       "    <tr>\n",
       "      <th>2019-04-30</th>\n",
       "      <td>41.640495</td>\n",
       "      <td>181.684707</td>\n",
       "      <td>167.272081</td>\n",
       "      <td>89.558886</td>\n",
       "    </tr>\n",
       "    <tr>\n",
       "      <th>2019-05-31</th>\n",
       "      <td>46.871962</td>\n",
       "      <td>202.973269</td>\n",
       "      <td>56.186438</td>\n",
       "      <td>-11.831825</td>\n",
       "    </tr>\n",
       "    <tr>\n",
       "      <th>2019-06-30</th>\n",
       "      <td>261.898166</td>\n",
       "      <td>254.160517</td>\n",
       "      <td>74.812086</td>\n",
       "      <td>15.756426</td>\n",
       "    </tr>\n",
       "    <tr>\n",
       "      <th>2019-07-31</th>\n",
       "      <td>118.451869</td>\n",
       "      <td>193.708220</td>\n",
       "      <td>173.100034</td>\n",
       "      <td>236.155613</td>\n",
       "    </tr>\n",
       "    <tr>\n",
       "      <th>2019-08-31</th>\n",
       "      <td>67.376194</td>\n",
       "      <td>105.567601</td>\n",
       "      <td>122.239961</td>\n",
       "      <td>-44.321700</td>\n",
       "    </tr>\n",
       "    <tr>\n",
       "      <th>2019-09-30</th>\n",
       "      <td>24.364769</td>\n",
       "      <td>181.645401</td>\n",
       "      <td>175.044476</td>\n",
       "      <td>54.405307</td>\n",
       "    </tr>\n",
       "  </tbody>\n",
       "</table>\n",
       "</div>"
      ],
      "text/plain": [
       "                   No1         No2         No3         No4\n",
       "2019-01-31  -74.976547  134.268040  215.303580   74.756396\n",
       "2019-02-28  198.132079  151.421884  122.117967   -7.004333\n",
       "2019-03-31   81.050417  125.500144   54.197301  143.516349\n",
       "2019-04-30   41.640495  181.684707  167.272081   89.558886\n",
       "2019-05-31   46.871962  202.973269   56.186438  -11.831825\n",
       "2019-06-30  261.898166  254.160517   74.812086   15.756426\n",
       "2019-07-31  118.451869  193.708220  173.100034  236.155613\n",
       "2019-08-31   67.376194  105.567601  122.239961  -44.321700\n",
       "2019-09-30   24.364769  181.645401  175.044476   54.405307"
      ]
     },
     "execution_count": 160,
     "metadata": {},
     "output_type": "execute_result"
    }
   ],
   "source": [
    "100 * df + 100  "
   ]
  },
  {
   "cell_type": "markdown",
   "metadata": {},
   "source": [
    "直接对数组进行加减乘除远算。"
   ]
  },
  {
   "cell_type": "markdown",
   "metadata": {},
   "source": [
    "## Basic Visualization基础可视化"
   ]
  },
  {
   "cell_type": "code",
   "execution_count": 161,
   "metadata": {},
   "outputs": [],
   "source": [
    "from pylab import plt, mpl  \n",
    "plt.style.use('seaborn')  \n",
    "mpl.rcParams['font.family'] = 'serif'  \n",
    "%matplotlib inline"
   ]
  },
  {
   "cell_type": "markdown",
   "metadata": {},
   "source": [
    "%matplotlib inline使图片能够在WEB端显示出来"
   ]
  },
  {
   "cell_type": "markdown",
   "metadata": {},
   "source": [
    "plt.style.use('seaborn')  和 mpl.rcParams['font.family'] = 'serif'设定画图的风格和字体。  "
   ]
  },
  {
   "cell_type": "markdown",
   "metadata": {},
   "source": [
    "pylab = matplotlib"
   ]
  },
  {
   "cell_type": "code",
   "execution_count": 53,
   "metadata": {
    "scrolled": false,
    "uuid": "4b1834ec-9f9b-41d6-8d06-f2efc8433dc4"
   },
   "outputs": [
    {
     "data": {
      "image/png": "[encoded data removed]",
      "text/plain": [
       "<Figure size 720x432 with 1 Axes>"
      ]
     },
     "metadata": {
      "needs_background": "light"
     },
     "output_type": "display_data"
    }
   ],
   "source": [
    "df.cumsum().plot(lw=2.0, figsize=(10, 6));  \n",
    "# plt.savefig('../../images/ch05/pd_plot_01.png')"
   ]
  },
  {
   "cell_type": "markdown",
   "metadata": {},
   "source": [
    "沿着时间轴x轴做累加，lw=2.0线的粗细。"
   ]
  },
  {
   "cell_type": "code",
   "execution_count": 162,
   "metadata": {
    "uuid": "4b1834ec-9f9b-41d6-8d06-f2efc8433dc4"
   },
   "outputs": [
    {
     "data": {
      "image/png": "[encoded data removed]",
      "text/plain": [
       "<Figure size 720x432 with 1 Axes>"
      ]
     },
     "metadata": {
      "needs_background": "light"
     },
     "output_type": "display_data"
    }
   ],
   "source": [
    "df.plot.bar(figsize=(10, 6), rot=30);  \n",
    "# df.plot(kind='bar', figsize=(10, 6))  \n",
    "# plt.savefig('../../images/ch05/pd_plot_02.png')"
   ]
  },
  {
   "cell_type": "markdown",
   "metadata": {},
   "source": [
    "列index默认为X轴的坐标，水平状态bar图下Y轴的坐标。df.plot.bar = df.plot"
   ]
  },
  {
   "cell_type": "markdown",
   "metadata": {},
   "source": [
    "rot=30，轴数值向逆时针旋转30度。"
   ]
  },
  {
   "cell_type": "markdown",
   "metadata": {},
   "source": [
    "## Series Class"
   ]
  },
  {
   "cell_type": "code",
   "execution_count": 164,
   "metadata": {
    "scrolled": true,
    "uuid": "e86f82d1-5934-42d3-a986-f01bc829adaa"
   },
   "outputs": [
    {
     "data": {
      "text/plain": [
       "pandas.core.frame.DataFrame"
      ]
     },
     "execution_count": 164,
     "metadata": {},
     "output_type": "execute_result"
    }
   ],
   "source": [
    "type(df)"
   ]
  },
  {
   "cell_type": "code",
   "execution_count": 165,
   "metadata": {},
   "outputs": [],
   "source": [
    "S = pd.Series(np.linspace(0, 15, 7), name='series')"
   ]
  },
  {
   "cell_type": "markdown",
   "metadata": {},
   "source": [
    "左端点0，右端点15，中间取5个数，一头一尾包括在series里面。计算方法：（15 - 0）/ (7 - 1) = 15/6 = 2.5,间隔2.5."
   ]
  },
  {
   "cell_type": "code",
   "execution_count": 168,
   "metadata": {},
   "outputs": [
    {
     "data": {
      "text/plain": [
       "0     0.0\n",
       "1     2.5\n",
       "2     5.0\n",
       "3     7.5\n",
       "4    10.0\n",
       "5    12.5\n",
       "6    15.0\n",
       "Name: series, dtype: float64"
      ]
     },
     "execution_count": 168,
     "metadata": {},
     "output_type": "execute_result"
    }
   ],
   "source": [
    "S"
   ]
  },
  {
   "cell_type": "code",
   "execution_count": 169,
   "metadata": {},
   "outputs": [
    {
     "data": {
      "text/plain": [
       "pandas.core.series.Series"
      ]
     },
     "execution_count": 169,
     "metadata": {},
     "output_type": "execute_result"
    }
   ],
   "source": [
    "type(S)"
   ]
  },
  {
   "cell_type": "code",
   "execution_count": 170,
   "metadata": {},
   "outputs": [],
   "source": [
    "s = df['No1']"
   ]
  },
  {
   "cell_type": "code",
   "execution_count": 171,
   "metadata": {},
   "outputs": [
    {
     "data": {
      "text/plain": [
       "2019-01-31   -1.749765\n",
       "2019-02-28    0.981321\n",
       "2019-03-31   -0.189496\n",
       "2019-04-30   -0.583595\n",
       "2019-05-31   -0.531280\n",
       "2019-06-30    1.618982\n",
       "2019-07-31    0.184519\n",
       "2019-08-31   -0.326238\n",
       "2019-09-30   -0.756352\n",
       "Freq: M, Name: No1, dtype: float64"
      ]
     },
     "execution_count": 171,
     "metadata": {},
     "output_type": "execute_result"
    }
   ],
   "source": [
    "s"
   ]
  },
  {
   "cell_type": "code",
   "execution_count": 172,
   "metadata": {
    "scrolled": true,
    "uuid": "ca241ef9-5359-4c89-bc92-be6346cb3959"
   },
   "outputs": [
    {
     "data": {
      "text/plain": [
       "pandas.core.series.Series"
      ]
     },
     "execution_count": 172,
     "metadata": {},
     "output_type": "execute_result"
    }
   ],
   "source": [
    "type(s)"
   ]
  },
  {
   "cell_type": "markdown",
   "metadata": {},
   "source": [
    "单列的dataframe就是series."
   ]
  },
  {
   "cell_type": "code",
   "execution_count": 173,
   "metadata": {
    "scrolled": true
   },
   "outputs": [
    {
     "data": {
      "text/plain": [
       "-0.15021177307319458"
      ]
     },
     "execution_count": 173,
     "metadata": {},
     "output_type": "execute_result"
    }
   ],
   "source": [
    "s.mean()"
   ]
  },
  {
   "cell_type": "code",
   "execution_count": 174,
   "metadata": {
    "uuid": "b3d4cc90-e499-459c-88a5-011fde80d864"
   },
   "outputs": [
    {
     "data": {
      "image/png": "[encoded data removed]",
      "text/plain": [
       "<Figure size 720x432 with 1 Axes>"
      ]
     },
     "metadata": {
      "needs_background": "light"
     },
     "output_type": "display_data"
    }
   ],
   "source": [
    "s.plot(lw=2.0, figsize=(10, 6));\n",
    "# plt.savefig('../../images/ch05/pd_plot_03.png')"
   ]
  },
  {
   "cell_type": "markdown",
   "metadata": {},
   "source": [
    "## GroupBy Operations给df分类"
   ]
  },
  {
   "cell_type": "code",
   "execution_count": 175,
   "metadata": {
    "scrolled": true,
    "uuid": "4bc106dd-9590-4566-bc70-d410517c8223"
   },
   "outputs": [
    {
     "data": {
      "text/html": [
       "<div>\n",
       "<style scoped>\n",
       "    .dataframe tbody tr th:only-of-type {\n",
       "        vertical-align: middle;\n",
       "    }\n",
       "\n",
       "    .dataframe tbody tr th {\n",
       "        vertical-align: top;\n",
       "    }\n",
       "\n",
       "    .dataframe thead th {\n",
       "        text-align: right;\n",
       "    }\n",
       "</style>\n",
       "<table border=\"1\" class=\"dataframe\">\n",
       "  <thead>\n",
       "    <tr style=\"text-align: right;\">\n",
       "      <th></th>\n",
       "      <th>No1</th>\n",
       "      <th>No2</th>\n",
       "      <th>No3</th>\n",
       "      <th>No4</th>\n",
       "      <th>Quarter</th>\n",
       "    </tr>\n",
       "  </thead>\n",
       "  <tbody>\n",
       "    <tr>\n",
       "      <th>2019-01-31</th>\n",
       "      <td>-1.749765</td>\n",
       "      <td>0.342680</td>\n",
       "      <td>1.153036</td>\n",
       "      <td>-0.252436</td>\n",
       "      <td>Q1</td>\n",
       "    </tr>\n",
       "    <tr>\n",
       "      <th>2019-02-28</th>\n",
       "      <td>0.981321</td>\n",
       "      <td>0.514219</td>\n",
       "      <td>0.221180</td>\n",
       "      <td>-1.070043</td>\n",
       "      <td>Q1</td>\n",
       "    </tr>\n",
       "    <tr>\n",
       "      <th>2019-03-31</th>\n",
       "      <td>-0.189496</td>\n",
       "      <td>0.255001</td>\n",
       "      <td>-0.458027</td>\n",
       "      <td>0.435163</td>\n",
       "      <td>Q1</td>\n",
       "    </tr>\n",
       "    <tr>\n",
       "      <th>2019-04-30</th>\n",
       "      <td>-0.583595</td>\n",
       "      <td>0.816847</td>\n",
       "      <td>0.672721</td>\n",
       "      <td>-0.104411</td>\n",
       "      <td>Q2</td>\n",
       "    </tr>\n",
       "    <tr>\n",
       "      <th>2019-05-31</th>\n",
       "      <td>-0.531280</td>\n",
       "      <td>1.029733</td>\n",
       "      <td>-0.438136</td>\n",
       "      <td>-1.118318</td>\n",
       "      <td>Q2</td>\n",
       "    </tr>\n",
       "    <tr>\n",
       "      <th>2019-06-30</th>\n",
       "      <td>1.618982</td>\n",
       "      <td>1.541605</td>\n",
       "      <td>-0.251879</td>\n",
       "      <td>-0.842436</td>\n",
       "      <td>Q2</td>\n",
       "    </tr>\n",
       "    <tr>\n",
       "      <th>2019-07-31</th>\n",
       "      <td>0.184519</td>\n",
       "      <td>0.937082</td>\n",
       "      <td>0.731000</td>\n",
       "      <td>1.361556</td>\n",
       "      <td>Q3</td>\n",
       "    </tr>\n",
       "    <tr>\n",
       "      <th>2019-08-31</th>\n",
       "      <td>-0.326238</td>\n",
       "      <td>0.055676</td>\n",
       "      <td>0.222400</td>\n",
       "      <td>-1.443217</td>\n",
       "      <td>Q3</td>\n",
       "    </tr>\n",
       "    <tr>\n",
       "      <th>2019-09-30</th>\n",
       "      <td>-0.756352</td>\n",
       "      <td>0.816454</td>\n",
       "      <td>0.750445</td>\n",
       "      <td>-0.455947</td>\n",
       "      <td>Q3</td>\n",
       "    </tr>\n",
       "  </tbody>\n",
       "</table>\n",
       "</div>"
      ],
      "text/plain": [
       "                 No1       No2       No3       No4 Quarter\n",
       "2019-01-31 -1.749765  0.342680  1.153036 -0.252436      Q1\n",
       "2019-02-28  0.981321  0.514219  0.221180 -1.070043      Q1\n",
       "2019-03-31 -0.189496  0.255001 -0.458027  0.435163      Q1\n",
       "2019-04-30 -0.583595  0.816847  0.672721 -0.104411      Q2\n",
       "2019-05-31 -0.531280  1.029733 -0.438136 -1.118318      Q2\n",
       "2019-06-30  1.618982  1.541605 -0.251879 -0.842436      Q2\n",
       "2019-07-31  0.184519  0.937082  0.731000  1.361556      Q3\n",
       "2019-08-31 -0.326238  0.055676  0.222400 -1.443217      Q3\n",
       "2019-09-30 -0.756352  0.816454  0.750445 -0.455947      Q3"
      ]
     },
     "execution_count": 175,
     "metadata": {},
     "output_type": "execute_result"
    }
   ],
   "source": [
    "df['Quarter'] = ['Q1', 'Q1', 'Q1', 'Q2', 'Q2',\n",
    "                 'Q2', 'Q3', 'Q3', 'Q3']\n",
    "df"
   ]
  },
  {
   "cell_type": "code",
   "execution_count": 176,
   "metadata": {},
   "outputs": [],
   "source": [
    "groups = df.groupby('Quarter')  "
   ]
  },
  {
   "cell_type": "code",
   "execution_count": 178,
   "metadata": {
    "scrolled": true,
    "uuid": "a871b95e-5946-4b09-b8dc-bc9503d2ff14"
   },
   "outputs": [
    {
     "data": {
      "text/plain": [
       "Quarter\n",
       "Q1    3\n",
       "Q2    3\n",
       "Q3    3\n",
       "dtype: int64"
      ]
     },
     "execution_count": 178,
     "metadata": {},
     "output_type": "execute_result"
    }
   ],
   "source": [
    "groups.size()  "
   ]
  },
  {
   "cell_type": "code",
   "execution_count": 180,
   "metadata": {},
   "outputs": [
    {
     "data": {
      "text/plain": [
       "<pandas.core.groupby.generic.DataFrameGroupBy object at 0x000002AC09408C88>"
      ]
     },
     "execution_count": 180,
     "metadata": {},
     "output_type": "execute_result"
    }
   ],
   "source": [
    "groups"
   ]
  },
  {
   "cell_type": "code",
   "execution_count": 181,
   "metadata": {},
   "outputs": [
    {
     "data": {
      "text/plain": [
       "[('Q1',\n",
       "                   No1       No2       No3       No4 Quarter\n",
       "  2019-01-31 -1.749765  0.342680  1.153036 -0.252436      Q1\n",
       "  2019-02-28  0.981321  0.514219  0.221180 -1.070043      Q1\n",
       "  2019-03-31 -0.189496  0.255001 -0.458027  0.435163      Q1),\n",
       " ('Q2',\n",
       "                   No1       No2       No3       No4 Quarter\n",
       "  2019-04-30 -0.583595  0.816847  0.672721 -0.104411      Q2\n",
       "  2019-05-31 -0.531280  1.029733 -0.438136 -1.118318      Q2\n",
       "  2019-06-30  1.618982  1.541605 -0.251879 -0.842436      Q2),\n",
       " ('Q3',\n",
       "                   No1       No2       No3       No4 Quarter\n",
       "  2019-07-31  0.184519  0.937082  0.731000  1.361556      Q3\n",
       "  2019-08-31 -0.326238  0.055676  0.222400 -1.443217      Q3\n",
       "  2019-09-30 -0.756352  0.816454  0.750445 -0.455947      Q3)]"
      ]
     },
     "execution_count": 181,
     "metadata": {},
     "output_type": "execute_result"
    }
   ],
   "source": [
    "list(groups)"
   ]
  },
  {
   "cell_type": "markdown",
   "metadata": {},
   "source": [
    "新建的groupby文件是完全不同于df的文件，无法直接打印出来，需要通过list来显示出来。Quarter作为分类要素代替行的index成为数学计算后的index。"
   ]
  },
  {
   "cell_type": "code",
   "execution_count": 195,
   "metadata": {
    "scrolled": true,
    "uuid": "804e567f-6b74-4405-a10e-d19d914655e7"
   },
   "outputs": [
    {
     "data": {
      "text/html": [
       "<div>\n",
       "<style scoped>\n",
       "    .dataframe tbody tr th:only-of-type {\n",
       "        vertical-align: middle;\n",
       "    }\n",
       "\n",
       "    .dataframe tbody tr th {\n",
       "        vertical-align: top;\n",
       "    }\n",
       "\n",
       "    .dataframe thead th {\n",
       "        text-align: right;\n",
       "    }\n",
       "</style>\n",
       "<table border=\"1\" class=\"dataframe\">\n",
       "  <thead>\n",
       "    <tr style=\"text-align: right;\">\n",
       "      <th></th>\n",
       "      <th>No1</th>\n",
       "      <th>No2</th>\n",
       "      <th>No3</th>\n",
       "      <th>No4</th>\n",
       "    </tr>\n",
       "    <tr>\n",
       "      <th>Quarter</th>\n",
       "      <th></th>\n",
       "      <th></th>\n",
       "      <th></th>\n",
       "      <th></th>\n",
       "    </tr>\n",
       "  </thead>\n",
       "  <tbody>\n",
       "    <tr>\n",
       "      <th>Q1</th>\n",
       "      <td>-0.319314</td>\n",
       "      <td>0.370634</td>\n",
       "      <td>0.305396</td>\n",
       "      <td>-0.295772</td>\n",
       "    </tr>\n",
       "    <tr>\n",
       "      <th>Q2</th>\n",
       "      <td>0.168035</td>\n",
       "      <td>1.129395</td>\n",
       "      <td>-0.005765</td>\n",
       "      <td>-0.688388</td>\n",
       "    </tr>\n",
       "    <tr>\n",
       "      <th>Q3</th>\n",
       "      <td>-0.299357</td>\n",
       "      <td>0.603071</td>\n",
       "      <td>0.567948</td>\n",
       "      <td>-0.179203</td>\n",
       "    </tr>\n",
       "  </tbody>\n",
       "</table>\n",
       "</div>"
      ],
      "text/plain": [
       "              No1       No2       No3       No4\n",
       "Quarter                                        \n",
       "Q1      -0.319314  0.370634  0.305396 -0.295772\n",
       "Q2       0.168035  1.129395 -0.005765 -0.688388\n",
       "Q3      -0.299357  0.603071  0.567948 -0.179203"
      ]
     },
     "execution_count": 195,
     "metadata": {},
     "output_type": "execute_result"
    }
   ],
   "source": [
    "groups.mean()  "
   ]
  },
  {
   "cell_type": "code",
   "execution_count": 196,
   "metadata": {
    "scrolled": true,
    "uuid": "7eb45e5c-b86f-4464-afd9-d5a3665e0f8e"
   },
   "outputs": [
    {
     "data": {
      "text/html": [
       "<div>\n",
       "<style scoped>\n",
       "    .dataframe tbody tr th:only-of-type {\n",
       "        vertical-align: middle;\n",
       "    }\n",
       "\n",
       "    .dataframe tbody tr th {\n",
       "        vertical-align: top;\n",
       "    }\n",
       "\n",
       "    .dataframe thead th {\n",
       "        text-align: right;\n",
       "    }\n",
       "</style>\n",
       "<table border=\"1\" class=\"dataframe\">\n",
       "  <thead>\n",
       "    <tr style=\"text-align: right;\">\n",
       "      <th></th>\n",
       "      <th>No1</th>\n",
       "      <th>No2</th>\n",
       "      <th>No3</th>\n",
       "      <th>No4</th>\n",
       "    </tr>\n",
       "    <tr>\n",
       "      <th>Quarter</th>\n",
       "      <th></th>\n",
       "      <th></th>\n",
       "      <th></th>\n",
       "      <th></th>\n",
       "    </tr>\n",
       "  </thead>\n",
       "  <tbody>\n",
       "    <tr>\n",
       "      <th>Q1</th>\n",
       "      <td>0.981321</td>\n",
       "      <td>0.514219</td>\n",
       "      <td>1.153036</td>\n",
       "      <td>0.435163</td>\n",
       "    </tr>\n",
       "    <tr>\n",
       "      <th>Q2</th>\n",
       "      <td>1.618982</td>\n",
       "      <td>1.541605</td>\n",
       "      <td>0.672721</td>\n",
       "      <td>-0.104411</td>\n",
       "    </tr>\n",
       "    <tr>\n",
       "      <th>Q3</th>\n",
       "      <td>0.184519</td>\n",
       "      <td>0.937082</td>\n",
       "      <td>0.750445</td>\n",
       "      <td>1.361556</td>\n",
       "    </tr>\n",
       "  </tbody>\n",
       "</table>\n",
       "</div>"
      ],
      "text/plain": [
       "              No1       No2       No3       No4\n",
       "Quarter                                        \n",
       "Q1       0.981321  0.514219  1.153036  0.435163\n",
       "Q2       1.618982  1.541605  0.672721 -0.104411\n",
       "Q3       0.184519  0.937082  0.750445  1.361556"
      ]
     },
     "execution_count": 196,
     "metadata": {},
     "output_type": "execute_result"
    }
   ],
   "source": [
    "groups.max()  "
   ]
  },
  {
   "cell_type": "code",
   "execution_count": 200,
   "metadata": {
    "scrolled": false
   },
   "outputs": [
    {
     "data": {
      "text/html": [
       "<div>\n",
       "<style scoped>\n",
       "    .dataframe tbody tr th:only-of-type {\n",
       "        vertical-align: middle;\n",
       "    }\n",
       "\n",
       "    .dataframe tbody tr th {\n",
       "        vertical-align: top;\n",
       "    }\n",
       "\n",
       "    .dataframe thead tr th {\n",
       "        text-align: left;\n",
       "    }\n",
       "\n",
       "    .dataframe thead tr:last-of-type th {\n",
       "        text-align: right;\n",
       "    }\n",
       "</style>\n",
       "<table border=\"1\" class=\"dataframe\">\n",
       "  <thead>\n",
       "    <tr>\n",
       "      <th></th>\n",
       "      <th colspan=\"3\" halign=\"left\">No1</th>\n",
       "      <th colspan=\"3\" halign=\"left\">No2</th>\n",
       "      <th colspan=\"3\" halign=\"left\">No3</th>\n",
       "      <th colspan=\"3\" halign=\"left\">No4</th>\n",
       "    </tr>\n",
       "    <tr>\n",
       "      <th></th>\n",
       "      <th>min</th>\n",
       "      <th>max</th>\n",
       "      <th>mean</th>\n",
       "      <th>min</th>\n",
       "      <th>max</th>\n",
       "      <th>mean</th>\n",
       "      <th>min</th>\n",
       "      <th>max</th>\n",
       "      <th>mean</th>\n",
       "      <th>min</th>\n",
       "      <th>max</th>\n",
       "      <th>mean</th>\n",
       "    </tr>\n",
       "    <tr>\n",
       "      <th>Quarter</th>\n",
       "      <th></th>\n",
       "      <th></th>\n",
       "      <th></th>\n",
       "      <th></th>\n",
       "      <th></th>\n",
       "      <th></th>\n",
       "      <th></th>\n",
       "      <th></th>\n",
       "      <th></th>\n",
       "      <th></th>\n",
       "      <th></th>\n",
       "      <th></th>\n",
       "    </tr>\n",
       "  </thead>\n",
       "  <tbody>\n",
       "    <tr>\n",
       "      <th>Q1</th>\n",
       "      <td>-1.75</td>\n",
       "      <td>0.98</td>\n",
       "      <td>-0.32</td>\n",
       "      <td>0.26</td>\n",
       "      <td>0.51</td>\n",
       "      <td>0.37</td>\n",
       "      <td>-0.46</td>\n",
       "      <td>1.15</td>\n",
       "      <td>0.31</td>\n",
       "      <td>-1.07</td>\n",
       "      <td>0.44</td>\n",
       "      <td>-0.30</td>\n",
       "    </tr>\n",
       "    <tr>\n",
       "      <th>Q2</th>\n",
       "      <td>-0.58</td>\n",
       "      <td>1.62</td>\n",
       "      <td>0.17</td>\n",
       "      <td>0.82</td>\n",
       "      <td>1.54</td>\n",
       "      <td>1.13</td>\n",
       "      <td>-0.44</td>\n",
       "      <td>0.67</td>\n",
       "      <td>-0.01</td>\n",
       "      <td>-1.12</td>\n",
       "      <td>-0.10</td>\n",
       "      <td>-0.69</td>\n",
       "    </tr>\n",
       "    <tr>\n",
       "      <th>Q3</th>\n",
       "      <td>-0.76</td>\n",
       "      <td>0.18</td>\n",
       "      <td>-0.30</td>\n",
       "      <td>0.06</td>\n",
       "      <td>0.94</td>\n",
       "      <td>0.60</td>\n",
       "      <td>0.22</td>\n",
       "      <td>0.75</td>\n",
       "      <td>0.57</td>\n",
       "      <td>-1.44</td>\n",
       "      <td>1.36</td>\n",
       "      <td>-0.18</td>\n",
       "    </tr>\n",
       "  </tbody>\n",
       "</table>\n",
       "</div>"
      ],
      "text/plain": [
       "          No1               No2               No3               No4        \\\n",
       "          min   max  mean   min   max  mean   min   max  mean   min   max   \n",
       "Quarter                                                                     \n",
       "Q1      -1.75  0.98 -0.32  0.26  0.51  0.37 -0.46  1.15  0.31 -1.07  0.44   \n",
       "Q2      -0.58  1.62  0.17  0.82  1.54  1.13 -0.44  0.67 -0.01 -1.12 -0.10   \n",
       "Q3      -0.76  0.18 -0.30  0.06  0.94  0.60  0.22  0.75  0.57 -1.44  1.36   \n",
       "\n",
       "               \n",
       "         mean  \n",
       "Quarter        \n",
       "Q1      -0.30  \n",
       "Q2      -0.69  \n",
       "Q3      -0.18  "
      ]
     },
     "execution_count": 200,
     "metadata": {},
     "output_type": "execute_result"
    }
   ],
   "source": [
    "groups.aggregate([min, max, np.mean]).round(2)  "
   ]
  },
  {
   "cell_type": "markdown",
   "metadata": {},
   "source": [
    "aggregate聚合函数里面可以写出一堆pd/np里面存在的指标min, max，mean等，每一大列['No1',... ]里面有n个小列里面存着关于这一列的不同的指标。"
   ]
  },
  {
   "cell_type": "code",
   "execution_count": 202,
   "metadata": {
    "scrolled": true
   },
   "outputs": [
    {
     "data": {
      "text/plain": [
       "Quarter\n",
       "Q1   -0.319314\n",
       "Q2    0.168035\n",
       "Q3   -0.299357\n",
       "Name: No1, dtype: float64"
      ]
     },
     "execution_count": 202,
     "metadata": {},
     "output_type": "execute_result"
    }
   ],
   "source": [
    "groups['No1'].mean()"
   ]
  },
  {
   "cell_type": "markdown",
   "metadata": {},
   "source": [
    ".round(2)保留2位小数。groups['No1']切片和df一致"
   ]
  },
  {
   "cell_type": "code",
   "execution_count": 203,
   "metadata": {
    "uuid": "542cf99a-bbf8-447e-9643-d6887ac74be7"
   },
   "outputs": [],
   "source": [
    "df['Odd_Even'] = ['Odd', 'Even', 'Odd', 'Even', 'Odd', 'Even',\n",
    "                  'Odd', 'Even', 'Odd']"
   ]
  },
  {
   "cell_type": "code",
   "execution_count": 204,
   "metadata": {
    "uuid": "f5144c9f-ff37-4e35-9417-e39debdcd45b"
   },
   "outputs": [],
   "source": [
    "groups = df.groupby(['Quarter', 'Odd_Even'])"
   ]
  },
  {
   "cell_type": "code",
   "execution_count": 205,
   "metadata": {
    "uuid": "06904508-dbf1-431f-a3a2-681f29f03c51"
   },
   "outputs": [
    {
     "data": {
      "text/plain": [
       "Quarter  Odd_Even\n",
       "Q1       Even        1\n",
       "         Odd         2\n",
       "Q2       Even        2\n",
       "         Odd         1\n",
       "Q3       Even        1\n",
       "         Odd         2\n",
       "dtype: int64"
      ]
     },
     "execution_count": 205,
     "metadata": {},
     "output_type": "execute_result"
    }
   ],
   "source": [
    "groups.size()"
   ]
  },
  {
   "cell_type": "code",
   "execution_count": 207,
   "metadata": {
    "scrolled": true
   },
   "outputs": [
    {
     "data": {
      "text/plain": [
       "[(('Q1', 'Even'),\n",
       "                   No1       No2      No3       No4 Quarter Odd_Even\n",
       "  2019-02-28  0.981321  0.514219  0.22118 -1.070043      Q1     Even),\n",
       " (('Q1', 'Odd'),\n",
       "                   No1       No2       No3       No4 Quarter Odd_Even\n",
       "  2019-01-31 -1.749765  0.342680  1.153036 -0.252436      Q1      Odd\n",
       "  2019-03-31 -0.189496  0.255001 -0.458027  0.435163      Q1      Odd),\n",
       " (('Q2', 'Even'),\n",
       "                   No1       No2       No3       No4 Quarter Odd_Even\n",
       "  2019-04-30 -0.583595  0.816847  0.672721 -0.104411      Q2     Even\n",
       "  2019-06-30  1.618982  1.541605 -0.251879 -0.842436      Q2     Even),\n",
       " (('Q2', 'Odd'),\n",
       "                  No1       No2       No3       No4 Quarter Odd_Even\n",
       "  2019-05-31 -0.53128  1.029733 -0.438136 -1.118318      Q2      Odd),\n",
       " (('Q3', 'Even'),\n",
       "                   No1       No2     No3       No4 Quarter Odd_Even\n",
       "  2019-08-31 -0.326238  0.055676  0.2224 -1.443217      Q3     Even),\n",
       " (('Q3', 'Odd'),\n",
       "                   No1       No2       No3       No4 Quarter Odd_Even\n",
       "  2019-07-31  0.184519  0.937082  0.731000  1.361556      Q3      Odd\n",
       "  2019-09-30 -0.756352  0.816454  0.750445 -0.455947      Q3      Odd)]"
      ]
     },
     "execution_count": 207,
     "metadata": {},
     "output_type": "execute_result"
    }
   ],
   "source": [
    "list(groups)"
   ]
  },
  {
   "cell_type": "markdown",
   "metadata": {},
   "source": [
    "('Q1', 'Even')截取成更小的df，要同时满足两个条件"
   ]
  },
  {
   "cell_type": "code",
   "execution_count": 208,
   "metadata": {
    "scrolled": false,
    "uuid": "b8471956-40fc-4203-a54a-aaa45f5a3c00"
   },
   "outputs": [
    {
     "data": {
      "text/html": [
       "<div>\n",
       "<style scoped>\n",
       "    .dataframe tbody tr th:only-of-type {\n",
       "        vertical-align: middle;\n",
       "    }\n",
       "\n",
       "    .dataframe tbody tr th {\n",
       "        vertical-align: top;\n",
       "    }\n",
       "\n",
       "    .dataframe thead tr th {\n",
       "        text-align: left;\n",
       "    }\n",
       "\n",
       "    .dataframe thead tr:last-of-type th {\n",
       "        text-align: right;\n",
       "    }\n",
       "</style>\n",
       "<table border=\"1\" class=\"dataframe\">\n",
       "  <thead>\n",
       "    <tr>\n",
       "      <th></th>\n",
       "      <th></th>\n",
       "      <th colspan=\"2\" halign=\"left\">No1</th>\n",
       "      <th colspan=\"2\" halign=\"left\">No4</th>\n",
       "    </tr>\n",
       "    <tr>\n",
       "      <th></th>\n",
       "      <th></th>\n",
       "      <th>sum</th>\n",
       "      <th>mean</th>\n",
       "      <th>sum</th>\n",
       "      <th>mean</th>\n",
       "    </tr>\n",
       "    <tr>\n",
       "      <th>Quarter</th>\n",
       "      <th>Odd_Even</th>\n",
       "      <th></th>\n",
       "      <th></th>\n",
       "      <th></th>\n",
       "      <th></th>\n",
       "    </tr>\n",
       "  </thead>\n",
       "  <tbody>\n",
       "    <tr>\n",
       "      <th rowspan=\"2\" valign=\"top\">Q1</th>\n",
       "      <th>Even</th>\n",
       "      <td>0.981321</td>\n",
       "      <td>0.981321</td>\n",
       "      <td>-1.070043</td>\n",
       "      <td>-1.070043</td>\n",
       "    </tr>\n",
       "    <tr>\n",
       "      <th>Odd</th>\n",
       "      <td>-1.939261</td>\n",
       "      <td>-0.969631</td>\n",
       "      <td>0.182727</td>\n",
       "      <td>0.091364</td>\n",
       "    </tr>\n",
       "    <tr>\n",
       "      <th rowspan=\"2\" valign=\"top\">Q2</th>\n",
       "      <th>Even</th>\n",
       "      <td>1.035387</td>\n",
       "      <td>0.517693</td>\n",
       "      <td>-0.946847</td>\n",
       "      <td>-0.473423</td>\n",
       "    </tr>\n",
       "    <tr>\n",
       "      <th>Odd</th>\n",
       "      <td>-0.531280</td>\n",
       "      <td>-0.531280</td>\n",
       "      <td>-1.118318</td>\n",
       "      <td>-1.118318</td>\n",
       "    </tr>\n",
       "    <tr>\n",
       "      <th rowspan=\"2\" valign=\"top\">Q3</th>\n",
       "      <th>Even</th>\n",
       "      <td>-0.326238</td>\n",
       "      <td>-0.326238</td>\n",
       "      <td>-1.443217</td>\n",
       "      <td>-1.443217</td>\n",
       "    </tr>\n",
       "    <tr>\n",
       "      <th>Odd</th>\n",
       "      <td>-0.571834</td>\n",
       "      <td>-0.285917</td>\n",
       "      <td>0.905609</td>\n",
       "      <td>0.452805</td>\n",
       "    </tr>\n",
       "  </tbody>\n",
       "</table>\n",
       "</div>"
      ],
      "text/plain": [
       "                       No1                 No4          \n",
       "                       sum      mean       sum      mean\n",
       "Quarter Odd_Even                                        \n",
       "Q1      Even      0.981321  0.981321 -1.070043 -1.070043\n",
       "        Odd      -1.939261 -0.969631  0.182727  0.091364\n",
       "Q2      Even      1.035387  0.517693 -0.946847 -0.473423\n",
       "        Odd      -0.531280 -0.531280 -1.118318 -1.118318\n",
       "Q3      Even     -0.326238 -0.326238 -1.443217 -1.443217\n",
       "        Odd      -0.571834 -0.285917  0.905609  0.452805"
      ]
     },
     "execution_count": 208,
     "metadata": {},
     "output_type": "execute_result"
    }
   ],
   "source": [
    "groups[['No1', 'No4']].aggregate([sum, np.mean])"
   ]
  },
  {
   "cell_type": "markdown",
   "metadata": {},
   "source": [
    "嵌套数据结构，每个Q1里面都包含个数不同，但两个种类都存在的Even和Odd(也有个数相同的情况，也是嵌套)，嵌套意味着要对每个Quarter下面的Even和Odd分别做分析。"
   ]
  },
  {
   "cell_type": "markdown",
   "metadata": {},
   "source": [
    "sum作为自带的函数也可以在aggregate里面，mean是np里面的，所以要np.mean"
   ]
  },
  {
   "cell_type": "markdown",
   "metadata": {},
   "source": [
    "## Complex Selection"
   ]
  },
  {
   "cell_type": "code",
   "execution_count": 222,
   "metadata": {},
   "outputs": [],
   "source": [
    "data = np.random.standard_normal((10, 2))  "
   ]
  },
  {
   "cell_type": "code",
   "execution_count": 223,
   "metadata": {},
   "outputs": [],
   "source": [
    "df = pd.DataFrame(data, columns=['x', 'y'])  "
   ]
  },
  {
   "cell_type": "code",
   "execution_count": 224,
   "metadata": {},
   "outputs": [
    {
     "name": "stdout",
     "output_type": "stream",
     "text": [
      "<class 'pandas.core.frame.DataFrame'>\n",
      "RangeIndex: 10 entries, 0 to 9\n",
      "Data columns (total 2 columns):\n",
      " #   Column  Non-Null Count  Dtype  \n",
      "---  ------  --------------  -----  \n",
      " 0   x       10 non-null     float64\n",
      " 1   y       10 non-null     float64\n",
      "dtypes: float64(2)\n",
      "memory usage: 288.0 bytes\n"
     ]
    }
   ],
   "source": [
    "df.info()  "
   ]
  },
  {
   "cell_type": "code",
   "execution_count": 225,
   "metadata": {},
   "outputs": [
    {
     "data": {
      "text/html": [
       "<div>\n",
       "<style scoped>\n",
       "    .dataframe tbody tr th:only-of-type {\n",
       "        vertical-align: middle;\n",
       "    }\n",
       "\n",
       "    .dataframe tbody tr th {\n",
       "        vertical-align: top;\n",
       "    }\n",
       "\n",
       "    .dataframe thead th {\n",
       "        text-align: right;\n",
       "    }\n",
       "</style>\n",
       "<table border=\"1\" class=\"dataframe\">\n",
       "  <thead>\n",
       "    <tr style=\"text-align: right;\">\n",
       "      <th></th>\n",
       "      <th>x</th>\n",
       "      <th>y</th>\n",
       "    </tr>\n",
       "  </thead>\n",
       "  <tbody>\n",
       "    <tr>\n",
       "      <th>0</th>\n",
       "      <td>-0.862227</td>\n",
       "      <td>1.249470</td>\n",
       "    </tr>\n",
       "    <tr>\n",
       "      <th>1</th>\n",
       "      <td>-0.079611</td>\n",
       "      <td>-0.889731</td>\n",
       "    </tr>\n",
       "    <tr>\n",
       "      <th>2</th>\n",
       "      <td>-0.881798</td>\n",
       "      <td>0.018639</td>\n",
       "    </tr>\n",
       "    <tr>\n",
       "      <th>3</th>\n",
       "      <td>0.237845</td>\n",
       "      <td>0.013549</td>\n",
       "    </tr>\n",
       "    <tr>\n",
       "      <th>4</th>\n",
       "      <td>-1.635529</td>\n",
       "      <td>-1.044210</td>\n",
       "    </tr>\n",
       "  </tbody>\n",
       "</table>\n",
       "</div>"
      ],
      "text/plain": [
       "          x         y\n",
       "0 -0.862227  1.249470\n",
       "1 -0.079611 -0.889731\n",
       "2 -0.881798  0.018639\n",
       "3  0.237845  0.013549\n",
       "4 -1.635529 -1.044210"
      ]
     },
     "execution_count": 225,
     "metadata": {},
     "output_type": "execute_result"
    }
   ],
   "source": [
    "df.head()  "
   ]
  },
  {
   "cell_type": "code",
   "execution_count": 226,
   "metadata": {
    "scrolled": false
   },
   "outputs": [
    {
     "data": {
      "text/html": [
       "<div>\n",
       "<style scoped>\n",
       "    .dataframe tbody tr th:only-of-type {\n",
       "        vertical-align: middle;\n",
       "    }\n",
       "\n",
       "    .dataframe tbody tr th {\n",
       "        vertical-align: top;\n",
       "    }\n",
       "\n",
       "    .dataframe thead th {\n",
       "        text-align: right;\n",
       "    }\n",
       "</style>\n",
       "<table border=\"1\" class=\"dataframe\">\n",
       "  <thead>\n",
       "    <tr style=\"text-align: right;\">\n",
       "      <th></th>\n",
       "      <th>x</th>\n",
       "      <th>y</th>\n",
       "    </tr>\n",
       "  </thead>\n",
       "  <tbody>\n",
       "    <tr>\n",
       "      <th>5</th>\n",
       "      <td>0.613039</td>\n",
       "      <td>0.736205</td>\n",
       "    </tr>\n",
       "    <tr>\n",
       "      <th>6</th>\n",
       "      <td>1.026921</td>\n",
       "      <td>-1.432191</td>\n",
       "    </tr>\n",
       "    <tr>\n",
       "      <th>7</th>\n",
       "      <td>-1.841188</td>\n",
       "      <td>0.366093</td>\n",
       "    </tr>\n",
       "    <tr>\n",
       "      <th>8</th>\n",
       "      <td>-0.331777</td>\n",
       "      <td>-0.689218</td>\n",
       "    </tr>\n",
       "    <tr>\n",
       "      <th>9</th>\n",
       "      <td>2.034608</td>\n",
       "      <td>-0.550714</td>\n",
       "    </tr>\n",
       "  </tbody>\n",
       "</table>\n",
       "</div>"
      ],
      "text/plain": [
       "          x         y\n",
       "5  0.613039  0.736205\n",
       "6  1.026921 -1.432191\n",
       "7 -1.841188  0.366093\n",
       "8 -0.331777 -0.689218\n",
       "9  2.034608 -0.550714"
      ]
     },
     "execution_count": 226,
     "metadata": {},
     "output_type": "execute_result"
    }
   ],
   "source": [
    "df.tail()  "
   ]
  },
  {
   "cell_type": "markdown",
   "metadata": {},
   "source": [
    "head() 前5行数据，tail() 后5行数据"
   ]
  },
  {
   "cell_type": "code",
   "execution_count": 227,
   "metadata": {
    "scrolled": false
   },
   "outputs": [
    {
     "data": {
      "text/plain": [
       "0    False\n",
       "1    False\n",
       "2    False\n",
       "3    False\n",
       "4    False\n",
       "5     True\n",
       "6     True\n",
       "7    False\n",
       "8    False\n",
       "9     True\n",
       "Name: x, dtype: bool"
      ]
     },
     "execution_count": 227,
     "metadata": {},
     "output_type": "execute_result"
    }
   ],
   "source": [
    "df['x'] > 0.5  "
   ]
  },
  {
   "cell_type": "code",
   "execution_count": 228,
   "metadata": {},
   "outputs": [
    {
     "data": {
      "text/plain": [
       "0    False\n",
       "1    False\n",
       "2    False\n",
       "3    False\n",
       "4    False\n",
       "5    False\n",
       "6     True\n",
       "7    False\n",
       "8    False\n",
       "9     True\n",
       "dtype: bool"
      ]
     },
     "execution_count": 228,
     "metadata": {},
     "output_type": "execute_result"
    }
   ],
   "source": [
    "(df['x'] > 0) & (df['y'] < 0)  "
   ]
  },
  {
   "cell_type": "code",
   "execution_count": 229,
   "metadata": {},
   "outputs": [
    {
     "data": {
      "text/plain": [
       "0    False\n",
       "1     True\n",
       "2    False\n",
       "3     True\n",
       "4     True\n",
       "5     True\n",
       "6     True\n",
       "7    False\n",
       "8     True\n",
       "9     True\n",
       "dtype: bool"
      ]
     },
     "execution_count": 229,
     "metadata": {},
     "output_type": "execute_result"
    }
   ],
   "source": [
    "(df['x'] > 0) | (df['y'] < 0)  "
   ]
  },
  {
   "cell_type": "code",
   "execution_count": 230,
   "metadata": {
    "scrolled": false
   },
   "outputs": [
    {
     "data": {
      "text/html": [
       "<div>\n",
       "<style scoped>\n",
       "    .dataframe tbody tr th:only-of-type {\n",
       "        vertical-align: middle;\n",
       "    }\n",
       "\n",
       "    .dataframe tbody tr th {\n",
       "        vertical-align: top;\n",
       "    }\n",
       "\n",
       "    .dataframe thead th {\n",
       "        text-align: right;\n",
       "    }\n",
       "</style>\n",
       "<table border=\"1\" class=\"dataframe\">\n",
       "  <thead>\n",
       "    <tr style=\"text-align: right;\">\n",
       "      <th></th>\n",
       "      <th>x</th>\n",
       "      <th>y</th>\n",
       "    </tr>\n",
       "  </thead>\n",
       "  <tbody>\n",
       "    <tr>\n",
       "      <th>3</th>\n",
       "      <td>0.237845</td>\n",
       "      <td>0.013549</td>\n",
       "    </tr>\n",
       "    <tr>\n",
       "      <th>5</th>\n",
       "      <td>0.613039</td>\n",
       "      <td>0.736205</td>\n",
       "    </tr>\n",
       "    <tr>\n",
       "      <th>6</th>\n",
       "      <td>1.026921</td>\n",
       "      <td>-1.432191</td>\n",
       "    </tr>\n",
       "    <tr>\n",
       "      <th>9</th>\n",
       "      <td>2.034608</td>\n",
       "      <td>-0.550714</td>\n",
       "    </tr>\n",
       "  </tbody>\n",
       "</table>\n",
       "</div>"
      ],
      "text/plain": [
       "          x         y\n",
       "3  0.237845  0.013549\n",
       "5  0.613039  0.736205\n",
       "6  1.026921 -1.432191\n",
       "9  2.034608 -0.550714"
      ]
     },
     "execution_count": 230,
     "metadata": {},
     "output_type": "execute_result"
    }
   ],
   "source": [
    "df[df['x'] > 0]  "
   ]
  },
  {
   "cell_type": "markdown",
   "metadata": {},
   "source": [
    "对于bool矩阵的操作，numpy和pandas是一致的。"
   ]
  },
  {
   "cell_type": "code",
   "execution_count": 231,
   "metadata": {
    "scrolled": true
   },
   "outputs": [
    {
     "data": {
      "text/html": [
       "<div>\n",
       "<style scoped>\n",
       "    .dataframe tbody tr th:only-of-type {\n",
       "        vertical-align: middle;\n",
       "    }\n",
       "\n",
       "    .dataframe tbody tr th {\n",
       "        vertical-align: top;\n",
       "    }\n",
       "\n",
       "    .dataframe thead th {\n",
       "        text-align: right;\n",
       "    }\n",
       "</style>\n",
       "<table border=\"1\" class=\"dataframe\">\n",
       "  <thead>\n",
       "    <tr style=\"text-align: right;\">\n",
       "      <th></th>\n",
       "      <th>x</th>\n",
       "      <th>y</th>\n",
       "    </tr>\n",
       "  </thead>\n",
       "  <tbody>\n",
       "    <tr>\n",
       "      <th>3</th>\n",
       "      <td>0.237845</td>\n",
       "      <td>0.013549</td>\n",
       "    </tr>\n",
       "    <tr>\n",
       "      <th>5</th>\n",
       "      <td>0.613039</td>\n",
       "      <td>0.736205</td>\n",
       "    </tr>\n",
       "    <tr>\n",
       "      <th>6</th>\n",
       "      <td>1.026921</td>\n",
       "      <td>-1.432191</td>\n",
       "    </tr>\n",
       "    <tr>\n",
       "      <th>9</th>\n",
       "      <td>2.034608</td>\n",
       "      <td>-0.550714</td>\n",
       "    </tr>\n",
       "  </tbody>\n",
       "</table>\n",
       "</div>"
      ],
      "text/plain": [
       "          x         y\n",
       "3  0.237845  0.013549\n",
       "5  0.613039  0.736205\n",
       "6  1.026921 -1.432191\n",
       "9  2.034608 -0.550714"
      ]
     },
     "execution_count": 231,
     "metadata": {},
     "output_type": "execute_result"
    }
   ],
   "source": [
    "df.query('x > 0')  "
   ]
  },
  {
   "cell_type": "code",
   "execution_count": 237,
   "metadata": {
    "scrolled": false
   },
   "outputs": [
    {
     "data": {
      "text/plain": [
       "array([[0, 1],\n",
       "       [0, 0],\n",
       "       [0, 1],\n",
       "       [1, 1],\n",
       "       [0, 0],\n",
       "       [1, 1],\n",
       "       [1, 0],\n",
       "       [0, 1],\n",
       "       [0, 0],\n",
       "       [1, 0]])"
      ]
     },
     "execution_count": 237,
     "metadata": {},
     "output_type": "execute_result"
    }
   ],
   "source": [
    "np.where(df > 0, 1, 0)"
   ]
  },
  {
   "cell_type": "markdown",
   "metadata": {},
   "source": [
    "query直接返回value，可以指定那一列参与筛选，不需要借道bool程序。"
   ]
  },
  {
   "cell_type": "code",
   "execution_count": 238,
   "metadata": {},
   "outputs": [
    {
     "data": {
      "text/html": [
       "<div>\n",
       "<style scoped>\n",
       "    .dataframe tbody tr th:only-of-type {\n",
       "        vertical-align: middle;\n",
       "    }\n",
       "\n",
       "    .dataframe tbody tr th {\n",
       "        vertical-align: top;\n",
       "    }\n",
       "\n",
       "    .dataframe thead th {\n",
       "        text-align: right;\n",
       "    }\n",
       "</style>\n",
       "<table border=\"1\" class=\"dataframe\">\n",
       "  <thead>\n",
       "    <tr style=\"text-align: right;\">\n",
       "      <th></th>\n",
       "      <th>x</th>\n",
       "      <th>y</th>\n",
       "    </tr>\n",
       "  </thead>\n",
       "  <tbody>\n",
       "    <tr>\n",
       "      <th>6</th>\n",
       "      <td>1.026921</td>\n",
       "      <td>-1.432191</td>\n",
       "    </tr>\n",
       "    <tr>\n",
       "      <th>9</th>\n",
       "      <td>2.034608</td>\n",
       "      <td>-0.550714</td>\n",
       "    </tr>\n",
       "  </tbody>\n",
       "</table>\n",
       "</div>"
      ],
      "text/plain": [
       "          x         y\n",
       "6  1.026921 -1.432191\n",
       "9  2.034608 -0.550714"
      ]
     },
     "execution_count": 238,
     "metadata": {},
     "output_type": "execute_result"
    }
   ],
   "source": [
    "df[(df['x'] > 0) & (df['y'] < 0)]  "
   ]
  },
  {
   "cell_type": "code",
   "execution_count": 239,
   "metadata": {},
   "outputs": [
    {
     "data": {
      "text/html": [
       "<div>\n",
       "<style scoped>\n",
       "    .dataframe tbody tr th:only-of-type {\n",
       "        vertical-align: middle;\n",
       "    }\n",
       "\n",
       "    .dataframe tbody tr th {\n",
       "        vertical-align: top;\n",
       "    }\n",
       "\n",
       "    .dataframe thead th {\n",
       "        text-align: right;\n",
       "    }\n",
       "</style>\n",
       "<table border=\"1\" class=\"dataframe\">\n",
       "  <thead>\n",
       "    <tr style=\"text-align: right;\">\n",
       "      <th></th>\n",
       "      <th>x</th>\n",
       "      <th>y</th>\n",
       "    </tr>\n",
       "  </thead>\n",
       "  <tbody>\n",
       "    <tr>\n",
       "      <th>6</th>\n",
       "      <td>1.026921</td>\n",
       "      <td>-1.432191</td>\n",
       "    </tr>\n",
       "    <tr>\n",
       "      <th>9</th>\n",
       "      <td>2.034608</td>\n",
       "      <td>-0.550714</td>\n",
       "    </tr>\n",
       "  </tbody>\n",
       "</table>\n",
       "</div>"
      ],
      "text/plain": [
       "          x         y\n",
       "6  1.026921 -1.432191\n",
       "9  2.034608 -0.550714"
      ]
     },
     "execution_count": 239,
     "metadata": {},
     "output_type": "execute_result"
    }
   ],
   "source": [
    "df.query('x > 0 & y < 0')  "
   ]
  },
  {
   "cell_type": "code",
   "execution_count": 240,
   "metadata": {},
   "outputs": [
    {
     "data": {
      "text/html": [
       "<div>\n",
       "<style scoped>\n",
       "    .dataframe tbody tr th:only-of-type {\n",
       "        vertical-align: middle;\n",
       "    }\n",
       "\n",
       "    .dataframe tbody tr th {\n",
       "        vertical-align: top;\n",
       "    }\n",
       "\n",
       "    .dataframe thead th {\n",
       "        text-align: right;\n",
       "    }\n",
       "</style>\n",
       "<table border=\"1\" class=\"dataframe\">\n",
       "  <thead>\n",
       "    <tr style=\"text-align: right;\">\n",
       "      <th></th>\n",
       "      <th>x</th>\n",
       "      <th>y</th>\n",
       "    </tr>\n",
       "  </thead>\n",
       "  <tbody>\n",
       "    <tr>\n",
       "      <th>1</th>\n",
       "      <td>-0.079611</td>\n",
       "      <td>-0.889731</td>\n",
       "    </tr>\n",
       "    <tr>\n",
       "      <th>3</th>\n",
       "      <td>0.237845</td>\n",
       "      <td>0.013549</td>\n",
       "    </tr>\n",
       "    <tr>\n",
       "      <th>4</th>\n",
       "      <td>-1.635529</td>\n",
       "      <td>-1.044210</td>\n",
       "    </tr>\n",
       "    <tr>\n",
       "      <th>5</th>\n",
       "      <td>0.613039</td>\n",
       "      <td>0.736205</td>\n",
       "    </tr>\n",
       "    <tr>\n",
       "      <th>6</th>\n",
       "      <td>1.026921</td>\n",
       "      <td>-1.432191</td>\n",
       "    </tr>\n",
       "    <tr>\n",
       "      <th>8</th>\n",
       "      <td>-0.331777</td>\n",
       "      <td>-0.689218</td>\n",
       "    </tr>\n",
       "    <tr>\n",
       "      <th>9</th>\n",
       "      <td>2.034608</td>\n",
       "      <td>-0.550714</td>\n",
       "    </tr>\n",
       "  </tbody>\n",
       "</table>\n",
       "</div>"
      ],
      "text/plain": [
       "          x         y\n",
       "1 -0.079611 -0.889731\n",
       "3  0.237845  0.013549\n",
       "4 -1.635529 -1.044210\n",
       "5  0.613039  0.736205\n",
       "6  1.026921 -1.432191\n",
       "8 -0.331777 -0.689218\n",
       "9  2.034608 -0.550714"
      ]
     },
     "execution_count": 240,
     "metadata": {},
     "output_type": "execute_result"
    }
   ],
   "source": [
    "df[(df.x > 0) | (df.y < 0)]  "
   ]
  },
  {
   "cell_type": "code",
   "execution_count": 241,
   "metadata": {},
   "outputs": [
    {
     "data": {
      "text/html": [
       "<div>\n",
       "<style scoped>\n",
       "    .dataframe tbody tr th:only-of-type {\n",
       "        vertical-align: middle;\n",
       "    }\n",
       "\n",
       "    .dataframe tbody tr th {\n",
       "        vertical-align: top;\n",
       "    }\n",
       "\n",
       "    .dataframe thead th {\n",
       "        text-align: right;\n",
       "    }\n",
       "</style>\n",
       "<table border=\"1\" class=\"dataframe\">\n",
       "  <thead>\n",
       "    <tr style=\"text-align: right;\">\n",
       "      <th></th>\n",
       "      <th>x</th>\n",
       "      <th>y</th>\n",
       "    </tr>\n",
       "  </thead>\n",
       "  <tbody>\n",
       "    <tr>\n",
       "      <th>0</th>\n",
       "      <td>False</td>\n",
       "      <td>True</td>\n",
       "    </tr>\n",
       "    <tr>\n",
       "      <th>1</th>\n",
       "      <td>False</td>\n",
       "      <td>False</td>\n",
       "    </tr>\n",
       "    <tr>\n",
       "      <th>2</th>\n",
       "      <td>False</td>\n",
       "      <td>True</td>\n",
       "    </tr>\n",
       "    <tr>\n",
       "      <th>3</th>\n",
       "      <td>True</td>\n",
       "      <td>True</td>\n",
       "    </tr>\n",
       "    <tr>\n",
       "      <th>4</th>\n",
       "      <td>False</td>\n",
       "      <td>False</td>\n",
       "    </tr>\n",
       "    <tr>\n",
       "      <th>5</th>\n",
       "      <td>True</td>\n",
       "      <td>True</td>\n",
       "    </tr>\n",
       "    <tr>\n",
       "      <th>6</th>\n",
       "      <td>True</td>\n",
       "      <td>False</td>\n",
       "    </tr>\n",
       "    <tr>\n",
       "      <th>7</th>\n",
       "      <td>False</td>\n",
       "      <td>True</td>\n",
       "    </tr>\n",
       "    <tr>\n",
       "      <th>8</th>\n",
       "      <td>False</td>\n",
       "      <td>False</td>\n",
       "    </tr>\n",
       "    <tr>\n",
       "      <th>9</th>\n",
       "      <td>True</td>\n",
       "      <td>False</td>\n",
       "    </tr>\n",
       "  </tbody>\n",
       "</table>\n",
       "</div>"
      ],
      "text/plain": [
       "       x      y\n",
       "0  False   True\n",
       "1  False  False\n",
       "2  False   True\n",
       "3   True   True\n",
       "4  False  False\n",
       "5   True   True\n",
       "6   True  False\n",
       "7  False   True\n",
       "8  False  False\n",
       "9   True  False"
      ]
     },
     "execution_count": 241,
     "metadata": {},
     "output_type": "execute_result"
    }
   ],
   "source": [
    "df > 0  "
   ]
  },
  {
   "cell_type": "code",
   "execution_count": 242,
   "metadata": {
    "scrolled": true
   },
   "outputs": [
    {
     "data": {
      "text/html": [
       "<div>\n",
       "<style scoped>\n",
       "    .dataframe tbody tr th:only-of-type {\n",
       "        vertical-align: middle;\n",
       "    }\n",
       "\n",
       "    .dataframe tbody tr th {\n",
       "        vertical-align: top;\n",
       "    }\n",
       "\n",
       "    .dataframe thead th {\n",
       "        text-align: right;\n",
       "    }\n",
       "</style>\n",
       "<table border=\"1\" class=\"dataframe\">\n",
       "  <thead>\n",
       "    <tr style=\"text-align: right;\">\n",
       "      <th></th>\n",
       "      <th>x</th>\n",
       "      <th>y</th>\n",
       "    </tr>\n",
       "  </thead>\n",
       "  <tbody>\n",
       "    <tr>\n",
       "      <th>0</th>\n",
       "      <td>NaN</td>\n",
       "      <td>1.249470</td>\n",
       "    </tr>\n",
       "    <tr>\n",
       "      <th>1</th>\n",
       "      <td>NaN</td>\n",
       "      <td>NaN</td>\n",
       "    </tr>\n",
       "    <tr>\n",
       "      <th>2</th>\n",
       "      <td>NaN</td>\n",
       "      <td>0.018639</td>\n",
       "    </tr>\n",
       "    <tr>\n",
       "      <th>3</th>\n",
       "      <td>0.237845</td>\n",
       "      <td>0.013549</td>\n",
       "    </tr>\n",
       "    <tr>\n",
       "      <th>4</th>\n",
       "      <td>NaN</td>\n",
       "      <td>NaN</td>\n",
       "    </tr>\n",
       "    <tr>\n",
       "      <th>5</th>\n",
       "      <td>0.613039</td>\n",
       "      <td>0.736205</td>\n",
       "    </tr>\n",
       "    <tr>\n",
       "      <th>6</th>\n",
       "      <td>1.026921</td>\n",
       "      <td>NaN</td>\n",
       "    </tr>\n",
       "    <tr>\n",
       "      <th>7</th>\n",
       "      <td>NaN</td>\n",
       "      <td>0.366093</td>\n",
       "    </tr>\n",
       "    <tr>\n",
       "      <th>8</th>\n",
       "      <td>NaN</td>\n",
       "      <td>NaN</td>\n",
       "    </tr>\n",
       "    <tr>\n",
       "      <th>9</th>\n",
       "      <td>2.034608</td>\n",
       "      <td>NaN</td>\n",
       "    </tr>\n",
       "  </tbody>\n",
       "</table>\n",
       "</div>"
      ],
      "text/plain": [
       "          x         y\n",
       "0       NaN  1.249470\n",
       "1       NaN       NaN\n",
       "2       NaN  0.018639\n",
       "3  0.237845  0.013549\n",
       "4       NaN       NaN\n",
       "5  0.613039  0.736205\n",
       "6  1.026921       NaN\n",
       "7       NaN  0.366093\n",
       "8       NaN       NaN\n",
       "9  2.034608       NaN"
      ]
     },
     "execution_count": 242,
     "metadata": {},
     "output_type": "execute_result"
    }
   ],
   "source": [
    "df[df > 0]  "
   ]
  },
  {
   "cell_type": "markdown",
   "metadata": {},
   "source": [
    "对整个df做bool会产生NaN，对于筛选出为False的直接变成NaN空值。"
   ]
  },
  {
   "cell_type": "markdown",
   "metadata": {},
   "source": [
    "## Concatenation, Joining and Merging合并的方法"
   ]
  },
  {
   "cell_type": "markdown",
   "metadata": {},
   "source": [
    "### Concatenation适用于大样本，columns没有特殊的名称(每一列就是一个样本编号而已)，所以就沿着Y轴(columns轴)不断延伸。不考虑相同的index或者columns合并的问题。index也是直接两组数加总起来。\n",
    "### Joining默认最大保留写在左边的df1的数据和数据结构(index)，df2多出的index会被砍掉。最大特点，依照index进行合并。\n",
    "### Merging合并共同的栏名columns，多余的默认砍掉\n",
    "### numpy里面的append可以在pandas里面使用，Concatenation, Joining and Merging是pandas特有的。\n",
    "## 总结：concatenation不考虑合并的情况，joining按index进行合并（横着看相同的行名称），merging找相同的columns（竖着看相同的列名称），对相同的列里面相同的value数值，而不是index做合并，所以是无index的。"
   ]
  },
  {
   "cell_type": "code",
   "execution_count": 3,
   "metadata": {},
   "outputs": [],
   "source": [
    "import numpy as np\n",
    "import pandas as pd\n",
    "df1 = pd.DataFrame(['100', '200', '300', '400'], \n",
    "                    index=['a', 'b', 'c', 'd'],\n",
    "                    columns=['A',])"
   ]
  },
  {
   "cell_type": "code",
   "execution_count": 4,
   "metadata": {},
   "outputs": [
    {
     "data": {
      "text/html": [
       "<div>\n",
       "<style scoped>\n",
       "    .dataframe tbody tr th:only-of-type {\n",
       "        vertical-align: middle;\n",
       "    }\n",
       "\n",
       "    .dataframe tbody tr th {\n",
       "        vertical-align: top;\n",
       "    }\n",
       "\n",
       "    .dataframe thead th {\n",
       "        text-align: right;\n",
       "    }\n",
       "</style>\n",
       "<table border=\"1\" class=\"dataframe\">\n",
       "  <thead>\n",
       "    <tr style=\"text-align: right;\">\n",
       "      <th></th>\n",
       "      <th>A</th>\n",
       "    </tr>\n",
       "  </thead>\n",
       "  <tbody>\n",
       "    <tr>\n",
       "      <th>a</th>\n",
       "      <td>100</td>\n",
       "    </tr>\n",
       "    <tr>\n",
       "      <th>b</th>\n",
       "      <td>200</td>\n",
       "    </tr>\n",
       "    <tr>\n",
       "      <th>c</th>\n",
       "      <td>300</td>\n",
       "    </tr>\n",
       "    <tr>\n",
       "      <th>d</th>\n",
       "      <td>400</td>\n",
       "    </tr>\n",
       "  </tbody>\n",
       "</table>\n",
       "</div>"
      ],
      "text/plain": [
       "     A\n",
       "a  100\n",
       "b  200\n",
       "c  300\n",
       "d  400"
      ]
     },
     "execution_count": 4,
     "metadata": {},
     "output_type": "execute_result"
    }
   ],
   "source": [
    "df1"
   ]
  },
  {
   "cell_type": "code",
   "execution_count": 25,
   "metadata": {},
   "outputs": [],
   "source": [
    "df2 = pd.DataFrame(['200', '150', '50'], \n",
    "                    index=['f', 'b', 'd'],\n",
    "                    columns=['B',])"
   ]
  },
  {
   "cell_type": "code",
   "execution_count": 26,
   "metadata": {
    "slideshow": {
     "slide_type": "-"
    }
   },
   "outputs": [
    {
     "data": {
      "text/html": [
       "<div>\n",
       "<style scoped>\n",
       "    .dataframe tbody tr th:only-of-type {\n",
       "        vertical-align: middle;\n",
       "    }\n",
       "\n",
       "    .dataframe tbody tr th {\n",
       "        vertical-align: top;\n",
       "    }\n",
       "\n",
       "    .dataframe thead th {\n",
       "        text-align: right;\n",
       "    }\n",
       "</style>\n",
       "<table border=\"1\" class=\"dataframe\">\n",
       "  <thead>\n",
       "    <tr style=\"text-align: right;\">\n",
       "      <th></th>\n",
       "      <th>B</th>\n",
       "    </tr>\n",
       "  </thead>\n",
       "  <tbody>\n",
       "    <tr>\n",
       "      <th>f</th>\n",
       "      <td>200</td>\n",
       "    </tr>\n",
       "    <tr>\n",
       "      <th>b</th>\n",
       "      <td>150</td>\n",
       "    </tr>\n",
       "    <tr>\n",
       "      <th>d</th>\n",
       "      <td>50</td>\n",
       "    </tr>\n",
       "  </tbody>\n",
       "</table>\n",
       "</div>"
      ],
      "text/plain": [
       "     B\n",
       "f  200\n",
       "b  150\n",
       "d   50"
      ]
     },
     "execution_count": 26,
     "metadata": {},
     "output_type": "execute_result"
    }
   ],
   "source": [
    "df2"
   ]
  },
  {
   "cell_type": "markdown",
   "metadata": {},
   "source": [
    "#### Concatenation"
   ]
  },
  {
   "cell_type": "code",
   "execution_count": 93,
   "metadata": {
    "scrolled": true
   },
   "outputs": [
    {
     "data": {
      "text/html": [
       "<div>\n",
       "<style scoped>\n",
       "    .dataframe tbody tr th:only-of-type {\n",
       "        vertical-align: middle;\n",
       "    }\n",
       "\n",
       "    .dataframe tbody tr th {\n",
       "        vertical-align: top;\n",
       "    }\n",
       "\n",
       "    .dataframe thead th {\n",
       "        text-align: right;\n",
       "    }\n",
       "</style>\n",
       "<table border=\"1\" class=\"dataframe\">\n",
       "  <thead>\n",
       "    <tr style=\"text-align: right;\">\n",
       "      <th></th>\n",
       "      <th>A</th>\n",
       "      <th>B</th>\n",
       "    </tr>\n",
       "  </thead>\n",
       "  <tbody>\n",
       "    <tr>\n",
       "      <th>a</th>\n",
       "      <td>100</td>\n",
       "      <td>NaN</td>\n",
       "    </tr>\n",
       "    <tr>\n",
       "      <th>b</th>\n",
       "      <td>200</td>\n",
       "      <td>NaN</td>\n",
       "    </tr>\n",
       "    <tr>\n",
       "      <th>c</th>\n",
       "      <td>300</td>\n",
       "      <td>NaN</td>\n",
       "    </tr>\n",
       "    <tr>\n",
       "      <th>d</th>\n",
       "      <td>400</td>\n",
       "      <td>NaN</td>\n",
       "    </tr>\n",
       "    <tr>\n",
       "      <th>f</th>\n",
       "      <td>NaN</td>\n",
       "      <td>200</td>\n",
       "    </tr>\n",
       "    <tr>\n",
       "      <th>b</th>\n",
       "      <td>NaN</td>\n",
       "      <td>150</td>\n",
       "    </tr>\n",
       "    <tr>\n",
       "      <th>d</th>\n",
       "      <td>NaN</td>\n",
       "      <td>50</td>\n",
       "    </tr>\n",
       "  </tbody>\n",
       "</table>\n",
       "</div>"
      ],
      "text/plain": [
       "     A    B\n",
       "a  100  NaN\n",
       "b  200  NaN\n",
       "c  300  NaN\n",
       "d  400  NaN\n",
       "f  NaN  200\n",
       "b  NaN  150\n",
       "d  NaN   50"
      ]
     },
     "execution_count": 93,
     "metadata": {},
     "output_type": "execute_result"
    }
   ],
   "source": [
    "df1.append(df2, sort=False)  "
   ]
  },
  {
   "cell_type": "code",
   "execution_count": 7,
   "metadata": {},
   "outputs": [
    {
     "data": {
      "text/html": [
       "<div>\n",
       "<style scoped>\n",
       "    .dataframe tbody tr th:only-of-type {\n",
       "        vertical-align: middle;\n",
       "    }\n",
       "\n",
       "    .dataframe tbody tr th {\n",
       "        vertical-align: top;\n",
       "    }\n",
       "\n",
       "    .dataframe thead th {\n",
       "        text-align: right;\n",
       "    }\n",
       "</style>\n",
       "<table border=\"1\" class=\"dataframe\">\n",
       "  <thead>\n",
       "    <tr style=\"text-align: right;\">\n",
       "      <th></th>\n",
       "      <th>B</th>\n",
       "      <th>A</th>\n",
       "    </tr>\n",
       "  </thead>\n",
       "  <tbody>\n",
       "    <tr>\n",
       "      <th>f</th>\n",
       "      <td>200</td>\n",
       "      <td>NaN</td>\n",
       "    </tr>\n",
       "    <tr>\n",
       "      <th>b</th>\n",
       "      <td>150</td>\n",
       "      <td>NaN</td>\n",
       "    </tr>\n",
       "    <tr>\n",
       "      <th>d</th>\n",
       "      <td>50</td>\n",
       "      <td>NaN</td>\n",
       "    </tr>\n",
       "    <tr>\n",
       "      <th>a</th>\n",
       "      <td>NaN</td>\n",
       "      <td>100</td>\n",
       "    </tr>\n",
       "    <tr>\n",
       "      <th>b</th>\n",
       "      <td>NaN</td>\n",
       "      <td>200</td>\n",
       "    </tr>\n",
       "    <tr>\n",
       "      <th>c</th>\n",
       "      <td>NaN</td>\n",
       "      <td>300</td>\n",
       "    </tr>\n",
       "    <tr>\n",
       "      <th>d</th>\n",
       "      <td>NaN</td>\n",
       "      <td>400</td>\n",
       "    </tr>\n",
       "  </tbody>\n",
       "</table>\n",
       "</div>"
      ],
      "text/plain": [
       "     B    A\n",
       "f  200  NaN\n",
       "b  150  NaN\n",
       "d   50  NaN\n",
       "a  NaN  100\n",
       "b  NaN  200\n",
       "c  NaN  300\n",
       "d  NaN  400"
      ]
     },
     "execution_count": 7,
     "metadata": {},
     "output_type": "execute_result"
    }
   ],
   "source": [
    "df2.append(df1, sort=False)  "
   ]
  },
  {
   "cell_type": "code",
   "execution_count": 94,
   "metadata": {
    "scrolled": true
   },
   "outputs": [
    {
     "data": {
      "text/html": [
       "<div>\n",
       "<style scoped>\n",
       "    .dataframe tbody tr th:only-of-type {\n",
       "        vertical-align: middle;\n",
       "    }\n",
       "\n",
       "    .dataframe tbody tr th {\n",
       "        vertical-align: top;\n",
       "    }\n",
       "\n",
       "    .dataframe thead th {\n",
       "        text-align: right;\n",
       "    }\n",
       "</style>\n",
       "<table border=\"1\" class=\"dataframe\">\n",
       "  <thead>\n",
       "    <tr style=\"text-align: right;\">\n",
       "      <th></th>\n",
       "      <th>A</th>\n",
       "      <th>B</th>\n",
       "    </tr>\n",
       "  </thead>\n",
       "  <tbody>\n",
       "    <tr>\n",
       "      <th>0</th>\n",
       "      <td>100</td>\n",
       "      <td>NaN</td>\n",
       "    </tr>\n",
       "    <tr>\n",
       "      <th>1</th>\n",
       "      <td>200</td>\n",
       "      <td>NaN</td>\n",
       "    </tr>\n",
       "    <tr>\n",
       "      <th>2</th>\n",
       "      <td>300</td>\n",
       "      <td>NaN</td>\n",
       "    </tr>\n",
       "    <tr>\n",
       "      <th>3</th>\n",
       "      <td>400</td>\n",
       "      <td>NaN</td>\n",
       "    </tr>\n",
       "    <tr>\n",
       "      <th>4</th>\n",
       "      <td>NaN</td>\n",
       "      <td>200</td>\n",
       "    </tr>\n",
       "    <tr>\n",
       "      <th>5</th>\n",
       "      <td>NaN</td>\n",
       "      <td>150</td>\n",
       "    </tr>\n",
       "    <tr>\n",
       "      <th>6</th>\n",
       "      <td>NaN</td>\n",
       "      <td>50</td>\n",
       "    </tr>\n",
       "  </tbody>\n",
       "</table>\n",
       "</div>"
      ],
      "text/plain": [
       "     A    B\n",
       "0  100  NaN\n",
       "1  200  NaN\n",
       "2  300  NaN\n",
       "3  400  NaN\n",
       "4  NaN  200\n",
       "5  NaN  150\n",
       "6  NaN   50"
      ]
     },
     "execution_count": 94,
     "metadata": {},
     "output_type": "execute_result"
    }
   ],
   "source": [
    "df1.append(df2, ignore_index=True, sort=False)  "
   ]
  },
  {
   "cell_type": "code",
   "execution_count": 95,
   "metadata": {
    "scrolled": true
   },
   "outputs": [
    {
     "data": {
      "text/html": [
       "<div>\n",
       "<style scoped>\n",
       "    .dataframe tbody tr th:only-of-type {\n",
       "        vertical-align: middle;\n",
       "    }\n",
       "\n",
       "    .dataframe tbody tr th {\n",
       "        vertical-align: top;\n",
       "    }\n",
       "\n",
       "    .dataframe thead th {\n",
       "        text-align: right;\n",
       "    }\n",
       "</style>\n",
       "<table border=\"1\" class=\"dataframe\">\n",
       "  <thead>\n",
       "    <tr style=\"text-align: right;\">\n",
       "      <th></th>\n",
       "      <th>A</th>\n",
       "      <th>B</th>\n",
       "    </tr>\n",
       "  </thead>\n",
       "  <tbody>\n",
       "    <tr>\n",
       "      <th>a</th>\n",
       "      <td>100</td>\n",
       "      <td>NaN</td>\n",
       "    </tr>\n",
       "    <tr>\n",
       "      <th>b</th>\n",
       "      <td>200</td>\n",
       "      <td>NaN</td>\n",
       "    </tr>\n",
       "    <tr>\n",
       "      <th>c</th>\n",
       "      <td>300</td>\n",
       "      <td>NaN</td>\n",
       "    </tr>\n",
       "    <tr>\n",
       "      <th>d</th>\n",
       "      <td>400</td>\n",
       "      <td>NaN</td>\n",
       "    </tr>\n",
       "    <tr>\n",
       "      <th>f</th>\n",
       "      <td>NaN</td>\n",
       "      <td>200</td>\n",
       "    </tr>\n",
       "    <tr>\n",
       "      <th>b</th>\n",
       "      <td>NaN</td>\n",
       "      <td>150</td>\n",
       "    </tr>\n",
       "    <tr>\n",
       "      <th>d</th>\n",
       "      <td>NaN</td>\n",
       "      <td>50</td>\n",
       "    </tr>\n",
       "  </tbody>\n",
       "</table>\n",
       "</div>"
      ],
      "text/plain": [
       "     A    B\n",
       "a  100  NaN\n",
       "b  200  NaN\n",
       "c  300  NaN\n",
       "d  400  NaN\n",
       "f  NaN  200\n",
       "b  NaN  150\n",
       "d  NaN   50"
      ]
     },
     "execution_count": 95,
     "metadata": {},
     "output_type": "execute_result"
    }
   ],
   "source": [
    "pd.concat((df1, df2), sort=False)  "
   ]
  },
  {
   "cell_type": "code",
   "execution_count": 8,
   "metadata": {},
   "outputs": [
    {
     "data": {
      "text/html": [
       "<div>\n",
       "<style scoped>\n",
       "    .dataframe tbody tr th:only-of-type {\n",
       "        vertical-align: middle;\n",
       "    }\n",
       "\n",
       "    .dataframe tbody tr th {\n",
       "        vertical-align: top;\n",
       "    }\n",
       "\n",
       "    .dataframe thead th {\n",
       "        text-align: right;\n",
       "    }\n",
       "</style>\n",
       "<table border=\"1\" class=\"dataframe\">\n",
       "  <thead>\n",
       "    <tr style=\"text-align: right;\">\n",
       "      <th></th>\n",
       "      <th>B</th>\n",
       "      <th>A</th>\n",
       "    </tr>\n",
       "  </thead>\n",
       "  <tbody>\n",
       "    <tr>\n",
       "      <th>f</th>\n",
       "      <td>200</td>\n",
       "      <td>NaN</td>\n",
       "    </tr>\n",
       "    <tr>\n",
       "      <th>b</th>\n",
       "      <td>150</td>\n",
       "      <td>NaN</td>\n",
       "    </tr>\n",
       "    <tr>\n",
       "      <th>d</th>\n",
       "      <td>50</td>\n",
       "      <td>NaN</td>\n",
       "    </tr>\n",
       "    <tr>\n",
       "      <th>a</th>\n",
       "      <td>NaN</td>\n",
       "      <td>100</td>\n",
       "    </tr>\n",
       "    <tr>\n",
       "      <th>b</th>\n",
       "      <td>NaN</td>\n",
       "      <td>200</td>\n",
       "    </tr>\n",
       "    <tr>\n",
       "      <th>c</th>\n",
       "      <td>NaN</td>\n",
       "      <td>300</td>\n",
       "    </tr>\n",
       "    <tr>\n",
       "      <th>d</th>\n",
       "      <td>NaN</td>\n",
       "      <td>400</td>\n",
       "    </tr>\n",
       "  </tbody>\n",
       "</table>\n",
       "</div>"
      ],
      "text/plain": [
       "     B    A\n",
       "f  200  NaN\n",
       "b  150  NaN\n",
       "d   50  NaN\n",
       "a  NaN  100\n",
       "b  NaN  200\n",
       "c  NaN  300\n",
       "d  NaN  400"
      ]
     },
     "execution_count": 8,
     "metadata": {},
     "output_type": "execute_result"
    }
   ],
   "source": [
    "pd.concat((df2, df1), sort=False)  "
   ]
  },
  {
   "cell_type": "code",
   "execution_count": 96,
   "metadata": {
    "scrolled": true
   },
   "outputs": [
    {
     "data": {
      "text/html": [
       "<div>\n",
       "<style scoped>\n",
       "    .dataframe tbody tr th:only-of-type {\n",
       "        vertical-align: middle;\n",
       "    }\n",
       "\n",
       "    .dataframe tbody tr th {\n",
       "        vertical-align: top;\n",
       "    }\n",
       "\n",
       "    .dataframe thead th {\n",
       "        text-align: right;\n",
       "    }\n",
       "</style>\n",
       "<table border=\"1\" class=\"dataframe\">\n",
       "  <thead>\n",
       "    <tr style=\"text-align: right;\">\n",
       "      <th></th>\n",
       "      <th>A</th>\n",
       "      <th>B</th>\n",
       "    </tr>\n",
       "  </thead>\n",
       "  <tbody>\n",
       "    <tr>\n",
       "      <th>0</th>\n",
       "      <td>100</td>\n",
       "      <td>NaN</td>\n",
       "    </tr>\n",
       "    <tr>\n",
       "      <th>1</th>\n",
       "      <td>200</td>\n",
       "      <td>NaN</td>\n",
       "    </tr>\n",
       "    <tr>\n",
       "      <th>2</th>\n",
       "      <td>300</td>\n",
       "      <td>NaN</td>\n",
       "    </tr>\n",
       "    <tr>\n",
       "      <th>3</th>\n",
       "      <td>400</td>\n",
       "      <td>NaN</td>\n",
       "    </tr>\n",
       "    <tr>\n",
       "      <th>4</th>\n",
       "      <td>NaN</td>\n",
       "      <td>200</td>\n",
       "    </tr>\n",
       "    <tr>\n",
       "      <th>5</th>\n",
       "      <td>NaN</td>\n",
       "      <td>150</td>\n",
       "    </tr>\n",
       "    <tr>\n",
       "      <th>6</th>\n",
       "      <td>NaN</td>\n",
       "      <td>50</td>\n",
       "    </tr>\n",
       "  </tbody>\n",
       "</table>\n",
       "</div>"
      ],
      "text/plain": [
       "     A    B\n",
       "0  100  NaN\n",
       "1  200  NaN\n",
       "2  300  NaN\n",
       "3  400  NaN\n",
       "4  NaN  200\n",
       "5  NaN  150\n",
       "6  NaN   50"
      ]
     },
     "execution_count": 96,
     "metadata": {},
     "output_type": "execute_result"
    }
   ],
   "source": [
    "pd.concat((df1, df2), ignore_index=True, sort=False)  "
   ]
  },
  {
   "cell_type": "markdown",
   "metadata": {},
   "source": [
    "#### concat和append效果是相同的，只不过写法不同，存在顺序问题，concat((df2, df1) = df2.append(df1,：先写df2的columns和index。\n",
    "#### 两者都是不合并，多出来的直接就全部NaN，尽管index上面存在一样的也是不合并(df1和df2都存在d和b这两个index)"
   ]
  },
  {
   "cell_type": "markdown",
   "metadata": {},
   "source": [
    "#### Joining"
   ]
  },
  {
   "cell_type": "code",
   "execution_count": 9,
   "metadata": {},
   "outputs": [
    {
     "data": {
      "text/html": [
       "<div>\n",
       "<style scoped>\n",
       "    .dataframe tbody tr th:only-of-type {\n",
       "        vertical-align: middle;\n",
       "    }\n",
       "\n",
       "    .dataframe tbody tr th {\n",
       "        vertical-align: top;\n",
       "    }\n",
       "\n",
       "    .dataframe thead th {\n",
       "        text-align: right;\n",
       "    }\n",
       "</style>\n",
       "<table border=\"1\" class=\"dataframe\">\n",
       "  <thead>\n",
       "    <tr style=\"text-align: right;\">\n",
       "      <th></th>\n",
       "      <th>A</th>\n",
       "      <th>B</th>\n",
       "    </tr>\n",
       "  </thead>\n",
       "  <tbody>\n",
       "    <tr>\n",
       "      <th>a</th>\n",
       "      <td>100</td>\n",
       "      <td>NaN</td>\n",
       "    </tr>\n",
       "    <tr>\n",
       "      <th>b</th>\n",
       "      <td>200</td>\n",
       "      <td>150</td>\n",
       "    </tr>\n",
       "    <tr>\n",
       "      <th>c</th>\n",
       "      <td>300</td>\n",
       "      <td>NaN</td>\n",
       "    </tr>\n",
       "    <tr>\n",
       "      <th>d</th>\n",
       "      <td>400</td>\n",
       "      <td>50</td>\n",
       "    </tr>\n",
       "  </tbody>\n",
       "</table>\n",
       "</div>"
      ],
      "text/plain": [
       "     A    B\n",
       "a  100  NaN\n",
       "b  200  150\n",
       "c  300  NaN\n",
       "d  400   50"
      ]
     },
     "execution_count": 9,
     "metadata": {},
     "output_type": "execute_result"
    }
   ],
   "source": [
    "df1.join(df2)  "
   ]
  },
  {
   "cell_type": "code",
   "execution_count": 10,
   "metadata": {
    "scrolled": true
   },
   "outputs": [
    {
     "data": {
      "text/html": [
       "<div>\n",
       "<style scoped>\n",
       "    .dataframe tbody tr th:only-of-type {\n",
       "        vertical-align: middle;\n",
       "    }\n",
       "\n",
       "    .dataframe tbody tr th {\n",
       "        vertical-align: top;\n",
       "    }\n",
       "\n",
       "    .dataframe thead th {\n",
       "        text-align: right;\n",
       "    }\n",
       "</style>\n",
       "<table border=\"1\" class=\"dataframe\">\n",
       "  <thead>\n",
       "    <tr style=\"text-align: right;\">\n",
       "      <th></th>\n",
       "      <th>B</th>\n",
       "      <th>A</th>\n",
       "    </tr>\n",
       "  </thead>\n",
       "  <tbody>\n",
       "    <tr>\n",
       "      <th>f</th>\n",
       "      <td>200</td>\n",
       "      <td>NaN</td>\n",
       "    </tr>\n",
       "    <tr>\n",
       "      <th>b</th>\n",
       "      <td>150</td>\n",
       "      <td>200</td>\n",
       "    </tr>\n",
       "    <tr>\n",
       "      <th>d</th>\n",
       "      <td>50</td>\n",
       "      <td>400</td>\n",
       "    </tr>\n",
       "  </tbody>\n",
       "</table>\n",
       "</div>"
      ],
      "text/plain": [
       "     B    A\n",
       "f  200  NaN\n",
       "b  150  200\n",
       "d   50  400"
      ]
     },
     "execution_count": 10,
     "metadata": {},
     "output_type": "execute_result"
    }
   ],
   "source": [
    "df2.join(df1)  "
   ]
  },
  {
   "cell_type": "code",
   "execution_count": 11,
   "metadata": {
    "scrolled": true
   },
   "outputs": [
    {
     "data": {
      "text/html": [
       "<div>\n",
       "<style scoped>\n",
       "    .dataframe tbody tr th:only-of-type {\n",
       "        vertical-align: middle;\n",
       "    }\n",
       "\n",
       "    .dataframe tbody tr th {\n",
       "        vertical-align: top;\n",
       "    }\n",
       "\n",
       "    .dataframe thead th {\n",
       "        text-align: right;\n",
       "    }\n",
       "</style>\n",
       "<table border=\"1\" class=\"dataframe\">\n",
       "  <thead>\n",
       "    <tr style=\"text-align: right;\">\n",
       "      <th></th>\n",
       "      <th>A</th>\n",
       "      <th>B</th>\n",
       "    </tr>\n",
       "  </thead>\n",
       "  <tbody>\n",
       "    <tr>\n",
       "      <th>a</th>\n",
       "      <td>100</td>\n",
       "      <td>NaN</td>\n",
       "    </tr>\n",
       "    <tr>\n",
       "      <th>b</th>\n",
       "      <td>200</td>\n",
       "      <td>150</td>\n",
       "    </tr>\n",
       "    <tr>\n",
       "      <th>c</th>\n",
       "      <td>300</td>\n",
       "      <td>NaN</td>\n",
       "    </tr>\n",
       "    <tr>\n",
       "      <th>d</th>\n",
       "      <td>400</td>\n",
       "      <td>50</td>\n",
       "    </tr>\n",
       "  </tbody>\n",
       "</table>\n",
       "</div>"
      ],
      "text/plain": [
       "     A    B\n",
       "a  100  NaN\n",
       "b  200  150\n",
       "c  300  NaN\n",
       "d  400   50"
      ]
     },
     "execution_count": 11,
     "metadata": {},
     "output_type": "execute_result"
    }
   ],
   "source": [
    "df1.join(df2, how='left')  "
   ]
  },
  {
   "cell_type": "code",
   "execution_count": 12,
   "metadata": {
    "scrolled": false
   },
   "outputs": [
    {
     "data": {
      "text/html": [
       "<div>\n",
       "<style scoped>\n",
       "    .dataframe tbody tr th:only-of-type {\n",
       "        vertical-align: middle;\n",
       "    }\n",
       "\n",
       "    .dataframe tbody tr th {\n",
       "        vertical-align: top;\n",
       "    }\n",
       "\n",
       "    .dataframe thead th {\n",
       "        text-align: right;\n",
       "    }\n",
       "</style>\n",
       "<table border=\"1\" class=\"dataframe\">\n",
       "  <thead>\n",
       "    <tr style=\"text-align: right;\">\n",
       "      <th></th>\n",
       "      <th>A</th>\n",
       "      <th>B</th>\n",
       "    </tr>\n",
       "  </thead>\n",
       "  <tbody>\n",
       "    <tr>\n",
       "      <th>f</th>\n",
       "      <td>NaN</td>\n",
       "      <td>200</td>\n",
       "    </tr>\n",
       "    <tr>\n",
       "      <th>b</th>\n",
       "      <td>200</td>\n",
       "      <td>150</td>\n",
       "    </tr>\n",
       "    <tr>\n",
       "      <th>d</th>\n",
       "      <td>400</td>\n",
       "      <td>50</td>\n",
       "    </tr>\n",
       "  </tbody>\n",
       "</table>\n",
       "</div>"
      ],
      "text/plain": [
       "     A    B\n",
       "f  NaN  200\n",
       "b  200  150\n",
       "d  400   50"
      ]
     },
     "execution_count": 12,
     "metadata": {},
     "output_type": "execute_result"
    }
   ],
   "source": [
    "df1.join(df2, how='right')  "
   ]
  },
  {
   "cell_type": "markdown",
   "metadata": {},
   "source": [
    "#### df1.join(df2) ，默认按左边的df1的index来确定合并后的index，所以df2里面的df1里面没有的index会被省略掉，而df2缺少的值会报NaN。\n",
    "#### 和concat一样，函数书写的左右决定排列的左右，但是可以通过how='right'来使函数改为按照右边(括号里面的df)的index来合并df."
   ]
  },
  {
   "cell_type": "code",
   "execution_count": 13,
   "metadata": {},
   "outputs": [
    {
     "data": {
      "text/html": [
       "<div>\n",
       "<style scoped>\n",
       "    .dataframe tbody tr th:only-of-type {\n",
       "        vertical-align: middle;\n",
       "    }\n",
       "\n",
       "    .dataframe tbody tr th {\n",
       "        vertical-align: top;\n",
       "    }\n",
       "\n",
       "    .dataframe thead th {\n",
       "        text-align: right;\n",
       "    }\n",
       "</style>\n",
       "<table border=\"1\" class=\"dataframe\">\n",
       "  <thead>\n",
       "    <tr style=\"text-align: right;\">\n",
       "      <th></th>\n",
       "      <th>A</th>\n",
       "      <th>B</th>\n",
       "    </tr>\n",
       "  </thead>\n",
       "  <tbody>\n",
       "    <tr>\n",
       "      <th>b</th>\n",
       "      <td>200</td>\n",
       "      <td>150</td>\n",
       "    </tr>\n",
       "    <tr>\n",
       "      <th>d</th>\n",
       "      <td>400</td>\n",
       "      <td>50</td>\n",
       "    </tr>\n",
       "  </tbody>\n",
       "</table>\n",
       "</div>"
      ],
      "text/plain": [
       "     A    B\n",
       "b  200  150\n",
       "d  400   50"
      ]
     },
     "execution_count": 13,
     "metadata": {},
     "output_type": "execute_result"
    }
   ],
   "source": [
    "df1.join(df2, how='inner')  "
   ]
  },
  {
   "cell_type": "code",
   "execution_count": 14,
   "metadata": {
    "scrolled": true
   },
   "outputs": [
    {
     "data": {
      "text/html": [
       "<div>\n",
       "<style scoped>\n",
       "    .dataframe tbody tr th:only-of-type {\n",
       "        vertical-align: middle;\n",
       "    }\n",
       "\n",
       "    .dataframe tbody tr th {\n",
       "        vertical-align: top;\n",
       "    }\n",
       "\n",
       "    .dataframe thead th {\n",
       "        text-align: right;\n",
       "    }\n",
       "</style>\n",
       "<table border=\"1\" class=\"dataframe\">\n",
       "  <thead>\n",
       "    <tr style=\"text-align: right;\">\n",
       "      <th></th>\n",
       "      <th>A</th>\n",
       "      <th>B</th>\n",
       "    </tr>\n",
       "  </thead>\n",
       "  <tbody>\n",
       "    <tr>\n",
       "      <th>a</th>\n",
       "      <td>100</td>\n",
       "      <td>NaN</td>\n",
       "    </tr>\n",
       "    <tr>\n",
       "      <th>b</th>\n",
       "      <td>200</td>\n",
       "      <td>150</td>\n",
       "    </tr>\n",
       "    <tr>\n",
       "      <th>c</th>\n",
       "      <td>300</td>\n",
       "      <td>NaN</td>\n",
       "    </tr>\n",
       "    <tr>\n",
       "      <th>d</th>\n",
       "      <td>400</td>\n",
       "      <td>50</td>\n",
       "    </tr>\n",
       "    <tr>\n",
       "      <th>f</th>\n",
       "      <td>NaN</td>\n",
       "      <td>200</td>\n",
       "    </tr>\n",
       "  </tbody>\n",
       "</table>\n",
       "</div>"
      ],
      "text/plain": [
       "     A    B\n",
       "a  100  NaN\n",
       "b  200  150\n",
       "c  300  NaN\n",
       "d  400   50\n",
       "f  NaN  200"
      ]
     },
     "execution_count": 14,
     "metadata": {},
     "output_type": "execute_result"
    }
   ],
   "source": [
    "df1.join(df2, how='outer')  "
   ]
  },
  {
   "cell_type": "markdown",
   "metadata": {},
   "source": [
    "#### how='inner'会是df1和df2取交集(只剩下bd两个index), 'outer' 取并集，abcdf，空的地方依然NaN."
   ]
  },
  {
   "cell_type": "code",
   "execution_count": 31,
   "metadata": {},
   "outputs": [],
   "source": [
    "df = pd.DataFrame()"
   ]
  },
  {
   "cell_type": "code",
   "execution_count": 32,
   "metadata": {},
   "outputs": [],
   "source": [
    "df['A'] = df1['A']  "
   ]
  },
  {
   "cell_type": "code",
   "execution_count": 33,
   "metadata": {
    "scrolled": false
   },
   "outputs": [
    {
     "data": {
      "text/html": [
       "<div>\n",
       "<style scoped>\n",
       "    .dataframe tbody tr th:only-of-type {\n",
       "        vertical-align: middle;\n",
       "    }\n",
       "\n",
       "    .dataframe tbody tr th {\n",
       "        vertical-align: top;\n",
       "    }\n",
       "\n",
       "    .dataframe thead th {\n",
       "        text-align: right;\n",
       "    }\n",
       "</style>\n",
       "<table border=\"1\" class=\"dataframe\">\n",
       "  <thead>\n",
       "    <tr style=\"text-align: right;\">\n",
       "      <th></th>\n",
       "      <th>A</th>\n",
       "    </tr>\n",
       "  </thead>\n",
       "  <tbody>\n",
       "    <tr>\n",
       "      <th>a</th>\n",
       "      <td>100</td>\n",
       "    </tr>\n",
       "    <tr>\n",
       "      <th>b</th>\n",
       "      <td>200</td>\n",
       "    </tr>\n",
       "    <tr>\n",
       "      <th>c</th>\n",
       "      <td>300</td>\n",
       "    </tr>\n",
       "    <tr>\n",
       "      <th>d</th>\n",
       "      <td>400</td>\n",
       "    </tr>\n",
       "  </tbody>\n",
       "</table>\n",
       "</div>"
      ],
      "text/plain": [
       "     A\n",
       "a  100\n",
       "b  200\n",
       "c  300\n",
       "d  400"
      ]
     },
     "execution_count": 33,
     "metadata": {},
     "output_type": "execute_result"
    }
   ],
   "source": [
    "df"
   ]
  },
  {
   "cell_type": "code",
   "execution_count": 34,
   "metadata": {},
   "outputs": [],
   "source": [
    "df['B'] = df2  "
   ]
  },
  {
   "cell_type": "code",
   "execution_count": 35,
   "metadata": {},
   "outputs": [
    {
     "data": {
      "text/html": [
       "<div>\n",
       "<style scoped>\n",
       "    .dataframe tbody tr th:only-of-type {\n",
       "        vertical-align: middle;\n",
       "    }\n",
       "\n",
       "    .dataframe tbody tr th {\n",
       "        vertical-align: top;\n",
       "    }\n",
       "\n",
       "    .dataframe thead th {\n",
       "        text-align: right;\n",
       "    }\n",
       "</style>\n",
       "<table border=\"1\" class=\"dataframe\">\n",
       "  <thead>\n",
       "    <tr style=\"text-align: right;\">\n",
       "      <th></th>\n",
       "      <th>A</th>\n",
       "      <th>B</th>\n",
       "    </tr>\n",
       "  </thead>\n",
       "  <tbody>\n",
       "    <tr>\n",
       "      <th>a</th>\n",
       "      <td>100</td>\n",
       "      <td>NaN</td>\n",
       "    </tr>\n",
       "    <tr>\n",
       "      <th>b</th>\n",
       "      <td>200</td>\n",
       "      <td>150</td>\n",
       "    </tr>\n",
       "    <tr>\n",
       "      <th>c</th>\n",
       "      <td>300</td>\n",
       "      <td>NaN</td>\n",
       "    </tr>\n",
       "    <tr>\n",
       "      <th>d</th>\n",
       "      <td>400</td>\n",
       "      <td>50</td>\n",
       "    </tr>\n",
       "  </tbody>\n",
       "</table>\n",
       "</div>"
      ],
      "text/plain": [
       "     A    B\n",
       "a  100  NaN\n",
       "b  200  150\n",
       "c  300  NaN\n",
       "d  400   50"
      ]
     },
     "execution_count": 35,
     "metadata": {},
     "output_type": "execute_result"
    }
   ],
   "source": [
    "df"
   ]
  },
  {
   "cell_type": "code",
   "execution_count": 23,
   "metadata": {},
   "outputs": [],
   "source": [
    "df = pd.DataFrame({'A': df1['A'], 'B': df2['B']})  "
   ]
  },
  {
   "cell_type": "code",
   "execution_count": 24,
   "metadata": {
    "scrolled": true
   },
   "outputs": [
    {
     "data": {
      "text/html": [
       "<div>\n",
       "<style scoped>\n",
       "    .dataframe tbody tr th:only-of-type {\n",
       "        vertical-align: middle;\n",
       "    }\n",
       "\n",
       "    .dataframe tbody tr th {\n",
       "        vertical-align: top;\n",
       "    }\n",
       "\n",
       "    .dataframe thead th {\n",
       "        text-align: right;\n",
       "    }\n",
       "</style>\n",
       "<table border=\"1\" class=\"dataframe\">\n",
       "  <thead>\n",
       "    <tr style=\"text-align: right;\">\n",
       "      <th></th>\n",
       "      <th>A</th>\n",
       "      <th>B</th>\n",
       "    </tr>\n",
       "  </thead>\n",
       "  <tbody>\n",
       "    <tr>\n",
       "      <th>a</th>\n",
       "      <td>100</td>\n",
       "      <td>NaN</td>\n",
       "    </tr>\n",
       "    <tr>\n",
       "      <th>b</th>\n",
       "      <td>200</td>\n",
       "      <td>150</td>\n",
       "    </tr>\n",
       "    <tr>\n",
       "      <th>c</th>\n",
       "      <td>300</td>\n",
       "      <td>NaN</td>\n",
       "    </tr>\n",
       "    <tr>\n",
       "      <th>d</th>\n",
       "      <td>400</td>\n",
       "      <td>50</td>\n",
       "    </tr>\n",
       "    <tr>\n",
       "      <th>f</th>\n",
       "      <td>NaN</td>\n",
       "      <td>200</td>\n",
       "    </tr>\n",
       "  </tbody>\n",
       "</table>\n",
       "</div>"
      ],
      "text/plain": [
       "     A    B\n",
       "a  100  NaN\n",
       "b  200  150\n",
       "c  300  NaN\n",
       "d  400   50\n",
       "f  NaN  200"
      ]
     },
     "execution_count": 24,
     "metadata": {},
     "output_type": "execute_result"
    }
   ],
   "source": [
    "df"
   ]
  },
  {
   "cell_type": "markdown",
   "metadata": {},
   "source": [
    "可以先开一个df = pd.DataFrame(),后面再通过df['B'] =的方式加进来。具体那些栏能够留下来，就看左边的情况"
   ]
  },
  {
   "cell_type": "markdown",
   "metadata": {},
   "source": [
    "用{}字典的方式和df[]添加的不一样，类似于jionning的outer并集情况，字典要保证保留绝大多数的data，所以采用并集的方式."
   ]
  },
  {
   "cell_type": "markdown",
   "metadata": {},
   "source": [
    "#### Merging"
   ]
  },
  {
   "cell_type": "code",
   "execution_count": 61,
   "metadata": {},
   "outputs": [],
   "source": [
    "c = pd.Series([250, 150, 50], index=['b', 'd', 'c'])\n",
    "df1['C'] = c\n",
    "df2['C'] = c"
   ]
  },
  {
   "cell_type": "code",
   "execution_count": 62,
   "metadata": {},
   "outputs": [
    {
     "data": {
      "text/html": [
       "<div>\n",
       "<style scoped>\n",
       "    .dataframe tbody tr th:only-of-type {\n",
       "        vertical-align: middle;\n",
       "    }\n",
       "\n",
       "    .dataframe tbody tr th {\n",
       "        vertical-align: top;\n",
       "    }\n",
       "\n",
       "    .dataframe thead th {\n",
       "        text-align: right;\n",
       "    }\n",
       "</style>\n",
       "<table border=\"1\" class=\"dataframe\">\n",
       "  <thead>\n",
       "    <tr style=\"text-align: right;\">\n",
       "      <th></th>\n",
       "      <th>A</th>\n",
       "      <th>C</th>\n",
       "    </tr>\n",
       "  </thead>\n",
       "  <tbody>\n",
       "    <tr>\n",
       "      <th>a</th>\n",
       "      <td>100</td>\n",
       "      <td>NaN</td>\n",
       "    </tr>\n",
       "    <tr>\n",
       "      <th>b</th>\n",
       "      <td>200</td>\n",
       "      <td>250.0</td>\n",
       "    </tr>\n",
       "    <tr>\n",
       "      <th>c</th>\n",
       "      <td>300</td>\n",
       "      <td>50.0</td>\n",
       "    </tr>\n",
       "    <tr>\n",
       "      <th>d</th>\n",
       "      <td>400</td>\n",
       "      <td>150.0</td>\n",
       "    </tr>\n",
       "  </tbody>\n",
       "</table>\n",
       "</div>"
      ],
      "text/plain": [
       "     A      C\n",
       "a  100    NaN\n",
       "b  200  250.0\n",
       "c  300   50.0\n",
       "d  400  150.0"
      ]
     },
     "execution_count": 62,
     "metadata": {},
     "output_type": "execute_result"
    }
   ],
   "source": [
    "df1"
   ]
  },
  {
   "cell_type": "code",
   "execution_count": 63,
   "metadata": {},
   "outputs": [
    {
     "data": {
      "text/html": [
       "<div>\n",
       "<style scoped>\n",
       "    .dataframe tbody tr th:only-of-type {\n",
       "        vertical-align: middle;\n",
       "    }\n",
       "\n",
       "    .dataframe tbody tr th {\n",
       "        vertical-align: top;\n",
       "    }\n",
       "\n",
       "    .dataframe thead th {\n",
       "        text-align: right;\n",
       "    }\n",
       "</style>\n",
       "<table border=\"1\" class=\"dataframe\">\n",
       "  <thead>\n",
       "    <tr style=\"text-align: right;\">\n",
       "      <th></th>\n",
       "      <th>B</th>\n",
       "      <th>C</th>\n",
       "    </tr>\n",
       "  </thead>\n",
       "  <tbody>\n",
       "    <tr>\n",
       "      <th>f</th>\n",
       "      <td>200</td>\n",
       "      <td>NaN</td>\n",
       "    </tr>\n",
       "    <tr>\n",
       "      <th>b</th>\n",
       "      <td>150</td>\n",
       "      <td>250.0</td>\n",
       "    </tr>\n",
       "    <tr>\n",
       "      <th>d</th>\n",
       "      <td>50</td>\n",
       "      <td>150.0</td>\n",
       "    </tr>\n",
       "  </tbody>\n",
       "</table>\n",
       "</div>"
      ],
      "text/plain": [
       "     B      C\n",
       "f  200    NaN\n",
       "b  150  250.0\n",
       "d   50  150.0"
      ]
     },
     "execution_count": 63,
     "metadata": {},
     "output_type": "execute_result"
    }
   ],
   "source": [
    "df2"
   ]
  },
  {
   "cell_type": "markdown",
   "metadata": {},
   "source": [
    "加进来的时候以左边的index为准，所以df2里面的C行缺少f的值。"
   ]
  },
  {
   "cell_type": "code",
   "execution_count": 64,
   "metadata": {
    "scrolled": true
   },
   "outputs": [
    {
     "data": {
      "text/html": [
       "<div>\n",
       "<style scoped>\n",
       "    .dataframe tbody tr th:only-of-type {\n",
       "        vertical-align: middle;\n",
       "    }\n",
       "\n",
       "    .dataframe tbody tr th {\n",
       "        vertical-align: top;\n",
       "    }\n",
       "\n",
       "    .dataframe thead th {\n",
       "        text-align: right;\n",
       "    }\n",
       "</style>\n",
       "<table border=\"1\" class=\"dataframe\">\n",
       "  <thead>\n",
       "    <tr style=\"text-align: right;\">\n",
       "      <th></th>\n",
       "      <th>A</th>\n",
       "      <th>C</th>\n",
       "      <th>B</th>\n",
       "    </tr>\n",
       "  </thead>\n",
       "  <tbody>\n",
       "    <tr>\n",
       "      <th>0</th>\n",
       "      <td>100</td>\n",
       "      <td>NaN</td>\n",
       "      <td>200</td>\n",
       "    </tr>\n",
       "    <tr>\n",
       "      <th>1</th>\n",
       "      <td>200</td>\n",
       "      <td>250.0</td>\n",
       "      <td>150</td>\n",
       "    </tr>\n",
       "    <tr>\n",
       "      <th>2</th>\n",
       "      <td>400</td>\n",
       "      <td>150.0</td>\n",
       "      <td>50</td>\n",
       "    </tr>\n",
       "  </tbody>\n",
       "</table>\n",
       "</div>"
      ],
      "text/plain": [
       "     A      C    B\n",
       "0  100    NaN  200\n",
       "1  200  250.0  150\n",
       "2  400  150.0   50"
      ]
     },
     "execution_count": 64,
     "metadata": {},
     "output_type": "execute_result"
    }
   ],
   "source": [
    "pd.merge(df1, df2)  "
   ]
  },
  {
   "cell_type": "markdown",
   "metadata": {},
   "source": [
    "##### 不保留是因为数据是按value对齐的而不是index，所以会出现一个数在两个不同df里面对应两个index。比如:df1里面NaN对应的是a，而df2里面对应的是f。"
   ]
  },
  {
   "cell_type": "code",
   "execution_count": 65,
   "metadata": {
    "scrolled": true
   },
   "outputs": [
    {
     "data": {
      "text/html": [
       "<div>\n",
       "<style scoped>\n",
       "    .dataframe tbody tr th:only-of-type {\n",
       "        vertical-align: middle;\n",
       "    }\n",
       "\n",
       "    .dataframe tbody tr th {\n",
       "        vertical-align: top;\n",
       "    }\n",
       "\n",
       "    .dataframe thead th {\n",
       "        text-align: right;\n",
       "    }\n",
       "</style>\n",
       "<table border=\"1\" class=\"dataframe\">\n",
       "  <thead>\n",
       "    <tr style=\"text-align: right;\">\n",
       "      <th></th>\n",
       "      <th>A</th>\n",
       "      <th>C</th>\n",
       "      <th>B</th>\n",
       "    </tr>\n",
       "  </thead>\n",
       "  <tbody>\n",
       "    <tr>\n",
       "      <th>0</th>\n",
       "      <td>100</td>\n",
       "      <td>NaN</td>\n",
       "      <td>200</td>\n",
       "    </tr>\n",
       "    <tr>\n",
       "      <th>1</th>\n",
       "      <td>200</td>\n",
       "      <td>250.0</td>\n",
       "      <td>150</td>\n",
       "    </tr>\n",
       "    <tr>\n",
       "      <th>2</th>\n",
       "      <td>400</td>\n",
       "      <td>150.0</td>\n",
       "      <td>50</td>\n",
       "    </tr>\n",
       "  </tbody>\n",
       "</table>\n",
       "</div>"
      ],
      "text/plain": [
       "     A      C    B\n",
       "0  100    NaN  200\n",
       "1  200  250.0  150\n",
       "2  400  150.0   50"
      ]
     },
     "execution_count": 65,
     "metadata": {},
     "output_type": "execute_result"
    }
   ],
   "source": [
    "pd.merge(df1, df2, on='C')  "
   ]
  },
  {
   "cell_type": "code",
   "execution_count": 66,
   "metadata": {
    "scrolled": false
   },
   "outputs": [
    {
     "data": {
      "text/html": [
       "<div>\n",
       "<style scoped>\n",
       "    .dataframe tbody tr th:only-of-type {\n",
       "        vertical-align: middle;\n",
       "    }\n",
       "\n",
       "    .dataframe tbody tr th {\n",
       "        vertical-align: top;\n",
       "    }\n",
       "\n",
       "    .dataframe thead th {\n",
       "        text-align: right;\n",
       "    }\n",
       "</style>\n",
       "<table border=\"1\" class=\"dataframe\">\n",
       "  <thead>\n",
       "    <tr style=\"text-align: right;\">\n",
       "      <th></th>\n",
       "      <th>A</th>\n",
       "      <th>C</th>\n",
       "      <th>B</th>\n",
       "    </tr>\n",
       "  </thead>\n",
       "  <tbody>\n",
       "    <tr>\n",
       "      <th>0</th>\n",
       "      <td>100</td>\n",
       "      <td>NaN</td>\n",
       "      <td>200</td>\n",
       "    </tr>\n",
       "    <tr>\n",
       "      <th>1</th>\n",
       "      <td>200</td>\n",
       "      <td>250.0</td>\n",
       "      <td>150</td>\n",
       "    </tr>\n",
       "    <tr>\n",
       "      <th>2</th>\n",
       "      <td>400</td>\n",
       "      <td>150.0</td>\n",
       "      <td>50</td>\n",
       "    </tr>\n",
       "  </tbody>\n",
       "</table>\n",
       "</div>"
      ],
      "text/plain": [
       "     A      C    B\n",
       "0  100    NaN  200\n",
       "1  200  250.0  150\n",
       "2  400  150.0   50"
      ]
     },
     "execution_count": 66,
     "metadata": {},
     "output_type": "execute_result"
    }
   ],
   "source": [
    "pd.merge(df1, df2, on='C',how = 'inner')  "
   ]
  },
  {
   "cell_type": "code",
   "execution_count": 67,
   "metadata": {},
   "outputs": [],
   "source": [
    "?pd.merge"
   ]
  },
  {
   "cell_type": "markdown",
   "metadata": {},
   "source": [
    "默认how是inner交集，所以会砍掉大多数数据。"
   ]
  },
  {
   "cell_type": "markdown",
   "metadata": {},
   "source": [
    "on='C'按那一列进行合并，电脑自动会对所有columns名称一致的存在相同value的值进行合并，但是，如果遇到有两个columns相同的时候还是写出来明确是按照哪个相同的column来合并。"
   ]
  },
  {
   "cell_type": "code",
   "execution_count": 68,
   "metadata": {
    "scrolled": true
   },
   "outputs": [
    {
     "data": {
      "text/html": [
       "<div>\n",
       "<style scoped>\n",
       "    .dataframe tbody tr th:only-of-type {\n",
       "        vertical-align: middle;\n",
       "    }\n",
       "\n",
       "    .dataframe tbody tr th {\n",
       "        vertical-align: top;\n",
       "    }\n",
       "\n",
       "    .dataframe thead th {\n",
       "        text-align: right;\n",
       "    }\n",
       "</style>\n",
       "<table border=\"1\" class=\"dataframe\">\n",
       "  <thead>\n",
       "    <tr style=\"text-align: right;\">\n",
       "      <th></th>\n",
       "      <th>A</th>\n",
       "      <th>C</th>\n",
       "      <th>B</th>\n",
       "    </tr>\n",
       "  </thead>\n",
       "  <tbody>\n",
       "    <tr>\n",
       "      <th>0</th>\n",
       "      <td>100</td>\n",
       "      <td>NaN</td>\n",
       "      <td>200</td>\n",
       "    </tr>\n",
       "    <tr>\n",
       "      <th>1</th>\n",
       "      <td>200</td>\n",
       "      <td>250.0</td>\n",
       "      <td>150</td>\n",
       "    </tr>\n",
       "    <tr>\n",
       "      <th>2</th>\n",
       "      <td>300</td>\n",
       "      <td>50.0</td>\n",
       "      <td>NaN</td>\n",
       "    </tr>\n",
       "    <tr>\n",
       "      <th>3</th>\n",
       "      <td>400</td>\n",
       "      <td>150.0</td>\n",
       "      <td>50</td>\n",
       "    </tr>\n",
       "  </tbody>\n",
       "</table>\n",
       "</div>"
      ],
      "text/plain": [
       "     A      C    B\n",
       "0  100    NaN  200\n",
       "1  200  250.0  150\n",
       "2  300   50.0  NaN\n",
       "3  400  150.0   50"
      ]
     },
     "execution_count": 68,
     "metadata": {},
     "output_type": "execute_result"
    }
   ],
   "source": [
    "pd.merge(df1, df2, how='outer')  "
   ]
  },
  {
   "cell_type": "markdown",
   "metadata": {},
   "source": [
    "按value取并集，确保两个C列里面的所有value都有被取到。"
   ]
  },
  {
   "cell_type": "code",
   "execution_count": 69,
   "metadata": {},
   "outputs": [
    {
     "data": {
      "text/html": [
       "<div>\n",
       "<style scoped>\n",
       "    .dataframe tbody tr th:only-of-type {\n",
       "        vertical-align: middle;\n",
       "    }\n",
       "\n",
       "    .dataframe tbody tr th {\n",
       "        vertical-align: top;\n",
       "    }\n",
       "\n",
       "    .dataframe thead th {\n",
       "        text-align: right;\n",
       "    }\n",
       "</style>\n",
       "<table border=\"1\" class=\"dataframe\">\n",
       "  <thead>\n",
       "    <tr style=\"text-align: right;\">\n",
       "      <th></th>\n",
       "      <th>A</th>\n",
       "      <th>C_x</th>\n",
       "      <th>B</th>\n",
       "      <th>C_y</th>\n",
       "    </tr>\n",
       "  </thead>\n",
       "  <tbody>\n",
       "    <tr>\n",
       "      <th>0</th>\n",
       "      <td>200</td>\n",
       "      <td>250.0</td>\n",
       "      <td>200</td>\n",
       "      <td>NaN</td>\n",
       "    </tr>\n",
       "  </tbody>\n",
       "</table>\n",
       "</div>"
      ],
      "text/plain": [
       "     A    C_x    B  C_y\n",
       "0  200  250.0  200  NaN"
      ]
     },
     "execution_count": 69,
     "metadata": {},
     "output_type": "execute_result"
    }
   ],
   "source": [
    "pd.merge(df1, df2, left_on='A', right_on='B')"
   ]
  },
  {
   "cell_type": "markdown",
   "metadata": {},
   "source": [
    "left_on和right_on选定的列取交集，这样column名称相同的哪一列反而会出现value的不同，所以会用C_x和C_y代表左边df1和右边df2两个数值里面C列的不同value."
   ]
  },
  {
   "cell_type": "code",
   "execution_count": 70,
   "metadata": {
    "scrolled": false
   },
   "outputs": [
    {
     "data": {
      "text/html": [
       "<div>\n",
       "<style scoped>\n",
       "    .dataframe tbody tr th:only-of-type {\n",
       "        vertical-align: middle;\n",
       "    }\n",
       "\n",
       "    .dataframe tbody tr th {\n",
       "        vertical-align: top;\n",
       "    }\n",
       "\n",
       "    .dataframe thead th {\n",
       "        text-align: right;\n",
       "    }\n",
       "</style>\n",
       "<table border=\"1\" class=\"dataframe\">\n",
       "  <thead>\n",
       "    <tr style=\"text-align: right;\">\n",
       "      <th></th>\n",
       "      <th>A</th>\n",
       "      <th>C_x</th>\n",
       "      <th>B</th>\n",
       "      <th>C_y</th>\n",
       "    </tr>\n",
       "  </thead>\n",
       "  <tbody>\n",
       "    <tr>\n",
       "      <th>0</th>\n",
       "      <td>100</td>\n",
       "      <td>NaN</td>\n",
       "      <td>NaN</td>\n",
       "      <td>NaN</td>\n",
       "    </tr>\n",
       "    <tr>\n",
       "      <th>1</th>\n",
       "      <td>200</td>\n",
       "      <td>250.0</td>\n",
       "      <td>200</td>\n",
       "      <td>NaN</td>\n",
       "    </tr>\n",
       "    <tr>\n",
       "      <th>2</th>\n",
       "      <td>300</td>\n",
       "      <td>50.0</td>\n",
       "      <td>NaN</td>\n",
       "      <td>NaN</td>\n",
       "    </tr>\n",
       "    <tr>\n",
       "      <th>3</th>\n",
       "      <td>400</td>\n",
       "      <td>150.0</td>\n",
       "      <td>NaN</td>\n",
       "      <td>NaN</td>\n",
       "    </tr>\n",
       "    <tr>\n",
       "      <th>4</th>\n",
       "      <td>NaN</td>\n",
       "      <td>NaN</td>\n",
       "      <td>150</td>\n",
       "      <td>250.0</td>\n",
       "    </tr>\n",
       "    <tr>\n",
       "      <th>5</th>\n",
       "      <td>NaN</td>\n",
       "      <td>NaN</td>\n",
       "      <td>50</td>\n",
       "      <td>150.0</td>\n",
       "    </tr>\n",
       "  </tbody>\n",
       "</table>\n",
       "</div>"
      ],
      "text/plain": [
       "     A    C_x    B    C_y\n",
       "0  100    NaN  NaN    NaN\n",
       "1  200  250.0  200    NaN\n",
       "2  300   50.0  NaN    NaN\n",
       "3  400  150.0  NaN    NaN\n",
       "4  NaN    NaN  150  250.0\n",
       "5  NaN    NaN   50  150.0"
      ]
     },
     "execution_count": 70,
     "metadata": {},
     "output_type": "execute_result"
    }
   ],
   "source": [
    "pd.merge(df1, df2, left_on='A', right_on='B', how='outer')  "
   ]
  },
  {
   "cell_type": "markdown",
   "metadata": {},
   "source": [
    "A和B两列的value取并集，会有6种情况，类似于joining，会造成C在很多位置上是NaN空值，所以保有C_x和C_y来区别两个df的C列"
   ]
  },
  {
   "cell_type": "code",
   "execution_count": 71,
   "metadata": {
    "scrolled": false
   },
   "outputs": [
    {
     "data": {
      "text/html": [
       "<div>\n",
       "<style scoped>\n",
       "    .dataframe tbody tr th:only-of-type {\n",
       "        vertical-align: middle;\n",
       "    }\n",
       "\n",
       "    .dataframe tbody tr th {\n",
       "        vertical-align: top;\n",
       "    }\n",
       "\n",
       "    .dataframe thead th {\n",
       "        text-align: right;\n",
       "    }\n",
       "</style>\n",
       "<table border=\"1\" class=\"dataframe\">\n",
       "  <thead>\n",
       "    <tr style=\"text-align: right;\">\n",
       "      <th></th>\n",
       "      <th>A</th>\n",
       "      <th>C_x</th>\n",
       "      <th>B</th>\n",
       "      <th>C_y</th>\n",
       "    </tr>\n",
       "  </thead>\n",
       "  <tbody>\n",
       "    <tr>\n",
       "      <th>b</th>\n",
       "      <td>200</td>\n",
       "      <td>250.0</td>\n",
       "      <td>150</td>\n",
       "      <td>250.0</td>\n",
       "    </tr>\n",
       "    <tr>\n",
       "      <th>d</th>\n",
       "      <td>400</td>\n",
       "      <td>150.0</td>\n",
       "      <td>50</td>\n",
       "      <td>150.0</td>\n",
       "    </tr>\n",
       "  </tbody>\n",
       "</table>\n",
       "</div>"
      ],
      "text/plain": [
       "     A    C_x    B    C_y\n",
       "b  200  250.0  150  250.0\n",
       "d  400  150.0   50  150.0"
      ]
     },
     "execution_count": 71,
     "metadata": {},
     "output_type": "execute_result"
    }
   ],
   "source": [
    "pd.merge(df1, df2, left_index=True, right_index=True)"
   ]
  },
  {
   "cell_type": "code",
   "execution_count": 74,
   "metadata": {
    "scrolled": true
   },
   "outputs": [
    {
     "ename": "MergeError",
     "evalue": "Can only pass argument \"on\" OR \"left_index\" and \"right_index\", not a combination of both.",
     "output_type": "error",
     "traceback": [
      "\u001b[1;31m---------------------------------------------------------------------------\u001b[0m",
      "\u001b[1;31mMergeError\u001b[0m                                Traceback (most recent call last)",
      "\u001b[1;32m<ipython-input-74-871f4842b2f2>\u001b[0m in \u001b[0;36m<module>\u001b[1;34m\u001b[0m\n\u001b[1;32m----> 1\u001b[1;33m \u001b[0mpd\u001b[0m\u001b[1;33m.\u001b[0m\u001b[0mmerge\u001b[0m\u001b[1;33m(\u001b[0m\u001b[0mdf1\u001b[0m\u001b[1;33m,\u001b[0m \u001b[0mdf2\u001b[0m\u001b[1;33m,\u001b[0m \u001b[0mon\u001b[0m \u001b[1;33m=\u001b[0m \u001b[1;34m'C'\u001b[0m\u001b[1;33m,\u001b[0m \u001b[0mleft_index\u001b[0m\u001b[1;33m=\u001b[0m\u001b[1;32mTrue\u001b[0m\u001b[1;33m,\u001b[0m \u001b[0mright_index\u001b[0m\u001b[1;33m=\u001b[0m\u001b[1;32mTrue\u001b[0m\u001b[1;33m)\u001b[0m\u001b[1;33m\u001b[0m\u001b[1;33m\u001b[0m\u001b[0m\n\u001b[0m",
      "\u001b[1;32mD:\\ProgramData\\Anaconda3\\envs\\t2.3\\lib\\site-packages\\pandas\\core\\reshape\\merge.py\u001b[0m in \u001b[0;36mmerge\u001b[1;34m(left, right, how, on, left_on, right_on, left_index, right_index, sort, suffixes, copy, indicator, validate)\u001b[0m\n\u001b[0;32m     85\u001b[0m         \u001b[0mcopy\u001b[0m\u001b[1;33m=\u001b[0m\u001b[0mcopy\u001b[0m\u001b[1;33m,\u001b[0m\u001b[1;33m\u001b[0m\u001b[1;33m\u001b[0m\u001b[0m\n\u001b[0;32m     86\u001b[0m         \u001b[0mindicator\u001b[0m\u001b[1;33m=\u001b[0m\u001b[0mindicator\u001b[0m\u001b[1;33m,\u001b[0m\u001b[1;33m\u001b[0m\u001b[1;33m\u001b[0m\u001b[0m\n\u001b[1;32m---> 87\u001b[1;33m         \u001b[0mvalidate\u001b[0m\u001b[1;33m=\u001b[0m\u001b[0mvalidate\u001b[0m\u001b[1;33m,\u001b[0m\u001b[1;33m\u001b[0m\u001b[1;33m\u001b[0m\u001b[0m\n\u001b[0m\u001b[0;32m     88\u001b[0m     )\n\u001b[0;32m     89\u001b[0m     \u001b[1;32mreturn\u001b[0m \u001b[0mop\u001b[0m\u001b[1;33m.\u001b[0m\u001b[0mget_result\u001b[0m\u001b[1;33m(\u001b[0m\u001b[1;33m)\u001b[0m\u001b[1;33m\u001b[0m\u001b[1;33m\u001b[0m\u001b[0m\n",
      "\u001b[1;32mD:\\ProgramData\\Anaconda3\\envs\\t2.3\\lib\\site-packages\\pandas\\core\\reshape\\merge.py\u001b[0m in \u001b[0;36m__init__\u001b[1;34m(self, left, right, how, on, left_on, right_on, axis, left_index, right_index, sort, suffixes, copy, indicator, validate)\u001b[0m\n\u001b[0;32m    648\u001b[0m             \u001b[0mwarnings\u001b[0m\u001b[1;33m.\u001b[0m\u001b[0mwarn\u001b[0m\u001b[1;33m(\u001b[0m\u001b[0mmsg\u001b[0m\u001b[1;33m,\u001b[0m \u001b[0mUserWarning\u001b[0m\u001b[1;33m)\u001b[0m\u001b[1;33m\u001b[0m\u001b[1;33m\u001b[0m\u001b[0m\n\u001b[0;32m    649\u001b[0m \u001b[1;33m\u001b[0m\u001b[0m\n\u001b[1;32m--> 650\u001b[1;33m         \u001b[0mself\u001b[0m\u001b[1;33m.\u001b[0m\u001b[0m_validate_specification\u001b[0m\u001b[1;33m(\u001b[0m\u001b[1;33m)\u001b[0m\u001b[1;33m\u001b[0m\u001b[1;33m\u001b[0m\u001b[0m\n\u001b[0m\u001b[0;32m    651\u001b[0m \u001b[1;33m\u001b[0m\u001b[0m\n\u001b[0;32m    652\u001b[0m         \u001b[0mcross_col\u001b[0m \u001b[1;33m=\u001b[0m \u001b[1;32mNone\u001b[0m\u001b[1;33m\u001b[0m\u001b[1;33m\u001b[0m\u001b[0m\n",
      "\u001b[1;32mD:\\ProgramData\\Anaconda3\\envs\\t2.3\\lib\\site-packages\\pandas\\core\\reshape\\merge.py\u001b[0m in \u001b[0;36m_validate_specification\u001b[1;34m(self)\u001b[0m\n\u001b[0;32m   1302\u001b[0m             \u001b[1;32mif\u001b[0m \u001b[0mself\u001b[0m\u001b[1;33m.\u001b[0m\u001b[0mleft_index\u001b[0m \u001b[1;32mor\u001b[0m \u001b[0mself\u001b[0m\u001b[1;33m.\u001b[0m\u001b[0mright_index\u001b[0m\u001b[1;33m:\u001b[0m\u001b[1;33m\u001b[0m\u001b[1;33m\u001b[0m\u001b[0m\n\u001b[0;32m   1303\u001b[0m                 raise MergeError(\n\u001b[1;32m-> 1304\u001b[1;33m                     \u001b[1;34m'Can only pass argument \"on\" OR \"left_index\" '\u001b[0m\u001b[1;33m\u001b[0m\u001b[1;33m\u001b[0m\u001b[0m\n\u001b[0m\u001b[0;32m   1305\u001b[0m                     \u001b[1;34m'and \"right_index\", not a combination of both.'\u001b[0m\u001b[1;33m\u001b[0m\u001b[1;33m\u001b[0m\u001b[0m\n\u001b[0;32m   1306\u001b[0m                 )\n",
      "\u001b[1;31mMergeError\u001b[0m: Can only pass argument \"on\" OR \"left_index\" and \"right_index\", not a combination of both."
     ]
    }
   ],
   "source": [
    "pd.merge(df1, df2, on = 'C', left_index=True, right_index=True)"
   ]
  },
  {
   "cell_type": "markdown",
   "metadata": {},
   "source": [
    "报错：\"on\" OR \"left_index\" and \"right_index\", not a combination of both."
   ]
  },
  {
   "cell_type": "markdown",
   "metadata": {},
   "source": [
    "有的可能会不报错，结果就是再加一个条件，要求C列的value也要一致。"
   ]
  },
  {
   "cell_type": "markdown",
   "metadata": {},
   "source": [
    "##### 把左边的df1的index取出来作为join的key,同时right_index=True代表把右边的index也作为join key,how默认的是inner交集，所以合并的标准就是两个df的index相交的index(b,d), right/left_index=True,等于是df1和df2在做joining(how = 'inner')"
   ]
  },
  {
   "cell_type": "markdown",
   "metadata": {},
   "source": [
    "pd.merge(df1, df2, left_index=True)"
   ]
  },
  {
   "cell_type": "markdown",
   "metadata": {},
   "source": [
    "pd.merge(df1, df2,right_index=True, left_index = False)"
   ]
  },
  {
   "cell_type": "markdown",
   "metadata": {},
   "source": [
    "pd.merge(df1, df2, on='C', left_index=True, right_index=True)"
   ]
  },
  {
   "cell_type": "code",
   "execution_count": 80,
   "metadata": {},
   "outputs": [],
   "source": [
    "?pd.merge"
   ]
  },
  {
   "cell_type": "markdown",
   "metadata": {},
   "source": [
    "# 复习"
   ]
  },
  {
   "cell_type": "code",
   "execution_count": 106,
   "metadata": {},
   "outputs": [
    {
     "data": {
      "text/html": [
       "<div>\n",
       "<style scoped>\n",
       "    .dataframe tbody tr th:only-of-type {\n",
       "        vertical-align: middle;\n",
       "    }\n",
       "\n",
       "    .dataframe tbody tr th {\n",
       "        vertical-align: top;\n",
       "    }\n",
       "\n",
       "    .dataframe thead th {\n",
       "        text-align: right;\n",
       "    }\n",
       "</style>\n",
       "<table border=\"1\" class=\"dataframe\">\n",
       "  <thead>\n",
       "    <tr style=\"text-align: right;\">\n",
       "      <th></th>\n",
       "      <th>a</th>\n",
       "      <th>b</th>\n",
       "    </tr>\n",
       "  </thead>\n",
       "  <tbody>\n",
       "    <tr>\n",
       "      <th>a</th>\n",
       "      <td>0</td>\n",
       "      <td>5</td>\n",
       "    </tr>\n",
       "    <tr>\n",
       "      <th>b</th>\n",
       "      <td>1</td>\n",
       "      <td>3</td>\n",
       "    </tr>\n",
       "    <tr>\n",
       "      <th>c</th>\n",
       "      <td>2</td>\n",
       "      <td>6</td>\n",
       "    </tr>\n",
       "    <tr>\n",
       "      <th>d</th>\n",
       "      <td>3</td>\n",
       "      <td>9</td>\n",
       "    </tr>\n",
       "    <tr>\n",
       "      <th>e</th>\n",
       "      <td>4</td>\n",
       "      <td>2</td>\n",
       "    </tr>\n",
       "    <tr>\n",
       "      <th>f</th>\n",
       "      <td>5</td>\n",
       "      <td>4</td>\n",
       "    </tr>\n",
       "  </tbody>\n",
       "</table>\n",
       "</div>"
      ],
      "text/plain": [
       "   a  b\n",
       "a  0  5\n",
       "b  1  3\n",
       "c  2  6\n",
       "d  3  9\n",
       "e  4  2\n",
       "f  5  4"
      ]
     },
     "execution_count": 106,
     "metadata": {},
     "output_type": "execute_result"
    }
   ],
   "source": [
    "df1 = pd.DataFrame({'a':range(6),'b' : [5,3,6,9,2,4]}, index = list('abcdef'))\n",
    "df1"
   ]
  },
  {
   "cell_type": "code",
   "execution_count": 107,
   "metadata": {
    "scrolled": true
   },
   "outputs": [
    {
     "data": {
      "text/html": [
       "<div>\n",
       "<style scoped>\n",
       "    .dataframe tbody tr th:only-of-type {\n",
       "        vertical-align: middle;\n",
       "    }\n",
       "\n",
       "    .dataframe tbody tr th {\n",
       "        vertical-align: top;\n",
       "    }\n",
       "\n",
       "    .dataframe thead th {\n",
       "        text-align: right;\n",
       "    }\n",
       "</style>\n",
       "<table border=\"1\" class=\"dataframe\">\n",
       "  <thead>\n",
       "    <tr style=\"text-align: right;\">\n",
       "      <th></th>\n",
       "      <th>c</th>\n",
       "      <th>d</th>\n",
       "    </tr>\n",
       "  </thead>\n",
       "  <tbody>\n",
       "    <tr>\n",
       "      <th>a</th>\n",
       "      <td>0</td>\n",
       "      <td>10</td>\n",
       "    </tr>\n",
       "    <tr>\n",
       "      <th>b</th>\n",
       "      <td>1</td>\n",
       "      <td>20</td>\n",
       "    </tr>\n",
       "    <tr>\n",
       "      <th>h</th>\n",
       "      <td>2</td>\n",
       "      <td>30</td>\n",
       "    </tr>\n",
       "    <tr>\n",
       "      <th>i</th>\n",
       "      <td>3</td>\n",
       "      <td>40</td>\n",
       "    </tr>\n",
       "  </tbody>\n",
       "</table>\n",
       "</div>"
      ],
      "text/plain": [
       "   c   d\n",
       "a  0  10\n",
       "b  1  20\n",
       "h  2  30\n",
       "i  3  40"
      ]
     },
     "execution_count": 107,
     "metadata": {},
     "output_type": "execute_result"
    }
   ],
   "source": [
    "df2 = pd.DataFrame({'c':range(4), 'd':[10, 20, 30, 40]}, index = list('abhi'))\n",
    "df2"
   ]
  },
  {
   "cell_type": "code",
   "execution_count": 108,
   "metadata": {},
   "outputs": [
    {
     "data": {
      "text/html": [
       "<div>\n",
       "<style scoped>\n",
       "    .dataframe tbody tr th:only-of-type {\n",
       "        vertical-align: middle;\n",
       "    }\n",
       "\n",
       "    .dataframe tbody tr th {\n",
       "        vertical-align: top;\n",
       "    }\n",
       "\n",
       "    .dataframe thead th {\n",
       "        text-align: right;\n",
       "    }\n",
       "</style>\n",
       "<table border=\"1\" class=\"dataframe\">\n",
       "  <thead>\n",
       "    <tr style=\"text-align: right;\">\n",
       "      <th></th>\n",
       "      <th>a</th>\n",
       "      <th>b</th>\n",
       "      <th>c</th>\n",
       "      <th>d</th>\n",
       "    </tr>\n",
       "  </thead>\n",
       "  <tbody>\n",
       "    <tr>\n",
       "      <th>a</th>\n",
       "      <td>0.0</td>\n",
       "      <td>5.0</td>\n",
       "      <td>NaN</td>\n",
       "      <td>NaN</td>\n",
       "    </tr>\n",
       "    <tr>\n",
       "      <th>b</th>\n",
       "      <td>1.0</td>\n",
       "      <td>3.0</td>\n",
       "      <td>NaN</td>\n",
       "      <td>NaN</td>\n",
       "    </tr>\n",
       "    <tr>\n",
       "      <th>c</th>\n",
       "      <td>2.0</td>\n",
       "      <td>6.0</td>\n",
       "      <td>NaN</td>\n",
       "      <td>NaN</td>\n",
       "    </tr>\n",
       "    <tr>\n",
       "      <th>d</th>\n",
       "      <td>3.0</td>\n",
       "      <td>9.0</td>\n",
       "      <td>NaN</td>\n",
       "      <td>NaN</td>\n",
       "    </tr>\n",
       "    <tr>\n",
       "      <th>e</th>\n",
       "      <td>4.0</td>\n",
       "      <td>2.0</td>\n",
       "      <td>NaN</td>\n",
       "      <td>NaN</td>\n",
       "    </tr>\n",
       "    <tr>\n",
       "      <th>f</th>\n",
       "      <td>5.0</td>\n",
       "      <td>4.0</td>\n",
       "      <td>NaN</td>\n",
       "      <td>NaN</td>\n",
       "    </tr>\n",
       "    <tr>\n",
       "      <th>a</th>\n",
       "      <td>NaN</td>\n",
       "      <td>NaN</td>\n",
       "      <td>0.0</td>\n",
       "      <td>10.0</td>\n",
       "    </tr>\n",
       "    <tr>\n",
       "      <th>b</th>\n",
       "      <td>NaN</td>\n",
       "      <td>NaN</td>\n",
       "      <td>1.0</td>\n",
       "      <td>20.0</td>\n",
       "    </tr>\n",
       "    <tr>\n",
       "      <th>h</th>\n",
       "      <td>NaN</td>\n",
       "      <td>NaN</td>\n",
       "      <td>2.0</td>\n",
       "      <td>30.0</td>\n",
       "    </tr>\n",
       "    <tr>\n",
       "      <th>i</th>\n",
       "      <td>NaN</td>\n",
       "      <td>NaN</td>\n",
       "      <td>3.0</td>\n",
       "      <td>40.0</td>\n",
       "    </tr>\n",
       "  </tbody>\n",
       "</table>\n",
       "</div>"
      ],
      "text/plain": [
       "     a    b    c     d\n",
       "a  0.0  5.0  NaN   NaN\n",
       "b  1.0  3.0  NaN   NaN\n",
       "c  2.0  6.0  NaN   NaN\n",
       "d  3.0  9.0  NaN   NaN\n",
       "e  4.0  2.0  NaN   NaN\n",
       "f  5.0  4.0  NaN   NaN\n",
       "a  NaN  NaN  0.0  10.0\n",
       "b  NaN  NaN  1.0  20.0\n",
       "h  NaN  NaN  2.0  30.0\n",
       "i  NaN  NaN  3.0  40.0"
      ]
     },
     "execution_count": 108,
     "metadata": {},
     "output_type": "execute_result"
    }
   ],
   "source": [
    "df5 = pd.concat([df1, df2], axis = 0)\n",
    "df5"
   ]
  },
  {
   "cell_type": "markdown",
   "metadata": {},
   "source": [
    "concat直接取并集,默认axis = 0，axis = 1会报错。"
   ]
  },
  {
   "cell_type": "code",
   "execution_count": 109,
   "metadata": {
    "scrolled": true
   },
   "outputs": [
    {
     "data": {
      "text/html": [
       "<div>\n",
       "<style scoped>\n",
       "    .dataframe tbody tr th:only-of-type {\n",
       "        vertical-align: middle;\n",
       "    }\n",
       "\n",
       "    .dataframe tbody tr th {\n",
       "        vertical-align: top;\n",
       "    }\n",
       "\n",
       "    .dataframe thead th {\n",
       "        text-align: right;\n",
       "    }\n",
       "</style>\n",
       "<table border=\"1\" class=\"dataframe\">\n",
       "  <thead>\n",
       "    <tr style=\"text-align: right;\">\n",
       "      <th></th>\n",
       "      <th>a</th>\n",
       "      <th>b</th>\n",
       "      <th>c</th>\n",
       "      <th>d</th>\n",
       "    </tr>\n",
       "  </thead>\n",
       "  <tbody>\n",
       "    <tr>\n",
       "      <th>a</th>\n",
       "      <td>0</td>\n",
       "      <td>5</td>\n",
       "      <td>0.0</td>\n",
       "      <td>10.0</td>\n",
       "    </tr>\n",
       "    <tr>\n",
       "      <th>b</th>\n",
       "      <td>1</td>\n",
       "      <td>3</td>\n",
       "      <td>1.0</td>\n",
       "      <td>20.0</td>\n",
       "    </tr>\n",
       "    <tr>\n",
       "      <th>c</th>\n",
       "      <td>2</td>\n",
       "      <td>6</td>\n",
       "      <td>NaN</td>\n",
       "      <td>NaN</td>\n",
       "    </tr>\n",
       "    <tr>\n",
       "      <th>d</th>\n",
       "      <td>3</td>\n",
       "      <td>9</td>\n",
       "      <td>NaN</td>\n",
       "      <td>NaN</td>\n",
       "    </tr>\n",
       "    <tr>\n",
       "      <th>e</th>\n",
       "      <td>4</td>\n",
       "      <td>2</td>\n",
       "      <td>NaN</td>\n",
       "      <td>NaN</td>\n",
       "    </tr>\n",
       "    <tr>\n",
       "      <th>f</th>\n",
       "      <td>5</td>\n",
       "      <td>4</td>\n",
       "      <td>NaN</td>\n",
       "      <td>NaN</td>\n",
       "    </tr>\n",
       "  </tbody>\n",
       "</table>\n",
       "</div>"
      ],
      "text/plain": [
       "   a  b    c     d\n",
       "a  0  5  0.0  10.0\n",
       "b  1  3  1.0  20.0\n",
       "c  2  6  NaN   NaN\n",
       "d  3  9  NaN   NaN\n",
       "e  4  2  NaN   NaN\n",
       "f  5  4  NaN   NaN"
      ]
     },
     "execution_count": 109,
     "metadata": {},
     "output_type": "execute_result"
    }
   ],
   "source": [
    "df4 = df1.join(df2)\n",
    "df4"
   ]
  },
  {
   "cell_type": "code",
   "execution_count": 110,
   "metadata": {},
   "outputs": [
    {
     "data": {
      "text/html": [
       "<div>\n",
       "<style scoped>\n",
       "    .dataframe tbody tr th:only-of-type {\n",
       "        vertical-align: middle;\n",
       "    }\n",
       "\n",
       "    .dataframe tbody tr th {\n",
       "        vertical-align: top;\n",
       "    }\n",
       "\n",
       "    .dataframe thead th {\n",
       "        text-align: right;\n",
       "    }\n",
       "</style>\n",
       "<table border=\"1\" class=\"dataframe\">\n",
       "  <thead>\n",
       "    <tr style=\"text-align: right;\">\n",
       "      <th></th>\n",
       "      <th>a</th>\n",
       "      <th>b</th>\n",
       "      <th>c</th>\n",
       "      <th>d</th>\n",
       "    </tr>\n",
       "  </thead>\n",
       "  <tbody>\n",
       "    <tr>\n",
       "      <th>a</th>\n",
       "      <td>0</td>\n",
       "      <td>5</td>\n",
       "      <td>0</td>\n",
       "      <td>10</td>\n",
       "    </tr>\n",
       "    <tr>\n",
       "      <th>b</th>\n",
       "      <td>1</td>\n",
       "      <td>3</td>\n",
       "      <td>1</td>\n",
       "      <td>20</td>\n",
       "    </tr>\n",
       "  </tbody>\n",
       "</table>\n",
       "</div>"
      ],
      "text/plain": [
       "   a  b  c   d\n",
       "a  0  5  0  10\n",
       "b  1  3  1  20"
      ]
     },
     "execution_count": 110,
     "metadata": {},
     "output_type": "execute_result"
    }
   ],
   "source": [
    "df3 = pd.merge(df1, df2, left_index = True, right_index = True)\n",
    "df3"
   ]
  },
  {
   "cell_type": "markdown",
   "metadata": {},
   "source": [
    "## Performance Aspects"
   ]
  },
  {
   "cell_type": "code",
   "execution_count": 111,
   "metadata": {},
   "outputs": [],
   "source": [
    "data = np.random.standard_normal((1000000, 2))  "
   ]
  },
  {
   "cell_type": "code",
   "execution_count": 112,
   "metadata": {},
   "outputs": [
    {
     "data": {
      "text/plain": [
       "16000000"
      ]
     },
     "execution_count": 112,
     "metadata": {},
     "output_type": "execute_result"
    }
   ],
   "source": [
    "data.nbytes  "
   ]
  },
  {
   "cell_type": "code",
   "execution_count": 116,
   "metadata": {},
   "outputs": [],
   "source": [
    "df = pd.DataFrame(data, columns=['x', 'y'])  "
   ]
  },
  {
   "cell_type": "code",
   "execution_count": 117,
   "metadata": {},
   "outputs": [
    {
     "name": "stdout",
     "output_type": "stream",
     "text": [
      "<class 'pandas.core.frame.DataFrame'>\n",
      "RangeIndex: 1000000 entries, 0 to 999999\n",
      "Data columns (total 2 columns):\n",
      " #   Column  Non-Null Count    Dtype  \n",
      "---  ------  --------------    -----  \n",
      " 0   x       1000000 non-null  float64\n",
      " 1   y       1000000 non-null  float64\n",
      "dtypes: float64(2)\n",
      "memory usage: 15.3 MB\n"
     ]
    }
   ],
   "source": [
    "df.info()  "
   ]
  },
  {
   "cell_type": "code",
   "execution_count": 130,
   "metadata": {},
   "outputs": [
    {
     "name": "stdout",
     "output_type": "stream",
     "text": [
      "Wall time: 2.99 ms\n"
     ]
    }
   ],
   "source": [
    "%time res = df['x'] + df['y']  "
   ]
  },
  {
   "cell_type": "code",
   "execution_count": 119,
   "metadata": {},
   "outputs": [
    {
     "data": {
      "text/plain": [
       "0   -2.472515\n",
       "1   -0.553540\n",
       "2    2.541377\n",
       "dtype: float64"
      ]
     },
     "execution_count": 119,
     "metadata": {},
     "output_type": "execute_result"
    }
   ],
   "source": [
    "res[:3]"
   ]
  },
  {
   "cell_type": "code",
   "execution_count": 120,
   "metadata": {},
   "outputs": [
    {
     "name": "stdout",
     "output_type": "stream",
     "text": [
      "Wall time: 27.5 ms\n"
     ]
    }
   ],
   "source": [
    "%time res = df.sum(axis=1)  "
   ]
  },
  {
   "cell_type": "code",
   "execution_count": 121,
   "metadata": {},
   "outputs": [
    {
     "data": {
      "text/plain": [
       "0   -2.472515\n",
       "1   -0.553540\n",
       "2    2.541377\n",
       "dtype: float64"
      ]
     },
     "execution_count": 121,
     "metadata": {},
     "output_type": "execute_result"
    }
   ],
   "source": [
    "res[:3]"
   ]
  },
  {
   "cell_type": "code",
   "execution_count": 130,
   "metadata": {},
   "outputs": [
    {
     "name": "stdout",
     "output_type": "stream",
     "text": [
      "CPU times: user 21 ms, sys: 2.25 ms, total: 23.2 ms\n",
      "Wall time: 20.6 ms\n"
     ]
    }
   ],
   "source": [
    "%time res = df.values.sum(axis=1)  "
   ]
  },
  {
   "cell_type": "code",
   "execution_count": 131,
   "metadata": {},
   "outputs": [
    {
     "data": {
      "text/plain": [
       "array([ 0.3872424 , -0.96934273, -0.86315944])"
      ]
     },
     "execution_count": 131,
     "metadata": {},
     "output_type": "execute_result"
    }
   ],
   "source": [
    "res[:3]"
   ]
  },
  {
   "cell_type": "code",
   "execution_count": 132,
   "metadata": {},
   "outputs": [
    {
     "name": "stdout",
     "output_type": "stream",
     "text": [
      "CPU times: user 51.9 ms, sys: 11.2 ms, total: 63.1 ms\n",
      "Wall time: 60.6 ms\n"
     ]
    }
   ],
   "source": [
    "%time res = np.sum(df, axis=1)  "
   ]
  },
  {
   "cell_type": "code",
   "execution_count": 133,
   "metadata": {},
   "outputs": [
    {
     "data": {
      "text/plain": [
       "0    0.387242\n",
       "1   -0.969343\n",
       "2   -0.863159\n",
       "dtype: float64"
      ]
     },
     "execution_count": 133,
     "metadata": {},
     "output_type": "execute_result"
    }
   ],
   "source": [
    "res[:3]"
   ]
  },
  {
   "cell_type": "code",
   "execution_count": 131,
   "metadata": {},
   "outputs": [
    {
     "name": "stdout",
     "output_type": "stream",
     "text": [
      "Wall time: 12 ms\n"
     ]
    }
   ],
   "source": [
    "%time res = np.sum(df.values, axis=1)  "
   ]
  },
  {
   "cell_type": "code",
   "execution_count": 135,
   "metadata": {},
   "outputs": [
    {
     "data": {
      "text/plain": [
       "array([ 0.3872424 , -0.96934273, -0.86315944])"
      ]
     },
     "execution_count": 135,
     "metadata": {},
     "output_type": "execute_result"
    }
   ],
   "source": [
    "res[:3]"
   ]
  },
  {
   "cell_type": "code",
   "execution_count": 132,
   "metadata": {
    "scrolled": true
   },
   "outputs": [
    {
     "name": "stdout",
     "output_type": "stream",
     "text": [
      "Wall time: 9.48 ms\n"
     ]
    }
   ],
   "source": [
    "%time res = df.eval('x + y')  "
   ]
  },
  {
   "cell_type": "code",
   "execution_count": 127,
   "metadata": {
    "scrolled": true
   },
   "outputs": [
    {
     "data": {
      "text/plain": [
       "0        -2.962717e+00\n",
       "1         4.193799e-01\n",
       "2         1.438567e-01\n",
       "3        -1.238004e-07\n",
       "4        -4.080691e+00\n",
       "              ...     \n",
       "999995    3.011138e-01\n",
       "999996   -9.136349e-03\n",
       "999997   -1.833936e-01\n",
       "999998   -1.162017e-01\n",
       "999999    5.272026e-01\n",
       "Length: 1000000, dtype: float64"
      ]
     },
     "execution_count": 127,
     "metadata": {},
     "output_type": "execute_result"
    }
   ],
   "source": [
    "res1 = df.eval('x**3')\n",
    "res1"
   ]
  },
  {
   "cell_type": "markdown",
   "metadata": {},
   "source": [
    "eval相当于是map/apply,但是里面不能用np的式子，必须要是'x** 3'的形式"
   ]
  },
  {
   "cell_type": "code",
   "execution_count": 128,
   "metadata": {},
   "outputs": [
    {
     "data": {
      "text/plain": [
       "array([-2.47251539, -0.55353974,  2.5413769 ])"
      ]
     },
     "execution_count": 128,
     "metadata": {},
     "output_type": "execute_result"
    }
   ],
   "source": [
    "res[:3]"
   ]
  },
  {
   "cell_type": "code",
   "execution_count": 129,
   "metadata": {},
   "outputs": [
    {
     "name": "stdout",
     "output_type": "stream",
     "text": [
      "Wall time: 8.45 s\n"
     ]
    }
   ],
   "source": [
    "%time res = df.apply(lambda row: row['x'] + row['y'], axis=1)  "
   ]
  },
  {
   "cell_type": "code",
   "execution_count": 139,
   "metadata": {},
   "outputs": [
    {
     "data": {
      "text/plain": [
       "0    0.387242\n",
       "1   -0.969343\n",
       "2   -0.863159\n",
       "dtype: float64"
      ]
     },
     "execution_count": 139,
     "metadata": {},
     "output_type": "execute_result"
    }
   ],
   "source": [
    "res[:3]"
   ]
  },
  {
   "cell_type": "markdown",
   "metadata": {},
   "source": [
    "### 总结：因为pandas是基于numpy开发的更加复杂的程序，所以所有在dataframe数据结构下的运算要慢于numpy的情况下，3种方式花费时间长短：直接df.sum(axis=1)>np.sum(df, axis=1)用numpy的工具但是不用它的数据结构> np.sum(df.values, axis=1)  用numpy的数据结构。\n",
    "### 最快df['x'] + df['y']，因为pandas继承了numpy的向量式运算，所直接向量加总是最快的，最慢的是df.apply，因为row['x'] + row['y']是非向量化计算，是一列一列的抓取出来，再计算。"
   ]
  },
  {
   "cell_type": "markdown",
   "metadata": {},
   "source": [
    "<img src=\"http://hilpisch.com/tpq_logo.png\" alt=\"The Python Quants\" width=\"35%\" align=\"right\" border=\"0\"><br>\n",
    "\n",
    "<a href=\"http://tpq.io\" target=\"_blank\">http://tpq.io</a> | <a href=\"http://twitter.com/dyjh\" target=\"_blank\">@dyjh</a> | <a href=\"mailto:training@tpq.io\">training@tpq.io</a>"
   ]
  }
 ],
 "metadata": {
  "anaconda-cloud": {},
  "kernelspec": {
   "display_name": "Python 3",
   "language": "python",
   "name": "python3"
  },
  "language_info": {
   "codemirror_mode": {
    "name": "ipython",
    "version": 3
   },
   "file_extension": ".py",
   "mimetype": "text/x-python",
   "name": "python",
   "nbconvert_exporter": "python",
   "pygments_lexer": "ipython3",
   "version": "3.7.2"
  }
 },
 "nbformat": 4,
 "nbformat_minor": 4
}
