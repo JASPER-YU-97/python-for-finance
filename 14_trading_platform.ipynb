{
 "cells": [
  {
   "cell_type": "markdown",
   "metadata": {
    "toc": true
   },
   "source": [
    "<h1>Table of Contents<span class=\"tocSkip\"></span></h1>\n",
    "<div class=\"toc\"><ul class=\"toc-item\"><li><span><a href=\"#Python-for-Finance-(2nd-ed.)\" data-toc-modified-id=\"Python-for-Finance-(2nd-ed.)-1\">Python for Finance (2nd ed.)</a></span></li><li><span><a href=\"#Trading-Platform\" data-toc-modified-id=\"Trading-Platform-2\">Trading Platform</a></span><ul class=\"toc-item\"><li><span><a href=\"#Risk-Disclaimer\" data-toc-modified-id=\"Risk-Disclaimer-2.1\">Risk Disclaimer</a></span></li><li><span><a href=\"#Author-Disclaimer\" data-toc-modified-id=\"Author-Disclaimer-2.2\">Author Disclaimer</a></span></li><li><span><a href=\"#Retrieving-Tick-Data\" data-toc-modified-id=\"Retrieving-Tick-Data-2.3\">Retrieving Tick Data</a></span></li><li><span><a href=\"#Retrieving-Candles-Data\" data-toc-modified-id=\"Retrieving-Candles-Data-2.4\">Retrieving Candles Data</a></span></li><li><span><a href=\"#Connecting-to-the-API\" data-toc-modified-id=\"Connecting-to-the-API-2.5\">Connecting to the API</a></span></li><li><span><a href=\"#Retrieving-Historical-Data\" data-toc-modified-id=\"Retrieving-Historical-Data-2.6\">Retrieving Historical Data</a></span></li><li><span><a href=\"#Streaming-Data\" data-toc-modified-id=\"Streaming-Data-2.7\">Streaming Data</a></span></li><li><span><a href=\"#Placing-Orders\" data-toc-modified-id=\"Placing-Orders-2.8\">Placing Orders</a></span></li><li><span><a href=\"#Account-Information\" data-toc-modified-id=\"Account-Information-2.9\">Account Information</a></span></li></ul></li></ul></div>"
   ]
  },
  {
   "cell_type": "markdown",
   "metadata": {},
   "source": [
    "# Python for Finance (2nd ed.)\n",
    "\n",
    "**Mastering Data-Driven Finance**\n",
    "\n",
    "&copy; Dr. Yves J. Hilpisch | The Python Quants GmbH\n",
    "\n",
    "<img src=\"http://hilpisch.com/images/py4fi_2nd_shadow.png\" width=\"300px\" align=\"left\">"
   ]
  },
  {
   "cell_type": "markdown",
   "metadata": {},
   "source": [
    "# Trading Platform"
   ]
  },
  {
   "cell_type": "markdown",
   "metadata": {},
   "source": [
    "## Risk Disclaimer"
   ]
  },
  {
   "cell_type": "markdown",
   "metadata": {},
   "source": [
    "<font size=\"-1\">\n",
    "Trading forex/CFDs on margin carries a high level of risk and may not be suitable for all investors as you could sustain losses in excess of deposits. Leverage can work against you. Due to the certain restrictions imposed by the local law and regulation, German resident retail client(s) could sustain a total loss of deposited funds but are not subject to subsequent payment obligations beyond the deposited funds. Be aware and fully understand all risks associated with the market and trading. Prior to trading any products, carefully consider your financial situation and experience level. Any opinions, news, research, analyses, prices, or other information is provided as general market commentary, and does not constitute investment advice. FXCM & TPQ will not accept liability for any loss or damage, including without limitation to, any loss of profit, which may arise directly or indirectly from use of or reliance on such information.\n",
    "</font>"
   ]
  },
  {
   "cell_type": "markdown",
   "metadata": {},
   "source": [
    "## Author Disclaimer"
   ]
  },
  {
   "cell_type": "markdown",
   "metadata": {},
   "source": [
    "The author is neither an employee, agent nor representative of FXCM and is therefore acting independently. The opinions given are their own, constitute general market commentary, and do not constitute the opinion or advice of FXCM or any form of personal or investment advice. FXCM assumes no responsibility for any loss or damage, including but not limited to, any loss or gain arising out of the direct or indirect use of this or any other content. Trading forex/CFDs on margin carries a high level of risk and may not be suitable for all investors as you could sustain losses in excess of deposits."
   ]
  },
  {
   "cell_type": "markdown",
   "metadata": {},
   "source": [
    "## Retrieving Tick Data"
   ]
  },
  {
   "cell_type": "code",
   "execution_count": 2,
   "metadata": {},
   "outputs": [],
   "source": [
    "import time\n",
    "import numpy as np\n",
    "import pandas as pd\n",
    "import datetime as dt\n",
    "from pylab import mpl, plt"
   ]
  },
  {
   "cell_type": "markdown",
   "metadata": {},
   "source": [
    "## 这节课需要使用FXCM的API，API（ Application Programming Interface）能够帮你实现轻松的和其他软件组件（如服务器，操作系统等）的交互。只要他们遵循了同一个协议，组件可以交换或者是改变。银行不需要知道时哪一个顾客或者说顾客是怎么进来的，顾客也不需要知道银行拿自己的钱去做什么了。只要负责的柜员在这里并做好工作，整个流程将会继续工作。API 应用范围很广：从操作系统中简单的 fork() 到我们接触的百度地图API，和风天气API，又或者是邢远分享的段子，这些 API 都大大简化了程序员的工作。\n",
    "## 协议是规定了各部分之间如何进行交流的一系列规则的集合。各部分之间想要完成交互必须理解并且遵守同一个协议。同时交互的双方使用同一的格式(Format)。\n",
    "## API 端点 通常是指在同一个接口中提供特定功能子集的服务提供者。小冰和小娜两个柜员A和B负责不同的业务，A和B就是是同一个柜台不同功能的提供者，A和B都是端点。不同的端点可以有不同的协议和不同的格式。\n",
    "## 就像取钱，取出之前会核对是否有足够的余额，API 能确认所有的操作都是合法的。不行会通知余额不足，在发生错误的时候 API 会根据错误报告机制发出指示，减轻开发人员的负担。\n",
    "## 打单子对余额的时候往往会出现一张单子报不完，每次查看十个账户，看完了之后再来十个。这叫做分页（pagination），可以节省带宽和服务器资源，因为你不需要一次获取数据集中的所有内容。\n",
    "## 只想要知道他某一个账户中的余额的话，API端口可以过滤（filtering），它还有助于节省带宽和资源，并且更易于导航。\n",
    "## 想从A端口取出超额的钱，所以通过身份伪装成B，来给A传递假消息，但是会被A识破。因为API中内置授权和访问控制，以确保只有授权人员才能访问特定数据。\n",
    "## 用户报复性使用，类似于在柜台取0.01元来影响银行的运转。可以实施速率限制来控制服务器资源的使用，以确保用户不会滥用服务。\n",
    "## API 通常都会被设计具有这些功能，它可以充当防火墙，在保护资源免受滥用的同时允许合法请求通过。\n",
    "## 综上API就是服务型的通讯方法，用户通过API(可以是packages)来高效获取信息，同时API也保障被访问信息源的稳定运行(银行)。"
   ]
  },
  {
   "cell_type": "code",
   "execution_count": 3,
   "metadata": {},
   "outputs": [],
   "source": [
    "plt.style.use('seaborn')\n",
    "mpl.rcParams['font.family'] = 'serif'\n",
    "%matplotlib inline"
   ]
  },
  {
   "cell_type": "code",
   "execution_count": 4,
   "metadata": {},
   "outputs": [],
   "source": [
    "from fxcmpy import fxcmpy_tick_data_reader as tdr"
   ]
  },
  {
   "cell_type": "code",
   "execution_count": 5,
   "metadata": {},
   "outputs": [],
   "source": [
    "import fxcmpy"
   ]
  },
  {
   "cell_type": "markdown",
   "metadata": {},
   "source": [
    "## [访问API：fxcmpy](https://www.fxcm.com/fxcmpy/)"
   ]
  },
  {
   "cell_type": "markdown",
   "metadata": {},
   "source": [
    "## [获得API码](https://tradingstation.fxcm.com/)"
   ]
  },
  {
   "cell_type": "markdown",
   "metadata": {},
   "source": [
    "## 想要获得授权，有两种方式，一种是每次，都写一下API_TOKEN的函数语句；一种是做一个.cfg的文件在ipynb同一个文件夹下面。"
   ]
  },
  {
   "cell_type": "markdown",
   "metadata": {},
   "source": [
    "## fxcmpy在国内用不了。"
   ]
  },
  {
   "cell_type": "code",
   "execution_count": 6,
   "metadata": {
    "scrolled": true
   },
   "outputs": [],
   "source": [
    "cc = '30a50259b222786337b7159ceb93e6a9c3a40f83'\n",
    "con = fxcmpy.fxcmpy(access_token=cc, log_level='error', server='demo', log_file='log.txt')"
   ]
  },
  {
   "cell_type": "code",
   "execution_count": 7,
   "metadata": {
    "scrolled": true
   },
   "outputs": [
    {
     "ename": "ServerError",
     "evalue": "Can not connect to FXCM Server.",
     "output_type": "error",
     "traceback": [
      "\u001b[1;31m---------------------------------------------------------------------------\u001b[0m",
      "\u001b[1;31mServerError\u001b[0m                               Traceback (most recent call last)",
      "\u001b[1;32m<ipython-input-7-86c2c35e1ab5>\u001b[0m in \u001b[0;36m<module>\u001b[1;34m\u001b[0m\n\u001b[1;32m----> 1\u001b[1;33m \u001b[0mcon\u001b[0m \u001b[1;33m=\u001b[0m \u001b[0mfxcmpy\u001b[0m\u001b[1;33m.\u001b[0m\u001b[0mfxcmpy\u001b[0m\u001b[1;33m(\u001b[0m\u001b[0mconfig_file\u001b[0m\u001b[1;33m=\u001b[0m \u001b[1;34m'fxcm.cfg'\u001b[0m\u001b[1;33m)\u001b[0m\u001b[1;33m\u001b[0m\u001b[1;33m\u001b[0m\u001b[0m\n\u001b[0m",
      "\u001b[1;32mD:\\ProgramData\\Anaconda3\\envs\\t2.3\\lib\\site-packages\\fxcmpy\\fxcmpy.py\u001b[0m in \u001b[0;36m__init__\u001b[1;34m(self, access_token, config_file, log_file, log_level, server, proxy_url, proxy_port, proxy_type)\u001b[0m\n\u001b[0;32m    216\u001b[0m             \u001b[1;32mraise\u001b[0m \u001b[0mServerError\u001b[0m\u001b[1;33m(\u001b[0m\u001b[1;34m'Can not find FXCM Server.'\u001b[0m\u001b[1;33m)\u001b[0m\u001b[1;33m\u001b[0m\u001b[1;33m\u001b[0m\u001b[0m\n\u001b[0;32m    217\u001b[0m         \u001b[1;32melif\u001b[0m \u001b[0mself\u001b[0m\u001b[1;33m.\u001b[0m\u001b[0mconnection_status\u001b[0m \u001b[1;33m==\u001b[0m \u001b[1;34m'aborted'\u001b[0m\u001b[1;33m:\u001b[0m\u001b[1;33m\u001b[0m\u001b[1;33m\u001b[0m\u001b[0m\n\u001b[1;32m--> 218\u001b[1;33m             \u001b[1;32mraise\u001b[0m \u001b[0mServerError\u001b[0m\u001b[1;33m(\u001b[0m\u001b[1;34m'Can not connect to FXCM Server.'\u001b[0m\u001b[1;33m)\u001b[0m\u001b[1;33m\u001b[0m\u001b[1;33m\u001b[0m\u001b[0m\n\u001b[0m\u001b[0;32m    219\u001b[0m \u001b[1;33m\u001b[0m\u001b[0m\n\u001b[0;32m    220\u001b[0m         \u001b[0mself\u001b[0m\u001b[1;33m.\u001b[0m\u001b[0m__collect_account_ids__\u001b[0m\u001b[1;33m(\u001b[0m\u001b[1;33m)\u001b[0m\u001b[1;33m\u001b[0m\u001b[1;33m\u001b[0m\u001b[0m\n",
      "\u001b[1;31mServerError\u001b[0m: Can not connect to FXCM Server."
     ]
    }
   ],
   "source": [
    "con = fxcmpy.fxcmpy(config_file= 'fxcm.cfg')"
   ]
  },
  {
   "cell_type": "code",
   "execution_count": 8,
   "metadata": {
    "scrolled": true
   },
   "outputs": [
    {
     "name": "stdout",
     "output_type": "stream",
     "text": [
      "('AUDCAD', 'AUDCHF', 'AUDJPY', 'AUDNZD', 'CADCHF', 'EURAUD', 'EURCHF', 'EURGBP', 'EURJPY', 'EURUSD', 'GBPCHF', 'GBPJPY', 'GBPNZD', 'GBPUSD', 'GBPCHF', 'GBPJPY', 'GBPNZD', 'NZDCAD', 'NZDCHF', 'NZDJPY', 'NZDUSD', 'USDCAD', 'USDCHF', 'USDJPY')\n"
     ]
    }
   ],
   "source": [
    "print(tdr.get_available_symbols())"
   ]
  },
  {
   "cell_type": "code",
   "execution_count": null,
   "metadata": {},
   "outputs": [],
   "source": []
  },
  {
   "cell_type": "code",
   "execution_count": 9,
   "metadata": {},
   "outputs": [],
   "source": [
    "start = dt.datetime(2018, 6, 25)  \n",
    "stop = dt.datetime(2018, 6, 30)  "
   ]
  },
  {
   "cell_type": "code",
   "execution_count": 10,
   "metadata": {},
   "outputs": [],
   "source": [
    "td = tdr('EURUSD', start, stop)  "
   ]
  },
  {
   "cell_type": "code",
   "execution_count": 11,
   "metadata": {},
   "outputs": [
    {
     "name": "stdout",
     "output_type": "stream",
     "text": [
      "<class 'pandas.core.frame.DataFrame'>\n",
      "Index: 1963779 entries, 06/24/2018 21:00:12.290 to 06/29/2018 20:59:00.607\n",
      "Data columns (total 2 columns):\n",
      " #   Column  Dtype  \n",
      "---  ------  -----  \n",
      " 0   Bid     float64\n",
      " 1   Ask     float64\n",
      "dtypes: float64(2)\n",
      "memory usage: 44.9+ MB\n"
     ]
    }
   ],
   "source": [
    "td.get_raw_data().info()  "
   ]
  },
  {
   "cell_type": "code",
   "execution_count": 12,
   "metadata": {},
   "outputs": [
    {
     "name": "stdout",
     "output_type": "stream",
     "text": [
      "<class 'pandas.core.frame.DataFrame'>\n",
      "DatetimeIndex: 1963779 entries, 2018-06-24 21:00:12.290000 to 2018-06-29 20:59:00.607000\n",
      "Data columns (total 2 columns):\n",
      " #   Column  Dtype  \n",
      "---  ------  -----  \n",
      " 0   Bid     float64\n",
      " 1   Ask     float64\n",
      "dtypes: float64(2)\n",
      "memory usage: 44.9 MB\n"
     ]
    }
   ],
   "source": [
    "td.get_data().info()  "
   ]
  },
  {
   "cell_type": "code",
   "execution_count": 13,
   "metadata": {},
   "outputs": [
    {
     "data": {
      "text/html": [
       "<div>\n",
       "<style scoped>\n",
       "    .dataframe tbody tr th:only-of-type {\n",
       "        vertical-align: middle;\n",
       "    }\n",
       "\n",
       "    .dataframe tbody tr th {\n",
       "        vertical-align: top;\n",
       "    }\n",
       "\n",
       "    .dataframe thead th {\n",
       "        text-align: right;\n",
       "    }\n",
       "</style>\n",
       "<table border=\"1\" class=\"dataframe\">\n",
       "  <thead>\n",
       "    <tr style=\"text-align: right;\">\n",
       "      <th></th>\n",
       "      <th>Bid</th>\n",
       "      <th>Ask</th>\n",
       "    </tr>\n",
       "  </thead>\n",
       "  <tbody>\n",
       "    <tr>\n",
       "      <th>2018-06-24 21:00:12.290</th>\n",
       "      <td>1.1662</td>\n",
       "      <td>1.16660</td>\n",
       "    </tr>\n",
       "    <tr>\n",
       "      <th>2018-06-24 21:00:16.046</th>\n",
       "      <td>1.1662</td>\n",
       "      <td>1.16650</td>\n",
       "    </tr>\n",
       "    <tr>\n",
       "      <th>2018-06-24 21:00:22.846</th>\n",
       "      <td>1.1662</td>\n",
       "      <td>1.16658</td>\n",
       "    </tr>\n",
       "    <tr>\n",
       "      <th>2018-06-24 21:00:22.907</th>\n",
       "      <td>1.1662</td>\n",
       "      <td>1.16660</td>\n",
       "    </tr>\n",
       "    <tr>\n",
       "      <th>2018-06-24 21:00:23.441</th>\n",
       "      <td>1.1662</td>\n",
       "      <td>1.16663</td>\n",
       "    </tr>\n",
       "  </tbody>\n",
       "</table>\n",
       "</div>"
      ],
      "text/plain": [
       "                            Bid      Ask\n",
       "2018-06-24 21:00:12.290  1.1662  1.16660\n",
       "2018-06-24 21:00:16.046  1.1662  1.16650\n",
       "2018-06-24 21:00:22.846  1.1662  1.16658\n",
       "2018-06-24 21:00:22.907  1.1662  1.16660\n",
       "2018-06-24 21:00:23.441  1.1662  1.16663"
      ]
     },
     "execution_count": 13,
     "metadata": {},
     "output_type": "execute_result"
    }
   ],
   "source": [
    "td.get_data().head()"
   ]
  },
  {
   "cell_type": "code",
   "execution_count": 14,
   "metadata": {},
   "outputs": [],
   "source": [
    "sub = td.get_data(start='2018-06-29 12:00:00',\n",
    "                  end='2018-06-29 12:15:00')  "
   ]
  },
  {
   "cell_type": "code",
   "execution_count": 15,
   "metadata": {},
   "outputs": [
    {
     "data": {
      "text/html": [
       "<div>\n",
       "<style scoped>\n",
       "    .dataframe tbody tr th:only-of-type {\n",
       "        vertical-align: middle;\n",
       "    }\n",
       "\n",
       "    .dataframe tbody tr th {\n",
       "        vertical-align: top;\n",
       "    }\n",
       "\n",
       "    .dataframe thead th {\n",
       "        text-align: right;\n",
       "    }\n",
       "</style>\n",
       "<table border=\"1\" class=\"dataframe\">\n",
       "  <thead>\n",
       "    <tr style=\"text-align: right;\">\n",
       "      <th></th>\n",
       "      <th>Bid</th>\n",
       "      <th>Ask</th>\n",
       "    </tr>\n",
       "  </thead>\n",
       "  <tbody>\n",
       "    <tr>\n",
       "      <th>2018-06-29 12:00:00.011</th>\n",
       "      <td>1.16497</td>\n",
       "      <td>1.16498</td>\n",
       "    </tr>\n",
       "    <tr>\n",
       "      <th>2018-06-29 12:00:00.071</th>\n",
       "      <td>1.16497</td>\n",
       "      <td>1.16497</td>\n",
       "    </tr>\n",
       "    <tr>\n",
       "      <th>2018-06-29 12:00:00.079</th>\n",
       "      <td>1.16497</td>\n",
       "      <td>1.16498</td>\n",
       "    </tr>\n",
       "    <tr>\n",
       "      <th>2018-06-29 12:00:00.091</th>\n",
       "      <td>1.16495</td>\n",
       "      <td>1.16498</td>\n",
       "    </tr>\n",
       "    <tr>\n",
       "      <th>2018-06-29 12:00:00.205</th>\n",
       "      <td>1.16496</td>\n",
       "      <td>1.16498</td>\n",
       "    </tr>\n",
       "  </tbody>\n",
       "</table>\n",
       "</div>"
      ],
      "text/plain": [
       "                             Bid      Ask\n",
       "2018-06-29 12:00:00.011  1.16497  1.16498\n",
       "2018-06-29 12:00:00.071  1.16497  1.16497\n",
       "2018-06-29 12:00:00.079  1.16497  1.16498\n",
       "2018-06-29 12:00:00.091  1.16495  1.16498\n",
       "2018-06-29 12:00:00.205  1.16496  1.16498"
      ]
     },
     "execution_count": 15,
     "metadata": {},
     "output_type": "execute_result"
    }
   ],
   "source": [
    "sub.head()"
   ]
  },
  {
   "cell_type": "code",
   "execution_count": 16,
   "metadata": {},
   "outputs": [],
   "source": [
    "sub['Mid'] = sub.mean(axis=1)  "
   ]
  },
  {
   "cell_type": "code",
   "execution_count": 17,
   "metadata": {},
   "outputs": [],
   "source": [
    "sub['SMA'] = sub['Mid'].rolling(1000).mean()  "
   ]
  },
  {
   "cell_type": "code",
   "execution_count": 18,
   "metadata": {},
   "outputs": [
    {
     "data": {
      "image/png": "[encoded data removed]",
      "text/plain": [
       "<Figure size 720x432 with 1 Axes>"
      ]
     },
     "metadata": {
      "needs_background": "light"
     },
     "output_type": "display_data"
    }
   ],
   "source": [
    "sub[['Mid', 'SMA']].plot(figsize=(10, 6), lw=0.75);\n",
    "# plt.savefig('../../images/ch14/fxcm_plot_01.png')"
   ]
  },
  {
   "cell_type": "markdown",
   "metadata": {},
   "source": [
    "## Retrieving Candles Data"
   ]
  },
  {
   "cell_type": "code",
   "execution_count": 19,
   "metadata": {},
   "outputs": [],
   "source": [
    "from fxcmpy import fxcmpy_candles_data_reader as cdr"
   ]
  },
  {
   "cell_type": "code",
   "execution_count": 20,
   "metadata": {},
   "outputs": [
    {
     "name": "stdout",
     "output_type": "stream",
     "text": [
      "('AUDCAD', 'AUDCHF', 'AUDJPY', 'AUDNZD', 'CADCHF', 'EURAUD', 'EURCHF', 'EURGBP', 'EURJPY', 'EURUSD', 'GBPCHF', 'GBPJPY', 'GBPNZD', 'GBPUSD', 'GBPCHF', 'GBPJPY', 'GBPNZD', 'NZDCAD', 'NZDCHF', 'NZDJPY', 'NZDUSD', 'USDCAD', 'USDCHF', 'USDJPY')\n"
     ]
    }
   ],
   "source": [
    "print(cdr.get_available_symbols())"
   ]
  },
  {
   "cell_type": "code",
   "execution_count": 21,
   "metadata": {},
   "outputs": [],
   "source": [
    "start = dt.datetime(2018, 5, 1)\n",
    "stop = dt.datetime(2018, 6, 30)"
   ]
  },
  {
   "cell_type": "markdown",
   "metadata": {},
   "source": [
    "`period` must be one of `m1`, `H1` or `D1`"
   ]
  },
  {
   "cell_type": "code",
   "execution_count": 22,
   "metadata": {},
   "outputs": [],
   "source": [
    "period = 'H1'  "
   ]
  },
  {
   "cell_type": "code",
   "execution_count": 23,
   "metadata": {},
   "outputs": [],
   "source": [
    "candles = cdr('EURUSD', start, stop, period)"
   ]
  },
  {
   "cell_type": "code",
   "execution_count": 24,
   "metadata": {},
   "outputs": [],
   "source": [
    "data = candles.get_data()"
   ]
  },
  {
   "cell_type": "code",
   "execution_count": 25,
   "metadata": {},
   "outputs": [
    {
     "name": "stdout",
     "output_type": "stream",
     "text": [
      "<class 'pandas.core.frame.DataFrame'>\n",
      "DatetimeIndex: 1080 entries, 2018-04-29 21:00:00 to 2018-06-29 20:00:00\n",
      "Data columns (total 8 columns):\n",
      " #   Column    Non-Null Count  Dtype  \n",
      "---  ------    --------------  -----  \n",
      " 0   BidOpen   1080 non-null   float64\n",
      " 1   BidHigh   1080 non-null   float64\n",
      " 2   BidLow    1080 non-null   float64\n",
      " 3   BidClose  1080 non-null   float64\n",
      " 4   AskOpen   1080 non-null   float64\n",
      " 5   AskHigh   1080 non-null   float64\n",
      " 6   AskLow    1080 non-null   float64\n",
      " 7   AskClose  1080 non-null   float64\n",
      "dtypes: float64(8)\n",
      "memory usage: 75.9 KB\n"
     ]
    }
   ],
   "source": [
    "data.info()"
   ]
  },
  {
   "cell_type": "code",
   "execution_count": 26,
   "metadata": {},
   "outputs": [
    {
     "data": {
      "text/html": [
       "<div>\n",
       "<style scoped>\n",
       "    .dataframe tbody tr th:only-of-type {\n",
       "        vertical-align: middle;\n",
       "    }\n",
       "\n",
       "    .dataframe tbody tr th {\n",
       "        vertical-align: top;\n",
       "    }\n",
       "\n",
       "    .dataframe thead th {\n",
       "        text-align: right;\n",
       "    }\n",
       "</style>\n",
       "<table border=\"1\" class=\"dataframe\">\n",
       "  <thead>\n",
       "    <tr style=\"text-align: right;\">\n",
       "      <th></th>\n",
       "      <th>BidOpen</th>\n",
       "      <th>BidHigh</th>\n",
       "      <th>BidLow</th>\n",
       "      <th>BidClose</th>\n",
       "    </tr>\n",
       "  </thead>\n",
       "  <tbody>\n",
       "    <tr>\n",
       "      <th>2018-06-29 16:00:00</th>\n",
       "      <td>1.16768</td>\n",
       "      <td>1.16820</td>\n",
       "      <td>1.16731</td>\n",
       "      <td>1.16769</td>\n",
       "    </tr>\n",
       "    <tr>\n",
       "      <th>2018-06-29 17:00:00</th>\n",
       "      <td>1.16769</td>\n",
       "      <td>1.16826</td>\n",
       "      <td>1.16709</td>\n",
       "      <td>1.16781</td>\n",
       "    </tr>\n",
       "    <tr>\n",
       "      <th>2018-06-29 18:00:00</th>\n",
       "      <td>1.16781</td>\n",
       "      <td>1.16816</td>\n",
       "      <td>1.16668</td>\n",
       "      <td>1.16684</td>\n",
       "    </tr>\n",
       "    <tr>\n",
       "      <th>2018-06-29 19:00:00</th>\n",
       "      <td>1.16684</td>\n",
       "      <td>1.16792</td>\n",
       "      <td>1.16638</td>\n",
       "      <td>1.16774</td>\n",
       "    </tr>\n",
       "    <tr>\n",
       "      <th>2018-06-29 20:00:00</th>\n",
       "      <td>1.16774</td>\n",
       "      <td>1.16904</td>\n",
       "      <td>1.16758</td>\n",
       "      <td>1.16816</td>\n",
       "    </tr>\n",
       "  </tbody>\n",
       "</table>\n",
       "</div>"
      ],
      "text/plain": [
       "                     BidOpen  BidHigh   BidLow  BidClose\n",
       "2018-06-29 16:00:00  1.16768  1.16820  1.16731   1.16769\n",
       "2018-06-29 17:00:00  1.16769  1.16826  1.16709   1.16781\n",
       "2018-06-29 18:00:00  1.16781  1.16816  1.16668   1.16684\n",
       "2018-06-29 19:00:00  1.16684  1.16792  1.16638   1.16774\n",
       "2018-06-29 20:00:00  1.16774  1.16904  1.16758   1.16816"
      ]
     },
     "execution_count": 26,
     "metadata": {},
     "output_type": "execute_result"
    }
   ],
   "source": [
    "data[data.columns[:4]].tail()  "
   ]
  },
  {
   "cell_type": "code",
   "execution_count": 27,
   "metadata": {},
   "outputs": [
    {
     "data": {
      "text/html": [
       "<div>\n",
       "<style scoped>\n",
       "    .dataframe tbody tr th:only-of-type {\n",
       "        vertical-align: middle;\n",
       "    }\n",
       "\n",
       "    .dataframe tbody tr th {\n",
       "        vertical-align: top;\n",
       "    }\n",
       "\n",
       "    .dataframe thead th {\n",
       "        text-align: right;\n",
       "    }\n",
       "</style>\n",
       "<table border=\"1\" class=\"dataframe\">\n",
       "  <thead>\n",
       "    <tr style=\"text-align: right;\">\n",
       "      <th></th>\n",
       "      <th>AskOpen</th>\n",
       "      <th>AskHigh</th>\n",
       "      <th>AskLow</th>\n",
       "      <th>AskClose</th>\n",
       "    </tr>\n",
       "  </thead>\n",
       "  <tbody>\n",
       "    <tr>\n",
       "      <th>2018-06-29 16:00:00</th>\n",
       "      <td>1.16769</td>\n",
       "      <td>1.16820</td>\n",
       "      <td>1.16732</td>\n",
       "      <td>1.16771</td>\n",
       "    </tr>\n",
       "    <tr>\n",
       "      <th>2018-06-29 17:00:00</th>\n",
       "      <td>1.16771</td>\n",
       "      <td>1.16827</td>\n",
       "      <td>1.16711</td>\n",
       "      <td>1.16782</td>\n",
       "    </tr>\n",
       "    <tr>\n",
       "      <th>2018-06-29 18:00:00</th>\n",
       "      <td>1.16782</td>\n",
       "      <td>1.16817</td>\n",
       "      <td>1.16669</td>\n",
       "      <td>1.16686</td>\n",
       "    </tr>\n",
       "    <tr>\n",
       "      <th>2018-06-29 19:00:00</th>\n",
       "      <td>1.16686</td>\n",
       "      <td>1.16794</td>\n",
       "      <td>1.16640</td>\n",
       "      <td>1.16775</td>\n",
       "    </tr>\n",
       "    <tr>\n",
       "      <th>2018-06-29 20:00:00</th>\n",
       "      <td>1.16775</td>\n",
       "      <td>1.16907</td>\n",
       "      <td>1.16760</td>\n",
       "      <td>1.16861</td>\n",
       "    </tr>\n",
       "  </tbody>\n",
       "</table>\n",
       "</div>"
      ],
      "text/plain": [
       "                     AskOpen  AskHigh   AskLow  AskClose\n",
       "2018-06-29 16:00:00  1.16769  1.16820  1.16732   1.16771\n",
       "2018-06-29 17:00:00  1.16771  1.16827  1.16711   1.16782\n",
       "2018-06-29 18:00:00  1.16782  1.16817  1.16669   1.16686\n",
       "2018-06-29 19:00:00  1.16686  1.16794  1.16640   1.16775\n",
       "2018-06-29 20:00:00  1.16775  1.16907  1.16760   1.16861"
      ]
     },
     "execution_count": 27,
     "metadata": {},
     "output_type": "execute_result"
    }
   ],
   "source": [
    "data[data.columns[4:]].tail()  "
   ]
  },
  {
   "cell_type": "code",
   "execution_count": 28,
   "metadata": {},
   "outputs": [],
   "source": [
    "data['MidClose'] = data[['BidClose', 'AskClose']].mean(axis=1)  "
   ]
  },
  {
   "cell_type": "code",
   "execution_count": 29,
   "metadata": {},
   "outputs": [],
   "source": [
    "data['SMA1'] = data['MidClose'].rolling(30).mean()  \n",
    "data['SMA2'] = data['MidClose'].rolling(100).mean()  "
   ]
  },
  {
   "cell_type": "code",
   "execution_count": 30,
   "metadata": {},
   "outputs": [
    {
     "data": {
      "image/png": "[encoded data removed]",
      "text/plain": [
       "<Figure size 720x432 with 1 Axes>"
      ]
     },
     "metadata": {
      "needs_background": "light"
     },
     "output_type": "display_data"
    }
   ],
   "source": [
    "data[['MidClose', 'SMA1', 'SMA2']].plot(figsize=(10, 6));\n",
    "# plt.savefig('../../images/ch14/fxcm_plot_02.png')"
   ]
  },
  {
   "cell_type": "markdown",
   "metadata": {},
   "source": [
    "## Connecting to the API"
   ]
  },
  {
   "cell_type": "code",
   "execution_count": 31,
   "metadata": {},
   "outputs": [],
   "source": [
    "import fxcmpy"
   ]
  },
  {
   "cell_type": "code",
   "execution_count": 32,
   "metadata": {},
   "outputs": [
    {
     "data": {
      "text/plain": [
       "'1.2.9'"
      ]
     },
     "execution_count": 32,
     "metadata": {},
     "output_type": "execute_result"
    }
   ],
   "source": [
    "fxcmpy.__version__"
   ]
  },
  {
   "cell_type": "code",
   "execution_count": 33,
   "metadata": {},
   "outputs": [
    {
     "ename": "OSError",
     "evalue": "Can not open config file: ../../cfg/fxcm.cfg",
     "output_type": "error",
     "traceback": [
      "\u001b[1;31m---------------------------------------------------------------------------\u001b[0m",
      "\u001b[1;31mOSError\u001b[0m                                   Traceback (most recent call last)",
      "\u001b[1;32m<ipython-input-33-dccb811613e4>\u001b[0m in \u001b[0;36m<module>\u001b[1;34m\u001b[0m\n\u001b[1;32m----> 1\u001b[1;33m \u001b[0mapi\u001b[0m \u001b[1;33m=\u001b[0m \u001b[0mfxcmpy\u001b[0m\u001b[1;33m.\u001b[0m\u001b[0mfxcmpy\u001b[0m\u001b[1;33m(\u001b[0m\u001b[0mconfig_file\u001b[0m\u001b[1;33m=\u001b[0m\u001b[1;34m'../../cfg/fxcm.cfg'\u001b[0m\u001b[1;33m)\u001b[0m\u001b[1;33m\u001b[0m\u001b[1;33m\u001b[0m\u001b[0m\n\u001b[0m",
      "\u001b[1;32mD:\\ProgramData\\Anaconda3\\envs\\t2.3\\lib\\site-packages\\fxcmpy\\fxcmpy.py\u001b[0m in \u001b[0;36m__init__\u001b[1;34m(self, access_token, config_file, log_file, log_level, server, proxy_url, proxy_port, proxy_type)\u001b[0m\n\u001b[0;32m    106\u001b[0m             \u001b[1;32mif\u001b[0m \u001b[0mlen\u001b[0m\u001b[1;33m(\u001b[0m\u001b[0mfound_config_file\u001b[0m\u001b[1;33m)\u001b[0m \u001b[1;33m==\u001b[0m \u001b[1;36m0\u001b[0m\u001b[1;33m:\u001b[0m\u001b[1;33m\u001b[0m\u001b[1;33m\u001b[0m\u001b[0m\n\u001b[0;32m    107\u001b[0m                 raise IOError(\"Can not open config file: {0}\"\n\u001b[1;32m--> 108\u001b[1;33m                     .format(config_file))\n\u001b[0m\u001b[0;32m    109\u001b[0m             \u001b[1;32mif\u001b[0m \u001b[1;34m'FXCM'\u001b[0m \u001b[1;32mnot\u001b[0m \u001b[1;32min\u001b[0m \u001b[0mconfig\u001b[0m\u001b[1;33m.\u001b[0m\u001b[0msections\u001b[0m\u001b[1;33m(\u001b[0m\u001b[1;33m)\u001b[0m\u001b[1;33m:\u001b[0m\u001b[1;33m\u001b[0m\u001b[1;33m\u001b[0m\u001b[0m\n\u001b[0;32m    110\u001b[0m                 raise ValueError(\"Can not find section [FXCM] in {0}\"\n",
      "\u001b[1;31mOSError\u001b[0m: Can not open config file: ../../cfg/fxcm.cfg"
     ]
    }
   ],
   "source": [
    "api = fxcmpy.fxcmpy(config_file='../../cfg/fxcm.cfg')  "
   ]
  },
  {
   "cell_type": "code",
   "execution_count": 34,
   "metadata": {},
   "outputs": [
    {
     "ename": "NameError",
     "evalue": "name 'api' is not defined",
     "output_type": "error",
     "traceback": [
      "\u001b[1;31m---------------------------------------------------------------------------\u001b[0m",
      "\u001b[1;31mNameError\u001b[0m                                 Traceback (most recent call last)",
      "\u001b[1;32m<ipython-input-34-f8b387834c21>\u001b[0m in \u001b[0;36m<module>\u001b[1;34m\u001b[0m\n\u001b[1;32m----> 1\u001b[1;33m \u001b[0minstruments\u001b[0m \u001b[1;33m=\u001b[0m \u001b[0mapi\u001b[0m\u001b[1;33m.\u001b[0m\u001b[0mget_instruments\u001b[0m\u001b[1;33m(\u001b[0m\u001b[1;33m)\u001b[0m\u001b[1;33m\u001b[0m\u001b[1;33m\u001b[0m\u001b[0m\n\u001b[0m",
      "\u001b[1;31mNameError\u001b[0m: name 'api' is not defined"
     ]
    }
   ],
   "source": [
    "instruments = api.get_instruments()"
   ]
  },
  {
   "cell_type": "code",
   "execution_count": 35,
   "metadata": {},
   "outputs": [
    {
     "ename": "NameError",
     "evalue": "name 'instruments' is not defined",
     "output_type": "error",
     "traceback": [
      "\u001b[1;31m---------------------------------------------------------------------------\u001b[0m",
      "\u001b[1;31mNameError\u001b[0m                                 Traceback (most recent call last)",
      "\u001b[1;32m<ipython-input-35-7f0491503846>\u001b[0m in \u001b[0;36m<module>\u001b[1;34m\u001b[0m\n\u001b[1;32m----> 1\u001b[1;33m \u001b[0mprint\u001b[0m\u001b[1;33m(\u001b[0m\u001b[0minstruments\u001b[0m\u001b[1;33m)\u001b[0m\u001b[1;33m\u001b[0m\u001b[1;33m\u001b[0m\u001b[0m\n\u001b[0m",
      "\u001b[1;31mNameError\u001b[0m: name 'instruments' is not defined"
     ]
    }
   ],
   "source": [
    "print(instruments)"
   ]
  },
  {
   "cell_type": "markdown",
   "metadata": {},
   "source": [
    "## Retrieving Historical Data"
   ]
  },
  {
   "cell_type": "code",
   "execution_count": 45,
   "metadata": {},
   "outputs": [
    {
     "ename": "NameError",
     "evalue": "name 'api' is not defined",
     "output_type": "error",
     "traceback": [
      "\u001b[1;31m---------------------------------------------------------------------------\u001b[0m",
      "\u001b[1;31mNameError\u001b[0m                                 Traceback (most recent call last)",
      "\u001b[1;32m<ipython-input-45-b8dc9a1512e5>\u001b[0m in \u001b[0;36m<module>\u001b[1;34m\u001b[0m\n\u001b[1;32m----> 1\u001b[1;33m \u001b[0mcandles\u001b[0m \u001b[1;33m=\u001b[0m \u001b[0mapi\u001b[0m\u001b[1;33m.\u001b[0m\u001b[0mget_candles\u001b[0m\u001b[1;33m(\u001b[0m\u001b[1;34m'USD/JPY'\u001b[0m\u001b[1;33m,\u001b[0m \u001b[0mperiod\u001b[0m\u001b[1;33m=\u001b[0m\u001b[1;34m'D1'\u001b[0m\u001b[1;33m,\u001b[0m \u001b[0mnumber\u001b[0m\u001b[1;33m=\u001b[0m\u001b[1;36m10\u001b[0m\u001b[1;33m)\u001b[0m\u001b[1;33m\u001b[0m\u001b[1;33m\u001b[0m\u001b[0m\n\u001b[0m",
      "\u001b[1;31mNameError\u001b[0m: name 'api' is not defined"
     ]
    }
   ],
   "source": [
    "candles = api.get_candles('USD/JPY', period='D1', number=10)  "
   ]
  },
  {
   "cell_type": "code",
   "execution_count": 37,
   "metadata": {},
   "outputs": [
    {
     "ename": "AttributeError",
     "evalue": "'fxcmpy_candles_data_reader' object has no attribute 'columns'",
     "output_type": "error",
     "traceback": [
      "\u001b[1;31m---------------------------------------------------------------------------\u001b[0m",
      "\u001b[1;31mAttributeError\u001b[0m                            Traceback (most recent call last)",
      "\u001b[1;32m<ipython-input-37-7734bd668a31>\u001b[0m in \u001b[0;36m<module>\u001b[1;34m\u001b[0m\n\u001b[1;32m----> 1\u001b[1;33m \u001b[0mcandles\u001b[0m\u001b[1;33m[\u001b[0m\u001b[0mcandles\u001b[0m\u001b[1;33m.\u001b[0m\u001b[0mcolumns\u001b[0m\u001b[1;33m[\u001b[0m\u001b[1;33m:\u001b[0m\u001b[1;36m4\u001b[0m\u001b[1;33m]\u001b[0m\u001b[1;33m]\u001b[0m\u001b[1;33m\u001b[0m\u001b[1;33m\u001b[0m\u001b[0m\n\u001b[0m",
      "\u001b[1;31mAttributeError\u001b[0m: 'fxcmpy_candles_data_reader' object has no attribute 'columns'"
     ]
    }
   ],
   "source": [
    "candles[candles.columns[:4]]  "
   ]
  },
  {
   "cell_type": "code",
   "execution_count": 38,
   "metadata": {},
   "outputs": [
    {
     "ename": "AttributeError",
     "evalue": "'fxcmpy_candles_data_reader' object has no attribute 'columns'",
     "output_type": "error",
     "traceback": [
      "\u001b[1;31m---------------------------------------------------------------------------\u001b[0m",
      "\u001b[1;31mAttributeError\u001b[0m                            Traceback (most recent call last)",
      "\u001b[1;32m<ipython-input-38-ce708058ff69>\u001b[0m in \u001b[0;36m<module>\u001b[1;34m\u001b[0m\n\u001b[1;32m----> 1\u001b[1;33m \u001b[0mcandles\u001b[0m\u001b[1;33m[\u001b[0m\u001b[0mcandles\u001b[0m\u001b[1;33m.\u001b[0m\u001b[0mcolumns\u001b[0m\u001b[1;33m[\u001b[0m\u001b[1;36m4\u001b[0m\u001b[1;33m:\u001b[0m\u001b[1;33m]\u001b[0m\u001b[1;33m]\u001b[0m\u001b[1;33m\u001b[0m\u001b[1;33m\u001b[0m\u001b[0m\n\u001b[0m",
      "\u001b[1;31mAttributeError\u001b[0m: 'fxcmpy_candles_data_reader' object has no attribute 'columns'"
     ]
    }
   ],
   "source": [
    "candles[candles.columns[4:]]  "
   ]
  },
  {
   "cell_type": "code",
   "execution_count": 39,
   "metadata": {},
   "outputs": [],
   "source": [
    "start = dt.datetime(2017, 1, 1)  \n",
    "end = dt.datetime(2018, 1, 1)  "
   ]
  },
  {
   "cell_type": "code",
   "execution_count": 40,
   "metadata": {},
   "outputs": [
    {
     "ename": "NameError",
     "evalue": "name 'api' is not defined",
     "output_type": "error",
     "traceback": [
      "\u001b[1;31m---------------------------------------------------------------------------\u001b[0m",
      "\u001b[1;31mNameError\u001b[0m                                 Traceback (most recent call last)",
      "\u001b[1;32m<ipython-input-40-38851c4b4c83>\u001b[0m in \u001b[0;36m<module>\u001b[1;34m\u001b[0m\n\u001b[1;32m----> 1\u001b[1;33m candles = api.get_candles('EUR/GBP', period='D1',\n\u001b[0m\u001b[0;32m      2\u001b[0m                           start=start, stop=end)  \n",
      "\u001b[1;31mNameError\u001b[0m: name 'api' is not defined"
     ]
    }
   ],
   "source": [
    "candles = api.get_candles('EUR/GBP', period='D1',\n",
    "                          start=start, stop=end)  "
   ]
  },
  {
   "cell_type": "code",
   "execution_count": 37,
   "metadata": {},
   "outputs": [
    {
     "name": "stdout",
     "output_type": "stream",
     "text": [
      "<class 'pandas.core.frame.DataFrame'>\n",
      "DatetimeIndex: 309 entries, 2017-01-03 22:00:00 to 2018-01-01 22:00:00\n",
      "Data columns (total 9 columns):\n",
      " #   Column    Non-Null Count  Dtype  \n",
      "---  ------    --------------  -----  \n",
      " 0   bidopen   309 non-null    float64\n",
      " 1   bidclose  309 non-null    float64\n",
      " 2   bidhigh   309 non-null    float64\n",
      " 3   bidlow    309 non-null    float64\n",
      " 4   askopen   309 non-null    float64\n",
      " 5   askclose  309 non-null    float64\n",
      " 6   askhigh   309 non-null    float64\n",
      " 7   asklow    309 non-null    float64\n",
      " 8   tickqty   309 non-null    int64  \n",
      "dtypes: float64(8), int64(1)\n",
      "memory usage: 24.1 KB\n"
     ]
    }
   ],
   "source": [
    "candles.info()  "
   ]
  },
  {
   "cell_type": "markdown",
   "metadata": {},
   "source": [
    "The parameter `period` must be one of `m1, m5, m15, m30, H1, H2, H3, H4, H6, H8, D1, W1` or `M1`."
   ]
  },
  {
   "cell_type": "code",
   "execution_count": 38,
   "metadata": {},
   "outputs": [],
   "source": [
    "candles = api.get_candles('EUR/USD', period='m1', number=250)  "
   ]
  },
  {
   "cell_type": "code",
   "execution_count": 39,
   "metadata": {},
   "outputs": [
    {
     "data": {
      "text/plain": [
       "<matplotlib.axes._subplots.AxesSubplot at 0x7f8529b3ef50>"
      ]
     },
     "execution_count": 39,
     "metadata": {},
     "output_type": "execute_result"
    },
    {
     "data": {
      "image/png": "[encoded data removed]",
      "text/plain": [
       "<Figure size 720x432 with 1 Axes>"
      ]
     },
     "metadata": {
      "needs_background": "light"
     },
     "output_type": "display_data"
    }
   ],
   "source": [
    "candles['askclose'].plot(figsize=(10, 6))\n",
    "# plt.savefig('../../images/ch14/fxcm_plot_03.png');"
   ]
  },
  {
   "cell_type": "markdown",
   "metadata": {},
   "source": [
    "## Streaming Data"
   ]
  },
  {
   "cell_type": "code",
   "execution_count": 41,
   "metadata": {},
   "outputs": [],
   "source": [
    "def output(data, dataframe):\n",
    "    print('%3d | %s | %s | %6.5f, %6.5f' \n",
    "          % (len(dataframe), data['Symbol'],\n",
    "             pd.to_datetime(int(data['Updated']), unit='ms'), \n",
    "             data['Rates'][0], data['Rates'][1]))  "
   ]
  },
  {
   "cell_type": "code",
   "execution_count": 42,
   "metadata": {},
   "outputs": [
    {
     "ename": "NameError",
     "evalue": "name 'api' is not defined",
     "output_type": "error",
     "traceback": [
      "\u001b[1;31m---------------------------------------------------------------------------\u001b[0m",
      "\u001b[1;31mNameError\u001b[0m                                 Traceback (most recent call last)",
      "\u001b[1;32m<ipython-input-42-410696ebbc8f>\u001b[0m in \u001b[0;36m<module>\u001b[1;34m\u001b[0m\n\u001b[1;32m----> 1\u001b[1;33m \u001b[0mapi\u001b[0m\u001b[1;33m.\u001b[0m\u001b[0msubscribe_market_data\u001b[0m\u001b[1;33m(\u001b[0m\u001b[1;34m'EUR/USD'\u001b[0m\u001b[1;33m,\u001b[0m \u001b[1;33m(\u001b[0m\u001b[0moutput\u001b[0m\u001b[1;33m,\u001b[0m\u001b[1;33m)\u001b[0m\u001b[1;33m)\u001b[0m\u001b[1;33m\u001b[0m\u001b[1;33m\u001b[0m\u001b[0m\n\u001b[0m",
      "\u001b[1;31mNameError\u001b[0m: name 'api' is not defined"
     ]
    }
   ],
   "source": [
    "api.subscribe_market_data('EUR/USD', (output,))  "
   ]
  },
  {
   "cell_type": "code",
   "execution_count": 43,
   "metadata": {},
   "outputs": [
    {
     "ename": "NameError",
     "evalue": "name 'api' is not defined",
     "output_type": "error",
     "traceback": [
      "\u001b[1;31m---------------------------------------------------------------------------\u001b[0m",
      "\u001b[1;31mNameError\u001b[0m                                 Traceback (most recent call last)",
      "\u001b[1;32m<ipython-input-43-1344b7e64379>\u001b[0m in \u001b[0;36m<module>\u001b[1;34m\u001b[0m\n\u001b[1;32m----> 1\u001b[1;33m \u001b[0mapi\u001b[0m\u001b[1;33m.\u001b[0m\u001b[0mget_last_price\u001b[0m\u001b[1;33m(\u001b[0m\u001b[1;34m'EUR/USD'\u001b[0m\u001b[1;33m)\u001b[0m\u001b[1;33m\u001b[0m\u001b[1;33m\u001b[0m\u001b[0m\n\u001b[0m",
      "\u001b[1;31mNameError\u001b[0m: name 'api' is not defined"
     ]
    }
   ],
   "source": [
    "api.get_last_price('EUR/USD')  "
   ]
  },
  {
   "cell_type": "code",
   "execution_count": 44,
   "metadata": {},
   "outputs": [
    {
     "ename": "NameError",
     "evalue": "name 'api' is not defined",
     "output_type": "error",
     "traceback": [
      "\u001b[1;31m---------------------------------------------------------------------------\u001b[0m",
      "\u001b[1;31mNameError\u001b[0m                                 Traceback (most recent call last)",
      "\u001b[1;32m<ipython-input-44-8c727109cf30>\u001b[0m in \u001b[0;36m<module>\u001b[1;34m\u001b[0m\n\u001b[1;32m----> 1\u001b[1;33m \u001b[0mapi\u001b[0m\u001b[1;33m.\u001b[0m\u001b[0munsubscribe_market_data\u001b[0m\u001b[1;33m(\u001b[0m\u001b[1;34m'EUR/USD'\u001b[0m\u001b[1;33m)\u001b[0m\u001b[1;33m\u001b[0m\u001b[1;33m\u001b[0m\u001b[0m\n\u001b[0m",
      "\u001b[1;31mNameError\u001b[0m: name 'api' is not defined"
     ]
    }
   ],
   "source": [
    "api.unsubscribe_market_data('EUR/USD')  "
   ]
  },
  {
   "cell_type": "markdown",
   "metadata": {},
   "source": [
    "## Placing Orders"
   ]
  },
  {
   "cell_type": "code",
   "execution_count": 44,
   "metadata": {},
   "outputs": [
    {
     "data": {
      "text/html": [
       "<div>\n",
       "<style scoped>\n",
       "    .dataframe tbody tr th:only-of-type {\n",
       "        vertical-align: middle;\n",
       "    }\n",
       "\n",
       "    .dataframe tbody tr th {\n",
       "        vertical-align: top;\n",
       "    }\n",
       "\n",
       "    .dataframe thead th {\n",
       "        text-align: right;\n",
       "    }\n",
       "</style>\n",
       "<table border=\"1\" class=\"dataframe\">\n",
       "  <thead>\n",
       "    <tr style=\"text-align: right;\">\n",
       "      <th></th>\n",
       "    </tr>\n",
       "  </thead>\n",
       "  <tbody>\n",
       "  </tbody>\n",
       "</table>\n",
       "</div>"
      ],
      "text/plain": [
       "Empty DataFrame\n",
       "Columns: []\n",
       "Index: []"
      ]
     },
     "execution_count": 44,
     "metadata": {},
     "output_type": "execute_result"
    }
   ],
   "source": [
    "api.get_open_positions()  "
   ]
  },
  {
   "cell_type": "code",
   "execution_count": 45,
   "metadata": {},
   "outputs": [],
   "source": [
    "order = api.create_market_buy_order('EUR/USD', 100)  "
   ]
  },
  {
   "cell_type": "code",
   "execution_count": 46,
   "metadata": {},
   "outputs": [],
   "source": [
    "sel = ['tradeId', 'amountK', 'currency',\n",
    "       'grossPL', 'isBuy']  "
   ]
  },
  {
   "cell_type": "code",
   "execution_count": 47,
   "metadata": {},
   "outputs": [
    {
     "data": {
      "text/html": [
       "<div>\n",
       "<style scoped>\n",
       "    .dataframe tbody tr th:only-of-type {\n",
       "        vertical-align: middle;\n",
       "    }\n",
       "\n",
       "    .dataframe tbody tr th {\n",
       "        vertical-align: top;\n",
       "    }\n",
       "\n",
       "    .dataframe thead th {\n",
       "        text-align: right;\n",
       "    }\n",
       "</style>\n",
       "<table border=\"1\" class=\"dataframe\">\n",
       "  <thead>\n",
       "    <tr style=\"text-align: right;\">\n",
       "      <th></th>\n",
       "      <th>tradeId</th>\n",
       "      <th>amountK</th>\n",
       "      <th>currency</th>\n",
       "      <th>grossPL</th>\n",
       "      <th>isBuy</th>\n",
       "    </tr>\n",
       "  </thead>\n",
       "  <tbody>\n",
       "    <tr>\n",
       "      <th>0</th>\n",
       "      <td>168818203</td>\n",
       "      <td>100</td>\n",
       "      <td>EUR/USD</td>\n",
       "      <td>-11.08222</td>\n",
       "      <td>True</td>\n",
       "    </tr>\n",
       "  </tbody>\n",
       "</table>\n",
       "</div>"
      ],
      "text/plain": [
       "     tradeId  amountK currency   grossPL  isBuy\n",
       "0  168818203      100  EUR/USD -11.08222   True"
      ]
     },
     "execution_count": 47,
     "metadata": {},
     "output_type": "execute_result"
    }
   ],
   "source": [
    "api.get_open_positions()[sel]  "
   ]
  },
  {
   "cell_type": "code",
   "execution_count": 48,
   "metadata": {},
   "outputs": [],
   "source": [
    "order = api.create_market_buy_order('EUR/GBP', 50)  "
   ]
  },
  {
   "cell_type": "code",
   "execution_count": 49,
   "metadata": {},
   "outputs": [
    {
     "data": {
      "text/html": [
       "<div>\n",
       "<style scoped>\n",
       "    .dataframe tbody tr th:only-of-type {\n",
       "        vertical-align: middle;\n",
       "    }\n",
       "\n",
       "    .dataframe tbody tr th {\n",
       "        vertical-align: top;\n",
       "    }\n",
       "\n",
       "    .dataframe thead th {\n",
       "        text-align: right;\n",
       "    }\n",
       "</style>\n",
       "<table border=\"1\" class=\"dataframe\">\n",
       "  <thead>\n",
       "    <tr style=\"text-align: right;\">\n",
       "      <th></th>\n",
       "      <th>tradeId</th>\n",
       "      <th>amountK</th>\n",
       "      <th>currency</th>\n",
       "      <th>grossPL</th>\n",
       "      <th>isBuy</th>\n",
       "    </tr>\n",
       "  </thead>\n",
       "  <tbody>\n",
       "    <tr>\n",
       "      <th>0</th>\n",
       "      <td>168818203</td>\n",
       "      <td>100</td>\n",
       "      <td>EUR/USD</td>\n",
       "      <td>-19.60868</td>\n",
       "      <td>True</td>\n",
       "    </tr>\n",
       "    <tr>\n",
       "      <th>1</th>\n",
       "      <td>168818204</td>\n",
       "      <td>50</td>\n",
       "      <td>EUR/GBP</td>\n",
       "      <td>-12.06709</td>\n",
       "      <td>True</td>\n",
       "    </tr>\n",
       "  </tbody>\n",
       "</table>\n",
       "</div>"
      ],
      "text/plain": [
       "     tradeId  amountK currency   grossPL  isBuy\n",
       "0  168818203      100  EUR/USD -19.60868   True\n",
       "1  168818204       50  EUR/GBP -12.06709   True"
      ]
     },
     "execution_count": 49,
     "metadata": {},
     "output_type": "execute_result"
    }
   ],
   "source": [
    "api.get_open_positions()[sel]"
   ]
  },
  {
   "cell_type": "code",
   "execution_count": 50,
   "metadata": {},
   "outputs": [],
   "source": [
    "order = api.create_market_sell_order('EUR/USD', 25)  "
   ]
  },
  {
   "cell_type": "code",
   "execution_count": 51,
   "metadata": {},
   "outputs": [],
   "source": [
    "order = api.create_market_buy_order('EUR/GBP', 50)  "
   ]
  },
  {
   "cell_type": "code",
   "execution_count": 52,
   "metadata": {},
   "outputs": [
    {
     "data": {
      "text/html": [
       "<div>\n",
       "<style scoped>\n",
       "    .dataframe tbody tr th:only-of-type {\n",
       "        vertical-align: middle;\n",
       "    }\n",
       "\n",
       "    .dataframe tbody tr th {\n",
       "        vertical-align: top;\n",
       "    }\n",
       "\n",
       "    .dataframe thead th {\n",
       "        text-align: right;\n",
       "    }\n",
       "</style>\n",
       "<table border=\"1\" class=\"dataframe\">\n",
       "  <thead>\n",
       "    <tr style=\"text-align: right;\">\n",
       "      <th></th>\n",
       "      <th>tradeId</th>\n",
       "      <th>amountK</th>\n",
       "      <th>currency</th>\n",
       "      <th>grossPL</th>\n",
       "      <th>isBuy</th>\n",
       "    </tr>\n",
       "  </thead>\n",
       "  <tbody>\n",
       "    <tr>\n",
       "      <th>0</th>\n",
       "      <td>168818203</td>\n",
       "      <td>100</td>\n",
       "      <td>EUR/USD</td>\n",
       "      <td>-11.93480</td>\n",
       "      <td>True</td>\n",
       "    </tr>\n",
       "    <tr>\n",
       "      <th>1</th>\n",
       "      <td>168818204</td>\n",
       "      <td>50</td>\n",
       "      <td>EUR/GBP</td>\n",
       "      <td>-17.00531</td>\n",
       "      <td>True</td>\n",
       "    </tr>\n",
       "    <tr>\n",
       "      <th>2</th>\n",
       "      <td>168818206</td>\n",
       "      <td>25</td>\n",
       "      <td>EUR/USD</td>\n",
       "      <td>-4.47509</td>\n",
       "      <td>False</td>\n",
       "    </tr>\n",
       "    <tr>\n",
       "      <th>3</th>\n",
       "      <td>168818208</td>\n",
       "      <td>50</td>\n",
       "      <td>EUR/GBP</td>\n",
       "      <td>-19.74810</td>\n",
       "      <td>True</td>\n",
       "    </tr>\n",
       "  </tbody>\n",
       "</table>\n",
       "</div>"
      ],
      "text/plain": [
       "     tradeId  amountK currency   grossPL  isBuy\n",
       "0  168818203      100  EUR/USD -11.93480   True\n",
       "1  168818204       50  EUR/GBP -17.00531   True\n",
       "2  168818206       25  EUR/USD  -4.47509  False\n",
       "3  168818208       50  EUR/GBP -19.74810   True"
      ]
     },
     "execution_count": 52,
     "metadata": {},
     "output_type": "execute_result"
    }
   ],
   "source": [
    "api.get_open_positions()[sel]  "
   ]
  },
  {
   "cell_type": "code",
   "execution_count": 53,
   "metadata": {},
   "outputs": [],
   "source": [
    "api.close_all_for_symbol('EUR/GBP')  "
   ]
  },
  {
   "cell_type": "code",
   "execution_count": 54,
   "metadata": {},
   "outputs": [
    {
     "data": {
      "text/html": [
       "<div>\n",
       "<style scoped>\n",
       "    .dataframe tbody tr th:only-of-type {\n",
       "        vertical-align: middle;\n",
       "    }\n",
       "\n",
       "    .dataframe tbody tr th {\n",
       "        vertical-align: top;\n",
       "    }\n",
       "\n",
       "    .dataframe thead th {\n",
       "        text-align: right;\n",
       "    }\n",
       "</style>\n",
       "<table border=\"1\" class=\"dataframe\">\n",
       "  <thead>\n",
       "    <tr style=\"text-align: right;\">\n",
       "      <th></th>\n",
       "      <th>tradeId</th>\n",
       "      <th>amountK</th>\n",
       "      <th>currency</th>\n",
       "      <th>grossPL</th>\n",
       "      <th>isBuy</th>\n",
       "    </tr>\n",
       "  </thead>\n",
       "  <tbody>\n",
       "    <tr>\n",
       "      <th>0</th>\n",
       "      <td>168818203</td>\n",
       "      <td>100</td>\n",
       "      <td>EUR/USD</td>\n",
       "      <td>-14.49263</td>\n",
       "      <td>True</td>\n",
       "    </tr>\n",
       "    <tr>\n",
       "      <th>1</th>\n",
       "      <td>168818206</td>\n",
       "      <td>25</td>\n",
       "      <td>EUR/USD</td>\n",
       "      <td>-4.04896</td>\n",
       "      <td>False</td>\n",
       "    </tr>\n",
       "  </tbody>\n",
       "</table>\n",
       "</div>"
      ],
      "text/plain": [
       "     tradeId  amountK currency   grossPL  isBuy\n",
       "0  168818203      100  EUR/USD -14.49263   True\n",
       "1  168818206       25  EUR/USD  -4.04896  False"
      ]
     },
     "execution_count": 54,
     "metadata": {},
     "output_type": "execute_result"
    }
   ],
   "source": [
    "api.get_open_positions()[sel]"
   ]
  },
  {
   "cell_type": "code",
   "execution_count": 55,
   "metadata": {},
   "outputs": [],
   "source": [
    "api.close_all()  "
   ]
  },
  {
   "cell_type": "code",
   "execution_count": 56,
   "metadata": {},
   "outputs": [
    {
     "data": {
      "text/html": [
       "<div>\n",
       "<style scoped>\n",
       "    .dataframe tbody tr th:only-of-type {\n",
       "        vertical-align: middle;\n",
       "    }\n",
       "\n",
       "    .dataframe tbody tr th {\n",
       "        vertical-align: top;\n",
       "    }\n",
       "\n",
       "    .dataframe thead th {\n",
       "        text-align: right;\n",
       "    }\n",
       "</style>\n",
       "<table border=\"1\" class=\"dataframe\">\n",
       "  <thead>\n",
       "    <tr style=\"text-align: right;\">\n",
       "      <th></th>\n",
       "    </tr>\n",
       "  </thead>\n",
       "  <tbody>\n",
       "  </tbody>\n",
       "</table>\n",
       "</div>"
      ],
      "text/plain": [
       "Empty DataFrame\n",
       "Columns: []\n",
       "Index: []"
      ]
     },
     "execution_count": 56,
     "metadata": {},
     "output_type": "execute_result"
    }
   ],
   "source": [
    "api.get_open_positions()"
   ]
  },
  {
   "cell_type": "markdown",
   "metadata": {},
   "source": [
    "## Account Information"
   ]
  },
  {
   "cell_type": "code",
   "execution_count": 46,
   "metadata": {},
   "outputs": [
    {
     "ename": "NameError",
     "evalue": "name 'api' is not defined",
     "output_type": "error",
     "traceback": [
      "\u001b[1;31m---------------------------------------------------------------------------\u001b[0m",
      "\u001b[1;31mNameError\u001b[0m                                 Traceback (most recent call last)",
      "\u001b[1;32m<ipython-input-46-e8fe38012090>\u001b[0m in \u001b[0;36m<module>\u001b[1;34m\u001b[0m\n\u001b[1;32m----> 1\u001b[1;33m \u001b[0mapi\u001b[0m\u001b[1;33m.\u001b[0m\u001b[0mget_default_account\u001b[0m\u001b[1;33m(\u001b[0m\u001b[1;33m)\u001b[0m\u001b[1;33m\u001b[0m\u001b[1;33m\u001b[0m\u001b[0m\n\u001b[0m",
      "\u001b[1;31mNameError\u001b[0m: name 'api' is not defined"
     ]
    }
   ],
   "source": [
    "api.get_default_account()  "
   ]
  },
  {
   "cell_type": "code",
   "execution_count": 58,
   "metadata": {},
   "outputs": [
    {
     "data": {
      "text/html": [
       "<div>\n",
       "<style scoped>\n",
       "    .dataframe tbody tr th:only-of-type {\n",
       "        vertical-align: middle;\n",
       "    }\n",
       "\n",
       "    .dataframe tbody tr th {\n",
       "        vertical-align: top;\n",
       "    }\n",
       "\n",
       "    .dataframe thead th {\n",
       "        text-align: right;\n",
       "    }\n",
       "</style>\n",
       "<table border=\"1\" class=\"dataframe\">\n",
       "  <thead>\n",
       "    <tr style=\"text-align: right;\">\n",
       "      <th></th>\n",
       "      <th>0</th>\n",
       "    </tr>\n",
       "  </thead>\n",
       "  <tbody>\n",
       "    <tr>\n",
       "      <th>t</th>\n",
       "      <td>6</td>\n",
       "    </tr>\n",
       "    <tr>\n",
       "      <th>ratePrecision</th>\n",
       "      <td>0</td>\n",
       "    </tr>\n",
       "    <tr>\n",
       "      <th>accountId</th>\n",
       "      <td>1233279</td>\n",
       "    </tr>\n",
       "    <tr>\n",
       "      <th>balance</th>\n",
       "      <td>49665.4</td>\n",
       "    </tr>\n",
       "    <tr>\n",
       "      <th>usdMr</th>\n",
       "      <td>0</td>\n",
       "    </tr>\n",
       "    <tr>\n",
       "      <th>mc</th>\n",
       "      <td>N</td>\n",
       "    </tr>\n",
       "    <tr>\n",
       "      <th>mcDate</th>\n",
       "      <td></td>\n",
       "    </tr>\n",
       "    <tr>\n",
       "      <th>accountName</th>\n",
       "      <td>01233279</td>\n",
       "    </tr>\n",
       "    <tr>\n",
       "      <th>usdMr3</th>\n",
       "      <td>0</td>\n",
       "    </tr>\n",
       "    <tr>\n",
       "      <th>hedging</th>\n",
       "      <td>Y</td>\n",
       "    </tr>\n",
       "    <tr>\n",
       "      <th>usableMargin3</th>\n",
       "      <td>49665.4</td>\n",
       "    </tr>\n",
       "    <tr>\n",
       "      <th>usableMarginPerc</th>\n",
       "      <td>100</td>\n",
       "    </tr>\n",
       "    <tr>\n",
       "      <th>usableMargin3Perc</th>\n",
       "      <td>100</td>\n",
       "    </tr>\n",
       "    <tr>\n",
       "      <th>equity</th>\n",
       "      <td>49665.4</td>\n",
       "    </tr>\n",
       "    <tr>\n",
       "      <th>usableMargin</th>\n",
       "      <td>49665.4</td>\n",
       "    </tr>\n",
       "    <tr>\n",
       "      <th>bus</th>\n",
       "      <td>1000</td>\n",
       "    </tr>\n",
       "    <tr>\n",
       "      <th>dayPL</th>\n",
       "      <td>-85.34</td>\n",
       "    </tr>\n",
       "    <tr>\n",
       "      <th>grossPL</th>\n",
       "      <td>0</td>\n",
       "    </tr>\n",
       "  </tbody>\n",
       "</table>\n",
       "</div>"
      ],
      "text/plain": [
       "                          0\n",
       "t                         6\n",
       "ratePrecision             0\n",
       "accountId           1233279\n",
       "balance             49665.4\n",
       "usdMr                     0\n",
       "mc                        N\n",
       "mcDate                     \n",
       "accountName        01233279\n",
       "usdMr3                    0\n",
       "hedging                   Y\n",
       "usableMargin3       49665.4\n",
       "usableMarginPerc        100\n",
       "usableMargin3Perc       100\n",
       "equity              49665.4\n",
       "usableMargin        49665.4\n",
       "bus                    1000\n",
       "dayPL                -85.34\n",
       "grossPL                   0"
      ]
     },
     "execution_count": 58,
     "metadata": {},
     "output_type": "execute_result"
    }
   ],
   "source": [
    "api.get_accounts().T  "
   ]
  },
  {
   "cell_type": "markdown",
   "metadata": {},
   "source": [
    "<img src=\"http://hilpisch.com/tpq_logo.png\" alt=\"The Python Quants\" width=\"35%\" align=\"right\" border=\"0\"><br>\n",
    "\n",
    "<a href=\"http://tpq.io\" target=\"_blank\">http://tpq.io</a> | <a href=\"http://twitter.com/dyjh\" target=\"_blank\">@dyjh</a> | <a href=\"mailto:training@tpq.io\">training@tpq.io</a>"
   ]
  }
 ],
 "metadata": {
  "kernelspec": {
   "display_name": "Python 3",
   "language": "python",
   "name": "python3"
  },
  "language_info": {
   "codemirror_mode": {
    "name": "ipython",
    "version": 3
   },
   "file_extension": ".py",
   "mimetype": "text/x-python",
   "name": "python",
   "nbconvert_exporter": "python",
   "pygments_lexer": "ipython3",
   "version": "3.7.2"
  },
  "toc": {
   "base_numbering": 1,
   "nav_menu": {},
   "number_sections": false,
   "sideBar": true,
   "skip_h1_title": false,
   "title_cell": "Table of Contents",
   "title_sidebar": "Contents",
   "toc_cell": true,
   "toc_position": {},
   "toc_section_display": true,
   "toc_window_display": true
  }
 },
 "nbformat": 4,
 "nbformat_minor": 4
}
